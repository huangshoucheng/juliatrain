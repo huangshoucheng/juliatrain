{
 "cells": [
  {
   "cell_type": "markdown",
   "metadata": {},
   "source": [
    "两个矩阵A和B的矩阵乘法用A * B表示， 矩阵A的共轭转置用A'表示， 转置用A.'表示。 [A B C]表示三个矩阵横向合并， [A;B;C]表示三个矩阵纵向合并。 若x是向量， diagm(x)返回以x为主对角线元素的对角阵， 而Diagonal(x)返回带有特殊标志的对角阵。"
   ]
  },
  {
   "cell_type": "markdown",
   "metadata": {},
   "source": [
    "A \\ B表示求解线性方程组A x = B。 当 A 的行数超过列数时， 求最小二乘解。 当 A 的列数超过行数时， 可能有无穷多解， 这时返回其中长度最小的解。\n",
    "\n",
    "统计计算中用到许多矩阵计算， 高效、精确的矩阵计算常常需要通过矩阵的三角分解、正交-三角分解等实现。 当 A 为方阵时， lu(A)将矩阵 A 分解成 A=PLU 形式， 其中 P 是置换阵(permutation matrix)，  L 是下三角阵，  U 是上三角阵。 设结果为res， 则三个部分分别用res.P, res.L, res.U访问。 置换阵res.P还可以用一维数组res.p表示"
   ]
  },
  {
   "cell_type": "code",
   "execution_count": 2,
   "metadata": {},
   "outputs": [
    {
     "data": {
      "text/plain": [
       "3×3 Matrix{Int64}:\n",
       "  1  -2  2\n",
       "  1  -1  2\n",
       " -1   1  1"
      ]
     },
     "metadata": {},
     "output_type": "display_data"
    }
   ],
   "source": [
    "A1 = [1 -2 2; 1 -1 2; -1 1 1]"
   ]
  },
  {
   "cell_type": "code",
   "execution_count": 3,
   "metadata": {},
   "outputs": [
    {
     "data": {
      "text/plain": [
       "3×3 Matrix{Float64}:\n",
       "  1.0   0.0  0.0\n",
       "  1.0   1.0  0.0\n",
       " -1.0  -1.0  1.0"
      ]
     },
     "metadata": {},
     "output_type": "display_data"
    }
   ],
   "source": [
    "using LinearAlgebra\n",
    "res1 = LinearAlgebra.lu(A1)\n",
    "res1.L"
   ]
  },
  {
   "cell_type": "code",
   "execution_count": 4,
   "metadata": {},
   "outputs": [
    {
     "data": {
      "text/plain": [
       "3×3 Matrix{Float64}:\n",
       " 1.0  -2.0  2.0\n",
       " 0.0   1.0  0.0\n",
       " 0.0   0.0  3.0"
      ]
     },
     "metadata": {},
     "output_type": "display_data"
    }
   ],
   "source": [
    "res1.U"
   ]
  },
  {
   "cell_type": "code",
   "execution_count": 5,
   "metadata": {},
   "outputs": [
    {
     "data": {
      "text/plain": [
       "3×3 Matrix{Float64}:\n",
       " 1.0  0.0  0.0\n",
       " 0.0  1.0  0.0\n",
       " 0.0  0.0  1.0"
      ]
     },
     "metadata": {},
     "output_type": "display_data"
    }
   ],
   "source": [
    "res1.P"
   ]
  },
  {
   "cell_type": "code",
   "execution_count": 6,
   "metadata": {},
   "outputs": [
    {
     "data": {
      "text/plain": [
       "3-element Vector{Int64}:\n",
       " 1\n",
       " 2\n",
       " 3"
      ]
     },
     "metadata": {},
     "output_type": "display_data"
    }
   ],
   "source": [
    "res1.p"
   ]
  },
  {
   "cell_type": "markdown",
   "metadata": {},
   "source": [
    "对矩阵 A ， qr(A)可以做QR分解 A=QR ， qr(A, true)可以做带枢轴量的QR分解 A=PQR ， 如果结果为res， 则各个部分用res.P, res.Q, res.R访问， 置换阵res.P还可以用res.p，一个一维向量表示。\n",
    "\n",
    "用eigen(A)可以求方阵A的特征值分解， 如果结果为res，则res.values为特征值，是复数向量； res.vectors返回各列为特征向量的矩阵， inv(res), det(res), isposdef(res)可以从分解结果中提取信息。 如"
   ]
  },
  {
   "cell_type": "code",
   "execution_count": 7,
   "metadata": {},
   "outputs": [
    {
     "data": {
      "text/plain": [
       "3-element Vector{ComplexF64}:\n",
       " -0.28737153694351075 - 1.349996398003656im\n",
       " -0.28737153694351075 + 1.349996398003656im\n",
       "   1.5747430738870216 + 0.0im"
      ]
     },
     "metadata": {},
     "output_type": "display_data"
    }
   ],
   "source": [
    "res2 = eigen(A1)\n",
    "res2.values"
   ]
  },
  {
   "cell_type": "code",
   "execution_count": 8,
   "metadata": {},
   "outputs": [
    {
     "data": {
      "text/plain": [
       "3×3 Matrix{ComplexF64}:\n",
       "   0.783249-0.0im         0.783249+0.0im       0.237883+0.0im\n",
       "   0.493483+0.303862im    0.493483-0.303862im  0.651777+0.0im\n",
       " -0.0106833-0.22483im   -0.0106833+0.22483im   0.720138+0.0im"
      ]
     },
     "metadata": {},
     "output_type": "display_data"
    }
   ],
   "source": [
    "res2.vectors"
   ]
  },
  {
   "cell_type": "markdown",
   "metadata": {},
   "source": [
    "对称阵（或厄米特阵）的特征值都是实数， 其计算更快。 因为数值误差的关系， 有些对称阵可能保存起来已经不对称， 这时可以用Symmetric(A)将A转换为对称阵， 用Hermitian(A)将A转换为厄米特阵。"
   ]
  },
  {
   "cell_type": "markdown",
   "metadata": {},
   "source": [
    "向量化与循环"
   ]
  },
  {
   "cell_type": "code",
   "execution_count": 9,
   "metadata": {},
   "outputs": [
    {
     "data": {
      "text/plain": [
       "vecadd3 (generic function with 1 method)"
      ]
     },
     "metadata": {},
     "output_type": "display_data"
    }
   ],
   "source": [
    "function vecadd1(a,b,c,N)\n",
    "    for i = 1:N\n",
    "     c = a + b\n",
    "    end\n",
    "   end\n",
    "   \n",
    "   function vecadd2(a,b,c,N)\n",
    "    for i = 1:N\n",
    "     c .= a .+ b\n",
    "    end\n",
    "   end\n",
    "   \n",
    "   function vecadd3(a,b,c,N)\n",
    "    for i = 1:N, j = 1:length(c)\n",
    "     c[j] = a[j] + b[j]\n",
    "    end\n",
    "   end"
   ]
  },
  {
   "cell_type": "markdown",
   "metadata": {},
   "source": [
    "以上的三个函数都是将向量a与向量b相加赋给向量c， 并重复N次。 第一个版本用了向量化的做法， 第二个版本用了加点格式的向量化做法， 第三个版本是显式循环。 "
   ]
  },
  {
   "cell_type": "code",
   "execution_count": 10,
   "metadata": {},
   "outputs": [],
   "source": [
    "A = rand(2); B = rand(2); C = zeros(2);\n",
    "\n",
    "@elapsed vecadd1(A,B,C,10);\n",
    "@elapsed vecadd2(A,B,C,10);\n",
    "@elapsed vecadd3(A,B,C,10);"
   ]
  },
  {
   "cell_type": "code",
   "execution_count": 11,
   "metadata": {},
   "outputs": [
    {
     "data": {
      "text/plain": [
       "0.4042055"
      ]
     },
     "metadata": {},
     "output_type": "display_data"
    }
   ],
   "source": [
    "@elapsed vecadd1(A,B,C,10_000_000)"
   ]
  },
  {
   "cell_type": "code",
   "execution_count": 12,
   "metadata": {},
   "outputs": [
    {
     "data": {
      "text/plain": [
       "0.0335335"
      ]
     },
     "metadata": {},
     "output_type": "display_data"
    }
   ],
   "source": [
    "@elapsed vecadd2(A,B,C,10_000_000)"
   ]
  },
  {
   "cell_type": "code",
   "execution_count": 13,
   "metadata": {},
   "outputs": [
    {
     "data": {
      "text/plain": [
       "0.0287626"
      ]
     },
     "metadata": {},
     "output_type": "display_data"
    }
   ],
   "source": [
    "@elapsed vecadd3(A,B,C,10_000_000)"
   ]
  },
  {
   "cell_type": "markdown",
   "metadata": {},
   "source": [
    "随机数发生器与统计分布"
   ]
  },
  {
   "cell_type": "markdown",
   "metadata": {},
   "source": [
    "Julia语言的标准库Random包提供了rand函数和randn等函数。 rand(n)返回n个标准均匀分布U(0,1)随机数， 类型是Float64的一维数组， 无自变量的rand()调用返回一个U(0,1)随机数。 randn(n)和randn()产生标准正态分布的随机数。"
   ]
  },
  {
   "cell_type": "markdown",
   "metadata": {},
   "source": [
    "Random.seed!(rng, seed)可以设置种子。 为了能够保证模拟的结果可重复， 需要在模拟开始之前设置种子。 但是，随着Julia版本的升级， 随机数种子和随机数生成器可能会改变， 如果特别需要模拟研究结果完全可重复， 可以将生成的模拟样本都备份保存下来。"
   ]
  },
  {
   "cell_type": "markdown",
   "metadata": {},
   "source": [
    "加载Distributions包后可以生成其它分布的随机数， 为Base的rand函数增加了方法， 还提供了各种与分布的有关函数。\n",
    "\n",
    "产生随机数的函数调用格式为 rand(distribution, n)或rand(distribution)， 其中distribution是一个分布，用函数调用表示， 比如标准正态分布用Normal()表示， N(10,22) 用Normal(10,2)表示。 用Random.seed!(rng, k)设定一个随机数种子序号， 这样可以在模拟时获得可重复的结果。 比如，生成100个Possion(2)分布随机数:"
   ]
  },
  {
   "cell_type": "code",
   "execution_count": 14,
   "metadata": {},
   "outputs": [],
   "source": [
    "using Random, Distributions\n",
    "Random.seed!(101)\n",
    "y = rand(Poisson(2), 100);"
   ]
  },
  {
   "cell_type": "code",
   "execution_count": 16,
   "metadata": {},
   "outputs": [
    {
     "data": {
      "text/html": [
       "<div class=\"data-frame\"><p>6 rows × 2 columns</p><table class=\"data-frame\"><thead><tr><th></th><th>y</th><th>count</th></tr><tr><th></th><th title=\"Int64\">Int64</th><th title=\"Int64\">Int64</th></tr></thead><tbody><tr><th>1</th><td>0</td><td>10</td></tr><tr><th>2</th><td>1</td><td>30</td></tr><tr><th>3</th><td>2</td><td>28</td></tr><tr><th>4</th><td>3</td><td>25</td></tr><tr><th>5</th><td>4</td><td>5</td></tr><tr><th>6</th><td>5</td><td>2</td></tr></tbody></table></div>"
      ],
      "text/latex": [
       "\\begin{tabular}{r|cc}\n",
       "\t& y & count\\\\\n",
       "\t\\hline\n",
       "\t& Int64 & Int64\\\\\n",
       "\t\\hline\n",
       "\t1 & 0 & 10 \\\\\n",
       "\t2 & 1 & 30 \\\\\n",
       "\t3 & 2 & 28 \\\\\n",
       "\t4 & 3 & 25 \\\\\n",
       "\t5 & 4 & 5 \\\\\n",
       "\t6 & 5 & 2 \\\\\n",
       "\\end{tabular}\n"
      ],
      "text/plain": [
       "\u001b[1m6×2 DataFrame\u001b[0m\n",
       "\u001b[1m Row \u001b[0m│\u001b[1m y     \u001b[0m\u001b[1m count \u001b[0m\n",
       "\u001b[1m     \u001b[0m│\u001b[90m Int64 \u001b[0m\u001b[90m Int64 \u001b[0m\n",
       "─────┼──────────────\n",
       "   1 │     0     10\n",
       "   2 │     1     30\n",
       "   3 │     2     28\n",
       "   4 │     3     25\n",
       "   5 │     4      5\n",
       "   6 │     5      2"
      ]
     },
     "metadata": {},
     "output_type": "display_data"
    }
   ],
   "source": [
    "using StatsBase\n",
    "using DataFrames\n",
    "tab11 = combine(groupby(DataFrame(y=y), :y), df -> DataFrame(count=size(df, 1)))\n",
    "sort!(tab11)"
   ]
  },
  {
   "cell_type": "code",
   "execution_count": 17,
   "metadata": {},
   "outputs": [
    {
     "data": {
      "image/png": "[encoded data removed]",
      "image/svg+xml": "<?xml version=\"1.0\" encoding=\"utf-8\"?>\n<svg xmlns=\"http://www.w3.org/2000/svg\" xmlns:xlink=\"http://www.w3.org/1999/xlink\" width=\"600\" height=\"400\" viewBox=\"0 0 2400 1600\">\n<defs>\n  <clipPath id=\"clip790\">\n    <rect x=\"0\" y=\"0\" width=\"2400\" height=\"1600\"/>\n  </clipPath>\n</defs>\n<path clip-path=\"url(#clip790)\" d=\"\nM0 1600 L2400 1600 L2400 0 L0 0  Z\n  \" fill=\"#ffffff\" fill-rule=\"evenodd\" fill-opacity=\"1\"/>\n<defs>\n  <clipPath id=\"clip791\">\n    <rect x=\"480\" y=\"0\" width=\"1681\" height=\"1600\"/>\n  </clipPath>\n</defs>\n<path clip-path=\"url(#clip790)\" d=\"\nM140.696 1486.45 L2352.76 1486.45 L2352.76 123.472 L140.696 123.472  Z\n  \" fill=\"#ffffff\" fill-rule=\"evenodd\" fill-opacity=\"1\"/>\n<defs>\n  <clipPath id=\"clip792\">\n    <rect x=\"140\" y=\"123\" width=\"2213\" height=\"1364\"/>\n  </clipPath>\n</defs>\n<polyline clip-path=\"url(#clip792)\" style=\"stroke:#000000; stroke-linecap:butt; stroke-linejoin:round; stroke-width:2; stroke-opacity:0.1; fill:none\" points=\"\n  398.137,1486.45 398.137,123.472 \n  \"/>\n<polyline clip-path=\"url(#clip792)\" style=\"stroke:#000000; stroke-linecap:butt; stroke-linejoin:round; stroke-width:2; stroke-opacity:0.1; fill:none\" points=\"\n  737.572,1486.45 737.572,123.472 \n  \"/>\n<polyline clip-path=\"url(#clip792)\" style=\"stroke:#000000; stroke-linecap:butt; stroke-linejoin:round; stroke-width:2; stroke-opacity:0.1; fill:none\" points=\"\n  1077.01,1486.45 1077.01,123.472 \n  \"/>\n<polyline clip-path=\"url(#clip792)\" style=\"stroke:#000000; stroke-linecap:butt; stroke-linejoin:round; stroke-width:2; stroke-opacity:0.1; fill:none\" points=\"\n  1416.44,1486.45 1416.44,123.472 \n  \"/>\n<polyline clip-path=\"url(#clip792)\" style=\"stroke:#000000; stroke-linecap:butt; stroke-linejoin:round; stroke-width:2; stroke-opacity:0.1; fill:none\" points=\"\n  1755.88,1486.45 1755.88,123.472 \n  \"/>\n<polyline clip-path=\"url(#clip792)\" style=\"stroke:#000000; stroke-linecap:butt; stroke-linejoin:round; stroke-width:2; stroke-opacity:0.1; fill:none\" points=\"\n  2095.31,1486.45 2095.31,123.472 \n  \"/>\n<polyline clip-path=\"url(#clip790)\" style=\"stroke:#000000; stroke-linecap:butt; stroke-linejoin:round; stroke-width:4; stroke-opacity:1; fill:none\" points=\"\n  140.696,1486.45 2352.76,1486.45 \n  \"/>\n<polyline clip-path=\"url(#clip790)\" style=\"stroke:#000000; stroke-linecap:butt; stroke-linejoin:round; stroke-width:4; stroke-opacity:1; fill:none\" points=\"\n  398.137,1486.45 398.137,1467.55 \n  \"/>\n<polyline clip-path=\"url(#clip790)\" style=\"stroke:#000000; stroke-linecap:butt; stroke-linejoin:round; stroke-width:4; stroke-opacity:1; fill:none\" points=\"\n  737.572,1486.45 737.572,1467.55 \n  \"/>\n<polyline clip-path=\"url(#clip790)\" style=\"stroke:#000000; stroke-linecap:butt; stroke-linejoin:round; stroke-width:4; stroke-opacity:1; fill:none\" points=\"\n  1077.01,1486.45 1077.01,1467.55 \n  \"/>\n<polyline clip-path=\"url(#clip790)\" style=\"stroke:#000000; stroke-linecap:butt; stroke-linejoin:round; stroke-width:4; stroke-opacity:1; fill:none\" points=\"\n  1416.44,1486.45 1416.44,1467.55 \n  \"/>\n<polyline clip-path=\"url(#clip790)\" style=\"stroke:#000000; stroke-linecap:butt; stroke-linejoin:round; stroke-width:4; stroke-opacity:1; fill:none\" points=\"\n  1755.88,1486.45 1755.88,1467.55 \n  \"/>\n<polyline clip-path=\"url(#clip790)\" style=\"stroke:#000000; stroke-linecap:butt; stroke-linejoin:round; stroke-width:4; stroke-opacity:1; fill:none\" points=\"\n  2095.31,1486.45 2095.31,1467.55 \n  \"/>\n<path clip-path=\"url(#clip790)\" d=\"M398.137 1517.37 Q394.526 1517.37 392.697 1520.93 Q390.892 1524.47 390.892 1531.6 Q390.892 1538.71 392.697 1542.27 Q394.526 1545.82 398.137 1545.82 Q401.771 1545.82 403.577 1542.27 Q405.405 1538.71 405.405 1531.6 Q405.405 1524.47 403.577 1520.93 Q401.771 1517.37 398.137 1517.37 M398.137 1513.66 Q403.947 1513.66 407.003 1518.27 Q410.081 1522.85 410.081 1531.6 Q410.081 1540.33 407.003 1544.94 Q403.947 1549.52 398.137 1549.52 Q392.327 1549.52 389.248 1544.94 Q386.193 1540.33 386.193 1531.6 Q386.193 1522.85 389.248 1518.27 Q392.327 1513.66 398.137 1513.66 Z\" fill=\"#000000\" fill-rule=\"evenodd\" fill-opacity=\"1\" /><path clip-path=\"url(#clip790)\" d=\"M727.954 1544.91 L735.593 1544.91 L735.593 1518.55 L727.283 1520.21 L727.283 1515.95 L735.547 1514.29 L740.223 1514.29 L740.223 1544.91 L747.862 1544.91 L747.862 1548.85 L727.954 1548.85 L727.954 1544.91 Z\" fill=\"#000000\" fill-rule=\"evenodd\" fill-opacity=\"1\" /><path clip-path=\"url(#clip790)\" d=\"M1071.66 1544.91 L1087.98 1544.91 L1087.98 1548.85 L1066.04 1548.85 L1066.04 1544.91 Q1068.7 1542.16 1073.28 1537.53 Q1077.89 1532.88 1079.07 1531.53 Q1081.31 1529.01 1082.19 1527.27 Q1083.1 1525.51 1083.1 1523.82 Q1083.1 1521.07 1081.15 1519.33 Q1079.23 1517.6 1076.13 1517.6 Q1073.93 1517.6 1071.48 1518.36 Q1069.05 1519.13 1066.27 1520.68 L1066.27 1515.95 Q1069.09 1514.82 1071.55 1514.24 Q1074 1513.66 1076.04 1513.66 Q1081.41 1513.66 1084.6 1516.35 Q1087.79 1519.03 1087.79 1523.52 Q1087.79 1525.65 1086.98 1527.57 Q1086.2 1529.47 1084.09 1532.07 Q1083.51 1532.74 1080.41 1535.95 Q1077.31 1539.15 1071.66 1544.91 Z\" fill=\"#000000\" fill-rule=\"evenodd\" fill-opacity=\"1\" /><path clip-path=\"url(#clip790)\" d=\"M1420.69 1530.21 Q1424.05 1530.93 1425.92 1533.2 Q1427.82 1535.47 1427.82 1538.8 Q1427.82 1543.92 1424.3 1546.72 Q1420.78 1549.52 1414.3 1549.52 Q1412.13 1549.52 1409.81 1549.08 Q1407.52 1548.66 1405.07 1547.81 L1405.07 1543.29 Q1407.01 1544.43 1409.33 1545.01 Q1411.64 1545.58 1414.16 1545.58 Q1418.56 1545.58 1420.85 1543.85 Q1423.17 1542.11 1423.17 1538.8 Q1423.17 1535.75 1421.02 1534.03 Q1418.89 1532.3 1415.07 1532.3 L1411.04 1532.3 L1411.04 1528.45 L1415.25 1528.45 Q1418.7 1528.45 1420.53 1527.09 Q1422.36 1525.7 1422.36 1523.11 Q1422.36 1520.45 1420.46 1519.03 Q1418.58 1517.6 1415.07 1517.6 Q1413.14 1517.6 1410.95 1518.01 Q1408.75 1518.43 1406.11 1519.31 L1406.11 1515.14 Q1408.77 1514.4 1411.08 1514.03 Q1413.42 1513.66 1415.48 1513.66 Q1420.81 1513.66 1423.91 1516.09 Q1427.01 1518.5 1427.01 1522.62 Q1427.01 1525.49 1425.37 1527.48 Q1423.72 1529.45 1420.69 1530.21 Z\" fill=\"#000000\" fill-rule=\"evenodd\" fill-opacity=\"1\" /><path clip-path=\"url(#clip790)\" d=\"M1758.89 1518.36 L1747.08 1536.81 L1758.89 1536.81 L1758.89 1518.36 M1757.66 1514.29 L1763.54 1514.29 L1763.54 1536.81 L1768.47 1536.81 L1768.47 1540.7 L1763.54 1540.7 L1763.54 1548.85 L1758.89 1548.85 L1758.89 1540.7 L1743.29 1540.7 L1743.29 1536.19 L1757.66 1514.29 Z\" fill=\"#000000\" fill-rule=\"evenodd\" fill-opacity=\"1\" /><path clip-path=\"url(#clip790)\" d=\"M2085.59 1514.29 L2103.95 1514.29 L2103.95 1518.22 L2089.87 1518.22 L2089.87 1526.7 Q2090.89 1526.35 2091.91 1526.19 Q2092.93 1526 2093.95 1526 Q2099.74 1526 2103.12 1529.17 Q2106.49 1532.34 2106.49 1537.76 Q2106.49 1543.34 2103.02 1546.44 Q2099.55 1549.52 2093.23 1549.52 Q2091.06 1549.52 2088.79 1549.15 Q2086.54 1548.78 2084.13 1548.04 L2084.13 1543.34 Q2086.22 1544.47 2088.44 1545.03 Q2090.66 1545.58 2093.14 1545.58 Q2097.14 1545.58 2099.48 1543.48 Q2101.82 1541.37 2101.82 1537.76 Q2101.82 1534.15 2099.48 1532.04 Q2097.14 1529.94 2093.14 1529.94 Q2091.26 1529.94 2089.39 1530.35 Q2087.54 1530.77 2085.59 1531.65 L2085.59 1514.29 Z\" fill=\"#000000\" fill-rule=\"evenodd\" fill-opacity=\"1\" /><polyline clip-path=\"url(#clip792)\" style=\"stroke:#000000; stroke-linecap:butt; stroke-linejoin:round; stroke-width:2; stroke-opacity:0.1; fill:none\" points=\"\n  140.696,1447.87 2352.76,1447.87 \n  \"/>\n<polyline clip-path=\"url(#clip792)\" style=\"stroke:#000000; stroke-linecap:butt; stroke-linejoin:round; stroke-width:2; stroke-opacity:0.1; fill:none\" points=\"\n  140.696,1019.26 2352.76,1019.26 \n  \"/>\n<polyline clip-path=\"url(#clip792)\" style=\"stroke:#000000; stroke-linecap:butt; stroke-linejoin:round; stroke-width:2; stroke-opacity:0.1; fill:none\" points=\"\n  140.696,590.656 2352.76,590.656 \n  \"/>\n<polyline clip-path=\"url(#clip792)\" style=\"stroke:#000000; stroke-linecap:butt; stroke-linejoin:round; stroke-width:2; stroke-opacity:0.1; fill:none\" points=\"\n  140.696,162.047 2352.76,162.047 \n  \"/>\n<polyline clip-path=\"url(#clip790)\" style=\"stroke:#000000; stroke-linecap:butt; stroke-linejoin:round; stroke-width:4; stroke-opacity:1; fill:none\" points=\"\n  140.696,1486.45 140.696,123.472 \n  \"/>\n<polyline clip-path=\"url(#clip790)\" style=\"stroke:#000000; stroke-linecap:butt; stroke-linejoin:round; stroke-width:4; stroke-opacity:1; fill:none\" points=\"\n  140.696,1447.87 159.593,1447.87 \n  \"/>\n<polyline clip-path=\"url(#clip790)\" style=\"stroke:#000000; stroke-linecap:butt; stroke-linejoin:round; stroke-width:4; stroke-opacity:1; fill:none\" points=\"\n  140.696,1019.26 159.593,1019.26 \n  \"/>\n<polyline clip-path=\"url(#clip790)\" style=\"stroke:#000000; stroke-linecap:butt; stroke-linejoin:round; stroke-width:4; stroke-opacity:1; fill:none\" points=\"\n  140.696,590.656 159.593,590.656 \n  \"/>\n<polyline clip-path=\"url(#clip790)\" style=\"stroke:#000000; stroke-linecap:butt; stroke-linejoin:round; stroke-width:4; stroke-opacity:1; fill:none\" points=\"\n  140.696,162.047 159.593,162.047 \n  \"/>\n<path clip-path=\"url(#clip790)\" d=\"M92.7512 1433.67 Q89.1401 1433.67 87.3114 1437.24 Q85.5058 1440.78 85.5058 1447.91 Q85.5058 1455.01 87.3114 1458.58 Q89.1401 1462.12 92.7512 1462.12 Q96.3854 1462.12 98.1909 1458.58 Q100.02 1455.01 100.02 1447.91 Q100.02 1440.78 98.1909 1437.24 Q96.3854 1433.67 92.7512 1433.67 M92.7512 1429.97 Q98.5613 1429.97 101.617 1434.57 Q104.696 1439.16 104.696 1447.91 Q104.696 1456.63 101.617 1461.24 Q98.5613 1465.82 92.7512 1465.82 Q86.941 1465.82 83.8623 1461.24 Q80.8068 1456.63 80.8068 1447.91 Q80.8068 1439.16 83.8623 1434.57 Q86.941 1429.97 92.7512 1429.97 Z\" fill=\"#000000\" fill-rule=\"evenodd\" fill-opacity=\"1\" /><path clip-path=\"url(#clip790)\" d=\"M53.3995 1032.61 L61.0384 1032.61 L61.0384 1006.24 L52.7282 1007.91 L52.7282 1003.65 L60.9921 1001.98 L65.668 1001.98 L65.668 1032.61 L73.3068 1032.61 L73.3068 1036.54 L53.3995 1036.54 L53.3995 1032.61 Z\" fill=\"#000000\" fill-rule=\"evenodd\" fill-opacity=\"1\" /><path clip-path=\"url(#clip790)\" d=\"M92.7512 1005.06 Q89.1401 1005.06 87.3114 1008.63 Q85.5058 1012.17 85.5058 1019.3 Q85.5058 1026.41 87.3114 1029.97 Q89.1401 1033.51 92.7512 1033.51 Q96.3854 1033.51 98.1909 1029.97 Q100.02 1026.41 100.02 1019.3 Q100.02 1012.17 98.1909 1008.63 Q96.3854 1005.06 92.7512 1005.06 M92.7512 1001.36 Q98.5613 1001.36 101.617 1005.97 Q104.696 1010.55 104.696 1019.3 Q104.696 1028.03 101.617 1032.63 Q98.5613 1037.22 92.7512 1037.22 Q86.941 1037.22 83.8623 1032.63 Q80.8068 1028.03 80.8068 1019.3 Q80.8068 1010.55 83.8623 1005.97 Q86.941 1001.36 92.7512 1001.36 Z\" fill=\"#000000\" fill-rule=\"evenodd\" fill-opacity=\"1\" /><path clip-path=\"url(#clip790)\" d=\"M56.6171 604 L72.9365 604 L72.9365 607.936 L50.9921 607.936 L50.9921 604 Q53.6541 601.246 58.2375 596.616 Q62.8439 591.964 64.0245 590.621 Q66.2698 588.098 67.1494 586.362 Q68.0522 584.602 68.0522 582.913 Q68.0522 580.158 66.1078 578.422 Q64.1865 576.686 61.0847 576.686 Q58.8856 576.686 56.4319 577.45 Q54.0014 578.214 51.2236 579.764 L51.2236 575.042 Q54.0477 573.908 56.5014 573.329 Q58.955 572.751 60.9921 572.751 Q66.3624 572.751 69.5568 575.436 Q72.7513 578.121 72.7513 582.612 Q72.7513 584.741 71.9411 586.663 Q71.1541 588.561 69.0476 591.153 Q68.4689 591.825 65.367 595.042 Q62.2652 598.237 56.6171 604 Z\" fill=\"#000000\" fill-rule=\"evenodd\" fill-opacity=\"1\" /><path clip-path=\"url(#clip790)\" d=\"M92.7512 576.454 Q89.1401 576.454 87.3114 580.019 Q85.5058 583.561 85.5058 590.69 Q85.5058 597.797 87.3114 601.362 Q89.1401 604.903 92.7512 604.903 Q96.3854 604.903 98.1909 601.362 Q100.02 597.797 100.02 590.69 Q100.02 583.561 98.1909 580.019 Q96.3854 576.454 92.7512 576.454 M92.7512 572.751 Q98.5613 572.751 101.617 577.357 Q104.696 581.94 104.696 590.69 Q104.696 599.417 101.617 604.024 Q98.5613 608.607 92.7512 608.607 Q86.941 608.607 83.8623 604.024 Q80.8068 599.417 80.8068 590.69 Q80.8068 581.94 83.8623 577.357 Q86.941 572.751 92.7512 572.751 Z\" fill=\"#000000\" fill-rule=\"evenodd\" fill-opacity=\"1\" /><path clip-path=\"url(#clip790)\" d=\"M66.7559 160.693 Q70.1124 161.41 71.9874 163.679 Q73.8855 165.947 73.8855 169.281 Q73.8855 174.396 70.367 177.197 Q66.8485 179.998 60.3671 179.998 Q58.1912 179.998 55.8764 179.558 Q53.5847 179.142 51.131 178.285 L51.131 173.771 Q53.0754 174.906 55.3903 175.484 Q57.7051 176.063 60.2282 176.063 Q64.6263 176.063 66.918 174.327 Q69.2328 172.591 69.2328 169.281 Q69.2328 166.225 67.08 164.512 Q64.9504 162.776 61.131 162.776 L57.1032 162.776 L57.1032 158.934 L61.3161 158.934 Q64.7652 158.934 66.5939 157.568 Q68.4226 156.179 68.4226 153.586 Q68.4226 150.924 66.5245 149.512 Q64.6495 148.077 61.131 148.077 Q59.2097 148.077 57.0106 148.494 Q54.8115 148.91 52.1727 149.79 L52.1727 145.623 Q54.8347 144.883 57.1495 144.512 Q59.4875 144.142 61.5476 144.142 Q66.8717 144.142 69.9735 146.572 Q73.0753 148.98 73.0753 153.1 Q73.0753 155.971 71.4318 157.961 Q69.7883 159.929 66.7559 160.693 Z\" fill=\"#000000\" fill-rule=\"evenodd\" fill-opacity=\"1\" /><path clip-path=\"url(#clip790)\" d=\"M92.7512 147.846 Q89.1401 147.846 87.3114 151.41 Q85.5058 154.952 85.5058 162.082 Q85.5058 169.188 87.3114 172.753 Q89.1401 176.295 92.7512 176.295 Q96.3854 176.295 98.1909 172.753 Q100.02 169.188 100.02 162.082 Q100.02 154.952 98.1909 151.41 Q96.3854 147.846 92.7512 147.846 M92.7512 144.142 Q98.5613 144.142 101.617 148.748 Q104.696 153.332 104.696 162.082 Q104.696 170.808 101.617 175.415 Q98.5613 179.998 92.7512 179.998 Q86.941 179.998 83.8623 175.415 Q80.8068 170.808 80.8068 162.082 Q80.8068 153.332 83.8623 148.748 Q86.941 144.142 92.7512 144.142 Z\" fill=\"#000000\" fill-rule=\"evenodd\" fill-opacity=\"1\" /><path clip-path=\"url(#clip790)\" d=\"M865.758 18.8205 L865.758 41.5461 L876.048 41.5461 Q881.76 41.5461 884.879 38.5889 Q887.998 35.6318 887.998 30.163 Q887.998 24.7348 884.879 21.7777 Q881.76 18.8205 876.048 18.8205 L865.758 18.8205 M857.576 12.096 L876.048 12.096 Q886.216 12.096 891.401 16.714 Q896.626 21.2916 896.626 30.163 Q896.626 39.1155 891.401 43.6931 Q886.216 48.2706 876.048 48.2706 L865.758 48.2706 L865.758 72.576 L857.576 72.576 L857.576 12.096 Z\" fill=\"#000000\" fill-rule=\"evenodd\" fill-opacity=\"1\" /><path clip-path=\"url(#clip790)\" d=\"M921.904 32.4315 Q915.909 32.4315 912.425 37.1306 Q908.941 41.7891 908.941 49.9314 Q908.941 58.0738 912.384 62.7728 Q915.868 67.4314 921.904 67.4314 Q927.859 67.4314 931.343 62.7323 Q934.826 58.0333 934.826 49.9314 Q934.826 41.8701 931.343 37.1711 Q927.859 32.4315 921.904 32.4315 M921.904 26.1121 Q931.626 26.1121 937.176 32.4315 Q942.726 38.7509 942.726 49.9314 Q942.726 61.0714 937.176 67.4314 Q931.626 73.7508 921.904 73.7508 Q912.141 73.7508 906.592 67.4314 Q901.082 61.0714 901.082 49.9314 Q901.082 38.7509 906.592 32.4315 Q912.141 26.1121 921.904 26.1121 Z\" fill=\"#000000\" fill-rule=\"evenodd\" fill-opacity=\"1\" /><path clip-path=\"url(#clip790)\" d=\"M955.081 27.2059 L962.535 27.2059 L962.535 72.576 L955.081 72.576 L955.081 27.2059 M955.081 9.54393 L962.535 9.54393 L962.535 18.9825 L955.081 18.9825 L955.081 9.54393 Z\" fill=\"#000000\" fill-rule=\"evenodd\" fill-opacity=\"1\" /><path clip-path=\"url(#clip790)\" d=\"M1007.05 28.5427 L1007.05 35.5912 Q1003.89 33.9709 1000.49 33.1607 Q997.089 32.3505 993.443 32.3505 Q987.893 32.3505 985.098 34.0519 Q982.343 35.7533 982.343 39.156 Q982.343 41.7486 984.328 43.2475 Q986.313 44.7058 992.309 46.0426 L994.861 46.6097 Q1002.8 48.3111 1006.12 51.4303 Q1009.48 54.509 1009.48 60.0587 Q1009.48 66.3781 1004.46 70.0644 Q999.479 73.7508 990.729 73.7508 Q987.083 73.7508 983.113 73.0216 Q979.184 72.3329 974.809 70.9151 L974.809 63.2184 Q978.941 65.3654 982.951 66.4591 Q986.961 67.5124 990.891 67.5124 Q996.157 67.5124 998.993 65.73 Q1001.83 63.9071 1001.83 60.6258 Q1001.83 57.5877 999.762 55.9673 Q997.737 54.3469 990.81 52.8481 L988.217 52.2405 Q981.29 50.7821 978.212 47.7845 Q975.133 44.7463 975.133 39.4801 Q975.133 33.0797 979.67 29.5959 Q984.207 26.1121 992.552 26.1121 Q996.684 26.1121 1000.33 26.7198 Q1003.98 27.3274 1007.05 28.5427 Z\" fill=\"#000000\" fill-rule=\"evenodd\" fill-opacity=\"1\" /><path clip-path=\"url(#clip790)\" d=\"M1050.28 28.5427 L1050.28 35.5912 Q1047.12 33.9709 1043.71 33.1607 Q1040.31 32.3505 1036.67 32.3505 Q1031.12 32.3505 1028.32 34.0519 Q1025.57 35.7533 1025.57 39.156 Q1025.57 41.7486 1027.55 43.2475 Q1029.54 44.7058 1035.53 46.0426 L1038.08 46.6097 Q1046.02 48.3111 1049.35 51.4303 Q1052.71 54.509 1052.71 60.0587 Q1052.71 66.3781 1047.68 70.0644 Q1042.7 73.7508 1033.95 73.7508 Q1030.31 73.7508 1026.34 73.0216 Q1022.41 72.3329 1018.03 70.9151 L1018.03 63.2184 Q1022.16 65.3654 1026.17 66.4591 Q1030.18 67.5124 1034.11 67.5124 Q1039.38 67.5124 1042.22 65.73 Q1045.05 63.9071 1045.05 60.6258 Q1045.05 57.5877 1042.99 55.9673 Q1040.96 54.3469 1034.03 52.8481 L1031.44 52.2405 Q1024.51 50.7821 1021.43 47.7845 Q1018.36 44.7463 1018.36 39.4801 Q1018.36 33.0797 1022.89 29.5959 Q1027.43 26.1121 1035.77 26.1121 Q1039.91 26.1121 1043.55 26.7198 Q1047.2 27.3274 1050.28 28.5427 Z\" fill=\"#000000\" fill-rule=\"evenodd\" fill-opacity=\"1\" /><path clip-path=\"url(#clip790)\" d=\"M1082.16 32.4315 Q1076.16 32.4315 1072.68 37.1306 Q1069.19 41.7891 1069.19 49.9314 Q1069.19 58.0738 1072.64 62.7728 Q1076.12 67.4314 1082.16 67.4314 Q1088.11 67.4314 1091.6 62.7323 Q1095.08 58.0333 1095.08 49.9314 Q1095.08 41.8701 1091.6 37.1711 Q1088.11 32.4315 1082.16 32.4315 M1082.16 26.1121 Q1091.88 26.1121 1097.43 32.4315 Q1102.98 38.7509 1102.98 49.9314 Q1102.98 61.0714 1097.43 67.4314 Q1091.88 73.7508 1082.16 73.7508 Q1072.4 73.7508 1066.85 67.4314 Q1061.34 61.0714 1061.34 49.9314 Q1061.34 38.7509 1066.85 32.4315 Q1072.4 26.1121 1082.16 26.1121 Z\" fill=\"#000000\" fill-rule=\"evenodd\" fill-opacity=\"1\" /><path clip-path=\"url(#clip790)\" d=\"M1153.05 45.1919 L1153.05 72.576 L1145.59 72.576 L1145.59 45.4349 Q1145.59 38.994 1143.08 35.7938 Q1140.57 32.5936 1135.55 32.5936 Q1129.51 32.5936 1126.03 36.4419 Q1122.55 40.2903 1122.55 46.9338 L1122.55 72.576 L1115.05 72.576 L1115.05 27.2059 L1122.55 27.2059 L1122.55 34.2544 Q1125.22 30.163 1128.82 28.1376 Q1132.47 26.1121 1137.21 26.1121 Q1145.03 26.1121 1149.04 30.9732 Q1153.05 35.7938 1153.05 45.1919 Z\" fill=\"#000000\" fill-rule=\"evenodd\" fill-opacity=\"1\" /><path clip-path=\"url(#clip790)\" d=\"M1185.82 9.62495 Q1180.39 18.942 1177.76 28.0566 Q1175.13 37.1711 1175.13 46.5287 Q1175.13 55.8863 1177.76 65.0818 Q1180.43 74.2369 1185.82 83.5134 L1179.34 83.5134 Q1173.26 73.9938 1170.22 64.7983 Q1167.23 55.6027 1167.23 46.5287 Q1167.23 37.4952 1170.22 28.3401 Q1173.22 19.1851 1179.34 9.62495 L1185.82 9.62495 Z\" fill=\"#000000\" fill-rule=\"evenodd\" fill-opacity=\"1\" /><path clip-path=\"url(#clip790)\" d=\"M1208.38 65.6895 L1236.94 65.6895 L1236.94 72.576 L1198.54 72.576 L1198.54 65.6895 Q1203.2 60.8689 1211.22 52.7671 Q1219.28 44.6248 1221.35 42.2752 Q1225.28 37.8598 1226.82 34.8216 Q1228.4 31.7429 1228.4 28.7857 Q1228.4 23.9651 1224.99 20.927 Q1221.63 17.8888 1216.2 17.8888 Q1212.35 17.8888 1208.06 19.2256 Q1203.81 20.5624 1198.95 23.2765 L1198.95 15.0127 Q1203.89 13.0277 1208.18 12.015 Q1212.48 11.0023 1216.04 11.0023 Q1225.44 11.0023 1231.03 15.7013 Q1236.62 20.4004 1236.62 28.2591 Q1236.62 31.9859 1235.2 35.3482 Q1233.82 38.6699 1230.14 43.2069 Q1229.12 44.3817 1223.7 50.0125 Q1218.27 55.6027 1208.38 65.6895 Z\" fill=\"#000000\" fill-rule=\"evenodd\" fill-opacity=\"1\" /><path clip-path=\"url(#clip790)\" d=\"M1251.89 9.62495 L1258.37 9.62495 Q1264.45 19.1851 1267.45 28.3401 Q1270.48 37.4952 1270.48 46.5287 Q1270.48 55.6027 1267.45 64.7983 Q1264.45 73.9938 1258.37 83.5134 L1251.89 83.5134 Q1257.28 74.2369 1259.91 65.0818 Q1262.59 55.8863 1262.59 46.5287 Q1262.59 37.1711 1259.91 28.0566 Q1257.28 18.942 1251.89 9.62495 Z\" fill=\"#000000\" fill-rule=\"evenodd\" fill-opacity=\"1\" /><path clip-path=\"url(#clip790)\" d=\"M1327.72 72.576 L1304.63 12.096 L1313.18 12.096 L1332.34 63.0159 L1351.54 12.096 L1360.05 12.096 L1337 72.576 L1327.72 72.576 Z\" fill=\"#000000\" fill-rule=\"evenodd\" fill-opacity=\"1\" /><path clip-path=\"url(#clip790)\" d=\"M1382.73 49.7694 Q1373.7 49.7694 1370.22 51.8354 Q1366.73 53.9013 1366.73 58.8839 Q1366.73 62.8538 1369.33 65.2034 Q1371.96 67.5124 1376.46 67.5124 Q1382.65 67.5124 1386.38 63.1374 Q1390.15 58.7219 1390.15 51.4303 L1390.15 49.7694 L1382.73 49.7694 M1397.6 46.6907 L1397.6 72.576 L1390.15 72.576 L1390.15 65.6895 Q1387.6 69.8214 1383.79 71.8063 Q1379.98 73.7508 1374.47 73.7508 Q1367.5 73.7508 1363.37 69.8619 Q1359.28 65.9325 1359.28 59.3701 Q1359.28 51.7138 1364.38 47.825 Q1369.53 43.9361 1379.7 43.9361 L1390.15 43.9361 L1390.15 43.2069 Q1390.15 38.0623 1386.75 35.2672 Q1383.38 32.4315 1377.27 32.4315 Q1373.38 32.4315 1369.69 33.3632 Q1366 34.295 1362.6 36.1584 L1362.6 29.2718 Q1366.69 27.692 1370.54 26.9223 Q1374.39 26.1121 1378.04 26.1121 Q1387.88 26.1121 1392.74 31.2163 Q1397.6 36.3204 1397.6 46.6907 Z\" fill=\"#000000\" fill-rule=\"evenodd\" fill-opacity=\"1\" /><path clip-path=\"url(#clip790)\" d=\"M1439.24 34.1734 Q1437.99 33.4443 1436.49 33.1202 Q1435.03 32.7556 1433.25 32.7556 Q1426.93 32.7556 1423.53 36.8875 Q1420.17 40.9789 1420.17 48.6757 L1420.17 72.576 L1412.67 72.576 L1412.67 27.2059 L1420.17 27.2059 L1420.17 34.2544 Q1422.51 30.1225 1426.28 28.1376 Q1430.05 26.1121 1435.44 26.1121 Q1436.21 26.1121 1437.14 26.2337 Q1438.07 26.3147 1439.2 26.5172 L1439.24 34.1734 Z\" fill=\"#000000\" fill-rule=\"evenodd\" fill-opacity=\"1\" /><path clip-path=\"url(#clip790)\" d=\"M1447.06 27.2059 L1454.52 27.2059 L1454.52 72.576 L1447.06 72.576 L1447.06 27.2059 M1447.06 9.54393 L1454.52 9.54393 L1454.52 18.9825 L1447.06 18.9825 L1447.06 9.54393 Z\" fill=\"#000000\" fill-rule=\"evenodd\" fill-opacity=\"1\" /><path clip-path=\"url(#clip790)\" d=\"M1490.73 49.7694 Q1481.7 49.7694 1478.21 51.8354 Q1474.73 53.9013 1474.73 58.8839 Q1474.73 62.8538 1477.32 65.2034 Q1479.96 67.5124 1484.45 67.5124 Q1490.65 67.5124 1494.38 63.1374 Q1498.15 58.7219 1498.15 51.4303 L1498.15 49.7694 L1490.73 49.7694 M1505.6 46.6907 L1505.6 72.576 L1498.15 72.576 L1498.15 65.6895 Q1495.59 69.8214 1491.79 71.8063 Q1487.98 73.7508 1482.47 73.7508 Q1475.5 73.7508 1471.37 69.8619 Q1467.28 65.9325 1467.28 59.3701 Q1467.28 51.7138 1472.38 47.825 Q1477.53 43.9361 1487.69 43.9361 L1498.15 43.9361 L1498.15 43.2069 Q1498.15 38.0623 1494.74 35.2672 Q1491.38 32.4315 1485.26 32.4315 Q1481.37 32.4315 1477.69 33.3632 Q1474 34.295 1470.6 36.1584 L1470.6 29.2718 Q1474.69 27.692 1478.54 26.9223 Q1482.39 26.1121 1486.03 26.1121 Q1495.88 26.1121 1500.74 31.2163 Q1505.6 36.3204 1505.6 46.6907 Z\" fill=\"#000000\" fill-rule=\"evenodd\" fill-opacity=\"1\" /><path clip-path=\"url(#clip790)\" d=\"M1528.32 14.324 L1528.32 27.2059 L1543.68 27.2059 L1543.68 32.9987 L1528.32 32.9987 L1528.32 57.6282 Q1528.32 63.1779 1529.82 64.7578 Q1531.36 66.3376 1536.02 66.3376 L1543.68 66.3376 L1543.68 72.576 L1536.02 72.576 Q1527.39 72.576 1524.11 69.3758 Q1520.83 66.1351 1520.83 57.6282 L1520.83 32.9987 L1515.36 32.9987 L1515.36 27.2059 L1520.83 27.2059 L1520.83 14.324 L1528.32 14.324 Z\" fill=\"#000000\" fill-rule=\"evenodd\" fill-opacity=\"1\" /><path clip-path=\"url(#clip790)\" d=\"M1592.29 48.0275 L1592.29 51.6733 L1558.02 51.6733 Q1558.5 59.3701 1562.64 63.421 Q1566.81 67.4314 1574.22 67.4314 Q1578.52 67.4314 1582.53 66.3781 Q1586.58 65.3249 1590.55 63.2184 L1590.55 70.267 Q1586.54 71.9684 1582.32 72.8596 Q1578.11 73.7508 1573.78 73.7508 Q1562.92 73.7508 1556.56 67.4314 Q1550.24 61.1119 1550.24 50.3365 Q1550.24 39.1965 1556.24 32.6746 Q1562.27 26.1121 1572.48 26.1121 Q1581.63 26.1121 1586.94 32.0264 Q1592.29 37.9003 1592.29 48.0275 M1584.83 45.84 Q1584.75 39.7232 1581.39 36.0774 Q1578.07 32.4315 1572.56 32.4315 Q1566.32 32.4315 1562.55 35.9558 Q1558.83 39.4801 1558.26 45.8805 L1584.83 45.84 Z\" fill=\"#000000\" fill-rule=\"evenodd\" fill-opacity=\"1\" /><path clip-path=\"url(#clip790)\" d=\"M1633.45 28.5427 L1633.45 35.5912 Q1630.29 33.9709 1626.88 33.1607 Q1623.48 32.3505 1619.83 32.3505 Q1614.28 32.3505 1611.49 34.0519 Q1608.73 35.7533 1608.73 39.156 Q1608.73 41.7486 1610.72 43.2475 Q1612.7 44.7058 1618.7 46.0426 L1621.25 46.6097 Q1629.19 48.3111 1632.51 51.4303 Q1635.88 54.509 1635.88 60.0587 Q1635.88 66.3781 1630.85 70.0644 Q1625.87 73.7508 1617.12 73.7508 Q1613.47 73.7508 1609.5 73.0216 Q1605.58 72.3329 1601.2 70.9151 L1601.2 63.2184 Q1605.33 65.3654 1609.34 66.4591 Q1613.35 67.5124 1617.28 67.5124 Q1622.55 67.5124 1625.38 65.73 Q1628.22 63.9071 1628.22 60.6258 Q1628.22 57.5877 1626.15 55.9673 Q1624.13 54.3469 1617.2 52.8481 L1614.61 52.2405 Q1607.68 50.7821 1604.6 47.7845 Q1601.52 44.7463 1601.52 39.4801 Q1601.52 33.0797 1606.06 29.5959 Q1610.6 26.1121 1618.94 26.1121 Q1623.07 26.1121 1626.72 26.7198 Q1630.37 27.3274 1633.45 28.5427 Z\" fill=\"#000000\" fill-rule=\"evenodd\" fill-opacity=\"1\" /><path clip-path=\"url(#clip792)\" d=\"\nM262.363 1019.26 L262.363 1447.87 L533.911 1447.87 L533.911 1019.26 L262.363 1019.26 L262.363 1019.26  Z\n  \" fill=\"#009af9\" fill-rule=\"evenodd\" fill-opacity=\"1\"/>\n<polyline clip-path=\"url(#clip792)\" style=\"stroke:#000000; stroke-linecap:butt; stroke-linejoin:round; stroke-width:4; stroke-opacity:1; fill:none\" points=\"\n  262.363,1019.26 262.363,1447.87 533.911,1447.87 533.911,1019.26 262.363,1019.26 \n  \"/>\n<path clip-path=\"url(#clip792)\" d=\"\nM601.798 162.047 L601.798 1447.87 L873.347 1447.87 L873.347 162.047 L601.798 162.047 L601.798 162.047  Z\n  \" fill=\"#009af9\" fill-rule=\"evenodd\" fill-opacity=\"1\"/>\n<polyline clip-path=\"url(#clip792)\" style=\"stroke:#000000; stroke-linecap:butt; stroke-linejoin:round; stroke-width:4; stroke-opacity:1; fill:none\" points=\"\n  601.798,162.047 601.798,1447.87 873.347,1447.87 873.347,162.047 601.798,162.047 \n  \"/>\n<path clip-path=\"url(#clip792)\" d=\"\nM941.234 247.769 L941.234 1447.87 L1212.78 1447.87 L1212.78 247.769 L941.234 247.769 L941.234 247.769  Z\n  \" fill=\"#009af9\" fill-rule=\"evenodd\" fill-opacity=\"1\"/>\n<polyline clip-path=\"url(#clip792)\" style=\"stroke:#000000; stroke-linecap:butt; stroke-linejoin:round; stroke-width:4; stroke-opacity:1; fill:none\" points=\"\n  941.234,247.769 941.234,1447.87 1212.78,1447.87 1212.78,247.769 941.234,247.769 \n  \"/>\n<path clip-path=\"url(#clip792)\" d=\"\nM1280.67 376.351 L1280.67 1447.87 L1552.22 1447.87 L1552.22 376.351 L1280.67 376.351 L1280.67 376.351  Z\n  \" fill=\"#009af9\" fill-rule=\"evenodd\" fill-opacity=\"1\"/>\n<polyline clip-path=\"url(#clip792)\" style=\"stroke:#000000; stroke-linecap:butt; stroke-linejoin:round; stroke-width:4; stroke-opacity:1; fill:none\" points=\"\n  1280.67,376.351 1280.67,1447.87 1552.22,1447.87 1552.22,376.351 1280.67,376.351 \n  \"/>\n<path clip-path=\"url(#clip792)\" d=\"\nM1620.1 1233.57 L1620.1 1447.87 L1891.65 1447.87 L1891.65 1233.57 L1620.1 1233.57 L1620.1 1233.57  Z\n  \" fill=\"#009af9\" fill-rule=\"evenodd\" fill-opacity=\"1\"/>\n<polyline clip-path=\"url(#clip792)\" style=\"stroke:#000000; stroke-linecap:butt; stroke-linejoin:round; stroke-width:4; stroke-opacity:1; fill:none\" points=\"\n  1620.1,1233.57 1620.1,1447.87 1891.65,1447.87 1891.65,1233.57 1620.1,1233.57 \n  \"/>\n<path clip-path=\"url(#clip792)\" d=\"\nM1959.54 1362.15 L1959.54 1447.87 L2231.09 1447.87 L2231.09 1362.15 L1959.54 1362.15 L1959.54 1362.15  Z\n  \" fill=\"#009af9\" fill-rule=\"evenodd\" fill-opacity=\"1\"/>\n<polyline clip-path=\"url(#clip792)\" style=\"stroke:#000000; stroke-linecap:butt; stroke-linejoin:round; stroke-width:4; stroke-opacity:1; fill:none\" points=\"\n  1959.54,1362.15 1959.54,1447.87 2231.09,1447.87 2231.09,1362.15 1959.54,1362.15 \n  \"/>\n<circle clip-path=\"url(#clip792)\" style=\"fill:#009af9; stroke:none; fill-opacity:0\" cx=\"398.137\" cy=\"1019.26\" r=\"2\"/>\n<circle clip-path=\"url(#clip792)\" style=\"fill:#009af9; stroke:none; fill-opacity:0\" cx=\"737.572\" cy=\"162.047\" r=\"2\"/>\n<circle clip-path=\"url(#clip792)\" style=\"fill:#009af9; stroke:none; fill-opacity:0\" cx=\"1077.01\" cy=\"247.769\" r=\"2\"/>\n<circle clip-path=\"url(#clip792)\" style=\"fill:#009af9; stroke:none; fill-opacity:0\" cx=\"1416.44\" cy=\"376.351\" r=\"2\"/>\n<circle clip-path=\"url(#clip792)\" style=\"fill:#009af9; stroke:none; fill-opacity:0\" cx=\"1755.88\" cy=\"1233.57\" r=\"2\"/>\n<circle clip-path=\"url(#clip792)\" style=\"fill:#009af9; stroke:none; fill-opacity:0\" cx=\"2095.31\" cy=\"1362.15\" r=\"2\"/>\n</svg>\n",
      "text/html": [
       "<?xml version=\"1.0\" encoding=\"utf-8\"?>\n",
       "<svg xmlns=\"http://www.w3.org/2000/svg\" xmlns:xlink=\"http://www.w3.org/1999/xlink\" width=\"600\" height=\"400\" viewBox=\"0 0 2400 1600\">\n",
       "<defs>\n",
       "  <clipPath id=\"clip840\">\n",
       "    <rect x=\"0\" y=\"0\" width=\"2400\" height=\"1600\"/>\n",
       "  </clipPath>\n",
       "</defs>\n",
       "<path clip-path=\"url(#clip840)\" d=\"\n",
       "M0 1600 L2400 1600 L2400 0 L0 0  Z\n",
       "  \" fill=\"#ffffff\" fill-rule=\"evenodd\" fill-opacity=\"1\"/>\n",
       "<defs>\n",
       "  <clipPath id=\"clip841\">\n",
       "    <rect x=\"480\" y=\"0\" width=\"1681\" height=\"1600\"/>\n",
       "  </clipPath>\n",
       "</defs>\n",
       "<path clip-path=\"url(#clip840)\" d=\"\n",
       "M140.696 1486.45 L2352.76 1486.45 L2352.76 123.472 L140.696 123.472  Z\n",
       "  \" fill=\"#ffffff\" fill-rule=\"evenodd\" fill-opacity=\"1\"/>\n",
       "<defs>\n",
       "  <clipPath id=\"clip842\">\n",
       "    <rect x=\"140\" y=\"123\" width=\"2213\" height=\"1364\"/>\n",
       "  </clipPath>\n",
       "</defs>\n",
       "<polyline clip-path=\"url(#clip842)\" style=\"stroke:#000000; stroke-linecap:butt; stroke-linejoin:round; stroke-width:2; stroke-opacity:0.1; fill:none\" points=\"\n",
       "  398.137,1486.45 398.137,123.472 \n",
       "  \"/>\n",
       "<polyline clip-path=\"url(#clip842)\" style=\"stroke:#000000; stroke-linecap:butt; stroke-linejoin:round; stroke-width:2; stroke-opacity:0.1; fill:none\" points=\"\n",
       "  737.572,1486.45 737.572,123.472 \n",
       "  \"/>\n",
       "<polyline clip-path=\"url(#clip842)\" style=\"stroke:#000000; stroke-linecap:butt; stroke-linejoin:round; stroke-width:2; stroke-opacity:0.1; fill:none\" points=\"\n",
       "  1077.01,1486.45 1077.01,123.472 \n",
       "  \"/>\n",
       "<polyline clip-path=\"url(#clip842)\" style=\"stroke:#000000; stroke-linecap:butt; stroke-linejoin:round; stroke-width:2; stroke-opacity:0.1; fill:none\" points=\"\n",
       "  1416.44,1486.45 1416.44,123.472 \n",
       "  \"/>\n",
       "<polyline clip-path=\"url(#clip842)\" style=\"stroke:#000000; stroke-linecap:butt; stroke-linejoin:round; stroke-width:2; stroke-opacity:0.1; fill:none\" points=\"\n",
       "  1755.88,1486.45 1755.88,123.472 \n",
       "  \"/>\n",
       "<polyline clip-path=\"url(#clip842)\" style=\"stroke:#000000; stroke-linecap:butt; stroke-linejoin:round; stroke-width:2; stroke-opacity:0.1; fill:none\" points=\"\n",
       "  2095.31,1486.45 2095.31,123.472 \n",
       "  \"/>\n",
       "<polyline clip-path=\"url(#clip840)\" style=\"stroke:#000000; stroke-linecap:butt; stroke-linejoin:round; stroke-width:4; stroke-opacity:1; fill:none\" points=\"\n",
       "  140.696,1486.45 2352.76,1486.45 \n",
       "  \"/>\n",
       "<polyline clip-path=\"url(#clip840)\" style=\"stroke:#000000; stroke-linecap:butt; stroke-linejoin:round; stroke-width:4; stroke-opacity:1; fill:none\" points=\"\n",
       "  398.137,1486.45 398.137,1467.55 \n",
       "  \"/>\n",
       "<polyline clip-path=\"url(#clip840)\" style=\"stroke:#000000; stroke-linecap:butt; stroke-linejoin:round; stroke-width:4; stroke-opacity:1; fill:none\" points=\"\n",
       "  737.572,1486.45 737.572,1467.55 \n",
       "  \"/>\n",
       "<polyline clip-path=\"url(#clip840)\" style=\"stroke:#000000; stroke-linecap:butt; stroke-linejoin:round; stroke-width:4; stroke-opacity:1; fill:none\" points=\"\n",
       "  1077.01,1486.45 1077.01,1467.55 \n",
       "  \"/>\n",
       "<polyline clip-path=\"url(#clip840)\" style=\"stroke:#000000; stroke-linecap:butt; stroke-linejoin:round; stroke-width:4; stroke-opacity:1; fill:none\" points=\"\n",
       "  1416.44,1486.45 1416.44,1467.55 \n",
       "  \"/>\n",
       "<polyline clip-path=\"url(#clip840)\" style=\"stroke:#000000; stroke-linecap:butt; stroke-linejoin:round; stroke-width:4; stroke-opacity:1; fill:none\" points=\"\n",
       "  1755.88,1486.45 1755.88,1467.55 \n",
       "  \"/>\n",
       "<polyline clip-path=\"url(#clip840)\" style=\"stroke:#000000; stroke-linecap:butt; stroke-linejoin:round; stroke-width:4; stroke-opacity:1; fill:none\" points=\"\n",
       "  2095.31,1486.45 2095.31,1467.55 \n",
       "  \"/>\n",
       "<path clip-path=\"url(#clip840)\" d=\"M398.137 1517.37 Q394.526 1517.37 392.697 1520.93 Q390.892 1524.47 390.892 1531.6 Q390.892 1538.71 392.697 1542.27 Q394.526 1545.82 398.137 1545.82 Q401.771 1545.82 403.577 1542.27 Q405.405 1538.71 405.405 1531.6 Q405.405 1524.47 403.577 1520.93 Q401.771 1517.37 398.137 1517.37 M398.137 1513.66 Q403.947 1513.66 407.003 1518.27 Q410.081 1522.85 410.081 1531.6 Q410.081 1540.33 407.003 1544.94 Q403.947 1549.52 398.137 1549.52 Q392.327 1549.52 389.248 1544.94 Q386.193 1540.33 386.193 1531.6 Q386.193 1522.85 389.248 1518.27 Q392.327 1513.66 398.137 1513.66 Z\" fill=\"#000000\" fill-rule=\"evenodd\" fill-opacity=\"1\" /><path clip-path=\"url(#clip840)\" d=\"M727.954 1544.91 L735.593 1544.91 L735.593 1518.55 L727.283 1520.21 L727.283 1515.95 L735.547 1514.29 L740.223 1514.29 L740.223 1544.91 L747.862 1544.91 L747.862 1548.85 L727.954 1548.85 L727.954 1544.91 Z\" fill=\"#000000\" fill-rule=\"evenodd\" fill-opacity=\"1\" /><path clip-path=\"url(#clip840)\" d=\"M1071.66 1544.91 L1087.98 1544.91 L1087.98 1548.85 L1066.04 1548.85 L1066.04 1544.91 Q1068.7 1542.16 1073.28 1537.53 Q1077.89 1532.88 1079.07 1531.53 Q1081.31 1529.01 1082.19 1527.27 Q1083.1 1525.51 1083.1 1523.82 Q1083.1 1521.07 1081.15 1519.33 Q1079.23 1517.6 1076.13 1517.6 Q1073.93 1517.6 1071.48 1518.36 Q1069.05 1519.13 1066.27 1520.68 L1066.27 1515.95 Q1069.09 1514.82 1071.55 1514.24 Q1074 1513.66 1076.04 1513.66 Q1081.41 1513.66 1084.6 1516.35 Q1087.79 1519.03 1087.79 1523.52 Q1087.79 1525.65 1086.98 1527.57 Q1086.2 1529.47 1084.09 1532.07 Q1083.51 1532.74 1080.41 1535.95 Q1077.31 1539.15 1071.66 1544.91 Z\" fill=\"#000000\" fill-rule=\"evenodd\" fill-opacity=\"1\" /><path clip-path=\"url(#clip840)\" d=\"M1420.69 1530.21 Q1424.05 1530.93 1425.92 1533.2 Q1427.82 1535.47 1427.82 1538.8 Q1427.82 1543.92 1424.3 1546.72 Q1420.78 1549.52 1414.3 1549.52 Q1412.13 1549.52 1409.81 1549.08 Q1407.52 1548.66 1405.07 1547.81 L1405.07 1543.29 Q1407.01 1544.43 1409.33 1545.01 Q1411.64 1545.58 1414.16 1545.58 Q1418.56 1545.58 1420.85 1543.85 Q1423.17 1542.11 1423.17 1538.8 Q1423.17 1535.75 1421.02 1534.03 Q1418.89 1532.3 1415.07 1532.3 L1411.04 1532.3 L1411.04 1528.45 L1415.25 1528.45 Q1418.7 1528.45 1420.53 1527.09 Q1422.36 1525.7 1422.36 1523.11 Q1422.36 1520.45 1420.46 1519.03 Q1418.58 1517.6 1415.07 1517.6 Q1413.14 1517.6 1410.95 1518.01 Q1408.75 1518.43 1406.11 1519.31 L1406.11 1515.14 Q1408.77 1514.4 1411.08 1514.03 Q1413.42 1513.66 1415.48 1513.66 Q1420.81 1513.66 1423.91 1516.09 Q1427.01 1518.5 1427.01 1522.62 Q1427.01 1525.49 1425.37 1527.48 Q1423.72 1529.45 1420.69 1530.21 Z\" fill=\"#000000\" fill-rule=\"evenodd\" fill-opacity=\"1\" /><path clip-path=\"url(#clip840)\" d=\"M1758.89 1518.36 L1747.08 1536.81 L1758.89 1536.81 L1758.89 1518.36 M1757.66 1514.29 L1763.54 1514.29 L1763.54 1536.81 L1768.47 1536.81 L1768.47 1540.7 L1763.54 1540.7 L1763.54 1548.85 L1758.89 1548.85 L1758.89 1540.7 L1743.29 1540.7 L1743.29 1536.19 L1757.66 1514.29 Z\" fill=\"#000000\" fill-rule=\"evenodd\" fill-opacity=\"1\" /><path clip-path=\"url(#clip840)\" d=\"M2085.59 1514.29 L2103.95 1514.29 L2103.95 1518.22 L2089.87 1518.22 L2089.87 1526.7 Q2090.89 1526.35 2091.91 1526.19 Q2092.93 1526 2093.95 1526 Q2099.74 1526 2103.12 1529.17 Q2106.49 1532.34 2106.49 1537.76 Q2106.49 1543.34 2103.02 1546.44 Q2099.55 1549.52 2093.23 1549.52 Q2091.06 1549.52 2088.79 1549.15 Q2086.54 1548.78 2084.13 1548.04 L2084.13 1543.34 Q2086.22 1544.47 2088.44 1545.03 Q2090.66 1545.58 2093.14 1545.58 Q2097.14 1545.58 2099.48 1543.48 Q2101.82 1541.37 2101.82 1537.76 Q2101.82 1534.15 2099.48 1532.04 Q2097.14 1529.94 2093.14 1529.94 Q2091.26 1529.94 2089.39 1530.35 Q2087.54 1530.77 2085.59 1531.65 L2085.59 1514.29 Z\" fill=\"#000000\" fill-rule=\"evenodd\" fill-opacity=\"1\" /><polyline clip-path=\"url(#clip842)\" style=\"stroke:#000000; stroke-linecap:butt; stroke-linejoin:round; stroke-width:2; stroke-opacity:0.1; fill:none\" points=\"\n",
       "  140.696,1447.87 2352.76,1447.87 \n",
       "  \"/>\n",
       "<polyline clip-path=\"url(#clip842)\" style=\"stroke:#000000; stroke-linecap:butt; stroke-linejoin:round; stroke-width:2; stroke-opacity:0.1; fill:none\" points=\"\n",
       "  140.696,1019.26 2352.76,1019.26 \n",
       "  \"/>\n",
       "<polyline clip-path=\"url(#clip842)\" style=\"stroke:#000000; stroke-linecap:butt; stroke-linejoin:round; stroke-width:2; stroke-opacity:0.1; fill:none\" points=\"\n",
       "  140.696,590.656 2352.76,590.656 \n",
       "  \"/>\n",
       "<polyline clip-path=\"url(#clip842)\" style=\"stroke:#000000; stroke-linecap:butt; stroke-linejoin:round; stroke-width:2; stroke-opacity:0.1; fill:none\" points=\"\n",
       "  140.696,162.047 2352.76,162.047 \n",
       "  \"/>\n",
       "<polyline clip-path=\"url(#clip840)\" style=\"stroke:#000000; stroke-linecap:butt; stroke-linejoin:round; stroke-width:4; stroke-opacity:1; fill:none\" points=\"\n",
       "  140.696,1486.45 140.696,123.472 \n",
       "  \"/>\n",
       "<polyline clip-path=\"url(#clip840)\" style=\"stroke:#000000; stroke-linecap:butt; stroke-linejoin:round; stroke-width:4; stroke-opacity:1; fill:none\" points=\"\n",
       "  140.696,1447.87 159.593,1447.87 \n",
       "  \"/>\n",
       "<polyline clip-path=\"url(#clip840)\" style=\"stroke:#000000; stroke-linecap:butt; stroke-linejoin:round; stroke-width:4; stroke-opacity:1; fill:none\" points=\"\n",
       "  140.696,1019.26 159.593,1019.26 \n",
       "  \"/>\n",
       "<polyline clip-path=\"url(#clip840)\" style=\"stroke:#000000; stroke-linecap:butt; stroke-linejoin:round; stroke-width:4; stroke-opacity:1; fill:none\" points=\"\n",
       "  140.696,590.656 159.593,590.656 \n",
       "  \"/>\n",
       "<polyline clip-path=\"url(#clip840)\" style=\"stroke:#000000; stroke-linecap:butt; stroke-linejoin:round; stroke-width:4; stroke-opacity:1; fill:none\" points=\"\n",
       "  140.696,162.047 159.593,162.047 \n",
       "  \"/>\n",
       "<path clip-path=\"url(#clip840)\" d=\"M92.7512 1433.67 Q89.1401 1433.67 87.3114 1437.24 Q85.5058 1440.78 85.5058 1447.91 Q85.5058 1455.01 87.3114 1458.58 Q89.1401 1462.12 92.7512 1462.12 Q96.3854 1462.12 98.1909 1458.58 Q100.02 1455.01 100.02 1447.91 Q100.02 1440.78 98.1909 1437.24 Q96.3854 1433.67 92.7512 1433.67 M92.7512 1429.97 Q98.5613 1429.97 101.617 1434.57 Q104.696 1439.16 104.696 1447.91 Q104.696 1456.63 101.617 1461.24 Q98.5613 1465.82 92.7512 1465.82 Q86.941 1465.82 83.8623 1461.24 Q80.8068 1456.63 80.8068 1447.91 Q80.8068 1439.16 83.8623 1434.57 Q86.941 1429.97 92.7512 1429.97 Z\" fill=\"#000000\" fill-rule=\"evenodd\" fill-opacity=\"1\" /><path clip-path=\"url(#clip840)\" d=\"M53.3995 1032.61 L61.0384 1032.61 L61.0384 1006.24 L52.7282 1007.91 L52.7282 1003.65 L60.9921 1001.98 L65.668 1001.98 L65.668 1032.61 L73.3068 1032.61 L73.3068 1036.54 L53.3995 1036.54 L53.3995 1032.61 Z\" fill=\"#000000\" fill-rule=\"evenodd\" fill-opacity=\"1\" /><path clip-path=\"url(#clip840)\" d=\"M92.7512 1005.06 Q89.1401 1005.06 87.3114 1008.63 Q85.5058 1012.17 85.5058 1019.3 Q85.5058 1026.41 87.3114 1029.97 Q89.1401 1033.51 92.7512 1033.51 Q96.3854 1033.51 98.1909 1029.97 Q100.02 1026.41 100.02 1019.3 Q100.02 1012.17 98.1909 1008.63 Q96.3854 1005.06 92.7512 1005.06 M92.7512 1001.36 Q98.5613 1001.36 101.617 1005.97 Q104.696 1010.55 104.696 1019.3 Q104.696 1028.03 101.617 1032.63 Q98.5613 1037.22 92.7512 1037.22 Q86.941 1037.22 83.8623 1032.63 Q80.8068 1028.03 80.8068 1019.3 Q80.8068 1010.55 83.8623 1005.97 Q86.941 1001.36 92.7512 1001.36 Z\" fill=\"#000000\" fill-rule=\"evenodd\" fill-opacity=\"1\" /><path clip-path=\"url(#clip840)\" d=\"M56.6171 604 L72.9365 604 L72.9365 607.936 L50.9921 607.936 L50.9921 604 Q53.6541 601.246 58.2375 596.616 Q62.8439 591.964 64.0245 590.621 Q66.2698 588.098 67.1494 586.362 Q68.0522 584.602 68.0522 582.913 Q68.0522 580.158 66.1078 578.422 Q64.1865 576.686 61.0847 576.686 Q58.8856 576.686 56.4319 577.45 Q54.0014 578.214 51.2236 579.764 L51.2236 575.042 Q54.0477 573.908 56.5014 573.329 Q58.955 572.751 60.9921 572.751 Q66.3624 572.751 69.5568 575.436 Q72.7513 578.121 72.7513 582.612 Q72.7513 584.741 71.9411 586.663 Q71.1541 588.561 69.0476 591.153 Q68.4689 591.825 65.367 595.042 Q62.2652 598.237 56.6171 604 Z\" fill=\"#000000\" fill-rule=\"evenodd\" fill-opacity=\"1\" /><path clip-path=\"url(#clip840)\" d=\"M92.7512 576.454 Q89.1401 576.454 87.3114 580.019 Q85.5058 583.561 85.5058 590.69 Q85.5058 597.797 87.3114 601.362 Q89.1401 604.903 92.7512 604.903 Q96.3854 604.903 98.1909 601.362 Q100.02 597.797 100.02 590.69 Q100.02 583.561 98.1909 580.019 Q96.3854 576.454 92.7512 576.454 M92.7512 572.751 Q98.5613 572.751 101.617 577.357 Q104.696 581.94 104.696 590.69 Q104.696 599.417 101.617 604.024 Q98.5613 608.607 92.7512 608.607 Q86.941 608.607 83.8623 604.024 Q80.8068 599.417 80.8068 590.69 Q80.8068 581.94 83.8623 577.357 Q86.941 572.751 92.7512 572.751 Z\" fill=\"#000000\" fill-rule=\"evenodd\" fill-opacity=\"1\" /><path clip-path=\"url(#clip840)\" d=\"M66.7559 160.693 Q70.1124 161.41 71.9874 163.679 Q73.8855 165.947 73.8855 169.281 Q73.8855 174.396 70.367 177.197 Q66.8485 179.998 60.3671 179.998 Q58.1912 179.998 55.8764 179.558 Q53.5847 179.142 51.131 178.285 L51.131 173.771 Q53.0754 174.906 55.3903 175.484 Q57.7051 176.063 60.2282 176.063 Q64.6263 176.063 66.918 174.327 Q69.2328 172.591 69.2328 169.281 Q69.2328 166.225 67.08 164.512 Q64.9504 162.776 61.131 162.776 L57.1032 162.776 L57.1032 158.934 L61.3161 158.934 Q64.7652 158.934 66.5939 157.568 Q68.4226 156.179 68.4226 153.586 Q68.4226 150.924 66.5245 149.512 Q64.6495 148.077 61.131 148.077 Q59.2097 148.077 57.0106 148.494 Q54.8115 148.91 52.1727 149.79 L52.1727 145.623 Q54.8347 144.883 57.1495 144.512 Q59.4875 144.142 61.5476 144.142 Q66.8717 144.142 69.9735 146.572 Q73.0753 148.98 73.0753 153.1 Q73.0753 155.971 71.4318 157.961 Q69.7883 159.929 66.7559 160.693 Z\" fill=\"#000000\" fill-rule=\"evenodd\" fill-opacity=\"1\" /><path clip-path=\"url(#clip840)\" d=\"M92.7512 147.846 Q89.1401 147.846 87.3114 151.41 Q85.5058 154.952 85.5058 162.082 Q85.5058 169.188 87.3114 172.753 Q89.1401 176.295 92.7512 176.295 Q96.3854 176.295 98.1909 172.753 Q100.02 169.188 100.02 162.082 Q100.02 154.952 98.1909 151.41 Q96.3854 147.846 92.7512 147.846 M92.7512 144.142 Q98.5613 144.142 101.617 148.748 Q104.696 153.332 104.696 162.082 Q104.696 170.808 101.617 175.415 Q98.5613 179.998 92.7512 179.998 Q86.941 179.998 83.8623 175.415 Q80.8068 170.808 80.8068 162.082 Q80.8068 153.332 83.8623 148.748 Q86.941 144.142 92.7512 144.142 Z\" fill=\"#000000\" fill-rule=\"evenodd\" fill-opacity=\"1\" /><path clip-path=\"url(#clip840)\" d=\"M865.758 18.8205 L865.758 41.5461 L876.048 41.5461 Q881.76 41.5461 884.879 38.5889 Q887.998 35.6318 887.998 30.163 Q887.998 24.7348 884.879 21.7777 Q881.76 18.8205 876.048 18.8205 L865.758 18.8205 M857.576 12.096 L876.048 12.096 Q886.216 12.096 891.401 16.714 Q896.626 21.2916 896.626 30.163 Q896.626 39.1155 891.401 43.6931 Q886.216 48.2706 876.048 48.2706 L865.758 48.2706 L865.758 72.576 L857.576 72.576 L857.576 12.096 Z\" fill=\"#000000\" fill-rule=\"evenodd\" fill-opacity=\"1\" /><path clip-path=\"url(#clip840)\" d=\"M921.904 32.4315 Q915.909 32.4315 912.425 37.1306 Q908.941 41.7891 908.941 49.9314 Q908.941 58.0738 912.384 62.7728 Q915.868 67.4314 921.904 67.4314 Q927.859 67.4314 931.343 62.7323 Q934.826 58.0333 934.826 49.9314 Q934.826 41.8701 931.343 37.1711 Q927.859 32.4315 921.904 32.4315 M921.904 26.1121 Q931.626 26.1121 937.176 32.4315 Q942.726 38.7509 942.726 49.9314 Q942.726 61.0714 937.176 67.4314 Q931.626 73.7508 921.904 73.7508 Q912.141 73.7508 906.592 67.4314 Q901.082 61.0714 901.082 49.9314 Q901.082 38.7509 906.592 32.4315 Q912.141 26.1121 921.904 26.1121 Z\" fill=\"#000000\" fill-rule=\"evenodd\" fill-opacity=\"1\" /><path clip-path=\"url(#clip840)\" d=\"M955.081 27.2059 L962.535 27.2059 L962.535 72.576 L955.081 72.576 L955.081 27.2059 M955.081 9.54393 L962.535 9.54393 L962.535 18.9825 L955.081 18.9825 L955.081 9.54393 Z\" fill=\"#000000\" fill-rule=\"evenodd\" fill-opacity=\"1\" /><path clip-path=\"url(#clip840)\" d=\"M1007.05 28.5427 L1007.05 35.5912 Q1003.89 33.9709 1000.49 33.1607 Q997.089 32.3505 993.443 32.3505 Q987.893 32.3505 985.098 34.0519 Q982.343 35.7533 982.343 39.156 Q982.343 41.7486 984.328 43.2475 Q986.313 44.7058 992.309 46.0426 L994.861 46.6097 Q1002.8 48.3111 1006.12 51.4303 Q1009.48 54.509 1009.48 60.0587 Q1009.48 66.3781 1004.46 70.0644 Q999.479 73.7508 990.729 73.7508 Q987.083 73.7508 983.113 73.0216 Q979.184 72.3329 974.809 70.9151 L974.809 63.2184 Q978.941 65.3654 982.951 66.4591 Q986.961 67.5124 990.891 67.5124 Q996.157 67.5124 998.993 65.73 Q1001.83 63.9071 1001.83 60.6258 Q1001.83 57.5877 999.762 55.9673 Q997.737 54.3469 990.81 52.8481 L988.217 52.2405 Q981.29 50.7821 978.212 47.7845 Q975.133 44.7463 975.133 39.4801 Q975.133 33.0797 979.67 29.5959 Q984.207 26.1121 992.552 26.1121 Q996.684 26.1121 1000.33 26.7198 Q1003.98 27.3274 1007.05 28.5427 Z\" fill=\"#000000\" fill-rule=\"evenodd\" fill-opacity=\"1\" /><path clip-path=\"url(#clip840)\" d=\"M1050.28 28.5427 L1050.28 35.5912 Q1047.12 33.9709 1043.71 33.1607 Q1040.31 32.3505 1036.67 32.3505 Q1031.12 32.3505 1028.32 34.0519 Q1025.57 35.7533 1025.57 39.156 Q1025.57 41.7486 1027.55 43.2475 Q1029.54 44.7058 1035.53 46.0426 L1038.08 46.6097 Q1046.02 48.3111 1049.35 51.4303 Q1052.71 54.509 1052.71 60.0587 Q1052.71 66.3781 1047.68 70.0644 Q1042.7 73.7508 1033.95 73.7508 Q1030.31 73.7508 1026.34 73.0216 Q1022.41 72.3329 1018.03 70.9151 L1018.03 63.2184 Q1022.16 65.3654 1026.17 66.4591 Q1030.18 67.5124 1034.11 67.5124 Q1039.38 67.5124 1042.22 65.73 Q1045.05 63.9071 1045.05 60.6258 Q1045.05 57.5877 1042.99 55.9673 Q1040.96 54.3469 1034.03 52.8481 L1031.44 52.2405 Q1024.51 50.7821 1021.43 47.7845 Q1018.36 44.7463 1018.36 39.4801 Q1018.36 33.0797 1022.89 29.5959 Q1027.43 26.1121 1035.77 26.1121 Q1039.91 26.1121 1043.55 26.7198 Q1047.2 27.3274 1050.28 28.5427 Z\" fill=\"#000000\" fill-rule=\"evenodd\" fill-opacity=\"1\" /><path clip-path=\"url(#clip840)\" d=\"M1082.16 32.4315 Q1076.16 32.4315 1072.68 37.1306 Q1069.19 41.7891 1069.19 49.9314 Q1069.19 58.0738 1072.64 62.7728 Q1076.12 67.4314 1082.16 67.4314 Q1088.11 67.4314 1091.6 62.7323 Q1095.08 58.0333 1095.08 49.9314 Q1095.08 41.8701 1091.6 37.1711 Q1088.11 32.4315 1082.16 32.4315 M1082.16 26.1121 Q1091.88 26.1121 1097.43 32.4315 Q1102.98 38.7509 1102.98 49.9314 Q1102.98 61.0714 1097.43 67.4314 Q1091.88 73.7508 1082.16 73.7508 Q1072.4 73.7508 1066.85 67.4314 Q1061.34 61.0714 1061.34 49.9314 Q1061.34 38.7509 1066.85 32.4315 Q1072.4 26.1121 1082.16 26.1121 Z\" fill=\"#000000\" fill-rule=\"evenodd\" fill-opacity=\"1\" /><path clip-path=\"url(#clip840)\" d=\"M1153.05 45.1919 L1153.05 72.576 L1145.59 72.576 L1145.59 45.4349 Q1145.59 38.994 1143.08 35.7938 Q1140.57 32.5936 1135.55 32.5936 Q1129.51 32.5936 1126.03 36.4419 Q1122.55 40.2903 1122.55 46.9338 L1122.55 72.576 L1115.05 72.576 L1115.05 27.2059 L1122.55 27.2059 L1122.55 34.2544 Q1125.22 30.163 1128.82 28.1376 Q1132.47 26.1121 1137.21 26.1121 Q1145.03 26.1121 1149.04 30.9732 Q1153.05 35.7938 1153.05 45.1919 Z\" fill=\"#000000\" fill-rule=\"evenodd\" fill-opacity=\"1\" /><path clip-path=\"url(#clip840)\" d=\"M1185.82 9.62495 Q1180.39 18.942 1177.76 28.0566 Q1175.13 37.1711 1175.13 46.5287 Q1175.13 55.8863 1177.76 65.0818 Q1180.43 74.2369 1185.82 83.5134 L1179.34 83.5134 Q1173.26 73.9938 1170.22 64.7983 Q1167.23 55.6027 1167.23 46.5287 Q1167.23 37.4952 1170.22 28.3401 Q1173.22 19.1851 1179.34 9.62495 L1185.82 9.62495 Z\" fill=\"#000000\" fill-rule=\"evenodd\" fill-opacity=\"1\" /><path clip-path=\"url(#clip840)\" d=\"M1208.38 65.6895 L1236.94 65.6895 L1236.94 72.576 L1198.54 72.576 L1198.54 65.6895 Q1203.2 60.8689 1211.22 52.7671 Q1219.28 44.6248 1221.35 42.2752 Q1225.28 37.8598 1226.82 34.8216 Q1228.4 31.7429 1228.4 28.7857 Q1228.4 23.9651 1224.99 20.927 Q1221.63 17.8888 1216.2 17.8888 Q1212.35 17.8888 1208.06 19.2256 Q1203.81 20.5624 1198.95 23.2765 L1198.95 15.0127 Q1203.89 13.0277 1208.18 12.015 Q1212.48 11.0023 1216.04 11.0023 Q1225.44 11.0023 1231.03 15.7013 Q1236.62 20.4004 1236.62 28.2591 Q1236.62 31.9859 1235.2 35.3482 Q1233.82 38.6699 1230.14 43.2069 Q1229.12 44.3817 1223.7 50.0125 Q1218.27 55.6027 1208.38 65.6895 Z\" fill=\"#000000\" fill-rule=\"evenodd\" fill-opacity=\"1\" /><path clip-path=\"url(#clip840)\" d=\"M1251.89 9.62495 L1258.37 9.62495 Q1264.45 19.1851 1267.45 28.3401 Q1270.48 37.4952 1270.48 46.5287 Q1270.48 55.6027 1267.45 64.7983 Q1264.45 73.9938 1258.37 83.5134 L1251.89 83.5134 Q1257.28 74.2369 1259.91 65.0818 Q1262.59 55.8863 1262.59 46.5287 Q1262.59 37.1711 1259.91 28.0566 Q1257.28 18.942 1251.89 9.62495 Z\" fill=\"#000000\" fill-rule=\"evenodd\" fill-opacity=\"1\" /><path clip-path=\"url(#clip840)\" d=\"M1327.72 72.576 L1304.63 12.096 L1313.18 12.096 L1332.34 63.0159 L1351.54 12.096 L1360.05 12.096 L1337 72.576 L1327.72 72.576 Z\" fill=\"#000000\" fill-rule=\"evenodd\" fill-opacity=\"1\" /><path clip-path=\"url(#clip840)\" d=\"M1382.73 49.7694 Q1373.7 49.7694 1370.22 51.8354 Q1366.73 53.9013 1366.73 58.8839 Q1366.73 62.8538 1369.33 65.2034 Q1371.96 67.5124 1376.46 67.5124 Q1382.65 67.5124 1386.38 63.1374 Q1390.15 58.7219 1390.15 51.4303 L1390.15 49.7694 L1382.73 49.7694 M1397.6 46.6907 L1397.6 72.576 L1390.15 72.576 L1390.15 65.6895 Q1387.6 69.8214 1383.79 71.8063 Q1379.98 73.7508 1374.47 73.7508 Q1367.5 73.7508 1363.37 69.8619 Q1359.28 65.9325 1359.28 59.3701 Q1359.28 51.7138 1364.38 47.825 Q1369.53 43.9361 1379.7 43.9361 L1390.15 43.9361 L1390.15 43.2069 Q1390.15 38.0623 1386.75 35.2672 Q1383.38 32.4315 1377.27 32.4315 Q1373.38 32.4315 1369.69 33.3632 Q1366 34.295 1362.6 36.1584 L1362.6 29.2718 Q1366.69 27.692 1370.54 26.9223 Q1374.39 26.1121 1378.04 26.1121 Q1387.88 26.1121 1392.74 31.2163 Q1397.6 36.3204 1397.6 46.6907 Z\" fill=\"#000000\" fill-rule=\"evenodd\" fill-opacity=\"1\" /><path clip-path=\"url(#clip840)\" d=\"M1439.24 34.1734 Q1437.99 33.4443 1436.49 33.1202 Q1435.03 32.7556 1433.25 32.7556 Q1426.93 32.7556 1423.53 36.8875 Q1420.17 40.9789 1420.17 48.6757 L1420.17 72.576 L1412.67 72.576 L1412.67 27.2059 L1420.17 27.2059 L1420.17 34.2544 Q1422.51 30.1225 1426.28 28.1376 Q1430.05 26.1121 1435.44 26.1121 Q1436.21 26.1121 1437.14 26.2337 Q1438.07 26.3147 1439.2 26.5172 L1439.24 34.1734 Z\" fill=\"#000000\" fill-rule=\"evenodd\" fill-opacity=\"1\" /><path clip-path=\"url(#clip840)\" d=\"M1447.06 27.2059 L1454.52 27.2059 L1454.52 72.576 L1447.06 72.576 L1447.06 27.2059 M1447.06 9.54393 L1454.52 9.54393 L1454.52 18.9825 L1447.06 18.9825 L1447.06 9.54393 Z\" fill=\"#000000\" fill-rule=\"evenodd\" fill-opacity=\"1\" /><path clip-path=\"url(#clip840)\" d=\"M1490.73 49.7694 Q1481.7 49.7694 1478.21 51.8354 Q1474.73 53.9013 1474.73 58.8839 Q1474.73 62.8538 1477.32 65.2034 Q1479.96 67.5124 1484.45 67.5124 Q1490.65 67.5124 1494.38 63.1374 Q1498.15 58.7219 1498.15 51.4303 L1498.15 49.7694 L1490.73 49.7694 M1505.6 46.6907 L1505.6 72.576 L1498.15 72.576 L1498.15 65.6895 Q1495.59 69.8214 1491.79 71.8063 Q1487.98 73.7508 1482.47 73.7508 Q1475.5 73.7508 1471.37 69.8619 Q1467.28 65.9325 1467.28 59.3701 Q1467.28 51.7138 1472.38 47.825 Q1477.53 43.9361 1487.69 43.9361 L1498.15 43.9361 L1498.15 43.2069 Q1498.15 38.0623 1494.74 35.2672 Q1491.38 32.4315 1485.26 32.4315 Q1481.37 32.4315 1477.69 33.3632 Q1474 34.295 1470.6 36.1584 L1470.6 29.2718 Q1474.69 27.692 1478.54 26.9223 Q1482.39 26.1121 1486.03 26.1121 Q1495.88 26.1121 1500.74 31.2163 Q1505.6 36.3204 1505.6 46.6907 Z\" fill=\"#000000\" fill-rule=\"evenodd\" fill-opacity=\"1\" /><path clip-path=\"url(#clip840)\" d=\"M1528.32 14.324 L1528.32 27.2059 L1543.68 27.2059 L1543.68 32.9987 L1528.32 32.9987 L1528.32 57.6282 Q1528.32 63.1779 1529.82 64.7578 Q1531.36 66.3376 1536.02 66.3376 L1543.68 66.3376 L1543.68 72.576 L1536.02 72.576 Q1527.39 72.576 1524.11 69.3758 Q1520.83 66.1351 1520.83 57.6282 L1520.83 32.9987 L1515.36 32.9987 L1515.36 27.2059 L1520.83 27.2059 L1520.83 14.324 L1528.32 14.324 Z\" fill=\"#000000\" fill-rule=\"evenodd\" fill-opacity=\"1\" /><path clip-path=\"url(#clip840)\" d=\"M1592.29 48.0275 L1592.29 51.6733 L1558.02 51.6733 Q1558.5 59.3701 1562.64 63.421 Q1566.81 67.4314 1574.22 67.4314 Q1578.52 67.4314 1582.53 66.3781 Q1586.58 65.3249 1590.55 63.2184 L1590.55 70.267 Q1586.54 71.9684 1582.32 72.8596 Q1578.11 73.7508 1573.78 73.7508 Q1562.92 73.7508 1556.56 67.4314 Q1550.24 61.1119 1550.24 50.3365 Q1550.24 39.1965 1556.24 32.6746 Q1562.27 26.1121 1572.48 26.1121 Q1581.63 26.1121 1586.94 32.0264 Q1592.29 37.9003 1592.29 48.0275 M1584.83 45.84 Q1584.75 39.7232 1581.39 36.0774 Q1578.07 32.4315 1572.56 32.4315 Q1566.32 32.4315 1562.55 35.9558 Q1558.83 39.4801 1558.26 45.8805 L1584.83 45.84 Z\" fill=\"#000000\" fill-rule=\"evenodd\" fill-opacity=\"1\" /><path clip-path=\"url(#clip840)\" d=\"M1633.45 28.5427 L1633.45 35.5912 Q1630.29 33.9709 1626.88 33.1607 Q1623.48 32.3505 1619.83 32.3505 Q1614.28 32.3505 1611.49 34.0519 Q1608.73 35.7533 1608.73 39.156 Q1608.73 41.7486 1610.72 43.2475 Q1612.7 44.7058 1618.7 46.0426 L1621.25 46.6097 Q1629.19 48.3111 1632.51 51.4303 Q1635.88 54.509 1635.88 60.0587 Q1635.88 66.3781 1630.85 70.0644 Q1625.87 73.7508 1617.12 73.7508 Q1613.47 73.7508 1609.5 73.0216 Q1605.58 72.3329 1601.2 70.9151 L1601.2 63.2184 Q1605.33 65.3654 1609.34 66.4591 Q1613.35 67.5124 1617.28 67.5124 Q1622.55 67.5124 1625.38 65.73 Q1628.22 63.9071 1628.22 60.6258 Q1628.22 57.5877 1626.15 55.9673 Q1624.13 54.3469 1617.2 52.8481 L1614.61 52.2405 Q1607.68 50.7821 1604.6 47.7845 Q1601.52 44.7463 1601.52 39.4801 Q1601.52 33.0797 1606.06 29.5959 Q1610.6 26.1121 1618.94 26.1121 Q1623.07 26.1121 1626.72 26.7198 Q1630.37 27.3274 1633.45 28.5427 Z\" fill=\"#000000\" fill-rule=\"evenodd\" fill-opacity=\"1\" /><path clip-path=\"url(#clip842)\" d=\"\n",
       "M262.363 1019.26 L262.363 1447.87 L533.911 1447.87 L533.911 1019.26 L262.363 1019.26 L262.363 1019.26  Z\n",
       "  \" fill=\"#009af9\" fill-rule=\"evenodd\" fill-opacity=\"1\"/>\n",
       "<polyline clip-path=\"url(#clip842)\" style=\"stroke:#000000; stroke-linecap:butt; stroke-linejoin:round; stroke-width:4; stroke-opacity:1; fill:none\" points=\"\n",
       "  262.363,1019.26 262.363,1447.87 533.911,1447.87 533.911,1019.26 262.363,1019.26 \n",
       "  \"/>\n",
       "<path clip-path=\"url(#clip842)\" d=\"\n",
       "M601.798 162.047 L601.798 1447.87 L873.347 1447.87 L873.347 162.047 L601.798 162.047 L601.798 162.047  Z\n",
       "  \" fill=\"#009af9\" fill-rule=\"evenodd\" fill-opacity=\"1\"/>\n",
       "<polyline clip-path=\"url(#clip842)\" style=\"stroke:#000000; stroke-linecap:butt; stroke-linejoin:round; stroke-width:4; stroke-opacity:1; fill:none\" points=\"\n",
       "  601.798,162.047 601.798,1447.87 873.347,1447.87 873.347,162.047 601.798,162.047 \n",
       "  \"/>\n",
       "<path clip-path=\"url(#clip842)\" d=\"\n",
       "M941.234 247.769 L941.234 1447.87 L1212.78 1447.87 L1212.78 247.769 L941.234 247.769 L941.234 247.769  Z\n",
       "  \" fill=\"#009af9\" fill-rule=\"evenodd\" fill-opacity=\"1\"/>\n",
       "<polyline clip-path=\"url(#clip842)\" style=\"stroke:#000000; stroke-linecap:butt; stroke-linejoin:round; stroke-width:4; stroke-opacity:1; fill:none\" points=\"\n",
       "  941.234,247.769 941.234,1447.87 1212.78,1447.87 1212.78,247.769 941.234,247.769 \n",
       "  \"/>\n",
       "<path clip-path=\"url(#clip842)\" d=\"\n",
       "M1280.67 376.351 L1280.67 1447.87 L1552.22 1447.87 L1552.22 376.351 L1280.67 376.351 L1280.67 376.351  Z\n",
       "  \" fill=\"#009af9\" fill-rule=\"evenodd\" fill-opacity=\"1\"/>\n",
       "<polyline clip-path=\"url(#clip842)\" style=\"stroke:#000000; stroke-linecap:butt; stroke-linejoin:round; stroke-width:4; stroke-opacity:1; fill:none\" points=\"\n",
       "  1280.67,376.351 1280.67,1447.87 1552.22,1447.87 1552.22,376.351 1280.67,376.351 \n",
       "  \"/>\n",
       "<path clip-path=\"url(#clip842)\" d=\"\n",
       "M1620.1 1233.57 L1620.1 1447.87 L1891.65 1447.87 L1891.65 1233.57 L1620.1 1233.57 L1620.1 1233.57  Z\n",
       "  \" fill=\"#009af9\" fill-rule=\"evenodd\" fill-opacity=\"1\"/>\n",
       "<polyline clip-path=\"url(#clip842)\" style=\"stroke:#000000; stroke-linecap:butt; stroke-linejoin:round; stroke-width:4; stroke-opacity:1; fill:none\" points=\"\n",
       "  1620.1,1233.57 1620.1,1447.87 1891.65,1447.87 1891.65,1233.57 1620.1,1233.57 \n",
       "  \"/>\n",
       "<path clip-path=\"url(#clip842)\" d=\"\n",
       "M1959.54 1362.15 L1959.54 1447.87 L2231.09 1447.87 L2231.09 1362.15 L1959.54 1362.15 L1959.54 1362.15  Z\n",
       "  \" fill=\"#009af9\" fill-rule=\"evenodd\" fill-opacity=\"1\"/>\n",
       "<polyline clip-path=\"url(#clip842)\" style=\"stroke:#000000; stroke-linecap:butt; stroke-linejoin:round; stroke-width:4; stroke-opacity:1; fill:none\" points=\"\n",
       "  1959.54,1362.15 1959.54,1447.87 2231.09,1447.87 2231.09,1362.15 1959.54,1362.15 \n",
       "  \"/>\n",
       "<circle clip-path=\"url(#clip842)\" style=\"fill:#009af9; stroke:none; fill-opacity:0\" cx=\"398.137\" cy=\"1019.26\" r=\"2\"/>\n",
       "<circle clip-path=\"url(#clip842)\" style=\"fill:#009af9; stroke:none; fill-opacity:0\" cx=\"737.572\" cy=\"162.047\" r=\"2\"/>\n",
       "<circle clip-path=\"url(#clip842)\" style=\"fill:#009af9; stroke:none; fill-opacity:0\" cx=\"1077.01\" cy=\"247.769\" r=\"2\"/>\n",
       "<circle clip-path=\"url(#clip842)\" style=\"fill:#009af9; stroke:none; fill-opacity:0\" cx=\"1416.44\" cy=\"376.351\" r=\"2\"/>\n",
       "<circle clip-path=\"url(#clip842)\" style=\"fill:#009af9; stroke:none; fill-opacity:0\" cx=\"1755.88\" cy=\"1233.57\" r=\"2\"/>\n",
       "<circle clip-path=\"url(#clip842)\" style=\"fill:#009af9; stroke:none; fill-opacity:0\" cx=\"2095.31\" cy=\"1362.15\" r=\"2\"/>\n",
       "</svg>\n"
      ]
     },
     "metadata": {},
     "output_type": "display_data"
    }
   ],
   "source": [
    "using Plots; Plots.gr()\n",
    "using StatsPlots\n",
    "@df tab11 Plots.bar(:y, :count, \n",
    "    title=\"Poisson(2) Variates\", \n",
    "    xticks=0:7,\n",
    "    legend=false)"
   ]
  },
  {
   "cell_type": "code",
   "execution_count": 18,
   "metadata": {},
   "outputs": [
    {
     "data": {
      "image/png": "[encoded data removed]",
      "image/svg+xml": "<?xml version=\"1.0\" encoding=\"utf-8\"?>\n<svg xmlns=\"http://www.w3.org/2000/svg\" xmlns:xlink=\"http://www.w3.org/1999/xlink\" width=\"600\" height=\"400\" viewBox=\"0 0 2400 1600\">\n<defs>\n  <clipPath id=\"clip880\">\n    <rect x=\"0\" y=\"0\" width=\"2400\" height=\"1600\"/>\n  </clipPath>\n</defs>\n<path clip-path=\"url(#clip880)\" d=\"\nM0 1600 L2400 1600 L2400 0 L0 0  Z\n  \" fill=\"#ffffff\" fill-rule=\"evenodd\" fill-opacity=\"1\"/>\n<defs>\n  <clipPath id=\"clip881\">\n    <rect x=\"480\" y=\"0\" width=\"1681\" height=\"1600\"/>\n  </clipPath>\n</defs>\n<path clip-path=\"url(#clip880)\" d=\"\nM141.853 1486.45 L2352.76 1486.45 L2352.76 47.2441 L141.853 47.2441  Z\n  \" fill=\"#ffffff\" fill-rule=\"evenodd\" fill-opacity=\"1\"/>\n<defs>\n  <clipPath id=\"clip882\">\n    <rect x=\"141\" y=\"47\" width=\"2212\" height=\"1440\"/>\n  </clipPath>\n</defs>\n<polyline clip-path=\"url(#clip882)\" style=\"stroke:#000000; stroke-linecap:butt; stroke-linejoin:round; stroke-width:2; stroke-opacity:0.1; fill:none\" points=\"\n  333.731,1486.45 333.731,47.2441 \n  \"/>\n<polyline clip-path=\"url(#clip882)\" style=\"stroke:#000000; stroke-linecap:butt; stroke-linejoin:round; stroke-width:2; stroke-opacity:0.1; fill:none\" points=\"\n  755.38,1486.45 755.38,47.2441 \n  \"/>\n<polyline clip-path=\"url(#clip882)\" style=\"stroke:#000000; stroke-linecap:butt; stroke-linejoin:round; stroke-width:2; stroke-opacity:0.1; fill:none\" points=\"\n  1177.03,1486.45 1177.03,47.2441 \n  \"/>\n<polyline clip-path=\"url(#clip882)\" style=\"stroke:#000000; stroke-linecap:butt; stroke-linejoin:round; stroke-width:2; stroke-opacity:0.1; fill:none\" points=\"\n  1598.68,1486.45 1598.68,47.2441 \n  \"/>\n<polyline clip-path=\"url(#clip882)\" style=\"stroke:#000000; stroke-linecap:butt; stroke-linejoin:round; stroke-width:2; stroke-opacity:0.1; fill:none\" points=\"\n  2020.33,1486.45 2020.33,47.2441 \n  \"/>\n<polyline clip-path=\"url(#clip880)\" style=\"stroke:#000000; stroke-linecap:butt; stroke-linejoin:round; stroke-width:4; stroke-opacity:1; fill:none\" points=\"\n  141.853,1486.45 2352.76,1486.45 \n  \"/>\n<polyline clip-path=\"url(#clip880)\" style=\"stroke:#000000; stroke-linecap:butt; stroke-linejoin:round; stroke-width:4; stroke-opacity:1; fill:none\" points=\"\n  333.731,1486.45 333.731,1467.55 \n  \"/>\n<polyline clip-path=\"url(#clip880)\" style=\"stroke:#000000; stroke-linecap:butt; stroke-linejoin:round; stroke-width:4; stroke-opacity:1; fill:none\" points=\"\n  755.38,1486.45 755.38,1467.55 \n  \"/>\n<polyline clip-path=\"url(#clip880)\" style=\"stroke:#000000; stroke-linecap:butt; stroke-linejoin:round; stroke-width:4; stroke-opacity:1; fill:none\" points=\"\n  1177.03,1486.45 1177.03,1467.55 \n  \"/>\n<polyline clip-path=\"url(#clip880)\" style=\"stroke:#000000; stroke-linecap:butt; stroke-linejoin:round; stroke-width:4; stroke-opacity:1; fill:none\" points=\"\n  1598.68,1486.45 1598.68,1467.55 \n  \"/>\n<polyline clip-path=\"url(#clip880)\" style=\"stroke:#000000; stroke-linecap:butt; stroke-linejoin:round; stroke-width:4; stroke-opacity:1; fill:none\" points=\"\n  2020.33,1486.45 2020.33,1467.55 \n  \"/>\n<path clip-path=\"url(#clip880)\" d=\"M337.979 1530.21 Q341.336 1530.93 343.211 1533.2 Q345.109 1535.47 345.109 1538.8 Q345.109 1543.92 341.59 1546.72 Q338.072 1549.52 331.59 1549.52 Q329.414 1549.52 327.099 1549.08 Q324.808 1548.66 322.354 1547.81 L322.354 1543.29 Q324.299 1544.43 326.613 1545.01 Q328.928 1545.58 331.451 1545.58 Q335.849 1545.58 338.141 1543.85 Q340.456 1542.11 340.456 1538.8 Q340.456 1535.75 338.303 1534.03 Q336.174 1532.3 332.354 1532.3 L328.326 1532.3 L328.326 1528.45 L332.539 1528.45 Q335.988 1528.45 337.817 1527.09 Q339.646 1525.7 339.646 1523.11 Q339.646 1520.45 337.748 1519.03 Q335.873 1517.6 332.354 1517.6 Q330.433 1517.6 328.234 1518.01 Q326.035 1518.43 323.396 1519.31 L323.396 1515.14 Q326.058 1514.4 328.373 1514.03 Q330.711 1513.66 332.771 1513.66 Q338.095 1513.66 341.197 1516.09 Q344.298 1518.5 344.298 1522.62 Q344.298 1525.49 342.655 1527.48 Q341.011 1529.45 337.979 1530.21 Z\" fill=\"#000000\" fill-rule=\"evenodd\" fill-opacity=\"1\" /><path clip-path=\"url(#clip880)\" d=\"M755.786 1529.7 Q752.637 1529.7 750.786 1531.86 Q748.957 1534.01 748.957 1537.76 Q748.957 1541.49 750.786 1543.66 Q752.637 1545.82 755.786 1545.82 Q758.934 1545.82 760.762 1543.66 Q762.614 1541.49 762.614 1537.76 Q762.614 1534.01 760.762 1531.86 Q758.934 1529.7 755.786 1529.7 M765.068 1515.05 L765.068 1519.31 Q763.309 1518.48 761.503 1518.04 Q759.721 1517.6 757.961 1517.6 Q753.332 1517.6 750.878 1520.72 Q748.448 1523.85 748.1 1530.17 Q749.466 1528.15 751.526 1527.09 Q753.587 1526 756.063 1526 Q761.272 1526 764.281 1529.17 Q767.313 1532.32 767.313 1537.76 Q767.313 1543.08 764.165 1546.3 Q761.017 1549.52 755.786 1549.52 Q749.79 1549.52 746.619 1544.94 Q743.448 1540.33 743.448 1531.6 Q743.448 1523.41 747.337 1518.55 Q751.225 1513.66 757.776 1513.66 Q759.536 1513.66 761.318 1514.01 Q763.123 1514.36 765.068 1515.05 Z\" fill=\"#000000\" fill-rule=\"evenodd\" fill-opacity=\"1\" /><path clip-path=\"url(#clip880)\" d=\"M1167.33 1548.13 L1167.33 1543.87 Q1169.09 1544.7 1170.9 1545.14 Q1172.7 1545.58 1174.44 1545.58 Q1179.07 1545.58 1181.5 1542.48 Q1183.95 1539.36 1184.3 1533.01 Q1182.96 1535.01 1180.9 1536.07 Q1178.84 1537.13 1176.34 1537.13 Q1171.15 1537.13 1168.12 1534.01 Q1165.11 1530.86 1165.11 1525.42 Q1165.11 1520.1 1168.26 1516.88 Q1171.4 1513.66 1176.64 1513.66 Q1182.63 1513.66 1185.78 1518.27 Q1188.95 1522.85 1188.95 1531.6 Q1188.95 1539.77 1185.06 1544.66 Q1181.2 1549.52 1174.65 1549.52 Q1172.89 1549.52 1171.08 1549.17 Q1169.27 1548.82 1167.33 1548.13 M1176.64 1533.48 Q1179.78 1533.48 1181.61 1531.32 Q1183.46 1529.17 1183.46 1525.42 Q1183.46 1521.7 1181.61 1519.54 Q1179.78 1517.37 1176.64 1517.37 Q1173.49 1517.37 1171.64 1519.54 Q1169.81 1521.7 1169.81 1525.42 Q1169.81 1529.17 1171.64 1531.32 Q1173.49 1533.48 1176.64 1533.48 Z\" fill=\"#000000\" fill-rule=\"evenodd\" fill-opacity=\"1\" /><path clip-path=\"url(#clip880)\" d=\"M1574.16 1544.91 L1581.8 1544.91 L1581.8 1518.55 L1573.49 1520.21 L1573.49 1515.95 L1581.76 1514.29 L1586.43 1514.29 L1586.43 1544.91 L1594.07 1544.91 L1594.07 1548.85 L1574.16 1548.85 L1574.16 1544.91 Z\" fill=\"#000000\" fill-rule=\"evenodd\" fill-opacity=\"1\" /><path clip-path=\"url(#clip880)\" d=\"M1607.54 1544.91 L1623.86 1544.91 L1623.86 1548.85 L1601.92 1548.85 L1601.92 1544.91 Q1604.58 1542.16 1609.16 1537.53 Q1613.77 1532.88 1614.95 1531.53 Q1617.2 1529.01 1618.08 1527.27 Q1618.98 1525.51 1618.98 1523.82 Q1618.98 1521.07 1617.04 1519.33 Q1615.11 1517.6 1612.01 1517.6 Q1609.81 1517.6 1607.36 1518.36 Q1604.93 1519.13 1602.15 1520.68 L1602.15 1515.95 Q1604.97 1514.82 1607.43 1514.24 Q1609.88 1513.66 1611.92 1513.66 Q1617.29 1513.66 1620.48 1516.35 Q1623.68 1519.03 1623.68 1523.52 Q1623.68 1525.65 1622.87 1527.57 Q1622.08 1529.47 1619.97 1532.07 Q1619.4 1532.74 1616.29 1535.95 Q1613.19 1539.15 1607.54 1544.91 Z\" fill=\"#000000\" fill-rule=\"evenodd\" fill-opacity=\"1\" /><path clip-path=\"url(#clip880)\" d=\"M1995.51 1544.91 L2003.15 1544.91 L2003.15 1518.55 L1994.84 1520.21 L1994.84 1515.95 L2003.11 1514.29 L2007.78 1514.29 L2007.78 1544.91 L2015.42 1544.91 L2015.42 1548.85 L1995.51 1548.85 L1995.51 1544.91 Z\" fill=\"#000000\" fill-rule=\"evenodd\" fill-opacity=\"1\" /><path clip-path=\"url(#clip880)\" d=\"M2024.91 1514.29 L2043.27 1514.29 L2043.27 1518.22 L2029.19 1518.22 L2029.19 1526.7 Q2030.21 1526.35 2031.23 1526.19 Q2032.25 1526 2033.27 1526 Q2039.05 1526 2042.43 1529.17 Q2045.81 1532.34 2045.81 1537.76 Q2045.81 1543.34 2042.34 1546.44 Q2038.87 1549.52 2032.55 1549.52 Q2030.37 1549.52 2028.11 1549.15 Q2025.86 1548.78 2023.45 1548.04 L2023.45 1543.34 Q2025.54 1544.47 2027.76 1545.03 Q2029.98 1545.58 2032.46 1545.58 Q2036.46 1545.58 2038.8 1543.48 Q2041.14 1541.37 2041.14 1537.76 Q2041.14 1534.15 2038.8 1532.04 Q2036.46 1529.94 2032.46 1529.94 Q2030.58 1529.94 2028.71 1530.35 Q2026.86 1530.77 2024.91 1531.65 L2024.91 1514.29 Z\" fill=\"#000000\" fill-rule=\"evenodd\" fill-opacity=\"1\" /><polyline clip-path=\"url(#clip882)\" style=\"stroke:#000000; stroke-linecap:butt; stroke-linejoin:round; stroke-width:2; stroke-opacity:0.1; fill:none\" points=\"\n  141.853,1445.72 2352.76,1445.72 \n  \"/>\n<polyline clip-path=\"url(#clip882)\" style=\"stroke:#000000; stroke-linecap:butt; stroke-linejoin:round; stroke-width:2; stroke-opacity:0.1; fill:none\" points=\"\n  141.853,1165.77 2352.76,1165.77 \n  \"/>\n<polyline clip-path=\"url(#clip882)\" style=\"stroke:#000000; stroke-linecap:butt; stroke-linejoin:round; stroke-width:2; stroke-opacity:0.1; fill:none\" points=\"\n  141.853,885.823 2352.76,885.823 \n  \"/>\n<polyline clip-path=\"url(#clip882)\" style=\"stroke:#000000; stroke-linecap:butt; stroke-linejoin:round; stroke-width:2; stroke-opacity:0.1; fill:none\" points=\"\n  141.853,605.877 2352.76,605.877 \n  \"/>\n<polyline clip-path=\"url(#clip882)\" style=\"stroke:#000000; stroke-linecap:butt; stroke-linejoin:round; stroke-width:2; stroke-opacity:0.1; fill:none\" points=\"\n  141.853,325.931 2352.76,325.931 \n  \"/>\n<polyline clip-path=\"url(#clip880)\" style=\"stroke:#000000; stroke-linecap:butt; stroke-linejoin:round; stroke-width:4; stroke-opacity:1; fill:none\" points=\"\n  141.853,1486.45 141.853,47.2441 \n  \"/>\n<polyline clip-path=\"url(#clip880)\" style=\"stroke:#000000; stroke-linecap:butt; stroke-linejoin:round; stroke-width:4; stroke-opacity:1; fill:none\" points=\"\n  141.853,1445.72 160.751,1445.72 \n  \"/>\n<polyline clip-path=\"url(#clip880)\" style=\"stroke:#000000; stroke-linecap:butt; stroke-linejoin:round; stroke-width:4; stroke-opacity:1; fill:none\" points=\"\n  141.853,1165.77 160.751,1165.77 \n  \"/>\n<polyline clip-path=\"url(#clip880)\" style=\"stroke:#000000; stroke-linecap:butt; stroke-linejoin:round; stroke-width:4; stroke-opacity:1; fill:none\" points=\"\n  141.853,885.823 160.751,885.823 \n  \"/>\n<polyline clip-path=\"url(#clip880)\" style=\"stroke:#000000; stroke-linecap:butt; stroke-linejoin:round; stroke-width:4; stroke-opacity:1; fill:none\" points=\"\n  141.853,605.877 160.751,605.877 \n  \"/>\n<polyline clip-path=\"url(#clip880)\" style=\"stroke:#000000; stroke-linecap:butt; stroke-linejoin:round; stroke-width:4; stroke-opacity:1; fill:none\" points=\"\n  141.853,325.931 160.751,325.931 \n  \"/>\n<path clip-path=\"url(#clip880)\" d=\"M93.9086 1431.51 Q90.2975 1431.51 88.4688 1435.08 Q86.6632 1438.62 86.6632 1445.75 Q86.6632 1452.86 88.4688 1456.42 Q90.2975 1459.96 93.9086 1459.96 Q97.5428 1459.96 99.3483 1456.42 Q101.177 1452.86 101.177 1445.75 Q101.177 1438.62 99.3483 1435.08 Q97.5428 1431.51 93.9086 1431.51 M93.9086 1427.81 Q99.7187 1427.81 102.774 1432.42 Q105.853 1437 105.853 1445.75 Q105.853 1454.48 102.774 1459.08 Q99.7187 1463.67 93.9086 1463.67 Q88.0984 1463.67 85.0197 1459.08 Q81.9642 1454.48 81.9642 1445.75 Q81.9642 1437 85.0197 1432.42 Q88.0984 1427.81 93.9086 1427.81 Z\" fill=\"#000000\" fill-rule=\"evenodd\" fill-opacity=\"1\" /><path clip-path=\"url(#clip880)\" d=\"M57.7745 1179.11 L74.0939 1179.11 L74.0939 1183.05 L52.1495 1183.05 L52.1495 1179.11 Q54.8115 1176.36 59.3949 1171.73 Q64.0013 1167.08 65.1819 1165.73 Q67.4272 1163.21 68.3068 1161.48 Q69.2096 1159.72 69.2096 1158.03 Q69.2096 1155.27 67.2652 1153.54 Q65.3439 1151.8 62.2421 1151.8 Q60.043 1151.8 57.5893 1152.56 Q55.1588 1153.33 52.381 1154.88 L52.381 1150.16 Q55.2051 1149.02 57.6588 1148.44 Q60.1124 1147.86 62.1495 1147.86 Q67.5198 1147.86 70.7142 1150.55 Q73.9087 1153.23 73.9087 1157.73 Q73.9087 1159.86 73.0985 1161.78 Q72.3115 1163.67 70.205 1166.27 Q69.6263 1166.94 66.5245 1170.16 Q63.4226 1173.35 57.7745 1179.11 Z\" fill=\"#000000\" fill-rule=\"evenodd\" fill-opacity=\"1\" /><path clip-path=\"url(#clip880)\" d=\"M93.9086 1151.57 Q90.2975 1151.57 88.4688 1155.13 Q86.6632 1158.67 86.6632 1165.8 Q86.6632 1172.91 88.4688 1176.48 Q90.2975 1180.02 93.9086 1180.02 Q97.5428 1180.02 99.3483 1176.48 Q101.177 1172.91 101.177 1165.8 Q101.177 1158.67 99.3483 1155.13 Q97.5428 1151.57 93.9086 1151.57 M93.9086 1147.86 Q99.7187 1147.86 102.774 1152.47 Q105.853 1157.05 105.853 1165.8 Q105.853 1174.53 102.774 1179.14 Q99.7187 1183.72 93.9086 1183.72 Q88.0984 1183.72 85.0197 1179.14 Q81.9642 1174.53 81.9642 1165.8 Q81.9642 1157.05 85.0197 1152.47 Q88.0984 1147.86 93.9086 1147.86 Z\" fill=\"#000000\" fill-rule=\"evenodd\" fill-opacity=\"1\" /><path clip-path=\"url(#clip880)\" d=\"M66.5939 872.617 L54.7884 891.066 L66.5939 891.066 L66.5939 872.617 M65.367 868.543 L71.2466 868.543 L71.2466 891.066 L76.1772 891.066 L76.1772 894.955 L71.2466 894.955 L71.2466 903.103 L66.5939 903.103 L66.5939 894.955 L50.9921 894.955 L50.9921 890.441 L65.367 868.543 Z\" fill=\"#000000\" fill-rule=\"evenodd\" fill-opacity=\"1\" /><path clip-path=\"url(#clip880)\" d=\"M93.9086 871.622 Q90.2975 871.622 88.4688 875.187 Q86.6632 878.728 86.6632 885.858 Q86.6632 892.964 88.4688 896.529 Q90.2975 900.071 93.9086 900.071 Q97.5428 900.071 99.3483 896.529 Q101.177 892.964 101.177 885.858 Q101.177 878.728 99.3483 875.187 Q97.5428 871.622 93.9086 871.622 M93.9086 867.918 Q99.7187 867.918 102.774 872.525 Q105.853 877.108 105.853 885.858 Q105.853 894.585 102.774 899.191 Q99.7187 903.774 93.9086 903.774 Q88.0984 903.774 85.0197 899.191 Q81.9642 894.585 81.9642 885.858 Q81.9642 877.108 85.0197 872.525 Q88.0984 867.918 93.9086 867.918 Z\" fill=\"#000000\" fill-rule=\"evenodd\" fill-opacity=\"1\" /><path clip-path=\"url(#clip880)\" d=\"M64.3254 604.013 Q61.1773 604.013 59.3254 606.166 Q57.4967 608.319 57.4967 612.069 Q57.4967 615.796 59.3254 617.972 Q61.1773 620.124 64.3254 620.124 Q67.4735 620.124 69.3022 617.972 Q71.1541 615.796 71.1541 612.069 Q71.1541 608.319 69.3022 606.166 Q67.4735 604.013 64.3254 604.013 M73.6077 589.361 L73.6077 593.62 Q71.8485 592.787 70.0429 592.347 Q68.2606 591.907 66.5013 591.907 Q61.8717 591.907 59.418 595.032 Q56.9875 598.157 56.6402 604.476 Q58.006 602.463 60.0662 601.398 Q62.1263 600.31 64.6032 600.31 Q69.8115 600.31 72.8207 603.481 Q75.8531 606.629 75.8531 612.069 Q75.8531 617.393 72.705 620.611 Q69.5568 623.828 64.3254 623.828 Q58.33 623.828 55.1588 619.245 Q51.9875 614.638 51.9875 605.912 Q51.9875 597.717 55.8764 592.856 Q59.7652 587.972 66.3161 587.972 Q68.0754 587.972 69.8578 588.319 Q71.6633 588.666 73.6077 589.361 Z\" fill=\"#000000\" fill-rule=\"evenodd\" fill-opacity=\"1\" /><path clip-path=\"url(#clip880)\" d=\"M93.9086 591.676 Q90.2975 591.676 88.4688 595.24 Q86.6632 598.782 86.6632 605.912 Q86.6632 613.018 88.4688 616.583 Q90.2975 620.124 93.9086 620.124 Q97.5428 620.124 99.3483 616.583 Q101.177 613.018 101.177 605.912 Q101.177 598.782 99.3483 595.24 Q97.5428 591.676 93.9086 591.676 M93.9086 587.972 Q99.7187 587.972 102.774 592.578 Q105.853 597.162 105.853 605.912 Q105.853 614.638 102.774 619.245 Q99.7187 623.828 93.9086 623.828 Q88.0984 623.828 85.0197 619.245 Q81.9642 614.638 81.9642 605.912 Q81.9642 597.162 85.0197 592.578 Q88.0984 587.972 93.9086 587.972 Z\" fill=\"#000000\" fill-rule=\"evenodd\" fill-opacity=\"1\" /><path clip-path=\"url(#clip880)\" d=\"M63.7467 326.799 Q60.4134 326.799 58.4921 328.581 Q56.5939 330.363 56.5939 333.488 Q56.5939 336.613 58.4921 338.396 Q60.4134 340.178 63.7467 340.178 Q67.08 340.178 69.0013 338.396 Q70.9226 336.59 70.9226 333.488 Q70.9226 330.363 69.0013 328.581 Q67.1032 326.799 63.7467 326.799 M59.0708 324.808 Q56.0615 324.067 54.3717 322.007 Q52.7051 319.947 52.7051 316.984 Q52.7051 312.84 55.6449 310.433 Q58.6078 308.026 63.7467 308.026 Q68.9087 308.026 71.8485 310.433 Q74.7883 312.84 74.7883 316.984 Q74.7883 319.947 73.0985 322.007 Q71.4318 324.067 68.4457 324.808 Q71.8253 325.595 73.7003 327.887 Q75.5985 330.178 75.5985 333.488 Q75.5985 338.512 72.5198 341.197 Q69.4642 343.882 63.7467 343.882 Q58.0291 343.882 54.9504 341.197 Q51.8949 338.512 51.8949 333.488 Q51.8949 330.178 53.793 327.887 Q55.6912 325.595 59.0708 324.808 M57.3578 317.424 Q57.3578 320.109 59.0245 321.614 Q60.7143 323.118 63.7467 323.118 Q66.7559 323.118 68.4457 321.614 Q70.1587 320.109 70.1587 317.424 Q70.1587 314.739 68.4457 313.234 Q66.7559 311.729 63.7467 311.729 Q60.7143 311.729 59.0245 313.234 Q57.3578 314.739 57.3578 317.424 Z\" fill=\"#000000\" fill-rule=\"evenodd\" fill-opacity=\"1\" /><path clip-path=\"url(#clip880)\" d=\"M93.9086 311.729 Q90.2975 311.729 88.4688 315.294 Q86.6632 318.836 86.6632 325.965 Q86.6632 333.072 88.4688 336.637 Q90.2975 340.178 93.9086 340.178 Q97.5428 340.178 99.3483 336.637 Q101.177 333.072 101.177 325.965 Q101.177 318.836 99.3483 315.294 Q97.5428 311.729 93.9086 311.729 M93.9086 308.026 Q99.7187 308.026 102.774 312.632 Q105.853 317.215 105.853 325.965 Q105.853 334.692 102.774 339.299 Q99.7187 343.882 93.9086 343.882 Q88.0984 343.882 85.0197 339.299 Q81.9642 334.692 81.9642 325.965 Q81.9642 317.215 85.0197 312.632 Q88.0984 308.026 93.9086 308.026 Z\" fill=\"#000000\" fill-rule=\"evenodd\" fill-opacity=\"1\" /><path clip-path=\"url(#clip882)\" d=\"\nM263.457 1431.72 L263.457 1445.72 L333.731 1445.72 L333.731 1431.72 L263.457 1431.72 L263.457 1431.72  Z\n  \" fill=\"#009af9\" fill-rule=\"evenodd\" fill-opacity=\"1\"/>\n<polyline clip-path=\"url(#clip882)\" style=\"stroke:#000000; stroke-linecap:butt; stroke-linejoin:round; stroke-width:4; stroke-opacity:1; fill:none\" points=\"\n  263.457,1431.72 263.457,1445.72 333.731,1445.72 333.731,1431.72 263.457,1431.72 \n  \"/>\n<path clip-path=\"url(#clip882)\" d=\"\nM333.731 1445.72 L333.731 1445.72 L404.006 1445.72 L404.006 1445.72 L333.731 1445.72 L333.731 1445.72  Z\n  \" fill=\"#009af9\" fill-rule=\"evenodd\" fill-opacity=\"1\"/>\n<polyline clip-path=\"url(#clip882)\" style=\"stroke:#000000; stroke-linecap:butt; stroke-linejoin:round; stroke-width:4; stroke-opacity:1; fill:none\" points=\"\n  333.731,1445.72 333.731,1445.72 404.006,1445.72 333.731,1445.72 \n  \"/>\n<path clip-path=\"url(#clip882)\" d=\"\nM404.006 1445.72 L404.006 1445.72 L474.281 1445.72 L474.281 1445.72 L404.006 1445.72 L404.006 1445.72  Z\n  \" fill=\"#009af9\" fill-rule=\"evenodd\" fill-opacity=\"1\"/>\n<polyline clip-path=\"url(#clip882)\" style=\"stroke:#000000; stroke-linecap:butt; stroke-linejoin:round; stroke-width:4; stroke-opacity:1; fill:none\" points=\"\n  404.006,1445.72 404.006,1445.72 474.281,1445.72 404.006,1445.72 \n  \"/>\n<path clip-path=\"url(#clip882)\" d=\"\nM474.281 1417.72 L474.281 1445.72 L544.556 1445.72 L544.556 1417.72 L474.281 1417.72 L474.281 1417.72  Z\n  \" fill=\"#009af9\" fill-rule=\"evenodd\" fill-opacity=\"1\"/>\n<polyline clip-path=\"url(#clip882)\" style=\"stroke:#000000; stroke-linecap:butt; stroke-linejoin:round; stroke-width:4; stroke-opacity:1; fill:none\" points=\"\n  474.281,1417.72 474.281,1445.72 544.556,1445.72 544.556,1417.72 474.281,1417.72 \n  \"/>\n<path clip-path=\"url(#clip882)\" d=\"\nM544.556 1445.72 L544.556 1445.72 L614.831 1445.72 L614.831 1445.72 L544.556 1445.72 L544.556 1445.72  Z\n  \" fill=\"#009af9\" fill-rule=\"evenodd\" fill-opacity=\"1\"/>\n<polyline clip-path=\"url(#clip882)\" style=\"stroke:#000000; stroke-linecap:butt; stroke-linejoin:round; stroke-width:4; stroke-opacity:1; fill:none\" points=\"\n  544.556,1445.72 544.556,1445.72 614.831,1445.72 544.556,1445.72 \n  \"/>\n<path clip-path=\"url(#clip882)\" d=\"\nM614.831 1361.73 L614.831 1445.72 L685.106 1445.72 L685.106 1361.73 L614.831 1361.73 L614.831 1361.73  Z\n  \" fill=\"#009af9\" fill-rule=\"evenodd\" fill-opacity=\"1\"/>\n<polyline clip-path=\"url(#clip882)\" style=\"stroke:#000000; stroke-linecap:butt; stroke-linejoin:round; stroke-width:4; stroke-opacity:1; fill:none\" points=\"\n  614.831,1361.73 614.831,1445.72 685.106,1445.72 685.106,1361.73 614.831,1361.73 \n  \"/>\n<path clip-path=\"url(#clip882)\" d=\"\nM685.106 1333.74 L685.106 1445.72 L755.38 1445.72 L755.38 1333.74 L685.106 1333.74 L685.106 1333.74  Z\n  \" fill=\"#009af9\" fill-rule=\"evenodd\" fill-opacity=\"1\"/>\n<polyline clip-path=\"url(#clip882)\" style=\"stroke:#000000; stroke-linecap:butt; stroke-linejoin:round; stroke-width:4; stroke-opacity:1; fill:none\" points=\"\n  685.106,1333.74 685.106,1445.72 755.38,1445.72 755.38,1333.74 685.106,1333.74 \n  \"/>\n<path clip-path=\"url(#clip882)\" d=\"\nM755.38 1165.77 L755.38 1445.72 L825.655 1445.72 L825.655 1165.77 L755.38 1165.77 L755.38 1165.77  Z\n  \" fill=\"#009af9\" fill-rule=\"evenodd\" fill-opacity=\"1\"/>\n<polyline clip-path=\"url(#clip882)\" style=\"stroke:#000000; stroke-linecap:butt; stroke-linejoin:round; stroke-width:4; stroke-opacity:1; fill:none\" points=\"\n  755.38,1165.77 755.38,1445.72 825.655,1445.72 825.655,1165.77 755.38,1165.77 \n  \"/>\n<path clip-path=\"url(#clip882)\" d=\"\nM825.655 1109.78 L825.655 1445.72 L895.93 1445.72 L895.93 1109.78 L825.655 1109.78 L825.655 1109.78  Z\n  \" fill=\"#009af9\" fill-rule=\"evenodd\" fill-opacity=\"1\"/>\n<polyline clip-path=\"url(#clip882)\" style=\"stroke:#000000; stroke-linecap:butt; stroke-linejoin:round; stroke-width:4; stroke-opacity:1; fill:none\" points=\"\n  825.655,1109.78 825.655,1445.72 895.93,1445.72 895.93,1109.78 825.655,1109.78 \n  \"/>\n<path clip-path=\"url(#clip882)\" d=\"\nM895.93 927.815 L895.93 1445.72 L966.205 1445.72 L966.205 927.815 L895.93 927.815 L895.93 927.815  Z\n  \" fill=\"#009af9\" fill-rule=\"evenodd\" fill-opacity=\"1\"/>\n<polyline clip-path=\"url(#clip882)\" style=\"stroke:#000000; stroke-linecap:butt; stroke-linejoin:round; stroke-width:4; stroke-opacity:1; fill:none\" points=\"\n  895.93,927.815 895.93,1445.72 966.205,1445.72 966.205,927.815 895.93,927.815 \n  \"/>\n<path clip-path=\"url(#clip882)\" d=\"\nM966.205 661.866 L966.205 1445.72 L1036.48 1445.72 L1036.48 661.866 L966.205 661.866 L966.205 661.866  Z\n  \" fill=\"#009af9\" fill-rule=\"evenodd\" fill-opacity=\"1\"/>\n<polyline clip-path=\"url(#clip882)\" style=\"stroke:#000000; stroke-linecap:butt; stroke-linejoin:round; stroke-width:4; stroke-opacity:1; fill:none\" points=\"\n  966.205,661.866 966.205,1445.72 1036.48,1445.72 1036.48,661.866 966.205,661.866 \n  \"/>\n<path clip-path=\"url(#clip882)\" d=\"\nM1036.48 591.88 L1036.48 1445.72 L1106.75 1445.72 L1106.75 591.88 L1036.48 591.88 L1036.48 591.88  Z\n  \" fill=\"#009af9\" fill-rule=\"evenodd\" fill-opacity=\"1\"/>\n<polyline clip-path=\"url(#clip882)\" style=\"stroke:#000000; stroke-linecap:butt; stroke-linejoin:round; stroke-width:4; stroke-opacity:1; fill:none\" points=\"\n  1036.48,591.88 1036.48,1445.72 1106.75,1445.72 1106.75,591.88 1036.48,591.88 \n  \"/>\n<path clip-path=\"url(#clip882)\" d=\"\nM1106.75 241.947 L1106.75 1445.72 L1177.03 1445.72 L1177.03 241.947 L1106.75 241.947 L1106.75 241.947  Z\n  \" fill=\"#009af9\" fill-rule=\"evenodd\" fill-opacity=\"1\"/>\n<polyline clip-path=\"url(#clip882)\" style=\"stroke:#000000; stroke-linecap:butt; stroke-linejoin:round; stroke-width:4; stroke-opacity:1; fill:none\" points=\"\n  1106.75,241.947 1106.75,1445.72 1177.03,1445.72 1177.03,241.947 1106.75,241.947 \n  \"/>\n<path clip-path=\"url(#clip882)\" d=\"\nM1177.03 283.939 L1177.03 1445.72 L1247.3 1445.72 L1247.3 283.939 L1177.03 283.939 L1177.03 283.939  Z\n  \" fill=\"#009af9\" fill-rule=\"evenodd\" fill-opacity=\"1\"/>\n<polyline clip-path=\"url(#clip882)\" style=\"stroke:#000000; stroke-linecap:butt; stroke-linejoin:round; stroke-width:4; stroke-opacity:1; fill:none\" points=\"\n  1177.03,283.939 1177.03,1445.72 1247.3,1445.72 1247.3,283.939 1177.03,283.939 \n  \"/>\n<path clip-path=\"url(#clip882)\" d=\"\nM1247.3 129.968 L1247.3 1445.72 L1317.58 1445.72 L1317.58 129.968 L1247.3 129.968 L1247.3 129.968  Z\n  \" fill=\"#009af9\" fill-rule=\"evenodd\" fill-opacity=\"1\"/>\n<polyline clip-path=\"url(#clip882)\" style=\"stroke:#000000; stroke-linecap:butt; stroke-linejoin:round; stroke-width:4; stroke-opacity:1; fill:none\" points=\"\n  1247.3,129.968 1247.3,1445.72 1317.58,1445.72 1317.58,129.968 1247.3,129.968 \n  \"/>\n<path clip-path=\"url(#clip882)\" d=\"\nM1317.58 87.9763 L1317.58 1445.72 L1387.85 1445.72 L1387.85 87.9763 L1317.58 87.9763 L1317.58 87.9763  Z\n  \" fill=\"#009af9\" fill-rule=\"evenodd\" fill-opacity=\"1\"/>\n<polyline clip-path=\"url(#clip882)\" style=\"stroke:#000000; stroke-linecap:butt; stroke-linejoin:round; stroke-width:4; stroke-opacity:1; fill:none\" points=\"\n  1317.58,87.9763 1317.58,1445.72 1387.85,1445.72 1387.85,87.9763 1317.58,87.9763 \n  \"/>\n<path clip-path=\"url(#clip882)\" d=\"\nM1387.85 129.968 L1387.85 1445.72 L1458.13 1445.72 L1458.13 129.968 L1387.85 129.968 L1387.85 129.968  Z\n  \" fill=\"#009af9\" fill-rule=\"evenodd\" fill-opacity=\"1\"/>\n<polyline clip-path=\"url(#clip882)\" style=\"stroke:#000000; stroke-linecap:butt; stroke-linejoin:round; stroke-width:4; stroke-opacity:1; fill:none\" points=\"\n  1387.85,129.968 1387.85,1445.72 1458.13,1445.72 1458.13,129.968 1387.85,129.968 \n  \"/>\n<path clip-path=\"url(#clip882)\" d=\"\nM1458.13 157.963 L1458.13 1445.72 L1528.4 1445.72 L1528.4 157.963 L1458.13 157.963 L1458.13 157.963  Z\n  \" fill=\"#009af9\" fill-rule=\"evenodd\" fill-opacity=\"1\"/>\n<polyline clip-path=\"url(#clip882)\" style=\"stroke:#000000; stroke-linecap:butt; stroke-linejoin:round; stroke-width:4; stroke-opacity:1; fill:none\" points=\"\n  1458.13,157.963 1458.13,1445.72 1528.4,1445.72 1528.4,157.963 1458.13,157.963 \n  \"/>\n<path clip-path=\"url(#clip882)\" d=\"\nM1528.4 395.917 L1528.4 1445.72 L1598.68 1445.72 L1598.68 395.917 L1528.4 395.917 L1528.4 395.917  Z\n  \" fill=\"#009af9\" fill-rule=\"evenodd\" fill-opacity=\"1\"/>\n<polyline clip-path=\"url(#clip882)\" style=\"stroke:#000000; stroke-linecap:butt; stroke-linejoin:round; stroke-width:4; stroke-opacity:1; fill:none\" points=\"\n  1528.4,395.917 1528.4,1445.72 1598.68,1445.72 1598.68,395.917 1528.4,395.917 \n  \"/>\n<path clip-path=\"url(#clip882)\" d=\"\nM1598.68 745.85 L1598.68 1445.72 L1668.95 1445.72 L1668.95 745.85 L1598.68 745.85 L1598.68 745.85  Z\n  \" fill=\"#009af9\" fill-rule=\"evenodd\" fill-opacity=\"1\"/>\n<polyline clip-path=\"url(#clip882)\" style=\"stroke:#000000; stroke-linecap:butt; stroke-linejoin:round; stroke-width:4; stroke-opacity:1; fill:none\" points=\"\n  1598.68,745.85 1598.68,1445.72 1668.95,1445.72 1668.95,745.85 1598.68,745.85 \n  \"/>\n<path clip-path=\"url(#clip882)\" d=\"\nM1668.95 941.812 L1668.95 1445.72 L1739.23 1445.72 L1739.23 941.812 L1668.95 941.812 L1668.95 941.812  Z\n  \" fill=\"#009af9\" fill-rule=\"evenodd\" fill-opacity=\"1\"/>\n<polyline clip-path=\"url(#clip882)\" style=\"stroke:#000000; stroke-linecap:butt; stroke-linejoin:round; stroke-width:4; stroke-opacity:1; fill:none\" points=\"\n  1668.95,941.812 1668.95,1445.72 1739.23,1445.72 1739.23,941.812 1668.95,941.812 \n  \"/>\n<path clip-path=\"url(#clip882)\" d=\"\nM1739.23 885.823 L1739.23 1445.72 L1809.5 1445.72 L1809.5 885.823 L1739.23 885.823 L1739.23 885.823  Z\n  \" fill=\"#009af9\" fill-rule=\"evenodd\" fill-opacity=\"1\"/>\n<polyline clip-path=\"url(#clip882)\" style=\"stroke:#000000; stroke-linecap:butt; stroke-linejoin:round; stroke-width:4; stroke-opacity:1; fill:none\" points=\"\n  1739.23,885.823 1739.23,1445.72 1809.5,1445.72 1809.5,885.823 1739.23,885.823 \n  \"/>\n<path clip-path=\"url(#clip882)\" d=\"\nM1809.5 1207.76 L1809.5 1445.72 L1879.78 1445.72 L1879.78 1207.76 L1809.5 1207.76 L1809.5 1207.76  Z\n  \" fill=\"#009af9\" fill-rule=\"evenodd\" fill-opacity=\"1\"/>\n<polyline clip-path=\"url(#clip882)\" style=\"stroke:#000000; stroke-linecap:butt; stroke-linejoin:round; stroke-width:4; stroke-opacity:1; fill:none\" points=\"\n  1809.5,1207.76 1809.5,1445.72 1879.78,1445.72 1879.78,1207.76 1809.5,1207.76 \n  \"/>\n<path clip-path=\"url(#clip882)\" d=\"\nM1879.78 1375.73 L1879.78 1445.72 L1950.05 1445.72 L1950.05 1375.73 L1879.78 1375.73 L1879.78 1375.73  Z\n  \" fill=\"#009af9\" fill-rule=\"evenodd\" fill-opacity=\"1\"/>\n<polyline clip-path=\"url(#clip882)\" style=\"stroke:#000000; stroke-linecap:butt; stroke-linejoin:round; stroke-width:4; stroke-opacity:1; fill:none\" points=\"\n  1879.78,1375.73 1879.78,1445.72 1950.05,1445.72 1950.05,1375.73 1879.78,1375.73 \n  \"/>\n<path clip-path=\"url(#clip882)\" d=\"\nM1950.05 1347.73 L1950.05 1445.72 L2020.33 1445.72 L2020.33 1347.73 L1950.05 1347.73 L1950.05 1347.73  Z\n  \" fill=\"#009af9\" fill-rule=\"evenodd\" fill-opacity=\"1\"/>\n<polyline clip-path=\"url(#clip882)\" style=\"stroke:#000000; stroke-linecap:butt; stroke-linejoin:round; stroke-width:4; stroke-opacity:1; fill:none\" points=\"\n  1950.05,1347.73 1950.05,1445.72 2020.33,1445.72 2020.33,1347.73 1950.05,1347.73 \n  \"/>\n<path clip-path=\"url(#clip882)\" d=\"\nM2020.33 1361.73 L2020.33 1445.72 L2090.6 1445.72 L2090.6 1361.73 L2020.33 1361.73 L2020.33 1361.73  Z\n  \" fill=\"#009af9\" fill-rule=\"evenodd\" fill-opacity=\"1\"/>\n<polyline clip-path=\"url(#clip882)\" style=\"stroke:#000000; stroke-linecap:butt; stroke-linejoin:round; stroke-width:4; stroke-opacity:1; fill:none\" points=\"\n  2020.33,1361.73 2020.33,1445.72 2090.6,1445.72 2090.6,1361.73 2020.33,1361.73 \n  \"/>\n<path clip-path=\"url(#clip882)\" d=\"\nM2090.6 1431.72 L2090.6 1445.72 L2160.88 1445.72 L2160.88 1431.72 L2090.6 1431.72 L2090.6 1431.72  Z\n  \" fill=\"#009af9\" fill-rule=\"evenodd\" fill-opacity=\"1\"/>\n<polyline clip-path=\"url(#clip882)\" style=\"stroke:#000000; stroke-linecap:butt; stroke-linejoin:round; stroke-width:4; stroke-opacity:1; fill:none\" points=\"\n  2090.6,1431.72 2090.6,1445.72 2160.88,1445.72 2160.88,1431.72 2090.6,1431.72 \n  \"/>\n<path clip-path=\"url(#clip882)\" d=\"\nM2160.88 1417.72 L2160.88 1445.72 L2231.15 1445.72 L2231.15 1417.72 L2160.88 1417.72 L2160.88 1417.72  Z\n  \" fill=\"#009af9\" fill-rule=\"evenodd\" fill-opacity=\"1\"/>\n<polyline clip-path=\"url(#clip882)\" style=\"stroke:#000000; stroke-linecap:butt; stroke-linejoin:round; stroke-width:4; stroke-opacity:1; fill:none\" points=\"\n  2160.88,1417.72 2160.88,1445.72 2231.15,1445.72 2231.15,1417.72 2160.88,1417.72 \n  \"/>\n<circle clip-path=\"url(#clip882)\" style=\"fill:#009af9; stroke:none; fill-opacity:0\" cx=\"298.594\" cy=\"1431.72\" r=\"2\"/>\n<circle clip-path=\"url(#clip882)\" style=\"fill:#009af9; stroke:none; fill-opacity:0\" cx=\"368.869\" cy=\"1445.72\" r=\"2\"/>\n<circle clip-path=\"url(#clip882)\" style=\"fill:#009af9; stroke:none; fill-opacity:0\" cx=\"439.144\" cy=\"1445.72\" r=\"2\"/>\n<circle clip-path=\"url(#clip882)\" style=\"fill:#009af9; stroke:none; fill-opacity:0\" cx=\"509.419\" cy=\"1417.72\" r=\"2\"/>\n<circle clip-path=\"url(#clip882)\" style=\"fill:#009af9; stroke:none; fill-opacity:0\" cx=\"579.693\" cy=\"1445.72\" r=\"2\"/>\n<circle clip-path=\"url(#clip882)\" style=\"fill:#009af9; stroke:none; fill-opacity:0\" cx=\"649.968\" cy=\"1361.73\" r=\"2\"/>\n<circle clip-path=\"url(#clip882)\" style=\"fill:#009af9; stroke:none; fill-opacity:0\" cx=\"720.243\" cy=\"1333.74\" r=\"2\"/>\n<circle clip-path=\"url(#clip882)\" style=\"fill:#009af9; stroke:none; fill-opacity:0\" cx=\"790.518\" cy=\"1165.77\" r=\"2\"/>\n<circle clip-path=\"url(#clip882)\" style=\"fill:#009af9; stroke:none; fill-opacity:0\" cx=\"860.793\" cy=\"1109.78\" r=\"2\"/>\n<circle clip-path=\"url(#clip882)\" style=\"fill:#009af9; stroke:none; fill-opacity:0\" cx=\"931.068\" cy=\"927.815\" r=\"2\"/>\n<circle clip-path=\"url(#clip882)\" style=\"fill:#009af9; stroke:none; fill-opacity:0\" cx=\"1001.34\" cy=\"661.866\" r=\"2\"/>\n<circle clip-path=\"url(#clip882)\" style=\"fill:#009af9; stroke:none; fill-opacity:0\" cx=\"1071.62\" cy=\"591.88\" r=\"2\"/>\n<circle clip-path=\"url(#clip882)\" style=\"fill:#009af9; stroke:none; fill-opacity:0\" cx=\"1141.89\" cy=\"241.947\" r=\"2\"/>\n<circle clip-path=\"url(#clip882)\" style=\"fill:#009af9; stroke:none; fill-opacity:0\" cx=\"1212.17\" cy=\"283.939\" r=\"2\"/>\n<circle clip-path=\"url(#clip882)\" style=\"fill:#009af9; stroke:none; fill-opacity:0\" cx=\"1282.44\" cy=\"129.968\" r=\"2\"/>\n<circle clip-path=\"url(#clip882)\" style=\"fill:#009af9; stroke:none; fill-opacity:0\" cx=\"1352.72\" cy=\"87.9763\" r=\"2\"/>\n<circle clip-path=\"url(#clip882)\" style=\"fill:#009af9; stroke:none; fill-opacity:0\" cx=\"1422.99\" cy=\"129.968\" r=\"2\"/>\n<circle clip-path=\"url(#clip882)\" style=\"fill:#009af9; stroke:none; fill-opacity:0\" cx=\"1493.27\" cy=\"157.963\" r=\"2\"/>\n<circle clip-path=\"url(#clip882)\" style=\"fill:#009af9; stroke:none; fill-opacity:0\" cx=\"1563.54\" cy=\"395.917\" r=\"2\"/>\n<circle clip-path=\"url(#clip882)\" style=\"fill:#009af9; stroke:none; fill-opacity:0\" cx=\"1633.82\" cy=\"745.85\" r=\"2\"/>\n<circle clip-path=\"url(#clip882)\" style=\"fill:#009af9; stroke:none; fill-opacity:0\" cx=\"1704.09\" cy=\"941.812\" r=\"2\"/>\n<circle clip-path=\"url(#clip882)\" style=\"fill:#009af9; stroke:none; fill-opacity:0\" cx=\"1774.37\" cy=\"885.823\" r=\"2\"/>\n<circle clip-path=\"url(#clip882)\" style=\"fill:#009af9; stroke:none; fill-opacity:0\" cx=\"1844.64\" cy=\"1207.76\" r=\"2\"/>\n<circle clip-path=\"url(#clip882)\" style=\"fill:#009af9; stroke:none; fill-opacity:0\" cx=\"1914.92\" cy=\"1375.73\" r=\"2\"/>\n<circle clip-path=\"url(#clip882)\" style=\"fill:#009af9; stroke:none; fill-opacity:0\" cx=\"1985.19\" cy=\"1347.73\" r=\"2\"/>\n<circle clip-path=\"url(#clip882)\" style=\"fill:#009af9; stroke:none; fill-opacity:0\" cx=\"2055.47\" cy=\"1361.73\" r=\"2\"/>\n<circle clip-path=\"url(#clip882)\" style=\"fill:#009af9; stroke:none; fill-opacity:0\" cx=\"2125.74\" cy=\"1431.72\" r=\"2\"/>\n<circle clip-path=\"url(#clip882)\" style=\"fill:#009af9; stroke:none; fill-opacity:0\" cx=\"2196.01\" cy=\"1417.72\" r=\"2\"/>\n</svg>\n",
      "text/html": [
       "<?xml version=\"1.0\" encoding=\"utf-8\"?>\n",
       "<svg xmlns=\"http://www.w3.org/2000/svg\" xmlns:xlink=\"http://www.w3.org/1999/xlink\" width=\"600\" height=\"400\" viewBox=\"0 0 2400 1600\">\n",
       "<defs>\n",
       "  <clipPath id=\"clip930\">\n",
       "    <rect x=\"0\" y=\"0\" width=\"2400\" height=\"1600\"/>\n",
       "  </clipPath>\n",
       "</defs>\n",
       "<path clip-path=\"url(#clip930)\" d=\"\n",
       "M0 1600 L2400 1600 L2400 0 L0 0  Z\n",
       "  \" fill=\"#ffffff\" fill-rule=\"evenodd\" fill-opacity=\"1\"/>\n",
       "<defs>\n",
       "  <clipPath id=\"clip931\">\n",
       "    <rect x=\"480\" y=\"0\" width=\"1681\" height=\"1600\"/>\n",
       "  </clipPath>\n",
       "</defs>\n",
       "<path clip-path=\"url(#clip930)\" d=\"\n",
       "M141.853 1486.45 L2352.76 1486.45 L2352.76 47.2441 L141.853 47.2441  Z\n",
       "  \" fill=\"#ffffff\" fill-rule=\"evenodd\" fill-opacity=\"1\"/>\n",
       "<defs>\n",
       "  <clipPath id=\"clip932\">\n",
       "    <rect x=\"141\" y=\"47\" width=\"2212\" height=\"1440\"/>\n",
       "  </clipPath>\n",
       "</defs>\n",
       "<polyline clip-path=\"url(#clip932)\" style=\"stroke:#000000; stroke-linecap:butt; stroke-linejoin:round; stroke-width:2; stroke-opacity:0.1; fill:none\" points=\"\n",
       "  333.731,1486.45 333.731,47.2441 \n",
       "  \"/>\n",
       "<polyline clip-path=\"url(#clip932)\" style=\"stroke:#000000; stroke-linecap:butt; stroke-linejoin:round; stroke-width:2; stroke-opacity:0.1; fill:none\" points=\"\n",
       "  755.38,1486.45 755.38,47.2441 \n",
       "  \"/>\n",
       "<polyline clip-path=\"url(#clip932)\" style=\"stroke:#000000; stroke-linecap:butt; stroke-linejoin:round; stroke-width:2; stroke-opacity:0.1; fill:none\" points=\"\n",
       "  1177.03,1486.45 1177.03,47.2441 \n",
       "  \"/>\n",
       "<polyline clip-path=\"url(#clip932)\" style=\"stroke:#000000; stroke-linecap:butt; stroke-linejoin:round; stroke-width:2; stroke-opacity:0.1; fill:none\" points=\"\n",
       "  1598.68,1486.45 1598.68,47.2441 \n",
       "  \"/>\n",
       "<polyline clip-path=\"url(#clip932)\" style=\"stroke:#000000; stroke-linecap:butt; stroke-linejoin:round; stroke-width:2; stroke-opacity:0.1; fill:none\" points=\"\n",
       "  2020.33,1486.45 2020.33,47.2441 \n",
       "  \"/>\n",
       "<polyline clip-path=\"url(#clip930)\" style=\"stroke:#000000; stroke-linecap:butt; stroke-linejoin:round; stroke-width:4; stroke-opacity:1; fill:none\" points=\"\n",
       "  141.853,1486.45 2352.76,1486.45 \n",
       "  \"/>\n",
       "<polyline clip-path=\"url(#clip930)\" style=\"stroke:#000000; stroke-linecap:butt; stroke-linejoin:round; stroke-width:4; stroke-opacity:1; fill:none\" points=\"\n",
       "  333.731,1486.45 333.731,1467.55 \n",
       "  \"/>\n",
       "<polyline clip-path=\"url(#clip930)\" style=\"stroke:#000000; stroke-linecap:butt; stroke-linejoin:round; stroke-width:4; stroke-opacity:1; fill:none\" points=\"\n",
       "  755.38,1486.45 755.38,1467.55 \n",
       "  \"/>\n",
       "<polyline clip-path=\"url(#clip930)\" style=\"stroke:#000000; stroke-linecap:butt; stroke-linejoin:round; stroke-width:4; stroke-opacity:1; fill:none\" points=\"\n",
       "  1177.03,1486.45 1177.03,1467.55 \n",
       "  \"/>\n",
       "<polyline clip-path=\"url(#clip930)\" style=\"stroke:#000000; stroke-linecap:butt; stroke-linejoin:round; stroke-width:4; stroke-opacity:1; fill:none\" points=\"\n",
       "  1598.68,1486.45 1598.68,1467.55 \n",
       "  \"/>\n",
       "<polyline clip-path=\"url(#clip930)\" style=\"stroke:#000000; stroke-linecap:butt; stroke-linejoin:round; stroke-width:4; stroke-opacity:1; fill:none\" points=\"\n",
       "  2020.33,1486.45 2020.33,1467.55 \n",
       "  \"/>\n",
       "<path clip-path=\"url(#clip930)\" d=\"M337.979 1530.21 Q341.336 1530.93 343.211 1533.2 Q345.109 1535.47 345.109 1538.8 Q345.109 1543.92 341.59 1546.72 Q338.072 1549.52 331.59 1549.52 Q329.414 1549.52 327.099 1549.08 Q324.808 1548.66 322.354 1547.81 L322.354 1543.29 Q324.299 1544.43 326.613 1545.01 Q328.928 1545.58 331.451 1545.58 Q335.849 1545.58 338.141 1543.85 Q340.456 1542.11 340.456 1538.8 Q340.456 1535.75 338.303 1534.03 Q336.174 1532.3 332.354 1532.3 L328.326 1532.3 L328.326 1528.45 L332.539 1528.45 Q335.988 1528.45 337.817 1527.09 Q339.646 1525.7 339.646 1523.11 Q339.646 1520.45 337.748 1519.03 Q335.873 1517.6 332.354 1517.6 Q330.433 1517.6 328.234 1518.01 Q326.035 1518.43 323.396 1519.31 L323.396 1515.14 Q326.058 1514.4 328.373 1514.03 Q330.711 1513.66 332.771 1513.66 Q338.095 1513.66 341.197 1516.09 Q344.298 1518.5 344.298 1522.62 Q344.298 1525.49 342.655 1527.48 Q341.011 1529.45 337.979 1530.21 Z\" fill=\"#000000\" fill-rule=\"evenodd\" fill-opacity=\"1\" /><path clip-path=\"url(#clip930)\" d=\"M755.786 1529.7 Q752.637 1529.7 750.786 1531.86 Q748.957 1534.01 748.957 1537.76 Q748.957 1541.49 750.786 1543.66 Q752.637 1545.82 755.786 1545.82 Q758.934 1545.82 760.762 1543.66 Q762.614 1541.49 762.614 1537.76 Q762.614 1534.01 760.762 1531.86 Q758.934 1529.7 755.786 1529.7 M765.068 1515.05 L765.068 1519.31 Q763.309 1518.48 761.503 1518.04 Q759.721 1517.6 757.961 1517.6 Q753.332 1517.6 750.878 1520.72 Q748.448 1523.85 748.1 1530.17 Q749.466 1528.15 751.526 1527.09 Q753.587 1526 756.063 1526 Q761.272 1526 764.281 1529.17 Q767.313 1532.32 767.313 1537.76 Q767.313 1543.08 764.165 1546.3 Q761.017 1549.52 755.786 1549.52 Q749.79 1549.52 746.619 1544.94 Q743.448 1540.33 743.448 1531.6 Q743.448 1523.41 747.337 1518.55 Q751.225 1513.66 757.776 1513.66 Q759.536 1513.66 761.318 1514.01 Q763.123 1514.36 765.068 1515.05 Z\" fill=\"#000000\" fill-rule=\"evenodd\" fill-opacity=\"1\" /><path clip-path=\"url(#clip930)\" d=\"M1167.33 1548.13 L1167.33 1543.87 Q1169.09 1544.7 1170.9 1545.14 Q1172.7 1545.58 1174.44 1545.58 Q1179.07 1545.58 1181.5 1542.48 Q1183.95 1539.36 1184.3 1533.01 Q1182.96 1535.01 1180.9 1536.07 Q1178.84 1537.13 1176.34 1537.13 Q1171.15 1537.13 1168.12 1534.01 Q1165.11 1530.86 1165.11 1525.42 Q1165.11 1520.1 1168.26 1516.88 Q1171.4 1513.66 1176.64 1513.66 Q1182.63 1513.66 1185.78 1518.27 Q1188.95 1522.85 1188.95 1531.6 Q1188.95 1539.77 1185.06 1544.66 Q1181.2 1549.52 1174.65 1549.52 Q1172.89 1549.52 1171.08 1549.17 Q1169.27 1548.82 1167.33 1548.13 M1176.64 1533.48 Q1179.78 1533.48 1181.61 1531.32 Q1183.46 1529.17 1183.46 1525.42 Q1183.46 1521.7 1181.61 1519.54 Q1179.78 1517.37 1176.64 1517.37 Q1173.49 1517.37 1171.64 1519.54 Q1169.81 1521.7 1169.81 1525.42 Q1169.81 1529.17 1171.64 1531.32 Q1173.49 1533.48 1176.64 1533.48 Z\" fill=\"#000000\" fill-rule=\"evenodd\" fill-opacity=\"1\" /><path clip-path=\"url(#clip930)\" d=\"M1574.16 1544.91 L1581.8 1544.91 L1581.8 1518.55 L1573.49 1520.21 L1573.49 1515.95 L1581.76 1514.29 L1586.43 1514.29 L1586.43 1544.91 L1594.07 1544.91 L1594.07 1548.85 L1574.16 1548.85 L1574.16 1544.91 Z\" fill=\"#000000\" fill-rule=\"evenodd\" fill-opacity=\"1\" /><path clip-path=\"url(#clip930)\" d=\"M1607.54 1544.91 L1623.86 1544.91 L1623.86 1548.85 L1601.92 1548.85 L1601.92 1544.91 Q1604.58 1542.16 1609.16 1537.53 Q1613.77 1532.88 1614.95 1531.53 Q1617.2 1529.01 1618.08 1527.27 Q1618.98 1525.51 1618.98 1523.82 Q1618.98 1521.07 1617.04 1519.33 Q1615.11 1517.6 1612.01 1517.6 Q1609.81 1517.6 1607.36 1518.36 Q1604.93 1519.13 1602.15 1520.68 L1602.15 1515.95 Q1604.97 1514.82 1607.43 1514.24 Q1609.88 1513.66 1611.92 1513.66 Q1617.29 1513.66 1620.48 1516.35 Q1623.68 1519.03 1623.68 1523.52 Q1623.68 1525.65 1622.87 1527.57 Q1622.08 1529.47 1619.97 1532.07 Q1619.4 1532.74 1616.29 1535.95 Q1613.19 1539.15 1607.54 1544.91 Z\" fill=\"#000000\" fill-rule=\"evenodd\" fill-opacity=\"1\" /><path clip-path=\"url(#clip930)\" d=\"M1995.51 1544.91 L2003.15 1544.91 L2003.15 1518.55 L1994.84 1520.21 L1994.84 1515.95 L2003.11 1514.29 L2007.78 1514.29 L2007.78 1544.91 L2015.42 1544.91 L2015.42 1548.85 L1995.51 1548.85 L1995.51 1544.91 Z\" fill=\"#000000\" fill-rule=\"evenodd\" fill-opacity=\"1\" /><path clip-path=\"url(#clip930)\" d=\"M2024.91 1514.29 L2043.27 1514.29 L2043.27 1518.22 L2029.19 1518.22 L2029.19 1526.7 Q2030.21 1526.35 2031.23 1526.19 Q2032.25 1526 2033.27 1526 Q2039.05 1526 2042.43 1529.17 Q2045.81 1532.34 2045.81 1537.76 Q2045.81 1543.34 2042.34 1546.44 Q2038.87 1549.52 2032.55 1549.52 Q2030.37 1549.52 2028.11 1549.15 Q2025.86 1548.78 2023.45 1548.04 L2023.45 1543.34 Q2025.54 1544.47 2027.76 1545.03 Q2029.98 1545.58 2032.46 1545.58 Q2036.46 1545.58 2038.8 1543.48 Q2041.14 1541.37 2041.14 1537.76 Q2041.14 1534.15 2038.8 1532.04 Q2036.46 1529.94 2032.46 1529.94 Q2030.58 1529.94 2028.71 1530.35 Q2026.86 1530.77 2024.91 1531.65 L2024.91 1514.29 Z\" fill=\"#000000\" fill-rule=\"evenodd\" fill-opacity=\"1\" /><polyline clip-path=\"url(#clip932)\" style=\"stroke:#000000; stroke-linecap:butt; stroke-linejoin:round; stroke-width:2; stroke-opacity:0.1; fill:none\" points=\"\n",
       "  141.853,1445.72 2352.76,1445.72 \n",
       "  \"/>\n",
       "<polyline clip-path=\"url(#clip932)\" style=\"stroke:#000000; stroke-linecap:butt; stroke-linejoin:round; stroke-width:2; stroke-opacity:0.1; fill:none\" points=\"\n",
       "  141.853,1165.77 2352.76,1165.77 \n",
       "  \"/>\n",
       "<polyline clip-path=\"url(#clip932)\" style=\"stroke:#000000; stroke-linecap:butt; stroke-linejoin:round; stroke-width:2; stroke-opacity:0.1; fill:none\" points=\"\n",
       "  141.853,885.823 2352.76,885.823 \n",
       "  \"/>\n",
       "<polyline clip-path=\"url(#clip932)\" style=\"stroke:#000000; stroke-linecap:butt; stroke-linejoin:round; stroke-width:2; stroke-opacity:0.1; fill:none\" points=\"\n",
       "  141.853,605.877 2352.76,605.877 \n",
       "  \"/>\n",
       "<polyline clip-path=\"url(#clip932)\" style=\"stroke:#000000; stroke-linecap:butt; stroke-linejoin:round; stroke-width:2; stroke-opacity:0.1; fill:none\" points=\"\n",
       "  141.853,325.931 2352.76,325.931 \n",
       "  \"/>\n",
       "<polyline clip-path=\"url(#clip930)\" style=\"stroke:#000000; stroke-linecap:butt; stroke-linejoin:round; stroke-width:4; stroke-opacity:1; fill:none\" points=\"\n",
       "  141.853,1486.45 141.853,47.2441 \n",
       "  \"/>\n",
       "<polyline clip-path=\"url(#clip930)\" style=\"stroke:#000000; stroke-linecap:butt; stroke-linejoin:round; stroke-width:4; stroke-opacity:1; fill:none\" points=\"\n",
       "  141.853,1445.72 160.751,1445.72 \n",
       "  \"/>\n",
       "<polyline clip-path=\"url(#clip930)\" style=\"stroke:#000000; stroke-linecap:butt; stroke-linejoin:round; stroke-width:4; stroke-opacity:1; fill:none\" points=\"\n",
       "  141.853,1165.77 160.751,1165.77 \n",
       "  \"/>\n",
       "<polyline clip-path=\"url(#clip930)\" style=\"stroke:#000000; stroke-linecap:butt; stroke-linejoin:round; stroke-width:4; stroke-opacity:1; fill:none\" points=\"\n",
       "  141.853,885.823 160.751,885.823 \n",
       "  \"/>\n",
       "<polyline clip-path=\"url(#clip930)\" style=\"stroke:#000000; stroke-linecap:butt; stroke-linejoin:round; stroke-width:4; stroke-opacity:1; fill:none\" points=\"\n",
       "  141.853,605.877 160.751,605.877 \n",
       "  \"/>\n",
       "<polyline clip-path=\"url(#clip930)\" style=\"stroke:#000000; stroke-linecap:butt; stroke-linejoin:round; stroke-width:4; stroke-opacity:1; fill:none\" points=\"\n",
       "  141.853,325.931 160.751,325.931 \n",
       "  \"/>\n",
       "<path clip-path=\"url(#clip930)\" d=\"M93.9086 1431.51 Q90.2975 1431.51 88.4688 1435.08 Q86.6632 1438.62 86.6632 1445.75 Q86.6632 1452.86 88.4688 1456.42 Q90.2975 1459.96 93.9086 1459.96 Q97.5428 1459.96 99.3483 1456.42 Q101.177 1452.86 101.177 1445.75 Q101.177 1438.62 99.3483 1435.08 Q97.5428 1431.51 93.9086 1431.51 M93.9086 1427.81 Q99.7187 1427.81 102.774 1432.42 Q105.853 1437 105.853 1445.75 Q105.853 1454.48 102.774 1459.08 Q99.7187 1463.67 93.9086 1463.67 Q88.0984 1463.67 85.0197 1459.08 Q81.9642 1454.48 81.9642 1445.75 Q81.9642 1437 85.0197 1432.42 Q88.0984 1427.81 93.9086 1427.81 Z\" fill=\"#000000\" fill-rule=\"evenodd\" fill-opacity=\"1\" /><path clip-path=\"url(#clip930)\" d=\"M57.7745 1179.11 L74.0939 1179.11 L74.0939 1183.05 L52.1495 1183.05 L52.1495 1179.11 Q54.8115 1176.36 59.3949 1171.73 Q64.0013 1167.08 65.1819 1165.73 Q67.4272 1163.21 68.3068 1161.48 Q69.2096 1159.72 69.2096 1158.03 Q69.2096 1155.27 67.2652 1153.54 Q65.3439 1151.8 62.2421 1151.8 Q60.043 1151.8 57.5893 1152.56 Q55.1588 1153.33 52.381 1154.88 L52.381 1150.16 Q55.2051 1149.02 57.6588 1148.44 Q60.1124 1147.86 62.1495 1147.86 Q67.5198 1147.86 70.7142 1150.55 Q73.9087 1153.23 73.9087 1157.73 Q73.9087 1159.86 73.0985 1161.78 Q72.3115 1163.67 70.205 1166.27 Q69.6263 1166.94 66.5245 1170.16 Q63.4226 1173.35 57.7745 1179.11 Z\" fill=\"#000000\" fill-rule=\"evenodd\" fill-opacity=\"1\" /><path clip-path=\"url(#clip930)\" d=\"M93.9086 1151.57 Q90.2975 1151.57 88.4688 1155.13 Q86.6632 1158.67 86.6632 1165.8 Q86.6632 1172.91 88.4688 1176.48 Q90.2975 1180.02 93.9086 1180.02 Q97.5428 1180.02 99.3483 1176.48 Q101.177 1172.91 101.177 1165.8 Q101.177 1158.67 99.3483 1155.13 Q97.5428 1151.57 93.9086 1151.57 M93.9086 1147.86 Q99.7187 1147.86 102.774 1152.47 Q105.853 1157.05 105.853 1165.8 Q105.853 1174.53 102.774 1179.14 Q99.7187 1183.72 93.9086 1183.72 Q88.0984 1183.72 85.0197 1179.14 Q81.9642 1174.53 81.9642 1165.8 Q81.9642 1157.05 85.0197 1152.47 Q88.0984 1147.86 93.9086 1147.86 Z\" fill=\"#000000\" fill-rule=\"evenodd\" fill-opacity=\"1\" /><path clip-path=\"url(#clip930)\" d=\"M66.5939 872.617 L54.7884 891.066 L66.5939 891.066 L66.5939 872.617 M65.367 868.543 L71.2466 868.543 L71.2466 891.066 L76.1772 891.066 L76.1772 894.955 L71.2466 894.955 L71.2466 903.103 L66.5939 903.103 L66.5939 894.955 L50.9921 894.955 L50.9921 890.441 L65.367 868.543 Z\" fill=\"#000000\" fill-rule=\"evenodd\" fill-opacity=\"1\" /><path clip-path=\"url(#clip930)\" d=\"M93.9086 871.622 Q90.2975 871.622 88.4688 875.187 Q86.6632 878.728 86.6632 885.858 Q86.6632 892.964 88.4688 896.529 Q90.2975 900.071 93.9086 900.071 Q97.5428 900.071 99.3483 896.529 Q101.177 892.964 101.177 885.858 Q101.177 878.728 99.3483 875.187 Q97.5428 871.622 93.9086 871.622 M93.9086 867.918 Q99.7187 867.918 102.774 872.525 Q105.853 877.108 105.853 885.858 Q105.853 894.585 102.774 899.191 Q99.7187 903.774 93.9086 903.774 Q88.0984 903.774 85.0197 899.191 Q81.9642 894.585 81.9642 885.858 Q81.9642 877.108 85.0197 872.525 Q88.0984 867.918 93.9086 867.918 Z\" fill=\"#000000\" fill-rule=\"evenodd\" fill-opacity=\"1\" /><path clip-path=\"url(#clip930)\" d=\"M64.3254 604.013 Q61.1773 604.013 59.3254 606.166 Q57.4967 608.319 57.4967 612.069 Q57.4967 615.796 59.3254 617.972 Q61.1773 620.124 64.3254 620.124 Q67.4735 620.124 69.3022 617.972 Q71.1541 615.796 71.1541 612.069 Q71.1541 608.319 69.3022 606.166 Q67.4735 604.013 64.3254 604.013 M73.6077 589.361 L73.6077 593.62 Q71.8485 592.787 70.0429 592.347 Q68.2606 591.907 66.5013 591.907 Q61.8717 591.907 59.418 595.032 Q56.9875 598.157 56.6402 604.476 Q58.006 602.463 60.0662 601.398 Q62.1263 600.31 64.6032 600.31 Q69.8115 600.31 72.8207 603.481 Q75.8531 606.629 75.8531 612.069 Q75.8531 617.393 72.705 620.611 Q69.5568 623.828 64.3254 623.828 Q58.33 623.828 55.1588 619.245 Q51.9875 614.638 51.9875 605.912 Q51.9875 597.717 55.8764 592.856 Q59.7652 587.972 66.3161 587.972 Q68.0754 587.972 69.8578 588.319 Q71.6633 588.666 73.6077 589.361 Z\" fill=\"#000000\" fill-rule=\"evenodd\" fill-opacity=\"1\" /><path clip-path=\"url(#clip930)\" d=\"M93.9086 591.676 Q90.2975 591.676 88.4688 595.24 Q86.6632 598.782 86.6632 605.912 Q86.6632 613.018 88.4688 616.583 Q90.2975 620.124 93.9086 620.124 Q97.5428 620.124 99.3483 616.583 Q101.177 613.018 101.177 605.912 Q101.177 598.782 99.3483 595.24 Q97.5428 591.676 93.9086 591.676 M93.9086 587.972 Q99.7187 587.972 102.774 592.578 Q105.853 597.162 105.853 605.912 Q105.853 614.638 102.774 619.245 Q99.7187 623.828 93.9086 623.828 Q88.0984 623.828 85.0197 619.245 Q81.9642 614.638 81.9642 605.912 Q81.9642 597.162 85.0197 592.578 Q88.0984 587.972 93.9086 587.972 Z\" fill=\"#000000\" fill-rule=\"evenodd\" fill-opacity=\"1\" /><path clip-path=\"url(#clip930)\" d=\"M63.7467 326.799 Q60.4134 326.799 58.4921 328.581 Q56.5939 330.363 56.5939 333.488 Q56.5939 336.613 58.4921 338.396 Q60.4134 340.178 63.7467 340.178 Q67.08 340.178 69.0013 338.396 Q70.9226 336.59 70.9226 333.488 Q70.9226 330.363 69.0013 328.581 Q67.1032 326.799 63.7467 326.799 M59.0708 324.808 Q56.0615 324.067 54.3717 322.007 Q52.7051 319.947 52.7051 316.984 Q52.7051 312.84 55.6449 310.433 Q58.6078 308.026 63.7467 308.026 Q68.9087 308.026 71.8485 310.433 Q74.7883 312.84 74.7883 316.984 Q74.7883 319.947 73.0985 322.007 Q71.4318 324.067 68.4457 324.808 Q71.8253 325.595 73.7003 327.887 Q75.5985 330.178 75.5985 333.488 Q75.5985 338.512 72.5198 341.197 Q69.4642 343.882 63.7467 343.882 Q58.0291 343.882 54.9504 341.197 Q51.8949 338.512 51.8949 333.488 Q51.8949 330.178 53.793 327.887 Q55.6912 325.595 59.0708 324.808 M57.3578 317.424 Q57.3578 320.109 59.0245 321.614 Q60.7143 323.118 63.7467 323.118 Q66.7559 323.118 68.4457 321.614 Q70.1587 320.109 70.1587 317.424 Q70.1587 314.739 68.4457 313.234 Q66.7559 311.729 63.7467 311.729 Q60.7143 311.729 59.0245 313.234 Q57.3578 314.739 57.3578 317.424 Z\" fill=\"#000000\" fill-rule=\"evenodd\" fill-opacity=\"1\" /><path clip-path=\"url(#clip930)\" d=\"M93.9086 311.729 Q90.2975 311.729 88.4688 315.294 Q86.6632 318.836 86.6632 325.965 Q86.6632 333.072 88.4688 336.637 Q90.2975 340.178 93.9086 340.178 Q97.5428 340.178 99.3483 336.637 Q101.177 333.072 101.177 325.965 Q101.177 318.836 99.3483 315.294 Q97.5428 311.729 93.9086 311.729 M93.9086 308.026 Q99.7187 308.026 102.774 312.632 Q105.853 317.215 105.853 325.965 Q105.853 334.692 102.774 339.299 Q99.7187 343.882 93.9086 343.882 Q88.0984 343.882 85.0197 339.299 Q81.9642 334.692 81.9642 325.965 Q81.9642 317.215 85.0197 312.632 Q88.0984 308.026 93.9086 308.026 Z\" fill=\"#000000\" fill-rule=\"evenodd\" fill-opacity=\"1\" /><path clip-path=\"url(#clip932)\" d=\"\n",
       "M263.457 1431.72 L263.457 1445.72 L333.731 1445.72 L333.731 1431.72 L263.457 1431.72 L263.457 1431.72  Z\n",
       "  \" fill=\"#009af9\" fill-rule=\"evenodd\" fill-opacity=\"1\"/>\n",
       "<polyline clip-path=\"url(#clip932)\" style=\"stroke:#000000; stroke-linecap:butt; stroke-linejoin:round; stroke-width:4; stroke-opacity:1; fill:none\" points=\"\n",
       "  263.457,1431.72 263.457,1445.72 333.731,1445.72 333.731,1431.72 263.457,1431.72 \n",
       "  \"/>\n",
       "<path clip-path=\"url(#clip932)\" d=\"\n",
       "M333.731 1445.72 L333.731 1445.72 L404.006 1445.72 L404.006 1445.72 L333.731 1445.72 L333.731 1445.72  Z\n",
       "  \" fill=\"#009af9\" fill-rule=\"evenodd\" fill-opacity=\"1\"/>\n",
       "<polyline clip-path=\"url(#clip932)\" style=\"stroke:#000000; stroke-linecap:butt; stroke-linejoin:round; stroke-width:4; stroke-opacity:1; fill:none\" points=\"\n",
       "  333.731,1445.72 333.731,1445.72 404.006,1445.72 333.731,1445.72 \n",
       "  \"/>\n",
       "<path clip-path=\"url(#clip932)\" d=\"\n",
       "M404.006 1445.72 L404.006 1445.72 L474.281 1445.72 L474.281 1445.72 L404.006 1445.72 L404.006 1445.72  Z\n",
       "  \" fill=\"#009af9\" fill-rule=\"evenodd\" fill-opacity=\"1\"/>\n",
       "<polyline clip-path=\"url(#clip932)\" style=\"stroke:#000000; stroke-linecap:butt; stroke-linejoin:round; stroke-width:4; stroke-opacity:1; fill:none\" points=\"\n",
       "  404.006,1445.72 404.006,1445.72 474.281,1445.72 404.006,1445.72 \n",
       "  \"/>\n",
       "<path clip-path=\"url(#clip932)\" d=\"\n",
       "M474.281 1417.72 L474.281 1445.72 L544.556 1445.72 L544.556 1417.72 L474.281 1417.72 L474.281 1417.72  Z\n",
       "  \" fill=\"#009af9\" fill-rule=\"evenodd\" fill-opacity=\"1\"/>\n",
       "<polyline clip-path=\"url(#clip932)\" style=\"stroke:#000000; stroke-linecap:butt; stroke-linejoin:round; stroke-width:4; stroke-opacity:1; fill:none\" points=\"\n",
       "  474.281,1417.72 474.281,1445.72 544.556,1445.72 544.556,1417.72 474.281,1417.72 \n",
       "  \"/>\n",
       "<path clip-path=\"url(#clip932)\" d=\"\n",
       "M544.556 1445.72 L544.556 1445.72 L614.831 1445.72 L614.831 1445.72 L544.556 1445.72 L544.556 1445.72  Z\n",
       "  \" fill=\"#009af9\" fill-rule=\"evenodd\" fill-opacity=\"1\"/>\n",
       "<polyline clip-path=\"url(#clip932)\" style=\"stroke:#000000; stroke-linecap:butt; stroke-linejoin:round; stroke-width:4; stroke-opacity:1; fill:none\" points=\"\n",
       "  544.556,1445.72 544.556,1445.72 614.831,1445.72 544.556,1445.72 \n",
       "  \"/>\n",
       "<path clip-path=\"url(#clip932)\" d=\"\n",
       "M614.831 1361.73 L614.831 1445.72 L685.106 1445.72 L685.106 1361.73 L614.831 1361.73 L614.831 1361.73  Z\n",
       "  \" fill=\"#009af9\" fill-rule=\"evenodd\" fill-opacity=\"1\"/>\n",
       "<polyline clip-path=\"url(#clip932)\" style=\"stroke:#000000; stroke-linecap:butt; stroke-linejoin:round; stroke-width:4; stroke-opacity:1; fill:none\" points=\"\n",
       "  614.831,1361.73 614.831,1445.72 685.106,1445.72 685.106,1361.73 614.831,1361.73 \n",
       "  \"/>\n",
       "<path clip-path=\"url(#clip932)\" d=\"\n",
       "M685.106 1333.74 L685.106 1445.72 L755.38 1445.72 L755.38 1333.74 L685.106 1333.74 L685.106 1333.74  Z\n",
       "  \" fill=\"#009af9\" fill-rule=\"evenodd\" fill-opacity=\"1\"/>\n",
       "<polyline clip-path=\"url(#clip932)\" style=\"stroke:#000000; stroke-linecap:butt; stroke-linejoin:round; stroke-width:4; stroke-opacity:1; fill:none\" points=\"\n",
       "  685.106,1333.74 685.106,1445.72 755.38,1445.72 755.38,1333.74 685.106,1333.74 \n",
       "  \"/>\n",
       "<path clip-path=\"url(#clip932)\" d=\"\n",
       "M755.38 1165.77 L755.38 1445.72 L825.655 1445.72 L825.655 1165.77 L755.38 1165.77 L755.38 1165.77  Z\n",
       "  \" fill=\"#009af9\" fill-rule=\"evenodd\" fill-opacity=\"1\"/>\n",
       "<polyline clip-path=\"url(#clip932)\" style=\"stroke:#000000; stroke-linecap:butt; stroke-linejoin:round; stroke-width:4; stroke-opacity:1; fill:none\" points=\"\n",
       "  755.38,1165.77 755.38,1445.72 825.655,1445.72 825.655,1165.77 755.38,1165.77 \n",
       "  \"/>\n",
       "<path clip-path=\"url(#clip932)\" d=\"\n",
       "M825.655 1109.78 L825.655 1445.72 L895.93 1445.72 L895.93 1109.78 L825.655 1109.78 L825.655 1109.78  Z\n",
       "  \" fill=\"#009af9\" fill-rule=\"evenodd\" fill-opacity=\"1\"/>\n",
       "<polyline clip-path=\"url(#clip932)\" style=\"stroke:#000000; stroke-linecap:butt; stroke-linejoin:round; stroke-width:4; stroke-opacity:1; fill:none\" points=\"\n",
       "  825.655,1109.78 825.655,1445.72 895.93,1445.72 895.93,1109.78 825.655,1109.78 \n",
       "  \"/>\n",
       "<path clip-path=\"url(#clip932)\" d=\"\n",
       "M895.93 927.815 L895.93 1445.72 L966.205 1445.72 L966.205 927.815 L895.93 927.815 L895.93 927.815  Z\n",
       "  \" fill=\"#009af9\" fill-rule=\"evenodd\" fill-opacity=\"1\"/>\n",
       "<polyline clip-path=\"url(#clip932)\" style=\"stroke:#000000; stroke-linecap:butt; stroke-linejoin:round; stroke-width:4; stroke-opacity:1; fill:none\" points=\"\n",
       "  895.93,927.815 895.93,1445.72 966.205,1445.72 966.205,927.815 895.93,927.815 \n",
       "  \"/>\n",
       "<path clip-path=\"url(#clip932)\" d=\"\n",
       "M966.205 661.866 L966.205 1445.72 L1036.48 1445.72 L1036.48 661.866 L966.205 661.866 L966.205 661.866  Z\n",
       "  \" fill=\"#009af9\" fill-rule=\"evenodd\" fill-opacity=\"1\"/>\n",
       "<polyline clip-path=\"url(#clip932)\" style=\"stroke:#000000; stroke-linecap:butt; stroke-linejoin:round; stroke-width:4; stroke-opacity:1; fill:none\" points=\"\n",
       "  966.205,661.866 966.205,1445.72 1036.48,1445.72 1036.48,661.866 966.205,661.866 \n",
       "  \"/>\n",
       "<path clip-path=\"url(#clip932)\" d=\"\n",
       "M1036.48 591.88 L1036.48 1445.72 L1106.75 1445.72 L1106.75 591.88 L1036.48 591.88 L1036.48 591.88  Z\n",
       "  \" fill=\"#009af9\" fill-rule=\"evenodd\" fill-opacity=\"1\"/>\n",
       "<polyline clip-path=\"url(#clip932)\" style=\"stroke:#000000; stroke-linecap:butt; stroke-linejoin:round; stroke-width:4; stroke-opacity:1; fill:none\" points=\"\n",
       "  1036.48,591.88 1036.48,1445.72 1106.75,1445.72 1106.75,591.88 1036.48,591.88 \n",
       "  \"/>\n",
       "<path clip-path=\"url(#clip932)\" d=\"\n",
       "M1106.75 241.947 L1106.75 1445.72 L1177.03 1445.72 L1177.03 241.947 L1106.75 241.947 L1106.75 241.947  Z\n",
       "  \" fill=\"#009af9\" fill-rule=\"evenodd\" fill-opacity=\"1\"/>\n",
       "<polyline clip-path=\"url(#clip932)\" style=\"stroke:#000000; stroke-linecap:butt; stroke-linejoin:round; stroke-width:4; stroke-opacity:1; fill:none\" points=\"\n",
       "  1106.75,241.947 1106.75,1445.72 1177.03,1445.72 1177.03,241.947 1106.75,241.947 \n",
       "  \"/>\n",
       "<path clip-path=\"url(#clip932)\" d=\"\n",
       "M1177.03 283.939 L1177.03 1445.72 L1247.3 1445.72 L1247.3 283.939 L1177.03 283.939 L1177.03 283.939  Z\n",
       "  \" fill=\"#009af9\" fill-rule=\"evenodd\" fill-opacity=\"1\"/>\n",
       "<polyline clip-path=\"url(#clip932)\" style=\"stroke:#000000; stroke-linecap:butt; stroke-linejoin:round; stroke-width:4; stroke-opacity:1; fill:none\" points=\"\n",
       "  1177.03,283.939 1177.03,1445.72 1247.3,1445.72 1247.3,283.939 1177.03,283.939 \n",
       "  \"/>\n",
       "<path clip-path=\"url(#clip932)\" d=\"\n",
       "M1247.3 129.968 L1247.3 1445.72 L1317.58 1445.72 L1317.58 129.968 L1247.3 129.968 L1247.3 129.968  Z\n",
       "  \" fill=\"#009af9\" fill-rule=\"evenodd\" fill-opacity=\"1\"/>\n",
       "<polyline clip-path=\"url(#clip932)\" style=\"stroke:#000000; stroke-linecap:butt; stroke-linejoin:round; stroke-width:4; stroke-opacity:1; fill:none\" points=\"\n",
       "  1247.3,129.968 1247.3,1445.72 1317.58,1445.72 1317.58,129.968 1247.3,129.968 \n",
       "  \"/>\n",
       "<path clip-path=\"url(#clip932)\" d=\"\n",
       "M1317.58 87.9763 L1317.58 1445.72 L1387.85 1445.72 L1387.85 87.9763 L1317.58 87.9763 L1317.58 87.9763  Z\n",
       "  \" fill=\"#009af9\" fill-rule=\"evenodd\" fill-opacity=\"1\"/>\n",
       "<polyline clip-path=\"url(#clip932)\" style=\"stroke:#000000; stroke-linecap:butt; stroke-linejoin:round; stroke-width:4; stroke-opacity:1; fill:none\" points=\"\n",
       "  1317.58,87.9763 1317.58,1445.72 1387.85,1445.72 1387.85,87.9763 1317.58,87.9763 \n",
       "  \"/>\n",
       "<path clip-path=\"url(#clip932)\" d=\"\n",
       "M1387.85 129.968 L1387.85 1445.72 L1458.13 1445.72 L1458.13 129.968 L1387.85 129.968 L1387.85 129.968  Z\n",
       "  \" fill=\"#009af9\" fill-rule=\"evenodd\" fill-opacity=\"1\"/>\n",
       "<polyline clip-path=\"url(#clip932)\" style=\"stroke:#000000; stroke-linecap:butt; stroke-linejoin:round; stroke-width:4; stroke-opacity:1; fill:none\" points=\"\n",
       "  1387.85,129.968 1387.85,1445.72 1458.13,1445.72 1458.13,129.968 1387.85,129.968 \n",
       "  \"/>\n",
       "<path clip-path=\"url(#clip932)\" d=\"\n",
       "M1458.13 157.963 L1458.13 1445.72 L1528.4 1445.72 L1528.4 157.963 L1458.13 157.963 L1458.13 157.963  Z\n",
       "  \" fill=\"#009af9\" fill-rule=\"evenodd\" fill-opacity=\"1\"/>\n",
       "<polyline clip-path=\"url(#clip932)\" style=\"stroke:#000000; stroke-linecap:butt; stroke-linejoin:round; stroke-width:4; stroke-opacity:1; fill:none\" points=\"\n",
       "  1458.13,157.963 1458.13,1445.72 1528.4,1445.72 1528.4,157.963 1458.13,157.963 \n",
       "  \"/>\n",
       "<path clip-path=\"url(#clip932)\" d=\"\n",
       "M1528.4 395.917 L1528.4 1445.72 L1598.68 1445.72 L1598.68 395.917 L1528.4 395.917 L1528.4 395.917  Z\n",
       "  \" fill=\"#009af9\" fill-rule=\"evenodd\" fill-opacity=\"1\"/>\n",
       "<polyline clip-path=\"url(#clip932)\" style=\"stroke:#000000; stroke-linecap:butt; stroke-linejoin:round; stroke-width:4; stroke-opacity:1; fill:none\" points=\"\n",
       "  1528.4,395.917 1528.4,1445.72 1598.68,1445.72 1598.68,395.917 1528.4,395.917 \n",
       "  \"/>\n",
       "<path clip-path=\"url(#clip932)\" d=\"\n",
       "M1598.68 745.85 L1598.68 1445.72 L1668.95 1445.72 L1668.95 745.85 L1598.68 745.85 L1598.68 745.85  Z\n",
       "  \" fill=\"#009af9\" fill-rule=\"evenodd\" fill-opacity=\"1\"/>\n",
       "<polyline clip-path=\"url(#clip932)\" style=\"stroke:#000000; stroke-linecap:butt; stroke-linejoin:round; stroke-width:4; stroke-opacity:1; fill:none\" points=\"\n",
       "  1598.68,745.85 1598.68,1445.72 1668.95,1445.72 1668.95,745.85 1598.68,745.85 \n",
       "  \"/>\n",
       "<path clip-path=\"url(#clip932)\" d=\"\n",
       "M1668.95 941.812 L1668.95 1445.72 L1739.23 1445.72 L1739.23 941.812 L1668.95 941.812 L1668.95 941.812  Z\n",
       "  \" fill=\"#009af9\" fill-rule=\"evenodd\" fill-opacity=\"1\"/>\n",
       "<polyline clip-path=\"url(#clip932)\" style=\"stroke:#000000; stroke-linecap:butt; stroke-linejoin:round; stroke-width:4; stroke-opacity:1; fill:none\" points=\"\n",
       "  1668.95,941.812 1668.95,1445.72 1739.23,1445.72 1739.23,941.812 1668.95,941.812 \n",
       "  \"/>\n",
       "<path clip-path=\"url(#clip932)\" d=\"\n",
       "M1739.23 885.823 L1739.23 1445.72 L1809.5 1445.72 L1809.5 885.823 L1739.23 885.823 L1739.23 885.823  Z\n",
       "  \" fill=\"#009af9\" fill-rule=\"evenodd\" fill-opacity=\"1\"/>\n",
       "<polyline clip-path=\"url(#clip932)\" style=\"stroke:#000000; stroke-linecap:butt; stroke-linejoin:round; stroke-width:4; stroke-opacity:1; fill:none\" points=\"\n",
       "  1739.23,885.823 1739.23,1445.72 1809.5,1445.72 1809.5,885.823 1739.23,885.823 \n",
       "  \"/>\n",
       "<path clip-path=\"url(#clip932)\" d=\"\n",
       "M1809.5 1207.76 L1809.5 1445.72 L1879.78 1445.72 L1879.78 1207.76 L1809.5 1207.76 L1809.5 1207.76  Z\n",
       "  \" fill=\"#009af9\" fill-rule=\"evenodd\" fill-opacity=\"1\"/>\n",
       "<polyline clip-path=\"url(#clip932)\" style=\"stroke:#000000; stroke-linecap:butt; stroke-linejoin:round; stroke-width:4; stroke-opacity:1; fill:none\" points=\"\n",
       "  1809.5,1207.76 1809.5,1445.72 1879.78,1445.72 1879.78,1207.76 1809.5,1207.76 \n",
       "  \"/>\n",
       "<path clip-path=\"url(#clip932)\" d=\"\n",
       "M1879.78 1375.73 L1879.78 1445.72 L1950.05 1445.72 L1950.05 1375.73 L1879.78 1375.73 L1879.78 1375.73  Z\n",
       "  \" fill=\"#009af9\" fill-rule=\"evenodd\" fill-opacity=\"1\"/>\n",
       "<polyline clip-path=\"url(#clip932)\" style=\"stroke:#000000; stroke-linecap:butt; stroke-linejoin:round; stroke-width:4; stroke-opacity:1; fill:none\" points=\"\n",
       "  1879.78,1375.73 1879.78,1445.72 1950.05,1445.72 1950.05,1375.73 1879.78,1375.73 \n",
       "  \"/>\n",
       "<path clip-path=\"url(#clip932)\" d=\"\n",
       "M1950.05 1347.73 L1950.05 1445.72 L2020.33 1445.72 L2020.33 1347.73 L1950.05 1347.73 L1950.05 1347.73  Z\n",
       "  \" fill=\"#009af9\" fill-rule=\"evenodd\" fill-opacity=\"1\"/>\n",
       "<polyline clip-path=\"url(#clip932)\" style=\"stroke:#000000; stroke-linecap:butt; stroke-linejoin:round; stroke-width:4; stroke-opacity:1; fill:none\" points=\"\n",
       "  1950.05,1347.73 1950.05,1445.72 2020.33,1445.72 2020.33,1347.73 1950.05,1347.73 \n",
       "  \"/>\n",
       "<path clip-path=\"url(#clip932)\" d=\"\n",
       "M2020.33 1361.73 L2020.33 1445.72 L2090.6 1445.72 L2090.6 1361.73 L2020.33 1361.73 L2020.33 1361.73  Z\n",
       "  \" fill=\"#009af9\" fill-rule=\"evenodd\" fill-opacity=\"1\"/>\n",
       "<polyline clip-path=\"url(#clip932)\" style=\"stroke:#000000; stroke-linecap:butt; stroke-linejoin:round; stroke-width:4; stroke-opacity:1; fill:none\" points=\"\n",
       "  2020.33,1361.73 2020.33,1445.72 2090.6,1445.72 2090.6,1361.73 2020.33,1361.73 \n",
       "  \"/>\n",
       "<path clip-path=\"url(#clip932)\" d=\"\n",
       "M2090.6 1431.72 L2090.6 1445.72 L2160.88 1445.72 L2160.88 1431.72 L2090.6 1431.72 L2090.6 1431.72  Z\n",
       "  \" fill=\"#009af9\" fill-rule=\"evenodd\" fill-opacity=\"1\"/>\n",
       "<polyline clip-path=\"url(#clip932)\" style=\"stroke:#000000; stroke-linecap:butt; stroke-linejoin:round; stroke-width:4; stroke-opacity:1; fill:none\" points=\"\n",
       "  2090.6,1431.72 2090.6,1445.72 2160.88,1445.72 2160.88,1431.72 2090.6,1431.72 \n",
       "  \"/>\n",
       "<path clip-path=\"url(#clip932)\" d=\"\n",
       "M2160.88 1417.72 L2160.88 1445.72 L2231.15 1445.72 L2231.15 1417.72 L2160.88 1417.72 L2160.88 1417.72  Z\n",
       "  \" fill=\"#009af9\" fill-rule=\"evenodd\" fill-opacity=\"1\"/>\n",
       "<polyline clip-path=\"url(#clip932)\" style=\"stroke:#000000; stroke-linecap:butt; stroke-linejoin:round; stroke-width:4; stroke-opacity:1; fill:none\" points=\"\n",
       "  2160.88,1417.72 2160.88,1445.72 2231.15,1445.72 2231.15,1417.72 2160.88,1417.72 \n",
       "  \"/>\n",
       "<circle clip-path=\"url(#clip932)\" style=\"fill:#009af9; stroke:none; fill-opacity:0\" cx=\"298.594\" cy=\"1431.72\" r=\"2\"/>\n",
       "<circle clip-path=\"url(#clip932)\" style=\"fill:#009af9; stroke:none; fill-opacity:0\" cx=\"368.869\" cy=\"1445.72\" r=\"2\"/>\n",
       "<circle clip-path=\"url(#clip932)\" style=\"fill:#009af9; stroke:none; fill-opacity:0\" cx=\"439.144\" cy=\"1445.72\" r=\"2\"/>\n",
       "<circle clip-path=\"url(#clip932)\" style=\"fill:#009af9; stroke:none; fill-opacity:0\" cx=\"509.419\" cy=\"1417.72\" r=\"2\"/>\n",
       "<circle clip-path=\"url(#clip932)\" style=\"fill:#009af9; stroke:none; fill-opacity:0\" cx=\"579.693\" cy=\"1445.72\" r=\"2\"/>\n",
       "<circle clip-path=\"url(#clip932)\" style=\"fill:#009af9; stroke:none; fill-opacity:0\" cx=\"649.968\" cy=\"1361.73\" r=\"2\"/>\n",
       "<circle clip-path=\"url(#clip932)\" style=\"fill:#009af9; stroke:none; fill-opacity:0\" cx=\"720.243\" cy=\"1333.74\" r=\"2\"/>\n",
       "<circle clip-path=\"url(#clip932)\" style=\"fill:#009af9; stroke:none; fill-opacity:0\" cx=\"790.518\" cy=\"1165.77\" r=\"2\"/>\n",
       "<circle clip-path=\"url(#clip932)\" style=\"fill:#009af9; stroke:none; fill-opacity:0\" cx=\"860.793\" cy=\"1109.78\" r=\"2\"/>\n",
       "<circle clip-path=\"url(#clip932)\" style=\"fill:#009af9; stroke:none; fill-opacity:0\" cx=\"931.068\" cy=\"927.815\" r=\"2\"/>\n",
       "<circle clip-path=\"url(#clip932)\" style=\"fill:#009af9; stroke:none; fill-opacity:0\" cx=\"1001.34\" cy=\"661.866\" r=\"2\"/>\n",
       "<circle clip-path=\"url(#clip932)\" style=\"fill:#009af9; stroke:none; fill-opacity:0\" cx=\"1071.62\" cy=\"591.88\" r=\"2\"/>\n",
       "<circle clip-path=\"url(#clip932)\" style=\"fill:#009af9; stroke:none; fill-opacity:0\" cx=\"1141.89\" cy=\"241.947\" r=\"2\"/>\n",
       "<circle clip-path=\"url(#clip932)\" style=\"fill:#009af9; stroke:none; fill-opacity:0\" cx=\"1212.17\" cy=\"283.939\" r=\"2\"/>\n",
       "<circle clip-path=\"url(#clip932)\" style=\"fill:#009af9; stroke:none; fill-opacity:0\" cx=\"1282.44\" cy=\"129.968\" r=\"2\"/>\n",
       "<circle clip-path=\"url(#clip932)\" style=\"fill:#009af9; stroke:none; fill-opacity:0\" cx=\"1352.72\" cy=\"87.9763\" r=\"2\"/>\n",
       "<circle clip-path=\"url(#clip932)\" style=\"fill:#009af9; stroke:none; fill-opacity:0\" cx=\"1422.99\" cy=\"129.968\" r=\"2\"/>\n",
       "<circle clip-path=\"url(#clip932)\" style=\"fill:#009af9; stroke:none; fill-opacity:0\" cx=\"1493.27\" cy=\"157.963\" r=\"2\"/>\n",
       "<circle clip-path=\"url(#clip932)\" style=\"fill:#009af9; stroke:none; fill-opacity:0\" cx=\"1563.54\" cy=\"395.917\" r=\"2\"/>\n",
       "<circle clip-path=\"url(#clip932)\" style=\"fill:#009af9; stroke:none; fill-opacity:0\" cx=\"1633.82\" cy=\"745.85\" r=\"2\"/>\n",
       "<circle clip-path=\"url(#clip932)\" style=\"fill:#009af9; stroke:none; fill-opacity:0\" cx=\"1704.09\" cy=\"941.812\" r=\"2\"/>\n",
       "<circle clip-path=\"url(#clip932)\" style=\"fill:#009af9; stroke:none; fill-opacity:0\" cx=\"1774.37\" cy=\"885.823\" r=\"2\"/>\n",
       "<circle clip-path=\"url(#clip932)\" style=\"fill:#009af9; stroke:none; fill-opacity:0\" cx=\"1844.64\" cy=\"1207.76\" r=\"2\"/>\n",
       "<circle clip-path=\"url(#clip932)\" style=\"fill:#009af9; stroke:none; fill-opacity:0\" cx=\"1914.92\" cy=\"1375.73\" r=\"2\"/>\n",
       "<circle clip-path=\"url(#clip932)\" style=\"fill:#009af9; stroke:none; fill-opacity:0\" cx=\"1985.19\" cy=\"1347.73\" r=\"2\"/>\n",
       "<circle clip-path=\"url(#clip932)\" style=\"fill:#009af9; stroke:none; fill-opacity:0\" cx=\"2055.47\" cy=\"1361.73\" r=\"2\"/>\n",
       "<circle clip-path=\"url(#clip932)\" style=\"fill:#009af9; stroke:none; fill-opacity:0\" cx=\"2125.74\" cy=\"1431.72\" r=\"2\"/>\n",
       "<circle clip-path=\"url(#clip932)\" style=\"fill:#009af9; stroke:none; fill-opacity:0\" cx=\"2196.01\" cy=\"1417.72\" r=\"2\"/>\n",
       "</svg>\n"
      ]
     },
     "metadata": {},
     "output_type": "display_data"
    }
   ],
   "source": [
    "Random.seed!(101)\n",
    "y = rand(Normal(10, 2), 1000);\n",
    "Plots.histogram(y, nbins=30, legend=false)"
   ]
  },
  {
   "cell_type": "markdown",
   "metadata": {},
   "source": [
    "随机抽样"
   ]
  },
  {
   "cell_type": "markdown",
   "metadata": {},
   "source": [
    "StatsBase.sample(x,n)函数可以从一列值x中随机有放回抽取n个值。 加replace=false作无放回抽样。"
   ]
  },
  {
   "cell_type": "code",
   "execution_count": 19,
   "metadata": {},
   "outputs": [
    {
     "data": {
      "text/plain": [
       "5-element Vector{Int64}:\n",
       " 2\n",
       " 8\n",
       " 4\n",
       " 9\n",
       " 6"
      ]
     },
     "metadata": {},
     "output_type": "display_data"
    }
   ],
   "source": [
    "StatsBase.sample(1:10, 5, replace=false)"
   ]
  },
  {
   "cell_type": "code",
   "execution_count": 20,
   "metadata": {},
   "outputs": [
    {
     "data": {
      "text/plain": [
       "5-element Vector{Int64}:\n",
       "  5\n",
       " 10\n",
       "  7\n",
       "  4\n",
       "  6"
      ]
     },
     "metadata": {},
     "output_type": "display_data"
    }
   ],
   "source": [
    "StatsBase.sample(1:10, StatsBase.Weights([ones(5); 4 .* ones(5)]), 5; replace=false)"
   ]
  },
  {
   "cell_type": "code",
   "execution_count": 21,
   "metadata": {},
   "outputs": [
    {
     "data": {
      "text/plain": [
       "2-element Vector{Float64}:\n",
       " 10.0\n",
       " 13.919927969080115"
      ]
     },
     "metadata": {},
     "output_type": "display_data"
    }
   ],
   "source": [
    "quantile.(Normal(10, 2), [0.5, 0.975])"
   ]
  },
  {
   "cell_type": "code",
   "execution_count": 22,
   "metadata": {},
   "outputs": [
    {
     "data": {
      "text/plain": [
       "2-element Vector{Float64}:\n",
       " 10.0\n",
       " 13.919927969080115"
      ]
     },
     "metadata": {},
     "output_type": "display_data"
    }
   ],
   "source": [
    "10 .+ 2 .* quantile.(Normal(), [0.5, 0.975])"
   ]
  },
  {
   "cell_type": "code",
   "execution_count": 23,
   "metadata": {},
   "outputs": [
    {
     "data": {
      "image/png": "[encoded data removed]",
      "image/svg+xml": "<?xml version=\"1.0\" encoding=\"utf-8\"?>\n<svg xmlns=\"http://www.w3.org/2000/svg\" xmlns:xlink=\"http://www.w3.org/1999/xlink\" width=\"600\" height=\"400\" viewBox=\"0 0 2400 1600\">\n<defs>\n  <clipPath id=\"clip970\">\n    <rect x=\"0\" y=\"0\" width=\"2400\" height=\"1600\"/>\n  </clipPath>\n</defs>\n<path clip-path=\"url(#clip970)\" d=\"\nM0 1600 L2400 1600 L2400 0 L0 0  Z\n  \" fill=\"#ffffff\" fill-rule=\"evenodd\" fill-opacity=\"1\"/>\n<defs>\n  <clipPath id=\"clip971\">\n    <rect x=\"480\" y=\"0\" width=\"1681\" height=\"1600\"/>\n  </clipPath>\n</defs>\n<path clip-path=\"url(#clip970)\" d=\"\nM156.598 1486.45 L2352.76 1486.45 L2352.76 47.2441 L156.598 47.2441  Z\n  \" fill=\"#ffffff\" fill-rule=\"evenodd\" fill-opacity=\"1\"/>\n<defs>\n  <clipPath id=\"clip972\">\n    <rect x=\"156\" y=\"47\" width=\"2197\" height=\"1440\"/>\n  </clipPath>\n</defs>\n<polyline clip-path=\"url(#clip972)\" style=\"stroke:#000000; stroke-linecap:butt; stroke-linejoin:round; stroke-width:2; stroke-opacity:0.1; fill:none\" points=\"\n  218.754,1486.45 218.754,47.2441 \n  \"/>\n<polyline clip-path=\"url(#clip972)\" style=\"stroke:#000000; stroke-linecap:butt; stroke-linejoin:round; stroke-width:2; stroke-opacity:0.1; fill:none\" points=\"\n  564.061,1486.45 564.061,47.2441 \n  \"/>\n<polyline clip-path=\"url(#clip972)\" style=\"stroke:#000000; stroke-linecap:butt; stroke-linejoin:round; stroke-width:2; stroke-opacity:0.1; fill:none\" points=\"\n  909.369,1486.45 909.369,47.2441 \n  \"/>\n<polyline clip-path=\"url(#clip972)\" style=\"stroke:#000000; stroke-linecap:butt; stroke-linejoin:round; stroke-width:2; stroke-opacity:0.1; fill:none\" points=\"\n  1254.68,1486.45 1254.68,47.2441 \n  \"/>\n<polyline clip-path=\"url(#clip972)\" style=\"stroke:#000000; stroke-linecap:butt; stroke-linejoin:round; stroke-width:2; stroke-opacity:0.1; fill:none\" points=\"\n  1599.98,1486.45 1599.98,47.2441 \n  \"/>\n<polyline clip-path=\"url(#clip972)\" style=\"stroke:#000000; stroke-linecap:butt; stroke-linejoin:round; stroke-width:2; stroke-opacity:0.1; fill:none\" points=\"\n  1945.29,1486.45 1945.29,47.2441 \n  \"/>\n<polyline clip-path=\"url(#clip972)\" style=\"stroke:#000000; stroke-linecap:butt; stroke-linejoin:round; stroke-width:2; stroke-opacity:0.1; fill:none\" points=\"\n  2290.6,1486.45 2290.6,47.2441 \n  \"/>\n<polyline clip-path=\"url(#clip970)\" style=\"stroke:#000000; stroke-linecap:butt; stroke-linejoin:round; stroke-width:4; stroke-opacity:1; fill:none\" points=\"\n  156.598,1486.45 2352.76,1486.45 \n  \"/>\n<polyline clip-path=\"url(#clip970)\" style=\"stroke:#000000; stroke-linecap:butt; stroke-linejoin:round; stroke-width:4; stroke-opacity:1; fill:none\" points=\"\n  218.754,1486.45 218.754,1467.55 \n  \"/>\n<polyline clip-path=\"url(#clip970)\" style=\"stroke:#000000; stroke-linecap:butt; stroke-linejoin:round; stroke-width:4; stroke-opacity:1; fill:none\" points=\"\n  564.061,1486.45 564.061,1467.55 \n  \"/>\n<polyline clip-path=\"url(#clip970)\" style=\"stroke:#000000; stroke-linecap:butt; stroke-linejoin:round; stroke-width:4; stroke-opacity:1; fill:none\" points=\"\n  909.369,1486.45 909.369,1467.55 \n  \"/>\n<polyline clip-path=\"url(#clip970)\" style=\"stroke:#000000; stroke-linecap:butt; stroke-linejoin:round; stroke-width:4; stroke-opacity:1; fill:none\" points=\"\n  1254.68,1486.45 1254.68,1467.55 \n  \"/>\n<polyline clip-path=\"url(#clip970)\" style=\"stroke:#000000; stroke-linecap:butt; stroke-linejoin:round; stroke-width:4; stroke-opacity:1; fill:none\" points=\"\n  1599.98,1486.45 1599.98,1467.55 \n  \"/>\n<polyline clip-path=\"url(#clip970)\" style=\"stroke:#000000; stroke-linecap:butt; stroke-linejoin:round; stroke-width:4; stroke-opacity:1; fill:none\" points=\"\n  1945.29,1486.45 1945.29,1467.55 \n  \"/>\n<polyline clip-path=\"url(#clip970)\" style=\"stroke:#000000; stroke-linecap:butt; stroke-linejoin:round; stroke-width:4; stroke-opacity:1; fill:none\" points=\"\n  2290.6,1486.45 2290.6,1467.55 \n  \"/>\n<path clip-path=\"url(#clip970)\" d=\"M188.221 1532.02 L217.897 1532.02 L217.897 1535.95 L188.221 1535.95 L188.221 1532.02 Z\" fill=\"#000000\" fill-rule=\"evenodd\" fill-opacity=\"1\" /><path clip-path=\"url(#clip970)\" d=\"M242.156 1530.21 Q245.513 1530.93 247.388 1533.2 Q249.286 1535.47 249.286 1538.8 Q249.286 1543.92 245.767 1546.72 Q242.249 1549.52 235.767 1549.52 Q233.592 1549.52 231.277 1549.08 Q228.985 1548.66 226.531 1547.81 L226.531 1543.29 Q228.476 1544.43 230.791 1545.01 Q233.105 1545.58 235.629 1545.58 Q240.027 1545.58 242.318 1543.85 Q244.633 1542.11 244.633 1538.8 Q244.633 1535.75 242.48 1534.03 Q240.351 1532.3 236.531 1532.3 L232.504 1532.3 L232.504 1528.45 L236.717 1528.45 Q240.166 1528.45 241.994 1527.09 Q243.823 1525.7 243.823 1523.11 Q243.823 1520.45 241.925 1519.03 Q240.05 1517.6 236.531 1517.6 Q234.61 1517.6 232.411 1518.01 Q230.212 1518.43 227.573 1519.31 L227.573 1515.14 Q230.235 1514.4 232.55 1514.03 Q234.888 1513.66 236.948 1513.66 Q242.272 1513.66 245.374 1516.09 Q248.476 1518.5 248.476 1522.62 Q248.476 1525.49 246.832 1527.48 Q245.189 1529.45 242.156 1530.21 Z\" fill=\"#000000\" fill-rule=\"evenodd\" fill-opacity=\"1\" /><path clip-path=\"url(#clip970)\" d=\"M534.004 1532.02 L563.68 1532.02 L563.68 1535.95 L534.004 1535.95 L534.004 1532.02 Z\" fill=\"#000000\" fill-rule=\"evenodd\" fill-opacity=\"1\" /><path clip-path=\"url(#clip970)\" d=\"M577.8 1544.91 L594.119 1544.91 L594.119 1548.85 L572.175 1548.85 L572.175 1544.91 Q574.837 1542.16 579.42 1537.53 Q584.027 1532.88 585.207 1531.53 Q587.453 1529.01 588.332 1527.27 Q589.235 1525.51 589.235 1523.82 Q589.235 1521.07 587.29 1519.33 Q585.369 1517.6 582.267 1517.6 Q580.068 1517.6 577.615 1518.36 Q575.184 1519.13 572.406 1520.68 L572.406 1515.95 Q575.23 1514.82 577.684 1514.24 Q580.138 1513.66 582.175 1513.66 Q587.545 1513.66 590.74 1516.35 Q593.934 1519.03 593.934 1523.52 Q593.934 1525.65 593.124 1527.57 Q592.337 1529.47 590.23 1532.07 Q589.652 1532.74 586.55 1535.95 Q583.448 1539.15 577.8 1544.91 Z\" fill=\"#000000\" fill-rule=\"evenodd\" fill-opacity=\"1\" /><path clip-path=\"url(#clip970)\" d=\"M879.126 1532.02 L908.802 1532.02 L908.802 1535.95 L879.126 1535.95 L879.126 1532.02 Z\" fill=\"#000000\" fill-rule=\"evenodd\" fill-opacity=\"1\" /><path clip-path=\"url(#clip970)\" d=\"M919.705 1544.91 L927.344 1544.91 L927.344 1518.55 L919.034 1520.21 L919.034 1515.95 L927.297 1514.29 L931.973 1514.29 L931.973 1544.91 L939.612 1544.91 L939.612 1548.85 L919.705 1548.85 L919.705 1544.91 Z\" fill=\"#000000\" fill-rule=\"evenodd\" fill-opacity=\"1\" /><path clip-path=\"url(#clip970)\" d=\"M1254.68 1517.37 Q1251.07 1517.37 1249.24 1520.93 Q1247.43 1524.47 1247.43 1531.6 Q1247.43 1538.71 1249.24 1542.27 Q1251.07 1545.82 1254.68 1545.82 Q1258.31 1545.82 1260.12 1542.27 Q1261.95 1538.71 1261.95 1531.6 Q1261.95 1524.47 1260.12 1520.93 Q1258.31 1517.37 1254.68 1517.37 M1254.68 1513.66 Q1260.49 1513.66 1263.54 1518.27 Q1266.62 1522.85 1266.62 1531.6 Q1266.62 1540.33 1263.54 1544.94 Q1260.49 1549.52 1254.68 1549.52 Q1248.87 1549.52 1245.79 1544.94 Q1242.73 1540.33 1242.73 1531.6 Q1242.73 1522.85 1245.79 1518.27 Q1248.87 1513.66 1254.68 1513.66 Z\" fill=\"#000000\" fill-rule=\"evenodd\" fill-opacity=\"1\" /><path clip-path=\"url(#clip970)\" d=\"M1590.37 1544.91 L1598.01 1544.91 L1598.01 1518.55 L1589.7 1520.21 L1589.7 1515.95 L1597.96 1514.29 L1602.64 1514.29 L1602.64 1544.91 L1610.27 1544.91 L1610.27 1548.85 L1590.37 1548.85 L1590.37 1544.91 Z\" fill=\"#000000\" fill-rule=\"evenodd\" fill-opacity=\"1\" /><path clip-path=\"url(#clip970)\" d=\"M1939.95 1544.91 L1956.26 1544.91 L1956.26 1548.85 L1934.32 1548.85 L1934.32 1544.91 Q1936.98 1542.16 1941.57 1537.53 Q1946.17 1532.88 1947.35 1531.53 Q1949.6 1529.01 1950.48 1527.27 Q1951.38 1525.51 1951.38 1523.82 Q1951.38 1521.07 1949.44 1519.33 Q1947.51 1517.6 1944.41 1517.6 Q1942.21 1517.6 1939.76 1518.36 Q1937.33 1519.13 1934.55 1520.68 L1934.55 1515.95 Q1937.38 1514.82 1939.83 1514.24 Q1942.28 1513.66 1944.32 1513.66 Q1949.69 1513.66 1952.89 1516.35 Q1956.08 1519.03 1956.08 1523.52 Q1956.08 1525.65 1955.27 1527.57 Q1954.48 1529.47 1952.38 1532.07 Q1951.8 1532.74 1948.7 1535.95 Q1945.59 1539.15 1939.95 1544.91 Z\" fill=\"#000000\" fill-rule=\"evenodd\" fill-opacity=\"1\" /><path clip-path=\"url(#clip970)\" d=\"M2294.85 1530.21 Q2298.2 1530.93 2300.08 1533.2 Q2301.98 1535.47 2301.98 1538.8 Q2301.98 1543.92 2298.46 1546.72 Q2294.94 1549.52 2288.46 1549.52 Q2286.28 1549.52 2283.97 1549.08 Q2281.68 1548.66 2279.22 1547.81 L2279.22 1543.29 Q2281.17 1544.43 2283.48 1545.01 Q2285.8 1545.58 2288.32 1545.58 Q2292.72 1545.58 2295.01 1543.85 Q2297.33 1542.11 2297.33 1538.8 Q2297.33 1535.75 2295.17 1534.03 Q2293.04 1532.3 2289.22 1532.3 L2285.2 1532.3 L2285.2 1528.45 L2289.41 1528.45 Q2292.86 1528.45 2294.69 1527.09 Q2296.51 1525.7 2296.51 1523.11 Q2296.51 1520.45 2294.62 1519.03 Q2292.74 1517.6 2289.22 1517.6 Q2287.3 1517.6 2285.1 1518.01 Q2282.9 1518.43 2280.26 1519.31 L2280.26 1515.14 Q2282.93 1514.4 2285.24 1514.03 Q2287.58 1513.66 2289.64 1513.66 Q2294.96 1513.66 2298.07 1516.09 Q2301.17 1518.5 2301.17 1522.62 Q2301.17 1525.49 2299.52 1527.48 Q2297.88 1529.45 2294.85 1530.21 Z\" fill=\"#000000\" fill-rule=\"evenodd\" fill-opacity=\"1\" /><polyline clip-path=\"url(#clip972)\" style=\"stroke:#000000; stroke-linecap:butt; stroke-linejoin:round; stroke-width:2; stroke-opacity:0.1; fill:none\" points=\"\n  156.598,1460.97 2352.76,1460.97 \n  \"/>\n<polyline clip-path=\"url(#clip972)\" style=\"stroke:#000000; stroke-linecap:butt; stroke-linejoin:round; stroke-width:2; stroke-opacity:0.1; fill:none\" points=\"\n  156.598,1116.77 2352.76,1116.77 \n  \"/>\n<polyline clip-path=\"url(#clip972)\" style=\"stroke:#000000; stroke-linecap:butt; stroke-linejoin:round; stroke-width:2; stroke-opacity:0.1; fill:none\" points=\"\n  156.598,772.578 2352.76,772.578 \n  \"/>\n<polyline clip-path=\"url(#clip972)\" style=\"stroke:#000000; stroke-linecap:butt; stroke-linejoin:round; stroke-width:2; stroke-opacity:0.1; fill:none\" points=\"\n  156.598,428.381 2352.76,428.381 \n  \"/>\n<polyline clip-path=\"url(#clip972)\" style=\"stroke:#000000; stroke-linecap:butt; stroke-linejoin:round; stroke-width:2; stroke-opacity:0.1; fill:none\" points=\"\n  156.598,84.1851 2352.76,84.1851 \n  \"/>\n<polyline clip-path=\"url(#clip970)\" style=\"stroke:#000000; stroke-linecap:butt; stroke-linejoin:round; stroke-width:4; stroke-opacity:1; fill:none\" points=\"\n  156.598,1486.45 156.598,47.2441 \n  \"/>\n<polyline clip-path=\"url(#clip970)\" style=\"stroke:#000000; stroke-linecap:butt; stroke-linejoin:round; stroke-width:4; stroke-opacity:1; fill:none\" points=\"\n  156.598,1460.97 175.496,1460.97 \n  \"/>\n<polyline clip-path=\"url(#clip970)\" style=\"stroke:#000000; stroke-linecap:butt; stroke-linejoin:round; stroke-width:4; stroke-opacity:1; fill:none\" points=\"\n  156.598,1116.77 175.496,1116.77 \n  \"/>\n<polyline clip-path=\"url(#clip970)\" style=\"stroke:#000000; stroke-linecap:butt; stroke-linejoin:round; stroke-width:4; stroke-opacity:1; fill:none\" points=\"\n  156.598,772.578 175.496,772.578 \n  \"/>\n<polyline clip-path=\"url(#clip970)\" style=\"stroke:#000000; stroke-linecap:butt; stroke-linejoin:round; stroke-width:4; stroke-opacity:1; fill:none\" points=\"\n  156.598,428.381 175.496,428.381 \n  \"/>\n<polyline clip-path=\"url(#clip970)\" style=\"stroke:#000000; stroke-linecap:butt; stroke-linejoin:round; stroke-width:4; stroke-opacity:1; fill:none\" points=\"\n  156.598,84.1851 175.496,84.1851 \n  \"/>\n<path clip-path=\"url(#clip970)\" d=\"M63.4226 1446.77 Q59.8115 1446.77 57.9828 1450.33 Q56.1773 1453.88 56.1773 1461 Q56.1773 1468.11 57.9828 1471.68 Q59.8115 1475.22 63.4226 1475.22 Q67.0569 1475.22 68.8624 1471.68 Q70.6911 1468.11 70.6911 1461 Q70.6911 1453.88 68.8624 1450.33 Q67.0569 1446.77 63.4226 1446.77 M63.4226 1443.06 Q69.2328 1443.06 72.2883 1447.67 Q75.367 1452.25 75.367 1461 Q75.367 1469.73 72.2883 1474.34 Q69.2328 1478.92 63.4226 1478.92 Q57.6125 1478.92 54.5338 1474.34 Q51.4782 1469.73 51.4782 1461 Q51.4782 1452.25 54.5338 1447.67 Q57.6125 1443.06 63.4226 1443.06 Z\" fill=\"#000000\" fill-rule=\"evenodd\" fill-opacity=\"1\" /><path clip-path=\"url(#clip970)\" d=\"M83.5845 1472.37 L88.4688 1472.37 L88.4688 1478.25 L83.5845 1478.25 L83.5845 1472.37 Z\" fill=\"#000000\" fill-rule=\"evenodd\" fill-opacity=\"1\" /><path clip-path=\"url(#clip970)\" d=\"M108.654 1446.77 Q105.043 1446.77 103.214 1450.33 Q101.409 1453.88 101.409 1461 Q101.409 1468.11 103.214 1471.68 Q105.043 1475.22 108.654 1475.22 Q112.288 1475.22 114.094 1471.68 Q115.922 1468.11 115.922 1461 Q115.922 1453.88 114.094 1450.33 Q112.288 1446.77 108.654 1446.77 M108.654 1443.06 Q114.464 1443.06 117.52 1447.67 Q120.598 1452.25 120.598 1461 Q120.598 1469.73 117.52 1474.34 Q114.464 1478.92 108.654 1478.92 Q102.844 1478.92 99.765 1474.34 Q96.7095 1469.73 96.7095 1461 Q96.7095 1452.25 99.765 1447.67 Q102.844 1443.06 108.654 1443.06 Z\" fill=\"#000000\" fill-rule=\"evenodd\" fill-opacity=\"1\" /><path clip-path=\"url(#clip970)\" d=\"M64.6495 1102.57 Q61.0384 1102.57 59.2097 1106.14 Q57.4041 1109.68 57.4041 1116.81 Q57.4041 1123.91 59.2097 1127.48 Q61.0384 1131.02 64.6495 1131.02 Q68.2837 1131.02 70.0892 1127.48 Q71.9179 1123.91 71.9179 1116.81 Q71.9179 1109.68 70.0892 1106.14 Q68.2837 1102.57 64.6495 1102.57 M64.6495 1098.87 Q70.4596 1098.87 73.5152 1103.48 Q76.5938 1108.06 76.5938 1116.81 Q76.5938 1125.54 73.5152 1130.14 Q70.4596 1134.73 64.6495 1134.73 Q58.8393 1134.73 55.7606 1130.14 Q52.7051 1125.54 52.7051 1116.81 Q52.7051 1108.06 55.7606 1103.48 Q58.8393 1098.87 64.6495 1098.87 Z\" fill=\"#000000\" fill-rule=\"evenodd\" fill-opacity=\"1\" /><path clip-path=\"url(#clip970)\" d=\"M84.8114 1128.17 L89.6956 1128.17 L89.6956 1134.05 L84.8114 1134.05 L84.8114 1128.17 Z\" fill=\"#000000\" fill-rule=\"evenodd\" fill-opacity=\"1\" /><path clip-path=\"url(#clip970)\" d=\"M100.691 1130.12 L108.33 1130.12 L108.33 1103.75 L100.02 1105.42 L100.02 1101.16 L108.283 1099.49 L112.959 1099.49 L112.959 1130.12 L120.598 1130.12 L120.598 1134.05 L100.691 1134.05 L100.691 1130.12 Z\" fill=\"#000000\" fill-rule=\"evenodd\" fill-opacity=\"1\" /><path clip-path=\"url(#clip970)\" d=\"M65.0198 758.376 Q61.4087 758.376 59.58 761.941 Q57.7745 765.483 57.7745 772.612 Q57.7745 779.719 59.58 783.284 Q61.4087 786.825 65.0198 786.825 Q68.6541 786.825 70.4596 783.284 Q72.2883 779.719 72.2883 772.612 Q72.2883 765.483 70.4596 761.941 Q68.6541 758.376 65.0198 758.376 M65.0198 754.673 Q70.83 754.673 73.8855 759.279 Q76.9642 763.862 76.9642 772.612 Q76.9642 781.339 73.8855 785.946 Q70.83 790.529 65.0198 790.529 Q59.2097 790.529 56.131 785.946 Q53.0754 781.339 53.0754 772.612 Q53.0754 763.862 56.131 759.279 Q59.2097 754.673 65.0198 754.673 Z\" fill=\"#000000\" fill-rule=\"evenodd\" fill-opacity=\"1\" /><path clip-path=\"url(#clip970)\" d=\"M85.1818 783.978 L90.066 783.978 L90.066 789.858 L85.1818 789.858 L85.1818 783.978 Z\" fill=\"#000000\" fill-rule=\"evenodd\" fill-opacity=\"1\" /><path clip-path=\"url(#clip970)\" d=\"M104.279 785.922 L120.598 785.922 L120.598 789.858 L98.6539 789.858 L98.6539 785.922 Q101.316 783.168 105.899 778.538 Q110.506 773.885 111.686 772.543 Q113.932 770.02 114.811 768.284 Q115.714 766.524 115.714 764.835 Q115.714 762.08 113.77 760.344 Q111.848 758.608 108.746 758.608 Q106.547 758.608 104.094 759.372 Q101.663 760.135 98.8854 761.686 L98.8854 756.964 Q101.709 755.83 104.163 755.251 Q106.617 754.673 108.654 754.673 Q114.024 754.673 117.219 757.358 Q120.413 760.043 120.413 764.534 Q120.413 766.663 119.603 768.585 Q118.816 770.483 116.709 773.075 Q116.131 773.747 113.029 776.964 Q109.927 780.159 104.279 785.922 Z\" fill=\"#000000\" fill-rule=\"evenodd\" fill-opacity=\"1\" /><path clip-path=\"url(#clip970)\" d=\"M64.0708 414.18 Q60.4597 414.18 58.631 417.745 Q56.8254 421.286 56.8254 428.416 Q56.8254 435.523 58.631 439.087 Q60.4597 442.629 64.0708 442.629 Q67.705 442.629 69.5105 439.087 Q71.3392 435.523 71.3392 428.416 Q71.3392 421.286 69.5105 417.745 Q67.705 414.18 64.0708 414.18 M64.0708 410.476 Q69.8809 410.476 72.9365 415.083 Q76.0151 419.666 76.0151 428.416 Q76.0151 437.143 72.9365 441.749 Q69.8809 446.333 64.0708 446.333 Q58.2606 446.333 55.1819 441.749 Q52.1264 437.143 52.1264 428.416 Q52.1264 419.666 55.1819 415.083 Q58.2606 410.476 64.0708 410.476 Z\" fill=\"#000000\" fill-rule=\"evenodd\" fill-opacity=\"1\" /><path clip-path=\"url(#clip970)\" d=\"M84.2327 439.782 L89.1169 439.782 L89.1169 445.661 L84.2327 445.661 L84.2327 439.782 Z\" fill=\"#000000\" fill-rule=\"evenodd\" fill-opacity=\"1\" /><path clip-path=\"url(#clip970)\" d=\"M113.469 427.027 Q116.825 427.745 118.7 430.013 Q120.598 432.282 120.598 435.615 Q120.598 440.731 117.08 443.532 Q113.561 446.333 107.08 446.333 Q104.904 446.333 102.589 445.893 Q100.297 445.476 97.8437 444.62 L97.8437 440.106 Q99.7882 441.24 102.103 441.819 Q104.418 442.397 106.941 442.397 Q111.339 442.397 113.631 440.661 Q115.945 438.925 115.945 435.615 Q115.945 432.56 113.793 430.847 Q111.663 429.111 107.844 429.111 L103.816 429.111 L103.816 425.268 L108.029 425.268 Q111.478 425.268 113.307 423.902 Q115.135 422.513 115.135 419.921 Q115.135 417.259 113.237 415.847 Q111.362 414.412 107.844 414.412 Q105.922 414.412 103.723 414.828 Q101.524 415.245 98.8854 416.124 L98.8854 411.958 Q101.547 411.217 103.862 410.847 Q106.2 410.476 108.26 410.476 Q113.584 410.476 116.686 412.907 Q119.788 415.314 119.788 419.435 Q119.788 422.305 118.145 424.296 Q116.501 426.263 113.469 427.027 Z\" fill=\"#000000\" fill-rule=\"evenodd\" fill-opacity=\"1\" /><path clip-path=\"url(#clip970)\" d=\"M62.9365 69.9838 Q59.3254 69.9838 57.4967 73.5486 Q55.6912 77.0903 55.6912 84.2199 Q55.6912 91.3263 57.4967 94.8911 Q59.3254 98.4328 62.9365 98.4328 Q66.5707 98.4328 68.3763 94.8911 Q70.205 91.3263 70.205 84.2199 Q70.205 77.0903 68.3763 73.5486 Q66.5707 69.9838 62.9365 69.9838 M62.9365 66.2801 Q68.7467 66.2801 71.8022 70.8866 Q74.8809 75.4699 74.8809 84.2199 Q74.8809 92.9467 71.8022 97.5531 Q68.7467 102.136 62.9365 102.136 Q57.1264 102.136 54.0477 97.5531 Q50.9921 92.9467 50.9921 84.2199 Q50.9921 75.4699 54.0477 70.8866 Q57.1264 66.2801 62.9365 66.2801 Z\" fill=\"#000000\" fill-rule=\"evenodd\" fill-opacity=\"1\" /><path clip-path=\"url(#clip970)\" d=\"M83.0984 95.5855 L87.9827 95.5855 L87.9827 101.465 L83.0984 101.465 L83.0984 95.5855 Z\" fill=\"#000000\" fill-rule=\"evenodd\" fill-opacity=\"1\" /><path clip-path=\"url(#clip970)\" d=\"M111.015 70.9792 L99.2095 89.4282 L111.015 89.4282 L111.015 70.9792 M109.788 66.9051 L115.668 66.9051 L115.668 89.4282 L120.598 89.4282 L120.598 93.317 L115.668 93.317 L115.668 101.465 L111.015 101.465 L111.015 93.317 L95.4132 93.317 L95.4132 88.8032 L109.788 66.9051 Z\" fill=\"#000000\" fill-rule=\"evenodd\" fill-opacity=\"1\" /><polyline clip-path=\"url(#clip972)\" style=\"stroke:#009af9; stroke-linecap:butt; stroke-linejoin:round; stroke-width:4; stroke-opacity:1; fill:none\" points=\"\n  218.754,1445.72 228.87,1444.32 238.987,1442.82 332.53,1422.15 426.073,1383.82 454.181,1367.48 482.288,1348.44 510.396,1326.42 538.504,1301.14 586.033,1250.34 \n  633.562,1188.6 685.193,1108.52 736.823,1014.97 784.422,917.731 832.02,811.751 883.051,691.473 934.081,568.616 993.205,430.085 1052.33,304.456 1078.6,255.224 \n  1104.87,211.151 1131.14,172.944 1157.41,141.231 1180.45,119.185 1203.49,102.83 1226.53,92.381 1249.56,87.9763 1274.68,90.1281 1299.8,99.4989 1324.92,115.941 \n  1350.03,139.196 1375.3,169.099 1400.57,205.066 1425.83,246.552 1451.1,292.938 1506.97,409.494 1562.84,538.877 1616,666.711 1669.16,792.846 1724.43,916.655 \n  1779.7,1028.74 1826.23,1111.99 1872.76,1184.28 1929.57,1257.62 1986.37,1315.52 2039.77,1357.4 2093.17,1388.97 2178.72,1422.71 2264.27,1441.85 2277.43,1443.88 \n  2290.6,1445.72 \n  \"/>\n</svg>\n",
      "text/html": [
       "<?xml version=\"1.0\" encoding=\"utf-8\"?>\n",
       "<svg xmlns=\"http://www.w3.org/2000/svg\" xmlns:xlink=\"http://www.w3.org/1999/xlink\" width=\"600\" height=\"400\" viewBox=\"0 0 2400 1600\">\n",
       "<defs>\n",
       "  <clipPath id=\"clip020\">\n",
       "    <rect x=\"0\" y=\"0\" width=\"2400\" height=\"1600\"/>\n",
       "  </clipPath>\n",
       "</defs>\n",
       "<path clip-path=\"url(#clip020)\" d=\"\n",
       "M0 1600 L2400 1600 L2400 0 L0 0  Z\n",
       "  \" fill=\"#ffffff\" fill-rule=\"evenodd\" fill-opacity=\"1\"/>\n",
       "<defs>\n",
       "  <clipPath id=\"clip021\">\n",
       "    <rect x=\"480\" y=\"0\" width=\"1681\" height=\"1600\"/>\n",
       "  </clipPath>\n",
       "</defs>\n",
       "<path clip-path=\"url(#clip020)\" d=\"\n",
       "M156.598 1486.45 L2352.76 1486.45 L2352.76 47.2441 L156.598 47.2441  Z\n",
       "  \" fill=\"#ffffff\" fill-rule=\"evenodd\" fill-opacity=\"1\"/>\n",
       "<defs>\n",
       "  <clipPath id=\"clip022\">\n",
       "    <rect x=\"156\" y=\"47\" width=\"2197\" height=\"1440\"/>\n",
       "  </clipPath>\n",
       "</defs>\n",
       "<polyline clip-path=\"url(#clip022)\" style=\"stroke:#000000; stroke-linecap:butt; stroke-linejoin:round; stroke-width:2; stroke-opacity:0.1; fill:none\" points=\"\n",
       "  218.754,1486.45 218.754,47.2441 \n",
       "  \"/>\n",
       "<polyline clip-path=\"url(#clip022)\" style=\"stroke:#000000; stroke-linecap:butt; stroke-linejoin:round; stroke-width:2; stroke-opacity:0.1; fill:none\" points=\"\n",
       "  564.061,1486.45 564.061,47.2441 \n",
       "  \"/>\n",
       "<polyline clip-path=\"url(#clip022)\" style=\"stroke:#000000; stroke-linecap:butt; stroke-linejoin:round; stroke-width:2; stroke-opacity:0.1; fill:none\" points=\"\n",
       "  909.369,1486.45 909.369,47.2441 \n",
       "  \"/>\n",
       "<polyline clip-path=\"url(#clip022)\" style=\"stroke:#000000; stroke-linecap:butt; stroke-linejoin:round; stroke-width:2; stroke-opacity:0.1; fill:none\" points=\"\n",
       "  1254.68,1486.45 1254.68,47.2441 \n",
       "  \"/>\n",
       "<polyline clip-path=\"url(#clip022)\" style=\"stroke:#000000; stroke-linecap:butt; stroke-linejoin:round; stroke-width:2; stroke-opacity:0.1; fill:none\" points=\"\n",
       "  1599.98,1486.45 1599.98,47.2441 \n",
       "  \"/>\n",
       "<polyline clip-path=\"url(#clip022)\" style=\"stroke:#000000; stroke-linecap:butt; stroke-linejoin:round; stroke-width:2; stroke-opacity:0.1; fill:none\" points=\"\n",
       "  1945.29,1486.45 1945.29,47.2441 \n",
       "  \"/>\n",
       "<polyline clip-path=\"url(#clip022)\" style=\"stroke:#000000; stroke-linecap:butt; stroke-linejoin:round; stroke-width:2; stroke-opacity:0.1; fill:none\" points=\"\n",
       "  2290.6,1486.45 2290.6,47.2441 \n",
       "  \"/>\n",
       "<polyline clip-path=\"url(#clip020)\" style=\"stroke:#000000; stroke-linecap:butt; stroke-linejoin:round; stroke-width:4; stroke-opacity:1; fill:none\" points=\"\n",
       "  156.598,1486.45 2352.76,1486.45 \n",
       "  \"/>\n",
       "<polyline clip-path=\"url(#clip020)\" style=\"stroke:#000000; stroke-linecap:butt; stroke-linejoin:round; stroke-width:4; stroke-opacity:1; fill:none\" points=\"\n",
       "  218.754,1486.45 218.754,1467.55 \n",
       "  \"/>\n",
       "<polyline clip-path=\"url(#clip020)\" style=\"stroke:#000000; stroke-linecap:butt; stroke-linejoin:round; stroke-width:4; stroke-opacity:1; fill:none\" points=\"\n",
       "  564.061,1486.45 564.061,1467.55 \n",
       "  \"/>\n",
       "<polyline clip-path=\"url(#clip020)\" style=\"stroke:#000000; stroke-linecap:butt; stroke-linejoin:round; stroke-width:4; stroke-opacity:1; fill:none\" points=\"\n",
       "  909.369,1486.45 909.369,1467.55 \n",
       "  \"/>\n",
       "<polyline clip-path=\"url(#clip020)\" style=\"stroke:#000000; stroke-linecap:butt; stroke-linejoin:round; stroke-width:4; stroke-opacity:1; fill:none\" points=\"\n",
       "  1254.68,1486.45 1254.68,1467.55 \n",
       "  \"/>\n",
       "<polyline clip-path=\"url(#clip020)\" style=\"stroke:#000000; stroke-linecap:butt; stroke-linejoin:round; stroke-width:4; stroke-opacity:1; fill:none\" points=\"\n",
       "  1599.98,1486.45 1599.98,1467.55 \n",
       "  \"/>\n",
       "<polyline clip-path=\"url(#clip020)\" style=\"stroke:#000000; stroke-linecap:butt; stroke-linejoin:round; stroke-width:4; stroke-opacity:1; fill:none\" points=\"\n",
       "  1945.29,1486.45 1945.29,1467.55 \n",
       "  \"/>\n",
       "<polyline clip-path=\"url(#clip020)\" style=\"stroke:#000000; stroke-linecap:butt; stroke-linejoin:round; stroke-width:4; stroke-opacity:1; fill:none\" points=\"\n",
       "  2290.6,1486.45 2290.6,1467.55 \n",
       "  \"/>\n",
       "<path clip-path=\"url(#clip020)\" d=\"M188.221 1532.02 L217.897 1532.02 L217.897 1535.95 L188.221 1535.95 L188.221 1532.02 Z\" fill=\"#000000\" fill-rule=\"evenodd\" fill-opacity=\"1\" /><path clip-path=\"url(#clip020)\" d=\"M242.156 1530.21 Q245.513 1530.93 247.388 1533.2 Q249.286 1535.47 249.286 1538.8 Q249.286 1543.92 245.767 1546.72 Q242.249 1549.52 235.767 1549.52 Q233.592 1549.52 231.277 1549.08 Q228.985 1548.66 226.531 1547.81 L226.531 1543.29 Q228.476 1544.43 230.791 1545.01 Q233.105 1545.58 235.629 1545.58 Q240.027 1545.58 242.318 1543.85 Q244.633 1542.11 244.633 1538.8 Q244.633 1535.75 242.48 1534.03 Q240.351 1532.3 236.531 1532.3 L232.504 1532.3 L232.504 1528.45 L236.717 1528.45 Q240.166 1528.45 241.994 1527.09 Q243.823 1525.7 243.823 1523.11 Q243.823 1520.45 241.925 1519.03 Q240.05 1517.6 236.531 1517.6 Q234.61 1517.6 232.411 1518.01 Q230.212 1518.43 227.573 1519.31 L227.573 1515.14 Q230.235 1514.4 232.55 1514.03 Q234.888 1513.66 236.948 1513.66 Q242.272 1513.66 245.374 1516.09 Q248.476 1518.5 248.476 1522.62 Q248.476 1525.49 246.832 1527.48 Q245.189 1529.45 242.156 1530.21 Z\" fill=\"#000000\" fill-rule=\"evenodd\" fill-opacity=\"1\" /><path clip-path=\"url(#clip020)\" d=\"M534.004 1532.02 L563.68 1532.02 L563.68 1535.95 L534.004 1535.95 L534.004 1532.02 Z\" fill=\"#000000\" fill-rule=\"evenodd\" fill-opacity=\"1\" /><path clip-path=\"url(#clip020)\" d=\"M577.8 1544.91 L594.119 1544.91 L594.119 1548.85 L572.175 1548.85 L572.175 1544.91 Q574.837 1542.16 579.42 1537.53 Q584.027 1532.88 585.207 1531.53 Q587.453 1529.01 588.332 1527.27 Q589.235 1525.51 589.235 1523.82 Q589.235 1521.07 587.29 1519.33 Q585.369 1517.6 582.267 1517.6 Q580.068 1517.6 577.615 1518.36 Q575.184 1519.13 572.406 1520.68 L572.406 1515.95 Q575.23 1514.82 577.684 1514.24 Q580.138 1513.66 582.175 1513.66 Q587.545 1513.66 590.74 1516.35 Q593.934 1519.03 593.934 1523.52 Q593.934 1525.65 593.124 1527.57 Q592.337 1529.47 590.23 1532.07 Q589.652 1532.74 586.55 1535.95 Q583.448 1539.15 577.8 1544.91 Z\" fill=\"#000000\" fill-rule=\"evenodd\" fill-opacity=\"1\" /><path clip-path=\"url(#clip020)\" d=\"M879.126 1532.02 L908.802 1532.02 L908.802 1535.95 L879.126 1535.95 L879.126 1532.02 Z\" fill=\"#000000\" fill-rule=\"evenodd\" fill-opacity=\"1\" /><path clip-path=\"url(#clip020)\" d=\"M919.705 1544.91 L927.344 1544.91 L927.344 1518.55 L919.034 1520.21 L919.034 1515.95 L927.297 1514.29 L931.973 1514.29 L931.973 1544.91 L939.612 1544.91 L939.612 1548.85 L919.705 1548.85 L919.705 1544.91 Z\" fill=\"#000000\" fill-rule=\"evenodd\" fill-opacity=\"1\" /><path clip-path=\"url(#clip020)\" d=\"M1254.68 1517.37 Q1251.07 1517.37 1249.24 1520.93 Q1247.43 1524.47 1247.43 1531.6 Q1247.43 1538.71 1249.24 1542.27 Q1251.07 1545.82 1254.68 1545.82 Q1258.31 1545.82 1260.12 1542.27 Q1261.95 1538.71 1261.95 1531.6 Q1261.95 1524.47 1260.12 1520.93 Q1258.31 1517.37 1254.68 1517.37 M1254.68 1513.66 Q1260.49 1513.66 1263.54 1518.27 Q1266.62 1522.85 1266.62 1531.6 Q1266.62 1540.33 1263.54 1544.94 Q1260.49 1549.52 1254.68 1549.52 Q1248.87 1549.52 1245.79 1544.94 Q1242.73 1540.33 1242.73 1531.6 Q1242.73 1522.85 1245.79 1518.27 Q1248.87 1513.66 1254.68 1513.66 Z\" fill=\"#000000\" fill-rule=\"evenodd\" fill-opacity=\"1\" /><path clip-path=\"url(#clip020)\" d=\"M1590.37 1544.91 L1598.01 1544.91 L1598.01 1518.55 L1589.7 1520.21 L1589.7 1515.95 L1597.96 1514.29 L1602.64 1514.29 L1602.64 1544.91 L1610.27 1544.91 L1610.27 1548.85 L1590.37 1548.85 L1590.37 1544.91 Z\" fill=\"#000000\" fill-rule=\"evenodd\" fill-opacity=\"1\" /><path clip-path=\"url(#clip020)\" d=\"M1939.95 1544.91 L1956.26 1544.91 L1956.26 1548.85 L1934.32 1548.85 L1934.32 1544.91 Q1936.98 1542.16 1941.57 1537.53 Q1946.17 1532.88 1947.35 1531.53 Q1949.6 1529.01 1950.48 1527.27 Q1951.38 1525.51 1951.38 1523.82 Q1951.38 1521.07 1949.44 1519.33 Q1947.51 1517.6 1944.41 1517.6 Q1942.21 1517.6 1939.76 1518.36 Q1937.33 1519.13 1934.55 1520.68 L1934.55 1515.95 Q1937.38 1514.82 1939.83 1514.24 Q1942.28 1513.66 1944.32 1513.66 Q1949.69 1513.66 1952.89 1516.35 Q1956.08 1519.03 1956.08 1523.52 Q1956.08 1525.65 1955.27 1527.57 Q1954.48 1529.47 1952.38 1532.07 Q1951.8 1532.74 1948.7 1535.95 Q1945.59 1539.15 1939.95 1544.91 Z\" fill=\"#000000\" fill-rule=\"evenodd\" fill-opacity=\"1\" /><path clip-path=\"url(#clip020)\" d=\"M2294.85 1530.21 Q2298.2 1530.93 2300.08 1533.2 Q2301.98 1535.47 2301.98 1538.8 Q2301.98 1543.92 2298.46 1546.72 Q2294.94 1549.52 2288.46 1549.52 Q2286.28 1549.52 2283.97 1549.08 Q2281.68 1548.66 2279.22 1547.81 L2279.22 1543.29 Q2281.17 1544.43 2283.48 1545.01 Q2285.8 1545.58 2288.32 1545.58 Q2292.72 1545.58 2295.01 1543.85 Q2297.33 1542.11 2297.33 1538.8 Q2297.33 1535.75 2295.17 1534.03 Q2293.04 1532.3 2289.22 1532.3 L2285.2 1532.3 L2285.2 1528.45 L2289.41 1528.45 Q2292.86 1528.45 2294.69 1527.09 Q2296.51 1525.7 2296.51 1523.11 Q2296.51 1520.45 2294.62 1519.03 Q2292.74 1517.6 2289.22 1517.6 Q2287.3 1517.6 2285.1 1518.01 Q2282.9 1518.43 2280.26 1519.31 L2280.26 1515.14 Q2282.93 1514.4 2285.24 1514.03 Q2287.58 1513.66 2289.64 1513.66 Q2294.96 1513.66 2298.07 1516.09 Q2301.17 1518.5 2301.17 1522.62 Q2301.17 1525.49 2299.52 1527.48 Q2297.88 1529.45 2294.85 1530.21 Z\" fill=\"#000000\" fill-rule=\"evenodd\" fill-opacity=\"1\" /><polyline clip-path=\"url(#clip022)\" style=\"stroke:#000000; stroke-linecap:butt; stroke-linejoin:round; stroke-width:2; stroke-opacity:0.1; fill:none\" points=\"\n",
       "  156.598,1460.97 2352.76,1460.97 \n",
       "  \"/>\n",
       "<polyline clip-path=\"url(#clip022)\" style=\"stroke:#000000; stroke-linecap:butt; stroke-linejoin:round; stroke-width:2; stroke-opacity:0.1; fill:none\" points=\"\n",
       "  156.598,1116.77 2352.76,1116.77 \n",
       "  \"/>\n",
       "<polyline clip-path=\"url(#clip022)\" style=\"stroke:#000000; stroke-linecap:butt; stroke-linejoin:round; stroke-width:2; stroke-opacity:0.1; fill:none\" points=\"\n",
       "  156.598,772.578 2352.76,772.578 \n",
       "  \"/>\n",
       "<polyline clip-path=\"url(#clip022)\" style=\"stroke:#000000; stroke-linecap:butt; stroke-linejoin:round; stroke-width:2; stroke-opacity:0.1; fill:none\" points=\"\n",
       "  156.598,428.381 2352.76,428.381 \n",
       "  \"/>\n",
       "<polyline clip-path=\"url(#clip022)\" style=\"stroke:#000000; stroke-linecap:butt; stroke-linejoin:round; stroke-width:2; stroke-opacity:0.1; fill:none\" points=\"\n",
       "  156.598,84.1851 2352.76,84.1851 \n",
       "  \"/>\n",
       "<polyline clip-path=\"url(#clip020)\" style=\"stroke:#000000; stroke-linecap:butt; stroke-linejoin:round; stroke-width:4; stroke-opacity:1; fill:none\" points=\"\n",
       "  156.598,1486.45 156.598,47.2441 \n",
       "  \"/>\n",
       "<polyline clip-path=\"url(#clip020)\" style=\"stroke:#000000; stroke-linecap:butt; stroke-linejoin:round; stroke-width:4; stroke-opacity:1; fill:none\" points=\"\n",
       "  156.598,1460.97 175.496,1460.97 \n",
       "  \"/>\n",
       "<polyline clip-path=\"url(#clip020)\" style=\"stroke:#000000; stroke-linecap:butt; stroke-linejoin:round; stroke-width:4; stroke-opacity:1; fill:none\" points=\"\n",
       "  156.598,1116.77 175.496,1116.77 \n",
       "  \"/>\n",
       "<polyline clip-path=\"url(#clip020)\" style=\"stroke:#000000; stroke-linecap:butt; stroke-linejoin:round; stroke-width:4; stroke-opacity:1; fill:none\" points=\"\n",
       "  156.598,772.578 175.496,772.578 \n",
       "  \"/>\n",
       "<polyline clip-path=\"url(#clip020)\" style=\"stroke:#000000; stroke-linecap:butt; stroke-linejoin:round; stroke-width:4; stroke-opacity:1; fill:none\" points=\"\n",
       "  156.598,428.381 175.496,428.381 \n",
       "  \"/>\n",
       "<polyline clip-path=\"url(#clip020)\" style=\"stroke:#000000; stroke-linecap:butt; stroke-linejoin:round; stroke-width:4; stroke-opacity:1; fill:none\" points=\"\n",
       "  156.598,84.1851 175.496,84.1851 \n",
       "  \"/>\n",
       "<path clip-path=\"url(#clip020)\" d=\"M63.4226 1446.77 Q59.8115 1446.77 57.9828 1450.33 Q56.1773 1453.88 56.1773 1461 Q56.1773 1468.11 57.9828 1471.68 Q59.8115 1475.22 63.4226 1475.22 Q67.0569 1475.22 68.8624 1471.68 Q70.6911 1468.11 70.6911 1461 Q70.6911 1453.88 68.8624 1450.33 Q67.0569 1446.77 63.4226 1446.77 M63.4226 1443.06 Q69.2328 1443.06 72.2883 1447.67 Q75.367 1452.25 75.367 1461 Q75.367 1469.73 72.2883 1474.34 Q69.2328 1478.92 63.4226 1478.92 Q57.6125 1478.92 54.5338 1474.34 Q51.4782 1469.73 51.4782 1461 Q51.4782 1452.25 54.5338 1447.67 Q57.6125 1443.06 63.4226 1443.06 Z\" fill=\"#000000\" fill-rule=\"evenodd\" fill-opacity=\"1\" /><path clip-path=\"url(#clip020)\" d=\"M83.5845 1472.37 L88.4688 1472.37 L88.4688 1478.25 L83.5845 1478.25 L83.5845 1472.37 Z\" fill=\"#000000\" fill-rule=\"evenodd\" fill-opacity=\"1\" /><path clip-path=\"url(#clip020)\" d=\"M108.654 1446.77 Q105.043 1446.77 103.214 1450.33 Q101.409 1453.88 101.409 1461 Q101.409 1468.11 103.214 1471.68 Q105.043 1475.22 108.654 1475.22 Q112.288 1475.22 114.094 1471.68 Q115.922 1468.11 115.922 1461 Q115.922 1453.88 114.094 1450.33 Q112.288 1446.77 108.654 1446.77 M108.654 1443.06 Q114.464 1443.06 117.52 1447.67 Q120.598 1452.25 120.598 1461 Q120.598 1469.73 117.52 1474.34 Q114.464 1478.92 108.654 1478.92 Q102.844 1478.92 99.765 1474.34 Q96.7095 1469.73 96.7095 1461 Q96.7095 1452.25 99.765 1447.67 Q102.844 1443.06 108.654 1443.06 Z\" fill=\"#000000\" fill-rule=\"evenodd\" fill-opacity=\"1\" /><path clip-path=\"url(#clip020)\" d=\"M64.6495 1102.57 Q61.0384 1102.57 59.2097 1106.14 Q57.4041 1109.68 57.4041 1116.81 Q57.4041 1123.91 59.2097 1127.48 Q61.0384 1131.02 64.6495 1131.02 Q68.2837 1131.02 70.0892 1127.48 Q71.9179 1123.91 71.9179 1116.81 Q71.9179 1109.68 70.0892 1106.14 Q68.2837 1102.57 64.6495 1102.57 M64.6495 1098.87 Q70.4596 1098.87 73.5152 1103.48 Q76.5938 1108.06 76.5938 1116.81 Q76.5938 1125.54 73.5152 1130.14 Q70.4596 1134.73 64.6495 1134.73 Q58.8393 1134.73 55.7606 1130.14 Q52.7051 1125.54 52.7051 1116.81 Q52.7051 1108.06 55.7606 1103.48 Q58.8393 1098.87 64.6495 1098.87 Z\" fill=\"#000000\" fill-rule=\"evenodd\" fill-opacity=\"1\" /><path clip-path=\"url(#clip020)\" d=\"M84.8114 1128.17 L89.6956 1128.17 L89.6956 1134.05 L84.8114 1134.05 L84.8114 1128.17 Z\" fill=\"#000000\" fill-rule=\"evenodd\" fill-opacity=\"1\" /><path clip-path=\"url(#clip020)\" d=\"M100.691 1130.12 L108.33 1130.12 L108.33 1103.75 L100.02 1105.42 L100.02 1101.16 L108.283 1099.49 L112.959 1099.49 L112.959 1130.12 L120.598 1130.12 L120.598 1134.05 L100.691 1134.05 L100.691 1130.12 Z\" fill=\"#000000\" fill-rule=\"evenodd\" fill-opacity=\"1\" /><path clip-path=\"url(#clip020)\" d=\"M65.0198 758.376 Q61.4087 758.376 59.58 761.941 Q57.7745 765.483 57.7745 772.612 Q57.7745 779.719 59.58 783.284 Q61.4087 786.825 65.0198 786.825 Q68.6541 786.825 70.4596 783.284 Q72.2883 779.719 72.2883 772.612 Q72.2883 765.483 70.4596 761.941 Q68.6541 758.376 65.0198 758.376 M65.0198 754.673 Q70.83 754.673 73.8855 759.279 Q76.9642 763.862 76.9642 772.612 Q76.9642 781.339 73.8855 785.946 Q70.83 790.529 65.0198 790.529 Q59.2097 790.529 56.131 785.946 Q53.0754 781.339 53.0754 772.612 Q53.0754 763.862 56.131 759.279 Q59.2097 754.673 65.0198 754.673 Z\" fill=\"#000000\" fill-rule=\"evenodd\" fill-opacity=\"1\" /><path clip-path=\"url(#clip020)\" d=\"M85.1818 783.978 L90.066 783.978 L90.066 789.858 L85.1818 789.858 L85.1818 783.978 Z\" fill=\"#000000\" fill-rule=\"evenodd\" fill-opacity=\"1\" /><path clip-path=\"url(#clip020)\" d=\"M104.279 785.922 L120.598 785.922 L120.598 789.858 L98.6539 789.858 L98.6539 785.922 Q101.316 783.168 105.899 778.538 Q110.506 773.885 111.686 772.543 Q113.932 770.02 114.811 768.284 Q115.714 766.524 115.714 764.835 Q115.714 762.08 113.77 760.344 Q111.848 758.608 108.746 758.608 Q106.547 758.608 104.094 759.372 Q101.663 760.135 98.8854 761.686 L98.8854 756.964 Q101.709 755.83 104.163 755.251 Q106.617 754.673 108.654 754.673 Q114.024 754.673 117.219 757.358 Q120.413 760.043 120.413 764.534 Q120.413 766.663 119.603 768.585 Q118.816 770.483 116.709 773.075 Q116.131 773.747 113.029 776.964 Q109.927 780.159 104.279 785.922 Z\" fill=\"#000000\" fill-rule=\"evenodd\" fill-opacity=\"1\" /><path clip-path=\"url(#clip020)\" d=\"M64.0708 414.18 Q60.4597 414.18 58.631 417.745 Q56.8254 421.286 56.8254 428.416 Q56.8254 435.523 58.631 439.087 Q60.4597 442.629 64.0708 442.629 Q67.705 442.629 69.5105 439.087 Q71.3392 435.523 71.3392 428.416 Q71.3392 421.286 69.5105 417.745 Q67.705 414.18 64.0708 414.18 M64.0708 410.476 Q69.8809 410.476 72.9365 415.083 Q76.0151 419.666 76.0151 428.416 Q76.0151 437.143 72.9365 441.749 Q69.8809 446.333 64.0708 446.333 Q58.2606 446.333 55.1819 441.749 Q52.1264 437.143 52.1264 428.416 Q52.1264 419.666 55.1819 415.083 Q58.2606 410.476 64.0708 410.476 Z\" fill=\"#000000\" fill-rule=\"evenodd\" fill-opacity=\"1\" /><path clip-path=\"url(#clip020)\" d=\"M84.2327 439.782 L89.1169 439.782 L89.1169 445.661 L84.2327 445.661 L84.2327 439.782 Z\" fill=\"#000000\" fill-rule=\"evenodd\" fill-opacity=\"1\" /><path clip-path=\"url(#clip020)\" d=\"M113.469 427.027 Q116.825 427.745 118.7 430.013 Q120.598 432.282 120.598 435.615 Q120.598 440.731 117.08 443.532 Q113.561 446.333 107.08 446.333 Q104.904 446.333 102.589 445.893 Q100.297 445.476 97.8437 444.62 L97.8437 440.106 Q99.7882 441.24 102.103 441.819 Q104.418 442.397 106.941 442.397 Q111.339 442.397 113.631 440.661 Q115.945 438.925 115.945 435.615 Q115.945 432.56 113.793 430.847 Q111.663 429.111 107.844 429.111 L103.816 429.111 L103.816 425.268 L108.029 425.268 Q111.478 425.268 113.307 423.902 Q115.135 422.513 115.135 419.921 Q115.135 417.259 113.237 415.847 Q111.362 414.412 107.844 414.412 Q105.922 414.412 103.723 414.828 Q101.524 415.245 98.8854 416.124 L98.8854 411.958 Q101.547 411.217 103.862 410.847 Q106.2 410.476 108.26 410.476 Q113.584 410.476 116.686 412.907 Q119.788 415.314 119.788 419.435 Q119.788 422.305 118.145 424.296 Q116.501 426.263 113.469 427.027 Z\" fill=\"#000000\" fill-rule=\"evenodd\" fill-opacity=\"1\" /><path clip-path=\"url(#clip020)\" d=\"M62.9365 69.9838 Q59.3254 69.9838 57.4967 73.5486 Q55.6912 77.0903 55.6912 84.2199 Q55.6912 91.3263 57.4967 94.8911 Q59.3254 98.4328 62.9365 98.4328 Q66.5707 98.4328 68.3763 94.8911 Q70.205 91.3263 70.205 84.2199 Q70.205 77.0903 68.3763 73.5486 Q66.5707 69.9838 62.9365 69.9838 M62.9365 66.2801 Q68.7467 66.2801 71.8022 70.8866 Q74.8809 75.4699 74.8809 84.2199 Q74.8809 92.9467 71.8022 97.5531 Q68.7467 102.136 62.9365 102.136 Q57.1264 102.136 54.0477 97.5531 Q50.9921 92.9467 50.9921 84.2199 Q50.9921 75.4699 54.0477 70.8866 Q57.1264 66.2801 62.9365 66.2801 Z\" fill=\"#000000\" fill-rule=\"evenodd\" fill-opacity=\"1\" /><path clip-path=\"url(#clip020)\" d=\"M83.0984 95.5855 L87.9827 95.5855 L87.9827 101.465 L83.0984 101.465 L83.0984 95.5855 Z\" fill=\"#000000\" fill-rule=\"evenodd\" fill-opacity=\"1\" /><path clip-path=\"url(#clip020)\" d=\"M111.015 70.9792 L99.2095 89.4282 L111.015 89.4282 L111.015 70.9792 M109.788 66.9051 L115.668 66.9051 L115.668 89.4282 L120.598 89.4282 L120.598 93.317 L115.668 93.317 L115.668 101.465 L111.015 101.465 L111.015 93.317 L95.4132 93.317 L95.4132 88.8032 L109.788 66.9051 Z\" fill=\"#000000\" fill-rule=\"evenodd\" fill-opacity=\"1\" /><polyline clip-path=\"url(#clip022)\" style=\"stroke:#009af9; stroke-linecap:butt; stroke-linejoin:round; stroke-width:4; stroke-opacity:1; fill:none\" points=\"\n",
       "  218.754,1445.72 228.87,1444.32 238.987,1442.82 332.53,1422.15 426.073,1383.82 454.181,1367.48 482.288,1348.44 510.396,1326.42 538.504,1301.14 586.033,1250.34 \n",
       "  633.562,1188.6 685.193,1108.52 736.823,1014.97 784.422,917.731 832.02,811.751 883.051,691.473 934.081,568.616 993.205,430.085 1052.33,304.456 1078.6,255.224 \n",
       "  1104.87,211.151 1131.14,172.944 1157.41,141.231 1180.45,119.185 1203.49,102.83 1226.53,92.381 1249.56,87.9763 1274.68,90.1281 1299.8,99.4989 1324.92,115.941 \n",
       "  1350.03,139.196 1375.3,169.099 1400.57,205.066 1425.83,246.552 1451.1,292.938 1506.97,409.494 1562.84,538.877 1616,666.711 1669.16,792.846 1724.43,916.655 \n",
       "  1779.7,1028.74 1826.23,1111.99 1872.76,1184.28 1929.57,1257.62 1986.37,1315.52 2039.77,1357.4 2093.17,1388.97 2178.72,1422.71 2264.27,1441.85 2277.43,1443.88 \n",
       "  2290.6,1445.72 \n",
       "  \"/>\n",
       "</svg>\n"
      ]
     },
     "metadata": {},
     "output_type": "display_data"
    }
   ],
   "source": [
    "using Plots; Plots.gr()\n",
    "Plots.plot(x -> pdf(Normal(), x), -3, 3, legend=false)"
   ]
  },
  {
   "cell_type": "code",
   "execution_count": 24,
   "metadata": {},
   "outputs": [
    {
     "data": {
      "text/plain": [
       "Normal{Float64}(μ=9.903033995978664, σ=2.237003990130135)"
      ]
     },
     "metadata": {},
     "output_type": "display_data"
    }
   ],
   "source": [
    "Random.seed!(101); x=rand(Normal(10, 2), 30)\n",
    "fit(Normal, x)"
   ]
  },
  {
   "cell_type": "code",
   "execution_count": 25,
   "metadata": {},
   "outputs": [
    {
     "data": {
      "text/plain": [
       "Normal{Float64}(μ=9.903033995978664, σ=2.237003990130135)"
      ]
     },
     "metadata": {},
     "output_type": "display_data"
    }
   ],
   "source": [
    "fit_mle(Normal, x)"
   ]
  },
  {
   "cell_type": "markdown",
   "metadata": {},
   "source": [
    "Optim包的optimize()函数类似于R的optim()， 可以用来求多元函数的无约束极值或矩形约束的极值， 一元函数区间内的极值， 复函数极值, 流形上的极值。"
   ]
  },
  {
   "cell_type": "markdown",
   "metadata": {},
   "source": [
    "- NelderMead ()，是不依赖梯度信息的单纯型方法，只需要目标函数本身；\n",
    "- BFGS (), LBFGS(), 这是著名的拟牛顿法, LBFGS() 是内存开销有限版本;\n",
    "- Con jugategradient (), 共轭梯度法;\n",
    "- GradientDescent (), 最速下降法，还有 MomentumGradientDescent (), AcceleratedGradientDescent ();\n",
    "- Newton ()，牛顿法，需要梯度函数与海色阵函数，海色阵函数不可省略，还有 NewtonTrustRegion ()，此方法克服了当函 数不能用二次多项式近似时的困难；\n",
    "- SimulatedAnnealing ()，模拟退火法，用于求解全局最值，只需要目标函数本身，速度慢。SAMIN()，ParticleSwarm() 是 类似方法;\n",
    "- Fminbox ()，矩形约束的优化;\n",
    "- IPNewton () 为非线性约束的内点法加牛顿法;\n",
    "- Brent () 和 GoldenSection () 为一元函数优化;"
   ]
  },
  {
   "cell_type": "markdown",
   "metadata": {},
   "source": [
    "考虑二元函数  f(x,y)=(x−a)2+b(y−x2)2 的最小值问题。 显然唯一的最小值点为 (a,a2) 。 用Optim的optimize()函数进行数值求解。 这个二元函数的最小值点很长、很窄、底部平坦的山谷内， 对迭代算法来说有一定困难。 取 a=1,b=100 ， 最小值点在 (1,1) 。 取初值为 (0,0) 。"
   ]
  },
  {
   "cell_type": "code",
   "execution_count": 26,
   "metadata": {},
   "outputs": [
    {
     "data": {
      "text/plain": [
       "rb (generic function with 1 method)"
      ]
     },
     "metadata": {},
     "output_type": "display_data"
    }
   ],
   "source": [
    "function rb(x::Vector{Float64})\n",
    "    return (1.0 - x[1])^2 + 100.0 * (x[2] - x[1]^2)^2;\n",
    "  end"
   ]
  },
  {
   "cell_type": "code",
   "execution_count": 27,
   "metadata": {},
   "outputs": [
    {
     "data": {
      "text/plain": [
       " * Status: success\n",
       "\n",
       " * Candidate solution\n",
       "    Final objective value:     3.525527e-09\n",
       "\n",
       " * Found with\n",
       "    Algorithm:     Nelder-Mead\n",
       "\n",
       " * Convergence measures\n",
       "    √(Σ(yᵢ-ȳ)²)/n ≤ 1.0e-08\n",
       "\n",
       " * Work counters\n",
       "    Seconds run:   0  (vs limit Inf)\n",
       "    Iterations:    60\n",
       "    f(x) calls:    117\n"
      ]
     },
     "metadata": {},
     "output_type": "display_data"
    }
   ],
   "source": [
    "using Optim\n",
    "ores1 = optimize(rb, [0.0, 0.0])"
   ]
  },
  {
   "cell_type": "markdown",
   "metadata": {},
   "source": [
    "可以看出在没有选用具体优化方法的情况下用了Nelder-Mead方法， 迭代了60次，找到的最小值点的误差在 10−4 以下。\n",
    "\n",
    "改用BFGS方法，使用数值微分计算梯度"
   ]
  },
  {
   "cell_type": "code",
   "execution_count": 28,
   "metadata": {},
   "outputs": [
    {
     "data": {
      "text/plain": [
       " * Status: success\n",
       "\n",
       " * Candidate solution\n",
       "    Final objective value:     5.471408e-17\n",
       "\n",
       " * Found with\n",
       "    Algorithm:     BFGS\n",
       "\n",
       " * Convergence measures\n",
       "    |x - x'|               = 3.47e-07 ≰ 0.0e+00\n",
       "    |x - x'|/|x'|          = 3.47e-07 ≰ 0.0e+00\n",
       "    |f(x) - f(x')|         = 6.59e-14 ≰ 0.0e+00\n",
       "    |f(x) - f(x')|/|f(x')| = 1.20e+03 ≰ 0.0e+00\n",
       "    |g(x)|                 = 2.33e-09 ≤ 1.0e-08\n",
       "\n",
       " * Work counters\n",
       "    Seconds run:   0  (vs limit Inf)\n",
       "    Iterations:    16\n",
       "    f(x) calls:    53\n",
       "    ∇f(x) calls:   53\n"
      ]
     },
     "metadata": {},
     "output_type": "display_data"
    }
   ],
   "source": [
    "ores1b = optimize(rb, [0.0, 0.0], BFGS())"
   ]
  },
  {
   "cell_type": "markdown",
   "metadata": {},
   "source": [
    "只迭代了16次，但是计算数值微分也会涉及到比较多的目标函数计算。 可以人为给出梯度函数："
   ]
  },
  {
   "cell_type": "code",
   "execution_count": 29,
   "metadata": {},
   "outputs": [
    {
     "data": {
      "text/plain": [
       " * Status: success\n",
       "\n",
       " * Candidate solution\n",
       "    Final objective value:     7.645553e-21\n",
       "\n",
       " * Found with\n",
       "    Algorithm:     BFGS\n",
       "\n",
       " * Convergence measures\n",
       "    |x - x'|               = 3.48e-07 ≰ 0.0e+00\n",
       "    |x - x'|/|x'|          = 3.48e-07 ≰ 0.0e+00\n",
       "    |f(x) - f(x')|         = 6.91e-14 ≰ 0.0e+00\n",
       "    |f(x) - f(x')|/|f(x')| = 9.03e+06 ≰ 0.0e+00\n",
       "    |g(x)|                 = 2.31e-09 ≤ 1.0e-08\n",
       "\n",
       " * Work counters\n",
       "    Seconds run:   0  (vs limit Inf)\n",
       "    Iterations:    16\n",
       "    f(x) calls:    53\n",
       "    ∇f(x) calls:   53\n"
      ]
     },
     "metadata": {},
     "output_type": "display_data"
    }
   ],
   "source": [
    "function rb_grad!(G::Vector{Float64}, x::Vector{Float64})\n",
    "    G[1] = -2.0 * (1.0 - x[1]) - 400.0 * (x[2] - x[1]^2) * x[1]\n",
    "    G[2] = 200.0 * (x[2] - x[1]^2)\n",
    "  end\n",
    "  ores1c = optimize(rb, rb_grad!, [0.0, 0.0], BFGS())"
   ]
  },
  {
   "cell_type": "markdown",
   "metadata": {},
   "source": [
    "还可以由用户提供一个海色阵函数， 这时方法为牛顿法，调用如\n",
    "\n",
    "optimize(rb, rb_grad!, rb_Hess!, [0.0, 0.0])\n",
    "optimize()不会用数值微分法计算海色阵， 因为两次数值微分造成很大误差。 如果目标函数完全用Julia编写并且不调用C代码和Fortran代码， 则目标函数的梯度函数和海色阵函数很可能可以用符号计算方法获得精确函数。 将上述rb()函数去掉其中的声明才能做符号计算。 如"
   ]
  },
  {
   "cell_type": "code",
   "execution_count": 31,
   "metadata": {},
   "outputs": [
    {
     "data": {
      "text/plain": [
       " * Status: success\n",
       "\n",
       " * Candidate solution\n",
       "    Final objective value:     3.081488e-31\n",
       "\n",
       " * Found with\n",
       "    Algorithm:     Newton's Method\n",
       "\n",
       " * Convergence measures\n",
       "    |x - x'|               = 3.06e-09 ≰ 0.0e+00\n",
       "    |x - x'|/|x'|          = 3.06e-09 ≰ 0.0e+00\n",
       "    |f(x) - f(x')|         = 9.34e-18 ≰ 0.0e+00\n",
       "    |f(x) - f(x')|/|f(x')| = 3.03e+13 ≰ 0.0e+00\n",
       "    |g(x)|                 = 1.11e-15 ≤ 1.0e-08\n",
       "\n",
       " * Work counters\n",
       "    Seconds run:   1  (vs limit Inf)\n",
       "    Iterations:    14\n",
       "    f(x) calls:    44\n",
       "    ∇f(x) calls:   44\n",
       "    ∇²f(x) calls:  14\n"
      ]
     },
     "metadata": {},
     "output_type": "display_data"
    }
   ],
   "source": [
    "function rbsym(x)\n",
    "    return (1.0 - x[1])^2 + 100.0 * (x[2] - x[1]^2)^2;\n",
    "  end\n",
    "  optimize(rbsym, [0.0, 0.0], Newton(); autodiff = :forward)"
   ]
  },
  {
   "cell_type": "markdown",
   "metadata": {},
   "source": [
    "optimize()支持比较简单的矩形约束优化， 所谓矩形约束(box constraint)， 是指每个坐标分量属于一个区间， 可以用Inf和-Inf表示无穷区间。 这种约束优化用的是简单的内点法\n",
    "\n",
    "例如，上面的例子函数本来是无约束的， 但是如果我们要求解在矩形 [1.25,∞)×[−2.1,∞) 中， 这个范围已经不包含全局最小值点。 约束优化程序如下："
   ]
  },
  {
   "cell_type": "code",
   "execution_count": 32,
   "metadata": {},
   "outputs": [
    {
     "data": {
      "text/plain": [
       " * Status: success\n",
       "\n",
       " * Candidate solution\n",
       "    Final objective value:     6.250244e-02\n",
       "\n",
       " * Found with\n",
       "    Algorithm:     Fminbox with Gradient Descent\n",
       "\n",
       " * Convergence measures\n",
       "    |x - x'|               = 0.00e+00 ≤ 0.0e+00\n",
       "    |x - x'|/|x'|          = 0.00e+00 ≤ 0.0e+00\n",
       "    |f(x) - f(x')|         = 0.00e+00 ≤ 0.0e+00\n",
       "    |f(x) - f(x')|/|f(x')| = 0.00e+00 ≤ 0.0e+00\n",
       "    |g(x)|                 = 3.12e-02 ≰ 1.0e-08\n",
       "\n",
       " * Work counters\n",
       "    Seconds run:   1  (vs limit Inf)\n",
       "    Iterations:    12\n",
       "    f(x) calls:    258573\n",
       "    ∇f(x) calls:   258573\n"
      ]
     },
     "metadata": {},
     "output_type": "display_data"
    }
   ],
   "source": [
    "lower = [1.25, -2.1]\n",
    "upper = [Inf, Inf]\n",
    "initial_x = [2.0, 2.0]\n",
    "inner_optimizer = GradientDescent()\n",
    "ores2 = optimize(rb, rb_grad!, lower, upper, initial_x, \n",
    "    Fminbox(inner_optimizer))"
   ]
  },
  {
   "cell_type": "markdown",
   "metadata": {},
   "source": [
    "optimize()的结果如果保存在res变量中， 可以用Optim.minimizer(res)获得最小值点（总是一个向量）， 用Optim.minimum(res)获得最小值。 结果中还有用于检查是否收敛的输出， 详见Optim包的文档。 控制迭代精度等选项， 可以使用optimize()的控制选项，如"
   ]
  },
  {
   "cell_type": "code",
   "execution_count": 33,
   "metadata": {},
   "outputs": [
    {
     "data": {
      "text/plain": [
       " * Status: failure (reached maximum number of iterations)\n",
       "\n",
       " * Candidate solution\n",
       "    Final objective value:     3.959488e-01\n",
       "\n",
       " * Found with\n",
       "    Algorithm:     Gradient Descent\n",
       "\n",
       " * Convergence measures\n",
       "    |x - x'|               = 7.94e-03 ≰ 0.0e+00\n",
       "    |x - x'|/|x'|          = 2.13e-02 ≰ 0.0e+00\n",
       "    |f(x) - f(x')|         = 7.27e-03 ≰ 0.0e+00\n",
       "    |f(x) - f(x')|/|f(x')| = 1.84e-02 ≰ 0.0e+00\n",
       "    |g(x)|                 = 1.16e+00 ≰ 1.0e-12\n",
       "\n",
       " * Work counters\n",
       "    Seconds run:   0  (vs limit Inf)\n",
       "    Iterations:    10\n",
       "    f(x) calls:    34\n",
       "    ∇f(x) calls:   34\n"
      ]
     },
     "metadata": {},
     "output_type": "display_data"
    }
   ],
   "source": [
    "optimize(rb, rb_grad!, [0.0, 0.0],\n",
    "    GradientDescent(),\n",
    "    Optim.Options(g_tol = 1e-12,\n",
    "        iterations = 10,\n",
    "        store_trace = true,\n",
    "        show_trace = false))"
   ]
  },
  {
   "cell_type": "markdown",
   "metadata": {},
   "source": [
    "一元函数优化\n",
    "\n",
    "optimize()也可以对一个一元函数在给定的区间内求极值， 可用方法有Brent()和GoldenSection()。"
   ]
  },
  {
   "cell_type": "code",
   "execution_count": 34,
   "metadata": {},
   "outputs": [
    {
     "data": {
      "text/plain": [
       "Results of Optimization Algorithm\n",
       " * Algorithm: Brent's Method\n",
       " * Search Interval: [-10.000000, 10.000000]\n",
       " * Minimizer: -7.500000e-01\n",
       " * Minimum: -1.250000e-01\n",
       " * Iterations: 5\n",
       " * Convergence: max(|x - x_upper|, |x - x_lower|) <= 2*(1.5e-08*|x|+2.2e-16): true\n",
       " * Objective Function Calls: 6"
      ]
     },
     "metadata": {},
     "output_type": "display_data"
    }
   ],
   "source": [
    "funi(x) = 2x^2 + 3x + 1\n",
    "optimize(funi, -10, 10)"
   ]
  },
  {
   "cell_type": "markdown",
   "metadata": {},
   "source": [
    "**JuMP包**"
   ]
  },
  {
   "cell_type": "markdown",
   "metadata": {},
   "source": [
    "JuMP可以看成是一个前端工具， 为了使用JuMP包， 需要安装JuMP包， 还要单独安装所需要用的求解包， 这些包有的需要调用二进制代码库， 好在Windows和OS X上有的库已经提供了编译好的包下载， Linux可以从源程序编译。\n",
    "\n",
    "比如，GLPK提供了线性规划(LP)和混合整数线性规划(MILP)功能， 用"
   ]
  },
  {
   "cell_type": "code",
   "execution_count": 35,
   "metadata": {},
   "outputs": [],
   "source": [
    "using JuMP\n",
    "using GLPK"
   ]
  },
  {
   "cell_type": "code",
   "execution_count": 36,
   "metadata": {},
   "outputs": [
    {
     "data": {
      "text/latex": [
       "$$ \\begin{alignat*}{1}\\text{feasibility}\\\\\n",
       "\\text{Subject to} \\quad\\end{alignat*}\n",
       " $$"
      ],
      "text/plain": [
       "A JuMP Model\n",
       "Feasibility problem with:\n",
       "Variables: 0\n",
       "Model mode: AUTOMATIC\n",
       "CachingOptimizer state: EMPTY_OPTIMIZER\n",
       "Solver name: GLPK"
      ]
     },
     "metadata": {},
     "output_type": "display_data"
    }
   ],
   "source": [
    "omod21 = Model(with_optimizer(GLPK.Optimizer))"
   ]
  },
  {
   "cell_type": "markdown",
   "metadata": {},
   "source": [
    "下面指定自变量以及自变量取值区间："
   ]
  },
  {
   "cell_type": "code",
   "execution_count": 37,
   "metadata": {},
   "outputs": [],
   "source": [
    "@variable(omod21, 0 <= x <= 2 );\n",
    "@variable(omod21, 0 <= y <= 30 );"
   ]
  },
  {
   "cell_type": "markdown",
   "metadata": {},
   "source": [
    "指定目标函数以及要求最大化还是最小化："
   ]
  },
  {
   "cell_type": "code",
   "execution_count": 38,
   "metadata": {},
   "outputs": [
    {
     "data": {
      "text/latex": [
       "$$ 5 x + 3 y $$"
      ],
      "text/plain": [
       "5 x + 3 y"
      ]
     },
     "metadata": {},
     "output_type": "display_data"
    }
   ],
   "source": [
    "@objective(omod21, Max, 5x + 3*y )"
   ]
  },
  {
   "cell_type": "markdown",
   "metadata": {},
   "source": [
    "指定一个线性约束："
   ]
  },
  {
   "cell_type": "code",
   "execution_count": 39,
   "metadata": {},
   "outputs": [
    {
     "data": {
      "text/latex": [
       "con : $ x + 5 y \\leq 3.0 $"
      ],
      "text/plain": [
       "con : x + 5 y <= 3.0"
      ]
     },
     "metadata": {},
     "output_type": "display_data"
    }
   ],
   "source": [
    "@constraint(omod21, con, 1x + 5y <= 3.0 )"
   ]
  },
  {
   "cell_type": "markdown",
   "metadata": {},
   "source": [
    "显示目前的模型："
   ]
  },
  {
   "cell_type": "code",
   "execution_count": 41,
   "metadata": {},
   "outputs": [
    {
     "name": "stdout",
     "output_type": "stream",
     "text": [
      "Max 5 x + 3 y\n",
      "Subject to\n",
      " con : x + 5 y <= 3.0\n",
      " x >= 0.0\n",
      " y >= 0.0\n",
      " x <= 2.0\n",
      " y <= 30.0\n"
     ]
    }
   ],
   "source": [
    "print(omod21)"
   ]
  },
  {
   "cell_type": "markdown",
   "metadata": {},
   "source": [
    "以上完成了对一个优化问题的描述， 保存在变量omod21中。 用JuMP.optimize!(model)函数调用后端的优化程序库求解："
   ]
  },
  {
   "cell_type": "code",
   "execution_count": 42,
   "metadata": {},
   "outputs": [],
   "source": [
    "JuMP.optimize!(omod21)"
   ]
  },
  {
   "cell_type": "markdown",
   "metadata": {},
   "source": [
    "求解结束后，结果也保存在模型变量omod21中。 求解结束可能处于如下状态：\n",
    "\n",
    "求出最优解，或者证明无解；\n",
    "因数值计算问题不能继续，或者迭代次数超界或者运算时间超界而停止。"
   ]
  },
  {
   "cell_type": "code",
   "execution_count": 43,
   "metadata": {},
   "outputs": [
    {
     "name": "stdout",
     "output_type": "stream",
     "text": [
      "OPTIMAL\n"
     ]
    }
   ],
   "source": [
    "println(termination_status(omod21))"
   ]
  },
  {
   "cell_type": "markdown",
   "metadata": {},
   "source": [
    "这个状态的表示找到了最优解。 对线性规划问题， 还可以检查是否找到了primal-dual对， 即可行解集与对偶的零对偶间隙(zero duality gap):"
   ]
  },
  {
   "cell_type": "code",
   "execution_count": 44,
   "metadata": {},
   "outputs": [
    {
     "name": "stdout",
     "output_type": "stream",
     "text": [
      "FEASIBLE_POINT\n",
      "FEASIBLE_POINT\n"
     ]
    }
   ],
   "source": [
    "println(primal_status(omod21))\n",
    "println(dual_status(omod21))"
   ]
  },
  {
   "cell_type": "code",
   "execution_count": 45,
   "metadata": {},
   "outputs": [
    {
     "name": "stdout",
     "output_type": "stream",
     "text": [
      "最大目标函数值：10.6\n"
     ]
    }
   ],
   "source": [
    "println(\"最大目标函数值：\", objective_value(omod21))"
   ]
  },
  {
   "cell_type": "code",
   "execution_count": 46,
   "metadata": {},
   "outputs": [
    {
     "name": "stdout",
     "output_type": "stream",
     "text": [
      "最大值点：x=2.0 y=0.2\n"
     ]
    }
   ],
   "source": [
    "println(\"最大值点：x=\", value(x), \" y=\", value(y))\n"
   ]
  },
  {
   "cell_type": "markdown",
   "metadata": {},
   "source": [
    "\n",
    "非线性规划\n",
    "\n",
    "这里给一个利用JuMP调用Ipopt后端的例子。 Ipopt是一个开源的C++非线性最优化库。\n",
    "\n",
    "考虑二元函数 (1−x)2+100∗(y−x2)2 的无约束最小值问题。 程序如下："
   ]
  },
  {
   "cell_type": "markdown",
   "metadata": {},
   "source": [
    "这里给一个利用JuMP调用Ipopt后端的例子。 Ipopt是一个开源的C++非线性最优化库\n"
   ]
  },
  {
   "cell_type": "code",
   "execution_count": 47,
   "metadata": {},
   "outputs": [],
   "source": [
    "using JuMP\n",
    "using Ipopt"
   ]
  },
  {
   "cell_type": "markdown",
   "metadata": {},
   "source": [
    "建立模型："
   ]
  },
  {
   "cell_type": "code",
   "execution_count": 48,
   "metadata": {},
   "outputs": [
    {
     "data": {
      "text/latex": [
       "$$ \\begin{alignat*}{1}\\text{feasibility}\\\\\n",
       "\\text{Subject to} \\quad\\end{alignat*}\n",
       " $$"
      ],
      "text/plain": [
       "A JuMP Model\n",
       "Feasibility problem with:\n",
       "Variables: 0\n",
       "Model mode: AUTOMATIC\n",
       "CachingOptimizer state: EMPTY_OPTIMIZER\n",
       "Solver name: Ipopt"
      ]
     },
     "metadata": {},
     "output_type": "display_data"
    }
   ],
   "source": [
    "omod22 = Model(with_optimizer(Ipopt.Optimizer))"
   ]
  },
  {
   "cell_type": "code",
   "execution_count": 49,
   "metadata": {},
   "outputs": [],
   "source": [
    "@variable(omod22, x, start = 0.0);\n",
    "@variable(omod22, y, start = 0.0);"
   ]
  },
  {
   "cell_type": "markdown",
   "metadata": {},
   "source": [
    "定义目标函数，选择最小化："
   ]
  },
  {
   "cell_type": "code",
   "execution_count": 50,
   "metadata": {},
   "outputs": [],
   "source": [
    "@NLobjective(omod22, Min, (1 - x)^2 + 100 * (y - x^2)^2)\n"
   ]
  },
  {
   "cell_type": "code",
   "execution_count": 51,
   "metadata": {},
   "outputs": [
    {
     "name": "stdout",
     "output_type": "stream",
     "text": [
      "Min (1.0 - x) ^ 2.0 + 100.0 * (y - x ^ 2.0) ^ 2.0\n",
      "Subject to\n"
     ]
    }
   ],
   "source": [
    "print(omod22)"
   ]
  },
  {
   "cell_type": "code",
   "execution_count": 52,
   "metadata": {},
   "outputs": [
    {
     "name": "stdout",
     "output_type": "stream",
     "text": [
      "\n",
      "******************************************************************************\n",
      "This program contains Ipopt, a library for large-scale nonlinear optimization.\n",
      " Ipopt is released as open source code under the Eclipse Public License (EPL).\n",
      "         For more information visit https://github.com/coin-or/Ipopt\n",
      "******************************************************************************\n",
      "\n",
      "This is Ipopt version 3.13.4, running with linear solver mumps.\n",
      "NOTE: Other linear solvers might be more efficient (see Ipopt documentation).\n",
      "\n",
      "Number of nonzeros in equality constraint Jacobian...:        0\n",
      "Number of nonzeros in inequality constraint Jacobian.:        0\n",
      "Number of nonzeros in Lagrangian Hessian.............:        3\n",
      "\n",
      "Total number of variables............................:        2\n",
      "                     variables with only lower bounds:        0\n",
      "                variables with lower and upper bounds:        0\n",
      "                     variables with only upper bounds:        0\n",
      "Total number of equality constraints.................:        0\n",
      "Total number of inequality constraints...............:        0\n",
      "        inequality constraints with only lower bounds:        0\n",
      "   inequality constraints with lower and upper bounds:        0\n",
      "        inequality constraints with only upper bounds:        0\n",
      "\n",
      "iter    objective    inf_pr   inf_du lg(mu)  ||d||  lg(rg) alpha_du alpha_pr  ls\n",
      "   0  1.0000000e+00 0.00e+00 2.00e+00  -1.0 0.00e+00    -  0.00e+00 0.00e+00   0\n",
      "   1  9.5312500e-01 0.00e+00 1.25e+01  -1.0 1.00e+00    -  1.00e+00 2.50e-01f  3\n",
      "   2  4.8320569e-01 0.00e+00 1.01e+00  -1.0 9.03e-02    -  1.00e+00 1.00e+00f  1\n",
      "   3  4.5708829e-01 0.00e+00 9.53e+00  -1.0 4.29e-01    -  1.00e+00 5.00e-01f  2\n",
      "   4  1.8894205e-01 0.00e+00 4.15e-01  -1.0 9.51e-02    -  1.00e+00 1.00e+00f  1\n",
      "   5  1.3918726e-01 0.00e+00 6.51e+00  -1.7 3.49e-01    -  1.00e+00 5.00e-01f  2\n",
      "   6  5.4940990e-02 0.00e+00 4.51e-01  -1.7 9.29e-02    -  1.00e+00 1.00e+00f  1\n",
      "   7  2.9144630e-02 0.00e+00 2.27e+00  -1.7 2.49e-01    -  1.00e+00 5.00e-01f  2\n",
      "   8  9.8586451e-03 0.00e+00 1.15e+00  -1.7 1.10e-01    -  1.00e+00 1.00e+00f  1\n",
      "   9  2.3237475e-03 0.00e+00 1.00e+00  -1.7 1.00e-01    -  1.00e+00 1.00e+00f  1\n",
      "iter    objective    inf_pr   inf_du lg(mu)  ||d||  lg(rg) alpha_du alpha_pr  ls\n",
      "  10  2.3797236e-04 0.00e+00 2.19e-01  -1.7 5.09e-02    -  1.00e+00 1.00e+00f  1\n",
      "  11  4.9267371e-06 0.00e+00 5.95e-02  -1.7 2.53e-02    -  1.00e+00 1.00e+00f  1\n",
      "  12  2.8189505e-09 0.00e+00 8.31e-04  -2.5 3.20e-03    -  1.00e+00 1.00e+00f  1\n",
      "  13  1.0095040e-15 0.00e+00 8.68e-07  -5.7 9.78e-05    -  1.00e+00 1.00e+00f  1\n",
      "  14  1.3288608e-28 0.00e+00 2.02e-13  -8.6 4.65e-08    -  1.00e+00 1.00e+00f  1\n",
      "\n",
      "Number of Iterations....: 14\n",
      "\n",
      "                                   (scaled)                 (unscaled)\n",
      "Objective...............:   1.3288608467480825e-28    1.3288608467480825e-28\n",
      "Dual infeasibility......:   2.0183854587685121e-13    2.0183854587685121e-13\n",
      "Constraint violation....:   0.0000000000000000e+00    0.0000000000000000e+00\n",
      "Complementarity.........:   0.0000000000000000e+00    0.0000000000000000e+00\n",
      "Overall NLP error.......:   2.0183854587685121e-13    2.0183854587685121e-13\n",
      "\n",
      "\n",
      "Number of objective function evaluations             = 36\n",
      "Number of objective gradient evaluations             = 15\n",
      "Number of equality constraint evaluations            = 0\n",
      "Number of inequality constraint evaluations          = 0\n",
      "Number of equality constraint Jacobian evaluations   = 0\n",
      "Number of inequality constraint Jacobian evaluations = 0\n",
      "Number of Lagrangian Hessian evaluations             = 14\n",
      "Total CPU secs in IPOPT (w/o function evaluations)   =      0.982\n",
      "Total CPU secs in NLP function evaluations           =      1.235\n",
      "\n",
      "EXIT: Optimal Solution Found.\n"
     ]
    }
   ],
   "source": [
    "optimize!(omod22)"
   ]
  },
  {
   "cell_type": "markdown",
   "metadata": {},
   "source": [
    "上面的显示已经表明找到了最优解。 用termination_status(omod21)查询算法退出状态"
   ]
  },
  {
   "cell_type": "code",
   "execution_count": 53,
   "metadata": {},
   "outputs": [
    {
     "name": "stdout",
     "output_type": "stream",
     "text": [
      "LOCALLY_SOLVED\n"
     ]
    }
   ],
   "source": [
    "println(termination_status(omod22))"
   ]
  },
  {
   "cell_type": "code",
   "execution_count": 54,
   "metadata": {},
   "outputs": [
    {
     "name": "stdout",
     "output_type": "stream",
     "text": [
      "最小化目标函数值=1.3288608467480825e-28\n",
      "最小值点：x = 0.9999999999999899 y = 0.9999999999999792\n"
     ]
    }
   ],
   "source": [
    "println(\"最小化目标函数值=\", objective_value(omod22))\n",
    "println(\"最小值点：x = \", value(x), \" y = \", value(y))"
   ]
  },
  {
   "cell_type": "markdown",
   "metadata": {},
   "source": [
    "增加一个简单的线性约束 x+y=10 ， 重新求解：\n"
   ]
  },
  {
   "cell_type": "code",
   "execution_count": 55,
   "metadata": {},
   "outputs": [
    {
     "name": "stdout",
     "output_type": "stream",
     "text": [
      "This is Ipopt version 3.13.4, running with linear solver mumps.\n",
      "NOTE: Other linear solvers might be more efficient (see Ipopt documentation).\n",
      "\n",
      "Number of nonzeros in equality constraint Jacobian...:        2\n",
      "Number of nonzeros in inequality constraint Jacobian.:        0\n",
      "Number of nonzeros in Lagrangian Hessian.............:        3\n",
      "\n",
      "Total number of variables............................:        2\n",
      "                     variables with only lower bounds:        0\n",
      "                variables with lower and upper bounds:        0\n",
      "                     variables with only upper bounds:        0\n",
      "Total number of equality constraints.................:        1\n",
      "Total number of inequality constraints...............:        0\n",
      "        inequality constraints with only lower bounds:        0\n",
      "   inequality constraints with lower and upper bounds:        0\n",
      "        inequality constraints with only upper bounds:        0\n",
      "\n",
      "iter    objective    inf_pr   inf_du lg(mu)  ||d||  lg(rg) alpha_du alpha_pr  ls\n",
      "   0  1.0000000e+00 1.00e+01 1.00e+00  -1.0 0.00e+00    -  0.00e+00 0.00e+00   0\n",
      "   1  9.6315968e+05 1.78e-15 3.89e+05  -1.0 9.91e+00    -  1.00e+00 1.00e+00h  1\n",
      "   2  1.6901461e+05 0.00e+00 1.16e+05  -1.0 3.24e+00    -  1.00e+00 1.00e+00f  1\n",
      "   3  2.5433173e+04 0.00e+00 3.18e+04  -1.0 2.05e+00    -  1.00e+00 1.00e+00f  1\n",
      "   4  2.6527756e+03 0.00e+00 7.79e+03  -1.0 1.19e+00    -  1.00e+00 1.00e+00f  1\n",
      "   5  1.1380324e+02 0.00e+00 1.35e+03  -1.0 5.62e-01    -  1.00e+00 1.00e+00f  1\n",
      "   6  3.3745506e+00 0.00e+00 8.45e+01  -1.0 1.50e-01    -  1.00e+00 1.00e+00f  1\n",
      "   7  2.8946196e+00 0.00e+00 4.22e-01  -1.0 1.07e-02    -  1.00e+00 1.00e+00f  1\n",
      "   8  2.8946076e+00 0.00e+00 1.07e-05  -1.7 5.42e-05    -  1.00e+00 1.00e+00f  1\n",
      "   9  2.8946076e+00 0.00e+00 5.91e-13  -8.6 1.38e-09    -  1.00e+00 1.00e+00f  1\n",
      "\n",
      "Number of Iterations....: 9\n",
      "\n",
      "                                   (scaled)                 (unscaled)\n",
      "Objective...............:   2.8946075504894599e+00    2.8946075504894599e+00\n",
      "Dual infeasibility......:   5.9130478291535837e-13    5.9130478291535837e-13\n",
      "Constraint violation....:   0.0000000000000000e+00    0.0000000000000000e+00\n",
      "Complementarity.........:   0.0000000000000000e+00    0.0000000000000000e+00\n",
      "Overall NLP error.......:   5.9130478291535837e-13    5.9130478291535837e-13\n",
      "\n",
      "\n",
      "Number of objective function evaluations             = 10\n",
      "Number of objective gradient evaluations             = 10\n",
      "Number of equality constraint evaluations            = 10\n",
      "Number of inequality constraint evaluations          = 0\n",
      "Number of equality constraint Jacobian evaluations   = 1\n",
      "Number of inequality constraint Jacobian evaluations = 0\n",
      "Number of Lagrangian Hessian evaluations             = 9\n",
      "Total CPU secs in IPOPT (w/o function evaluations)   =      0.051\n",
      "Total CPU secs in NLP function evaluations           =      0.063\n",
      "\n",
      "EXIT: Optimal Solution Found.\n"
     ]
    }
   ],
   "source": [
    "@constraint(omod22, x + y == 10)\n",
    "optimize!(omod22);"
   ]
  },
  {
   "cell_type": "code",
   "execution_count": 56,
   "metadata": {},
   "outputs": [
    {
     "name": "stdout",
     "output_type": "stream",
     "text": [
      "LOCALLY_SOLVED\n",
      "最小化目标函数值=2.89460755048946\n",
      "最小值点：x = 2.701147124098218 y = 7.2988528759017814\n"
     ]
    }
   ],
   "source": [
    "println(termination_status(omod22));\n",
    "println(\"最小化目标函数值=\", objective_value(omod22))\n",
    "println(\"最小值点：x = \", value(x), \" y = \", value(y))"
   ]
  },
  {
   "cell_type": "markdown",
   "metadata": {},
   "source": [
    "考虑目标函数在简单约束 x≥1.25 ,  y≥−2.1 下的优化"
   ]
  },
  {
   "cell_type": "code",
   "execution_count": 57,
   "metadata": {},
   "outputs": [
    {
     "name": "stdout",
     "output_type": "stream",
     "text": [
      "This is Ipopt version 3.13.4, running with linear solver mumps.\n",
      "NOTE: Other linear solvers might be more efficient (see Ipopt documentation).\n",
      "\n",
      "Number of nonzeros in equality constraint Jacobian...:        0\n",
      "Number of nonzeros in inequality constraint Jacobian.:        2\n",
      "Number of nonzeros in Lagrangian Hessian.............:        3\n",
      "\n",
      "Total number of variables............................:        2\n",
      "                     variables with only lower bounds:        0\n",
      "                variables with lower and upper bounds:        0\n",
      "                     variables with only upper bounds:        0\n",
      "Total number of equality constraints.................:        0\n",
      "Total number of inequality constraints...............:        2\n",
      "        inequality constraints with only lower bounds:        2\n",
      "   inequality constraints with lower and upper bounds:        0\n",
      "        inequality constraints with only upper bounds:        0\n",
      "\n",
      "iter    objective    inf_pr   inf_du lg(mu)  ||d||  lg(rg) alpha_du alpha_pr  ls\n",
      "   0  1.0000000e+00 1.25e+00 1.50e+00  -1.0 0.00e+00    -  0.00e+00 0.00e+00   0\n",
      "   1  3.3580384e+02 0.00e+00 9.92e+02  -1.0 1.35e+00    -  1.00e+00 1.00e+00h  1\n",
      "   2  1.2533591e-01 0.00e+00 2.71e-01  -1.0 1.83e+00    -  1.00e+00 1.00e+00f  1\n",
      "   3  9.6112888e-02 0.00e+00 1.04e+00  -1.7 1.21e-01    -  1.00e+00 1.00e+00f  1\n",
      "   4  8.3379322e-02 0.00e+00 2.37e-01  -1.7 5.21e-02    -  1.00e+00 1.00e+00f  1\n",
      "   5  8.1695749e-02 0.00e+00 4.83e-03  -1.7 7.05e-03    -  1.00e+00 1.00e+00f  1\n",
      "   6  6.4381341e-02 0.00e+00 5.23e-01  -3.8 8.31e-02    -  1.00e+00 1.00e+00f  1\n",
      "   7  6.2674893e-02 0.00e+00 6.35e-03  -3.8 6.91e-03    -  1.00e+00 1.00e+00f  1\n",
      "   8  6.2650298e-02 0.00e+00 1.40e-06  -3.8 1.13e-04    -  1.00e+00 1.00e+00f  1\n",
      "   9  6.2501984e-02 0.00e+00 4.39e-05  -5.7 7.41e-04    -  1.00e+00 1.00e+00f  1\n",
      "iter    objective    inf_pr   inf_du lg(mu)  ||d||  lg(rg) alpha_du alpha_pr  ls\n",
      "  10  6.2501839e-02 0.00e+00 5.26e-11  -5.7 6.40e-07    -  1.00e+00 1.00e+00f  1\n",
      "  11  6.2499996e-02 0.00e+00 6.78e-09  -8.6 9.21e-06    -  1.00e+00 1.00e+00f  1\n",
      "\n",
      "Number of Iterations....: 11\n",
      "\n",
      "                                   (scaled)                 (unscaled)\n",
      "Objective...............:   6.2499996278424341e-02    6.2499996278424341e-02\n",
      "Dual infeasibility......:   6.7847379936480934e-09    6.7847379936480934e-09\n",
      "Constraint violation....:   0.0000000000000000e+00    0.0000000000000000e+00\n",
      "Complementarity.........:   2.5284241638252829e-09    2.5284241638252829e-09\n",
      "Overall NLP error.......:   6.7847379936480934e-09    6.7847379936480934e-09\n",
      "\n",
      "\n",
      "Number of objective function evaluations             = 12\n",
      "Number of objective gradient evaluations             = 12\n",
      "Number of equality constraint evaluations            = 0\n",
      "Number of inequality constraint evaluations          = 12\n",
      "Number of equality constraint Jacobian evaluations   = 0\n",
      "Number of inequality constraint Jacobian evaluations = 1\n",
      "Number of Lagrangian Hessian evaluations             = 11\n",
      "Total CPU secs in IPOPT (w/o function evaluations)   =      0.009\n",
      "Total CPU secs in NLP function evaluations           =      0.000\n",
      "\n",
      "EXIT: Optimal Solution Found.\n"
     ]
    }
   ],
   "source": [
    "using JuMP\n",
    "using Ipopt\n",
    "omod23 = Model(with_optimizer(Ipopt.Optimizer));\n",
    "@variable(omod23, x, start = 0.0);\n",
    "@variable(omod23, y, start = 0.0);\n",
    "@constraint(omod23, x >= 1.25);\n",
    "@constraint(omod23, y >= -2.1);\n",
    "@NLobjective(omod23, Min, (1 - x)^2 + 100 * (y - x^2)^2);\n",
    "optimize!(omod23);"
   ]
  },
  {
   "cell_type": "code",
   "execution_count": 58,
   "metadata": {},
   "outputs": [
    {
     "name": "stdout",
     "output_type": "stream",
     "text": [
      "约束最小化目标函数值=2.89460755048946\n",
      "约束最小值点：x = 1.2499999925568486 y = 1.5624999813819718\n"
     ]
    }
   ],
   "source": [
    "println(\"约束最小化目标函数值=\", objective_value(omod22))\n",
    "println(\"约束最小值点：x = \", value(x), \" y = \", value(y))"
   ]
  },
  {
   "cell_type": "markdown",
   "metadata": {},
   "source": [
    "方程求根\n",
    "\n",
    "Roots包提供了一元方程求根算法， 主要是二分法之类不依赖于导数的方法。 比如，如下的一元函数\n",
    "f(x)=sin(4(x−0.25))+x+x20−1, x∈[0,1]\n",
    " \n",
    "有唯一一个实根。函数图形如下"
   ]
  },
  {
   "cell_type": "code",
   "execution_count": 59,
   "metadata": {},
   "outputs": [
    {
     "data": {
      "image/png": "[encoded data removed]",
      "image/svg+xml": "<?xml version=\"1.0\" encoding=\"utf-8\"?>\n<svg xmlns=\"http://www.w3.org/2000/svg\" xmlns:xlink=\"http://www.w3.org/1999/xlink\" width=\"600\" height=\"400\" viewBox=\"0 0 2400 1600\">\n<defs>\n  <clipPath id=\"clip060\">\n    <rect x=\"0\" y=\"0\" width=\"2400\" height=\"1600\"/>\n  </clipPath>\n</defs>\n<path clip-path=\"url(#clip060)\" d=\"\nM0 1600 L2400 1600 L2400 0 L0 0  Z\n  \" fill=\"#ffffff\" fill-rule=\"evenodd\" fill-opacity=\"1\"/>\n<defs>\n  <clipPath id=\"clip061\">\n    <rect x=\"480\" y=\"0\" width=\"1681\" height=\"1600\"/>\n  </clipPath>\n</defs>\n<path clip-path=\"url(#clip060)\" d=\"\nM193.936 1486.45 L2352.76 1486.45 L2352.76 47.2441 L193.936 47.2441  Z\n  \" fill=\"#ffffff\" fill-rule=\"evenodd\" fill-opacity=\"1\"/>\n<defs>\n  <clipPath id=\"clip062\">\n    <rect x=\"193\" y=\"47\" width=\"2160\" height=\"1440\"/>\n  </clipPath>\n</defs>\n<polyline clip-path=\"url(#clip062)\" style=\"stroke:#000000; stroke-linecap:butt; stroke-linejoin:round; stroke-width:2; stroke-opacity:0.1; fill:none\" points=\"\n  255.035,1486.45 255.035,47.2441 \n  \"/>\n<polyline clip-path=\"url(#clip062)\" style=\"stroke:#000000; stroke-linecap:butt; stroke-linejoin:round; stroke-width:2; stroke-opacity:0.1; fill:none\" points=\"\n  764.19,1486.45 764.19,47.2441 \n  \"/>\n<polyline clip-path=\"url(#clip062)\" style=\"stroke:#000000; stroke-linecap:butt; stroke-linejoin:round; stroke-width:2; stroke-opacity:0.1; fill:none\" points=\"\n  1273.35,1486.45 1273.35,47.2441 \n  \"/>\n<polyline clip-path=\"url(#clip062)\" style=\"stroke:#000000; stroke-linecap:butt; stroke-linejoin:round; stroke-width:2; stroke-opacity:0.1; fill:none\" points=\"\n  1782.5,1486.45 1782.5,47.2441 \n  \"/>\n<polyline clip-path=\"url(#clip062)\" style=\"stroke:#000000; stroke-linecap:butt; stroke-linejoin:round; stroke-width:2; stroke-opacity:0.1; fill:none\" points=\"\n  2291.66,1486.45 2291.66,47.2441 \n  \"/>\n<polyline clip-path=\"url(#clip060)\" style=\"stroke:#000000; stroke-linecap:butt; stroke-linejoin:round; stroke-width:4; stroke-opacity:1; fill:none\" points=\"\n  193.936,1486.45 2352.76,1486.45 \n  \"/>\n<polyline clip-path=\"url(#clip060)\" style=\"stroke:#000000; stroke-linecap:butt; stroke-linejoin:round; stroke-width:4; stroke-opacity:1; fill:none\" points=\"\n  255.035,1486.45 255.035,1467.55 \n  \"/>\n<polyline clip-path=\"url(#clip060)\" style=\"stroke:#000000; stroke-linecap:butt; stroke-linejoin:round; stroke-width:4; stroke-opacity:1; fill:none\" points=\"\n  764.19,1486.45 764.19,1467.55 \n  \"/>\n<polyline clip-path=\"url(#clip060)\" style=\"stroke:#000000; stroke-linecap:butt; stroke-linejoin:round; stroke-width:4; stroke-opacity:1; fill:none\" points=\"\n  1273.35,1486.45 1273.35,1467.55 \n  \"/>\n<polyline clip-path=\"url(#clip060)\" style=\"stroke:#000000; stroke-linecap:butt; stroke-linejoin:round; stroke-width:4; stroke-opacity:1; fill:none\" points=\"\n  1782.5,1486.45 1782.5,1467.55 \n  \"/>\n<polyline clip-path=\"url(#clip060)\" style=\"stroke:#000000; stroke-linecap:butt; stroke-linejoin:round; stroke-width:4; stroke-opacity:1; fill:none\" points=\"\n  2291.66,1486.45 2291.66,1467.55 \n  \"/>\n<path clip-path=\"url(#clip060)\" d=\"M217.338 1517.37 Q213.727 1517.37 211.898 1520.93 Q210.093 1524.47 210.093 1531.6 Q210.093 1538.71 211.898 1542.27 Q213.727 1545.82 217.338 1545.82 Q220.972 1545.82 222.778 1542.27 Q224.607 1538.71 224.607 1531.6 Q224.607 1524.47 222.778 1520.93 Q220.972 1517.37 217.338 1517.37 M217.338 1513.66 Q223.148 1513.66 226.204 1518.27 Q229.282 1522.85 229.282 1531.6 Q229.282 1540.33 226.204 1544.94 Q223.148 1549.52 217.338 1549.52 Q211.528 1549.52 208.449 1544.94 Q205.394 1540.33 205.394 1531.6 Q205.394 1522.85 208.449 1518.27 Q211.528 1513.66 217.338 1513.66 Z\" fill=\"#000000\" fill-rule=\"evenodd\" fill-opacity=\"1\" /><path clip-path=\"url(#clip060)\" d=\"M237.5 1542.97 L242.384 1542.97 L242.384 1548.85 L237.5 1548.85 L237.5 1542.97 Z\" fill=\"#000000\" fill-rule=\"evenodd\" fill-opacity=\"1\" /><path clip-path=\"url(#clip060)\" d=\"M262.569 1517.37 Q258.958 1517.37 257.13 1520.93 Q255.324 1524.47 255.324 1531.6 Q255.324 1538.71 257.13 1542.27 Q258.958 1545.82 262.569 1545.82 Q266.204 1545.82 268.009 1542.27 Q269.838 1538.71 269.838 1531.6 Q269.838 1524.47 268.009 1520.93 Q266.204 1517.37 262.569 1517.37 M262.569 1513.66 Q268.38 1513.66 271.435 1518.27 Q274.514 1522.85 274.514 1531.6 Q274.514 1540.33 271.435 1544.94 Q268.38 1549.52 262.569 1549.52 Q256.759 1549.52 253.681 1544.94 Q250.625 1540.33 250.625 1531.6 Q250.625 1522.85 253.681 1518.27 Q256.759 1513.66 262.569 1513.66 Z\" fill=\"#000000\" fill-rule=\"evenodd\" fill-opacity=\"1\" /><path clip-path=\"url(#clip060)\" d=\"M292.731 1517.37 Q289.12 1517.37 287.291 1520.93 Q285.486 1524.47 285.486 1531.6 Q285.486 1538.71 287.291 1542.27 Q289.12 1545.82 292.731 1545.82 Q296.365 1545.82 298.171 1542.27 Q300 1538.71 300 1531.6 Q300 1524.47 298.171 1520.93 Q296.365 1517.37 292.731 1517.37 M292.731 1513.66 Q298.541 1513.66 301.597 1518.27 Q304.676 1522.85 304.676 1531.6 Q304.676 1540.33 301.597 1544.94 Q298.541 1549.52 292.731 1549.52 Q286.921 1549.52 283.842 1544.94 Q280.787 1540.33 280.787 1531.6 Q280.787 1522.85 283.842 1518.27 Q286.921 1513.66 292.731 1513.66 Z\" fill=\"#000000\" fill-rule=\"evenodd\" fill-opacity=\"1\" /><path clip-path=\"url(#clip060)\" d=\"M726.991 1517.37 Q723.38 1517.37 721.552 1520.93 Q719.746 1524.47 719.746 1531.6 Q719.746 1538.71 721.552 1542.27 Q723.38 1545.82 726.991 1545.82 Q730.626 1545.82 732.431 1542.27 Q734.26 1538.71 734.26 1531.6 Q734.26 1524.47 732.431 1520.93 Q730.626 1517.37 726.991 1517.37 M726.991 1513.66 Q732.802 1513.66 735.857 1518.27 Q738.936 1522.85 738.936 1531.6 Q738.936 1540.33 735.857 1544.94 Q732.802 1549.52 726.991 1549.52 Q721.181 1549.52 718.103 1544.94 Q715.047 1540.33 715.047 1531.6 Q715.047 1522.85 718.103 1518.27 Q721.181 1513.66 726.991 1513.66 Z\" fill=\"#000000\" fill-rule=\"evenodd\" fill-opacity=\"1\" /><path clip-path=\"url(#clip060)\" d=\"M747.153 1542.97 L752.038 1542.97 L752.038 1548.85 L747.153 1548.85 L747.153 1542.97 Z\" fill=\"#000000\" fill-rule=\"evenodd\" fill-opacity=\"1\" /><path clip-path=\"url(#clip060)\" d=\"M766.25 1544.91 L782.57 1544.91 L782.57 1548.85 L760.626 1548.85 L760.626 1544.91 Q763.288 1542.16 767.871 1537.53 Q772.477 1532.88 773.658 1531.53 Q775.903 1529.01 776.783 1527.27 Q777.686 1525.51 777.686 1523.82 Q777.686 1521.07 775.741 1519.33 Q773.82 1517.6 770.718 1517.6 Q768.519 1517.6 766.065 1518.36 Q763.635 1519.13 760.857 1520.68 L760.857 1515.95 Q763.681 1514.82 766.135 1514.24 Q768.588 1513.66 770.625 1513.66 Q775.996 1513.66 779.19 1516.35 Q782.385 1519.03 782.385 1523.52 Q782.385 1525.65 781.574 1527.57 Q780.787 1529.47 778.681 1532.07 Q778.102 1532.74 775 1535.95 Q771.899 1539.15 766.25 1544.91 Z\" fill=\"#000000\" fill-rule=\"evenodd\" fill-opacity=\"1\" /><path clip-path=\"url(#clip060)\" d=\"M792.431 1514.29 L810.787 1514.29 L810.787 1518.22 L796.713 1518.22 L796.713 1526.7 Q797.732 1526.35 798.75 1526.19 Q799.769 1526 800.787 1526 Q806.574 1526 809.954 1529.17 Q813.334 1532.34 813.334 1537.76 Q813.334 1543.34 809.861 1546.44 Q806.389 1549.52 800.07 1549.52 Q797.894 1549.52 795.625 1549.15 Q793.38 1548.78 790.973 1548.04 L790.973 1543.34 Q793.056 1544.47 795.278 1545.03 Q797.5 1545.58 799.977 1545.58 Q803.982 1545.58 806.32 1543.48 Q808.658 1541.37 808.658 1537.76 Q808.658 1534.15 806.32 1532.04 Q803.982 1529.94 799.977 1529.94 Q798.102 1529.94 796.227 1530.35 Q794.375 1530.77 792.431 1531.65 L792.431 1514.29 Z\" fill=\"#000000\" fill-rule=\"evenodd\" fill-opacity=\"1\" /><path clip-path=\"url(#clip060)\" d=\"M1235.65 1517.37 Q1232.04 1517.37 1230.21 1520.93 Q1228.4 1524.47 1228.4 1531.6 Q1228.4 1538.71 1230.21 1542.27 Q1232.04 1545.82 1235.65 1545.82 Q1239.28 1545.82 1241.09 1542.27 Q1242.92 1538.71 1242.92 1531.6 Q1242.92 1524.47 1241.09 1520.93 Q1239.28 1517.37 1235.65 1517.37 M1235.65 1513.66 Q1241.46 1513.66 1244.52 1518.27 Q1247.59 1522.85 1247.59 1531.6 Q1247.59 1540.33 1244.52 1544.94 Q1241.46 1549.52 1235.65 1549.52 Q1229.84 1549.52 1226.76 1544.94 Q1223.71 1540.33 1223.71 1531.6 Q1223.71 1522.85 1226.76 1518.27 Q1229.84 1513.66 1235.65 1513.66 Z\" fill=\"#000000\" fill-rule=\"evenodd\" fill-opacity=\"1\" /><path clip-path=\"url(#clip060)\" d=\"M1255.81 1542.97 L1260.7 1542.97 L1260.7 1548.85 L1255.81 1548.85 L1255.81 1542.97 Z\" fill=\"#000000\" fill-rule=\"evenodd\" fill-opacity=\"1\" /><path clip-path=\"url(#clip060)\" d=\"M1270.93 1514.29 L1289.28 1514.29 L1289.28 1518.22 L1275.21 1518.22 L1275.21 1526.7 Q1276.23 1526.35 1277.25 1526.19 Q1278.26 1526 1279.28 1526 Q1285.07 1526 1288.45 1529.17 Q1291.83 1532.34 1291.83 1537.76 Q1291.83 1543.34 1288.36 1546.44 Q1284.89 1549.52 1278.57 1549.52 Q1276.39 1549.52 1274.12 1549.15 Q1271.88 1548.78 1269.47 1548.04 L1269.47 1543.34 Q1271.55 1544.47 1273.77 1545.03 Q1276 1545.58 1278.47 1545.58 Q1282.48 1545.58 1284.82 1543.48 Q1287.15 1541.37 1287.15 1537.76 Q1287.15 1534.15 1284.82 1532.04 Q1282.48 1529.94 1278.47 1529.94 Q1276.6 1529.94 1274.72 1530.35 Q1272.87 1530.77 1270.93 1531.65 L1270.93 1514.29 Z\" fill=\"#000000\" fill-rule=\"evenodd\" fill-opacity=\"1\" /><path clip-path=\"url(#clip060)\" d=\"M1311.04 1517.37 Q1307.43 1517.37 1305.6 1520.93 Q1303.8 1524.47 1303.8 1531.6 Q1303.8 1538.71 1305.6 1542.27 Q1307.43 1545.82 1311.04 1545.82 Q1314.68 1545.82 1316.48 1542.27 Q1318.31 1538.71 1318.31 1531.6 Q1318.31 1524.47 1316.48 1520.93 Q1314.68 1517.37 1311.04 1517.37 M1311.04 1513.66 Q1316.85 1513.66 1319.91 1518.27 Q1322.99 1522.85 1322.99 1531.6 Q1322.99 1540.33 1319.91 1544.94 Q1316.85 1549.52 1311.04 1549.52 Q1305.23 1549.52 1302.15 1544.94 Q1299.1 1540.33 1299.1 1531.6 Q1299.1 1522.85 1302.15 1518.27 Q1305.23 1513.66 1311.04 1513.66 Z\" fill=\"#000000\" fill-rule=\"evenodd\" fill-opacity=\"1\" /><path clip-path=\"url(#clip060)\" d=\"M1745.3 1517.37 Q1741.69 1517.37 1739.86 1520.93 Q1738.06 1524.47 1738.06 1531.6 Q1738.06 1538.71 1739.86 1542.27 Q1741.69 1545.82 1745.3 1545.82 Q1748.94 1545.82 1750.74 1542.27 Q1752.57 1538.71 1752.57 1531.6 Q1752.57 1524.47 1750.74 1520.93 Q1748.94 1517.37 1745.3 1517.37 M1745.3 1513.66 Q1751.11 1513.66 1754.17 1518.27 Q1757.25 1522.85 1757.25 1531.6 Q1757.25 1540.33 1754.17 1544.94 Q1751.11 1549.52 1745.3 1549.52 Q1739.49 1549.52 1736.41 1544.94 Q1733.36 1540.33 1733.36 1531.6 Q1733.36 1522.85 1736.41 1518.27 Q1739.49 1513.66 1745.3 1513.66 Z\" fill=\"#000000\" fill-rule=\"evenodd\" fill-opacity=\"1\" /><path clip-path=\"url(#clip060)\" d=\"M1765.46 1542.97 L1770.35 1542.97 L1770.35 1548.85 L1765.46 1548.85 L1765.46 1542.97 Z\" fill=\"#000000\" fill-rule=\"evenodd\" fill-opacity=\"1\" /><path clip-path=\"url(#clip060)\" d=\"M1779.35 1514.29 L1801.58 1514.29 L1801.58 1516.28 L1789.03 1548.85 L1784.15 1548.85 L1795.95 1518.22 L1779.35 1518.22 L1779.35 1514.29 Z\" fill=\"#000000\" fill-rule=\"evenodd\" fill-opacity=\"1\" /><path clip-path=\"url(#clip060)\" d=\"M1810.74 1514.29 L1829.1 1514.29 L1829.1 1518.22 L1815.02 1518.22 L1815.02 1526.7 Q1816.04 1526.35 1817.06 1526.19 Q1818.08 1526 1819.1 1526 Q1824.89 1526 1828.27 1529.17 Q1831.64 1532.34 1831.64 1537.76 Q1831.64 1543.34 1828.17 1546.44 Q1824.7 1549.52 1818.38 1549.52 Q1816.21 1549.52 1813.94 1549.15 Q1811.69 1548.78 1809.28 1548.04 L1809.28 1543.34 Q1811.37 1544.47 1813.59 1545.03 Q1815.81 1545.58 1818.29 1545.58 Q1822.29 1545.58 1824.63 1543.48 Q1826.97 1541.37 1826.97 1537.76 Q1826.97 1534.15 1824.63 1532.04 Q1822.29 1529.94 1818.29 1529.94 Q1816.41 1529.94 1814.54 1530.35 Q1812.69 1530.77 1810.74 1531.65 L1810.74 1514.29 Z\" fill=\"#000000\" fill-rule=\"evenodd\" fill-opacity=\"1\" /><path clip-path=\"url(#clip060)\" d=\"M2243.73 1544.91 L2251.37 1544.91 L2251.37 1518.55 L2243.06 1520.21 L2243.06 1515.95 L2251.32 1514.29 L2256 1514.29 L2256 1544.91 L2263.64 1544.91 L2263.64 1548.85 L2243.73 1548.85 L2243.73 1544.91 Z\" fill=\"#000000\" fill-rule=\"evenodd\" fill-opacity=\"1\" /><path clip-path=\"url(#clip060)\" d=\"M2273.08 1542.97 L2277.97 1542.97 L2277.97 1548.85 L2273.08 1548.85 L2273.08 1542.97 Z\" fill=\"#000000\" fill-rule=\"evenodd\" fill-opacity=\"1\" /><path clip-path=\"url(#clip060)\" d=\"M2298.15 1517.37 Q2294.54 1517.37 2292.71 1520.93 Q2290.9 1524.47 2290.9 1531.6 Q2290.9 1538.71 2292.71 1542.27 Q2294.54 1545.82 2298.15 1545.82 Q2301.78 1545.82 2303.59 1542.27 Q2305.42 1538.71 2305.42 1531.6 Q2305.42 1524.47 2303.59 1520.93 Q2301.78 1517.37 2298.15 1517.37 M2298.15 1513.66 Q2303.96 1513.66 2307.02 1518.27 Q2310.09 1522.85 2310.09 1531.6 Q2310.09 1540.33 2307.02 1544.94 Q2303.96 1549.52 2298.15 1549.52 Q2292.34 1549.52 2289.26 1544.94 Q2286.21 1540.33 2286.21 1531.6 Q2286.21 1522.85 2289.26 1518.27 Q2292.34 1513.66 2298.15 1513.66 Z\" fill=\"#000000\" fill-rule=\"evenodd\" fill-opacity=\"1\" /><path clip-path=\"url(#clip060)\" d=\"M2328.31 1517.37 Q2324.7 1517.37 2322.87 1520.93 Q2321.07 1524.47 2321.07 1531.6 Q2321.07 1538.71 2322.87 1542.27 Q2324.7 1545.82 2328.31 1545.82 Q2331.95 1545.82 2333.75 1542.27 Q2335.58 1538.71 2335.58 1531.6 Q2335.58 1524.47 2333.75 1520.93 Q2331.95 1517.37 2328.31 1517.37 M2328.31 1513.66 Q2334.12 1513.66 2337.18 1518.27 Q2340.26 1522.85 2340.26 1531.6 Q2340.26 1540.33 2337.18 1544.94 Q2334.12 1549.52 2328.31 1549.52 Q2322.5 1549.52 2319.42 1544.94 Q2316.37 1540.33 2316.37 1531.6 Q2316.37 1522.85 2319.42 1518.27 Q2322.5 1513.66 2328.31 1513.66 Z\" fill=\"#000000\" fill-rule=\"evenodd\" fill-opacity=\"1\" /><polyline clip-path=\"url(#clip062)\" style=\"stroke:#000000; stroke-linecap:butt; stroke-linejoin:round; stroke-width:2; stroke-opacity:0.1; fill:none\" points=\"\n  193.936,1290.27 2352.76,1290.27 \n  \"/>\n<polyline clip-path=\"url(#clip062)\" style=\"stroke:#000000; stroke-linecap:butt; stroke-linejoin:round; stroke-width:2; stroke-opacity:0.1; fill:none\" points=\"\n  193.936,1062.66 2352.76,1062.66 \n  \"/>\n<polyline clip-path=\"url(#clip062)\" style=\"stroke:#000000; stroke-linecap:butt; stroke-linejoin:round; stroke-width:2; stroke-opacity:0.1; fill:none\" points=\"\n  193.936,835.049 2352.76,835.049 \n  \"/>\n<polyline clip-path=\"url(#clip062)\" style=\"stroke:#000000; stroke-linecap:butt; stroke-linejoin:round; stroke-width:2; stroke-opacity:0.1; fill:none\" points=\"\n  193.936,607.439 2352.76,607.439 \n  \"/>\n<polyline clip-path=\"url(#clip062)\" style=\"stroke:#000000; stroke-linecap:butt; stroke-linejoin:round; stroke-width:2; stroke-opacity:0.1; fill:none\" points=\"\n  193.936,379.828 2352.76,379.828 \n  \"/>\n<polyline clip-path=\"url(#clip062)\" style=\"stroke:#000000; stroke-linecap:butt; stroke-linejoin:round; stroke-width:2; stroke-opacity:0.1; fill:none\" points=\"\n  193.936,152.217 2352.76,152.217 \n  \"/>\n<polyline clip-path=\"url(#clip060)\" style=\"stroke:#000000; stroke-linecap:butt; stroke-linejoin:round; stroke-width:4; stroke-opacity:1; fill:none\" points=\"\n  193.936,1486.45 193.936,47.2441 \n  \"/>\n<polyline clip-path=\"url(#clip060)\" style=\"stroke:#000000; stroke-linecap:butt; stroke-linejoin:round; stroke-width:4; stroke-opacity:1; fill:none\" points=\"\n  193.936,1290.27 212.834,1290.27 \n  \"/>\n<polyline clip-path=\"url(#clip060)\" style=\"stroke:#000000; stroke-linecap:butt; stroke-linejoin:round; stroke-width:4; stroke-opacity:1; fill:none\" points=\"\n  193.936,1062.66 212.834,1062.66 \n  \"/>\n<polyline clip-path=\"url(#clip060)\" style=\"stroke:#000000; stroke-linecap:butt; stroke-linejoin:round; stroke-width:4; stroke-opacity:1; fill:none\" points=\"\n  193.936,835.049 212.834,835.049 \n  \"/>\n<polyline clip-path=\"url(#clip060)\" style=\"stroke:#000000; stroke-linecap:butt; stroke-linejoin:round; stroke-width:4; stroke-opacity:1; fill:none\" points=\"\n  193.936,607.439 212.834,607.439 \n  \"/>\n<polyline clip-path=\"url(#clip060)\" style=\"stroke:#000000; stroke-linecap:butt; stroke-linejoin:round; stroke-width:4; stroke-opacity:1; fill:none\" points=\"\n  193.936,379.828 212.834,379.828 \n  \"/>\n<polyline clip-path=\"url(#clip060)\" style=\"stroke:#000000; stroke-linecap:butt; stroke-linejoin:round; stroke-width:4; stroke-opacity:1; fill:none\" points=\"\n  193.936,152.217 212.834,152.217 \n  \"/>\n<path clip-path=\"url(#clip060)\" d=\"M51.9875 1290.72 L81.6633 1290.72 L81.6633 1294.66 L51.9875 1294.66 L51.9875 1290.72 Z\" fill=\"#000000\" fill-rule=\"evenodd\" fill-opacity=\"1\" /><path clip-path=\"url(#clip060)\" d=\"M92.566 1303.62 L100.205 1303.62 L100.205 1277.25 L91.8947 1278.92 L91.8947 1274.66 L100.159 1272.99 L104.834 1272.99 L104.834 1303.62 L112.473 1303.62 L112.473 1307.55 L92.566 1307.55 L92.566 1303.62 Z\" fill=\"#000000\" fill-rule=\"evenodd\" fill-opacity=\"1\" /><path clip-path=\"url(#clip060)\" d=\"M121.918 1301.67 L126.802 1301.67 L126.802 1307.55 L121.918 1307.55 L121.918 1301.67 Z\" fill=\"#000000\" fill-rule=\"evenodd\" fill-opacity=\"1\" /><path clip-path=\"url(#clip060)\" d=\"M137.033 1272.99 L155.39 1272.99 L155.39 1276.93 L141.316 1276.93 L141.316 1285.4 Q142.334 1285.05 143.353 1284.89 Q144.371 1284.7 145.39 1284.7 Q151.177 1284.7 154.556 1287.87 Q157.936 1291.05 157.936 1296.46 Q157.936 1302.04 154.464 1305.14 Q150.992 1308.22 144.672 1308.22 Q142.496 1308.22 140.228 1307.85 Q137.982 1307.48 135.575 1306.74 L135.575 1302.04 Q137.658 1303.18 139.881 1303.73 Q142.103 1304.29 144.58 1304.29 Q148.584 1304.29 150.922 1302.18 Q153.26 1300.07 153.26 1296.46 Q153.26 1292.85 150.922 1290.75 Q148.584 1288.64 144.58 1288.64 Q142.705 1288.64 140.83 1289.06 Q138.978 1289.47 137.033 1290.35 L137.033 1272.99 Z\" fill=\"#000000\" fill-rule=\"evenodd\" fill-opacity=\"1\" /><path clip-path=\"url(#clip060)\" d=\"M50.9921 1063.11 L80.6679 1063.11 L80.6679 1067.05 L50.9921 1067.05 L50.9921 1063.11 Z\" fill=\"#000000\" fill-rule=\"evenodd\" fill-opacity=\"1\" /><path clip-path=\"url(#clip060)\" d=\"M91.5706 1076 L99.2095 1076 L99.2095 1049.64 L90.8993 1051.31 L90.8993 1047.05 L99.1632 1045.38 L103.839 1045.38 L103.839 1076 L111.478 1076 L111.478 1079.94 L91.5706 1079.94 L91.5706 1076 Z\" fill=\"#000000\" fill-rule=\"evenodd\" fill-opacity=\"1\" /><path clip-path=\"url(#clip060)\" d=\"M120.922 1074.06 L125.807 1074.06 L125.807 1079.94 L120.922 1079.94 L120.922 1074.06 Z\" fill=\"#000000\" fill-rule=\"evenodd\" fill-opacity=\"1\" /><path clip-path=\"url(#clip060)\" d=\"M145.992 1048.46 Q142.381 1048.46 140.552 1052.02 Q138.746 1055.57 138.746 1062.69 Q138.746 1069.8 140.552 1073.37 Q142.381 1076.91 145.992 1076.91 Q149.626 1076.91 151.431 1073.37 Q153.26 1069.8 153.26 1062.69 Q153.26 1055.57 151.431 1052.02 Q149.626 1048.46 145.992 1048.46 M145.992 1044.76 Q151.802 1044.76 154.857 1049.36 Q157.936 1053.94 157.936 1062.69 Q157.936 1071.42 154.857 1076.03 Q151.802 1080.61 145.992 1080.61 Q140.181 1080.61 137.103 1076.03 Q134.047 1071.42 134.047 1062.69 Q134.047 1053.94 137.103 1049.36 Q140.181 1044.76 145.992 1044.76 Z\" fill=\"#000000\" fill-rule=\"evenodd\" fill-opacity=\"1\" /><path clip-path=\"url(#clip060)\" d=\"M51.9875 835.501 L81.6633 835.501 L81.6633 839.436 L51.9875 839.436 L51.9875 835.501 Z\" fill=\"#000000\" fill-rule=\"evenodd\" fill-opacity=\"1\" /><path clip-path=\"url(#clip060)\" d=\"M101.756 820.848 Q98.1447 820.848 96.316 824.413 Q94.5104 827.954 94.5104 835.084 Q94.5104 842.19 96.316 845.755 Q98.1447 849.297 101.756 849.297 Q105.39 849.297 107.196 845.755 Q109.024 842.19 109.024 835.084 Q109.024 827.954 107.196 824.413 Q105.39 820.848 101.756 820.848 M101.756 817.144 Q107.566 817.144 110.621 821.751 Q113.7 826.334 113.7 835.084 Q113.7 843.811 110.621 848.417 Q107.566 853.001 101.756 853.001 Q95.9456 853.001 92.8669 848.417 Q89.8114 843.811 89.8114 835.084 Q89.8114 826.334 92.8669 821.751 Q95.9456 817.144 101.756 817.144 Z\" fill=\"#000000\" fill-rule=\"evenodd\" fill-opacity=\"1\" /><path clip-path=\"url(#clip060)\" d=\"M121.918 846.45 L126.802 846.45 L126.802 852.329 L121.918 852.329 L121.918 846.45 Z\" fill=\"#000000\" fill-rule=\"evenodd\" fill-opacity=\"1\" /><path clip-path=\"url(#clip060)\" d=\"M137.033 817.769 L155.39 817.769 L155.39 821.704 L141.316 821.704 L141.316 830.177 Q142.334 829.829 143.353 829.667 Q144.371 829.482 145.39 829.482 Q151.177 829.482 154.556 832.653 Q157.936 835.825 157.936 841.241 Q157.936 846.82 154.464 849.922 Q150.992 853.001 144.672 853.001 Q142.496 853.001 140.228 852.63 Q137.982 852.26 135.575 851.519 L135.575 846.82 Q137.658 847.954 139.881 848.51 Q142.103 849.065 144.58 849.065 Q148.584 849.065 150.922 846.959 Q153.26 844.853 153.26 841.241 Q153.26 837.63 150.922 835.524 Q148.584 833.417 144.58 833.417 Q142.705 833.417 140.83 833.834 Q138.978 834.251 137.033 835.13 L137.033 817.769 Z\" fill=\"#000000\" fill-rule=\"evenodd\" fill-opacity=\"1\" /><path clip-path=\"url(#clip060)\" d=\"M100.76 593.237 Q97.1493 593.237 95.3206 596.802 Q93.515 600.344 93.515 607.473 Q93.515 614.58 95.3206 618.145 Q97.1493 621.686 100.76 621.686 Q104.395 621.686 106.2 618.145 Q108.029 614.58 108.029 607.473 Q108.029 600.344 106.2 596.802 Q104.395 593.237 100.76 593.237 M100.76 589.534 Q106.571 589.534 109.626 594.14 Q112.705 598.723 112.705 607.473 Q112.705 616.2 109.626 620.807 Q106.571 625.39 100.76 625.39 Q94.9502 625.39 91.8715 620.807 Q88.816 616.2 88.816 607.473 Q88.816 598.723 91.8715 594.14 Q94.9502 589.534 100.76 589.534 Z\" fill=\"#000000\" fill-rule=\"evenodd\" fill-opacity=\"1\" /><path clip-path=\"url(#clip060)\" d=\"M120.922 618.839 L125.807 618.839 L125.807 624.719 L120.922 624.719 L120.922 618.839 Z\" fill=\"#000000\" fill-rule=\"evenodd\" fill-opacity=\"1\" /><path clip-path=\"url(#clip060)\" d=\"M145.992 593.237 Q142.381 593.237 140.552 596.802 Q138.746 600.344 138.746 607.473 Q138.746 614.58 140.552 618.145 Q142.381 621.686 145.992 621.686 Q149.626 621.686 151.431 618.145 Q153.26 614.58 153.26 607.473 Q153.26 600.344 151.431 596.802 Q149.626 593.237 145.992 593.237 M145.992 589.534 Q151.802 589.534 154.857 594.14 Q157.936 598.723 157.936 607.473 Q157.936 616.2 154.857 620.807 Q151.802 625.39 145.992 625.39 Q140.181 625.39 137.103 620.807 Q134.047 616.2 134.047 607.473 Q134.047 598.723 137.103 594.14 Q140.181 589.534 145.992 589.534 Z\" fill=\"#000000\" fill-rule=\"evenodd\" fill-opacity=\"1\" /><path clip-path=\"url(#clip060)\" d=\"M101.756 365.627 Q98.1447 365.627 96.316 369.191 Q94.5104 372.733 94.5104 379.863 Q94.5104 386.969 96.316 390.534 Q98.1447 394.075 101.756 394.075 Q105.39 394.075 107.196 390.534 Q109.024 386.969 109.024 379.863 Q109.024 372.733 107.196 369.191 Q105.39 365.627 101.756 365.627 M101.756 361.923 Q107.566 361.923 110.621 366.529 Q113.7 371.113 113.7 379.863 Q113.7 388.589 110.621 393.196 Q107.566 397.779 101.756 397.779 Q95.9456 397.779 92.8669 393.196 Q89.8114 388.589 89.8114 379.863 Q89.8114 371.113 92.8669 366.529 Q95.9456 361.923 101.756 361.923 Z\" fill=\"#000000\" fill-rule=\"evenodd\" fill-opacity=\"1\" /><path clip-path=\"url(#clip060)\" d=\"M121.918 391.228 L126.802 391.228 L126.802 397.108 L121.918 397.108 L121.918 391.228 Z\" fill=\"#000000\" fill-rule=\"evenodd\" fill-opacity=\"1\" /><path clip-path=\"url(#clip060)\" d=\"M137.033 362.548 L155.39 362.548 L155.39 366.483 L141.316 366.483 L141.316 374.955 Q142.334 374.608 143.353 374.446 Q144.371 374.261 145.39 374.261 Q151.177 374.261 154.556 377.432 Q157.936 380.603 157.936 386.02 Q157.936 391.599 154.464 394.7 Q150.992 397.779 144.672 397.779 Q142.496 397.779 140.228 397.409 Q137.982 397.038 135.575 396.298 L135.575 391.599 Q137.658 392.733 139.881 393.288 Q142.103 393.844 144.58 393.844 Q148.584 393.844 150.922 391.738 Q153.26 389.631 153.26 386.02 Q153.26 382.409 150.922 380.302 Q148.584 378.196 144.58 378.196 Q142.705 378.196 140.83 378.613 Q138.978 379.029 137.033 379.909 L137.033 362.548 Z\" fill=\"#000000\" fill-rule=\"evenodd\" fill-opacity=\"1\" /><path clip-path=\"url(#clip060)\" d=\"M91.5706 165.562 L99.2095 165.562 L99.2095 139.196 L90.8993 140.863 L90.8993 136.604 L99.1632 134.937 L103.839 134.937 L103.839 165.562 L111.478 165.562 L111.478 169.497 L91.5706 169.497 L91.5706 165.562 Z\" fill=\"#000000\" fill-rule=\"evenodd\" fill-opacity=\"1\" /><path clip-path=\"url(#clip060)\" d=\"M120.922 163.618 L125.807 163.618 L125.807 169.497 L120.922 169.497 L120.922 163.618 Z\" fill=\"#000000\" fill-rule=\"evenodd\" fill-opacity=\"1\" /><path clip-path=\"url(#clip060)\" d=\"M145.992 138.016 Q142.381 138.016 140.552 141.581 Q138.746 145.122 138.746 152.252 Q138.746 159.358 140.552 162.923 Q142.381 166.465 145.992 166.465 Q149.626 166.465 151.431 162.923 Q153.26 159.358 153.26 152.252 Q153.26 145.122 151.431 141.581 Q149.626 138.016 145.992 138.016 M145.992 134.312 Q151.802 134.312 154.857 138.919 Q157.936 143.502 157.936 152.252 Q157.936 160.979 154.857 165.585 Q151.802 170.168 145.992 170.168 Q140.181 170.168 137.103 165.585 Q134.047 160.979 134.047 152.252 Q134.047 143.502 137.103 138.919 Q140.181 134.312 145.992 134.312 Z\" fill=\"#000000\" fill-rule=\"evenodd\" fill-opacity=\"1\" /><polyline clip-path=\"url(#clip062)\" style=\"stroke:#009af9; stroke-linecap:butt; stroke-linejoin:round; stroke-width:8; stroke-opacity:1; fill:none\" points=\"\n  255.035,1445.72 274.924,1431.37 458.829,1274.05 569.348,1162.39 662.791,1061.58 764.296,948.736 857.875,844.626 958.201,736.198 1074.44,618.974 1177.74,526.012 \n  1268.32,455.563 1367.08,392.488 1466.43,344.985 1521.35,325.955 1576.27,312.173 1628.52,303.921 1680.78,300.323 1789.45,306.802 1880.92,324.381 1936.76,338.318 \n  1992.6,352.062 2045.09,361.423 2097.58,362.106 2118.61,358.234 2139.63,350.982 2160.65,339.485 2181.68,322.701 2202.7,299.382 2223.73,268.029 2244.75,226.848 \n  2265.77,173.693 2272.24,154.539 2278.72,133.928 2285.19,111.771 2291.66,87.9763 \n  \"/>\n<polyline clip-path=\"url(#clip062)\" style=\"stroke:#000000; stroke-linecap:butt; stroke-linejoin:round; stroke-width:4; stroke-opacity:1; fill:none\" points=\"\n  -1964.88,607.439 4511.58,607.439 \n  \"/>\n</svg>\n",
      "text/html": [
       "<?xml version=\"1.0\" encoding=\"utf-8\"?>\n",
       "<svg xmlns=\"http://www.w3.org/2000/svg\" xmlns:xlink=\"http://www.w3.org/1999/xlink\" width=\"600\" height=\"400\" viewBox=\"0 0 2400 1600\">\n",
       "<defs>\n",
       "  <clipPath id=\"clip110\">\n",
       "    <rect x=\"0\" y=\"0\" width=\"2400\" height=\"1600\"/>\n",
       "  </clipPath>\n",
       "</defs>\n",
       "<path clip-path=\"url(#clip110)\" d=\"\n",
       "M0 1600 L2400 1600 L2400 0 L0 0  Z\n",
       "  \" fill=\"#ffffff\" fill-rule=\"evenodd\" fill-opacity=\"1\"/>\n",
       "<defs>\n",
       "  <clipPath id=\"clip111\">\n",
       "    <rect x=\"480\" y=\"0\" width=\"1681\" height=\"1600\"/>\n",
       "  </clipPath>\n",
       "</defs>\n",
       "<path clip-path=\"url(#clip110)\" d=\"\n",
       "M193.936 1486.45 L2352.76 1486.45 L2352.76 47.2441 L193.936 47.2441  Z\n",
       "  \" fill=\"#ffffff\" fill-rule=\"evenodd\" fill-opacity=\"1\"/>\n",
       "<defs>\n",
       "  <clipPath id=\"clip112\">\n",
       "    <rect x=\"193\" y=\"47\" width=\"2160\" height=\"1440\"/>\n",
       "  </clipPath>\n",
       "</defs>\n",
       "<polyline clip-path=\"url(#clip112)\" style=\"stroke:#000000; stroke-linecap:butt; stroke-linejoin:round; stroke-width:2; stroke-opacity:0.1; fill:none\" points=\"\n",
       "  255.035,1486.45 255.035,47.2441 \n",
       "  \"/>\n",
       "<polyline clip-path=\"url(#clip112)\" style=\"stroke:#000000; stroke-linecap:butt; stroke-linejoin:round; stroke-width:2; stroke-opacity:0.1; fill:none\" points=\"\n",
       "  764.19,1486.45 764.19,47.2441 \n",
       "  \"/>\n",
       "<polyline clip-path=\"url(#clip112)\" style=\"stroke:#000000; stroke-linecap:butt; stroke-linejoin:round; stroke-width:2; stroke-opacity:0.1; fill:none\" points=\"\n",
       "  1273.35,1486.45 1273.35,47.2441 \n",
       "  \"/>\n",
       "<polyline clip-path=\"url(#clip112)\" style=\"stroke:#000000; stroke-linecap:butt; stroke-linejoin:round; stroke-width:2; stroke-opacity:0.1; fill:none\" points=\"\n",
       "  1782.5,1486.45 1782.5,47.2441 \n",
       "  \"/>\n",
       "<polyline clip-path=\"url(#clip112)\" style=\"stroke:#000000; stroke-linecap:butt; stroke-linejoin:round; stroke-width:2; stroke-opacity:0.1; fill:none\" points=\"\n",
       "  2291.66,1486.45 2291.66,47.2441 \n",
       "  \"/>\n",
       "<polyline clip-path=\"url(#clip110)\" style=\"stroke:#000000; stroke-linecap:butt; stroke-linejoin:round; stroke-width:4; stroke-opacity:1; fill:none\" points=\"\n",
       "  193.936,1486.45 2352.76,1486.45 \n",
       "  \"/>\n",
       "<polyline clip-path=\"url(#clip110)\" style=\"stroke:#000000; stroke-linecap:butt; stroke-linejoin:round; stroke-width:4; stroke-opacity:1; fill:none\" points=\"\n",
       "  255.035,1486.45 255.035,1467.55 \n",
       "  \"/>\n",
       "<polyline clip-path=\"url(#clip110)\" style=\"stroke:#000000; stroke-linecap:butt; stroke-linejoin:round; stroke-width:4; stroke-opacity:1; fill:none\" points=\"\n",
       "  764.19,1486.45 764.19,1467.55 \n",
       "  \"/>\n",
       "<polyline clip-path=\"url(#clip110)\" style=\"stroke:#000000; stroke-linecap:butt; stroke-linejoin:round; stroke-width:4; stroke-opacity:1; fill:none\" points=\"\n",
       "  1273.35,1486.45 1273.35,1467.55 \n",
       "  \"/>\n",
       "<polyline clip-path=\"url(#clip110)\" style=\"stroke:#000000; stroke-linecap:butt; stroke-linejoin:round; stroke-width:4; stroke-opacity:1; fill:none\" points=\"\n",
       "  1782.5,1486.45 1782.5,1467.55 \n",
       "  \"/>\n",
       "<polyline clip-path=\"url(#clip110)\" style=\"stroke:#000000; stroke-linecap:butt; stroke-linejoin:round; stroke-width:4; stroke-opacity:1; fill:none\" points=\"\n",
       "  2291.66,1486.45 2291.66,1467.55 \n",
       "  \"/>\n",
       "<path clip-path=\"url(#clip110)\" d=\"M217.338 1517.37 Q213.727 1517.37 211.898 1520.93 Q210.093 1524.47 210.093 1531.6 Q210.093 1538.71 211.898 1542.27 Q213.727 1545.82 217.338 1545.82 Q220.972 1545.82 222.778 1542.27 Q224.607 1538.71 224.607 1531.6 Q224.607 1524.47 222.778 1520.93 Q220.972 1517.37 217.338 1517.37 M217.338 1513.66 Q223.148 1513.66 226.204 1518.27 Q229.282 1522.85 229.282 1531.6 Q229.282 1540.33 226.204 1544.94 Q223.148 1549.52 217.338 1549.52 Q211.528 1549.52 208.449 1544.94 Q205.394 1540.33 205.394 1531.6 Q205.394 1522.85 208.449 1518.27 Q211.528 1513.66 217.338 1513.66 Z\" fill=\"#000000\" fill-rule=\"evenodd\" fill-opacity=\"1\" /><path clip-path=\"url(#clip110)\" d=\"M237.5 1542.97 L242.384 1542.97 L242.384 1548.85 L237.5 1548.85 L237.5 1542.97 Z\" fill=\"#000000\" fill-rule=\"evenodd\" fill-opacity=\"1\" /><path clip-path=\"url(#clip110)\" d=\"M262.569 1517.37 Q258.958 1517.37 257.13 1520.93 Q255.324 1524.47 255.324 1531.6 Q255.324 1538.71 257.13 1542.27 Q258.958 1545.82 262.569 1545.82 Q266.204 1545.82 268.009 1542.27 Q269.838 1538.71 269.838 1531.6 Q269.838 1524.47 268.009 1520.93 Q266.204 1517.37 262.569 1517.37 M262.569 1513.66 Q268.38 1513.66 271.435 1518.27 Q274.514 1522.85 274.514 1531.6 Q274.514 1540.33 271.435 1544.94 Q268.38 1549.52 262.569 1549.52 Q256.759 1549.52 253.681 1544.94 Q250.625 1540.33 250.625 1531.6 Q250.625 1522.85 253.681 1518.27 Q256.759 1513.66 262.569 1513.66 Z\" fill=\"#000000\" fill-rule=\"evenodd\" fill-opacity=\"1\" /><path clip-path=\"url(#clip110)\" d=\"M292.731 1517.37 Q289.12 1517.37 287.291 1520.93 Q285.486 1524.47 285.486 1531.6 Q285.486 1538.71 287.291 1542.27 Q289.12 1545.82 292.731 1545.82 Q296.365 1545.82 298.171 1542.27 Q300 1538.71 300 1531.6 Q300 1524.47 298.171 1520.93 Q296.365 1517.37 292.731 1517.37 M292.731 1513.66 Q298.541 1513.66 301.597 1518.27 Q304.676 1522.85 304.676 1531.6 Q304.676 1540.33 301.597 1544.94 Q298.541 1549.52 292.731 1549.52 Q286.921 1549.52 283.842 1544.94 Q280.787 1540.33 280.787 1531.6 Q280.787 1522.85 283.842 1518.27 Q286.921 1513.66 292.731 1513.66 Z\" fill=\"#000000\" fill-rule=\"evenodd\" fill-opacity=\"1\" /><path clip-path=\"url(#clip110)\" d=\"M726.991 1517.37 Q723.38 1517.37 721.552 1520.93 Q719.746 1524.47 719.746 1531.6 Q719.746 1538.71 721.552 1542.27 Q723.38 1545.82 726.991 1545.82 Q730.626 1545.82 732.431 1542.27 Q734.26 1538.71 734.26 1531.6 Q734.26 1524.47 732.431 1520.93 Q730.626 1517.37 726.991 1517.37 M726.991 1513.66 Q732.802 1513.66 735.857 1518.27 Q738.936 1522.85 738.936 1531.6 Q738.936 1540.33 735.857 1544.94 Q732.802 1549.52 726.991 1549.52 Q721.181 1549.52 718.103 1544.94 Q715.047 1540.33 715.047 1531.6 Q715.047 1522.85 718.103 1518.27 Q721.181 1513.66 726.991 1513.66 Z\" fill=\"#000000\" fill-rule=\"evenodd\" fill-opacity=\"1\" /><path clip-path=\"url(#clip110)\" d=\"M747.153 1542.97 L752.038 1542.97 L752.038 1548.85 L747.153 1548.85 L747.153 1542.97 Z\" fill=\"#000000\" fill-rule=\"evenodd\" fill-opacity=\"1\" /><path clip-path=\"url(#clip110)\" d=\"M766.25 1544.91 L782.57 1544.91 L782.57 1548.85 L760.626 1548.85 L760.626 1544.91 Q763.288 1542.16 767.871 1537.53 Q772.477 1532.88 773.658 1531.53 Q775.903 1529.01 776.783 1527.27 Q777.686 1525.51 777.686 1523.82 Q777.686 1521.07 775.741 1519.33 Q773.82 1517.6 770.718 1517.6 Q768.519 1517.6 766.065 1518.36 Q763.635 1519.13 760.857 1520.68 L760.857 1515.95 Q763.681 1514.82 766.135 1514.24 Q768.588 1513.66 770.625 1513.66 Q775.996 1513.66 779.19 1516.35 Q782.385 1519.03 782.385 1523.52 Q782.385 1525.65 781.574 1527.57 Q780.787 1529.47 778.681 1532.07 Q778.102 1532.74 775 1535.95 Q771.899 1539.15 766.25 1544.91 Z\" fill=\"#000000\" fill-rule=\"evenodd\" fill-opacity=\"1\" /><path clip-path=\"url(#clip110)\" d=\"M792.431 1514.29 L810.787 1514.29 L810.787 1518.22 L796.713 1518.22 L796.713 1526.7 Q797.732 1526.35 798.75 1526.19 Q799.769 1526 800.787 1526 Q806.574 1526 809.954 1529.17 Q813.334 1532.34 813.334 1537.76 Q813.334 1543.34 809.861 1546.44 Q806.389 1549.52 800.07 1549.52 Q797.894 1549.52 795.625 1549.15 Q793.38 1548.78 790.973 1548.04 L790.973 1543.34 Q793.056 1544.47 795.278 1545.03 Q797.5 1545.58 799.977 1545.58 Q803.982 1545.58 806.32 1543.48 Q808.658 1541.37 808.658 1537.76 Q808.658 1534.15 806.32 1532.04 Q803.982 1529.94 799.977 1529.94 Q798.102 1529.94 796.227 1530.35 Q794.375 1530.77 792.431 1531.65 L792.431 1514.29 Z\" fill=\"#000000\" fill-rule=\"evenodd\" fill-opacity=\"1\" /><path clip-path=\"url(#clip110)\" d=\"M1235.65 1517.37 Q1232.04 1517.37 1230.21 1520.93 Q1228.4 1524.47 1228.4 1531.6 Q1228.4 1538.71 1230.21 1542.27 Q1232.04 1545.82 1235.65 1545.82 Q1239.28 1545.82 1241.09 1542.27 Q1242.92 1538.71 1242.92 1531.6 Q1242.92 1524.47 1241.09 1520.93 Q1239.28 1517.37 1235.65 1517.37 M1235.65 1513.66 Q1241.46 1513.66 1244.52 1518.27 Q1247.59 1522.85 1247.59 1531.6 Q1247.59 1540.33 1244.52 1544.94 Q1241.46 1549.52 1235.65 1549.52 Q1229.84 1549.52 1226.76 1544.94 Q1223.71 1540.33 1223.71 1531.6 Q1223.71 1522.85 1226.76 1518.27 Q1229.84 1513.66 1235.65 1513.66 Z\" fill=\"#000000\" fill-rule=\"evenodd\" fill-opacity=\"1\" /><path clip-path=\"url(#clip110)\" d=\"M1255.81 1542.97 L1260.7 1542.97 L1260.7 1548.85 L1255.81 1548.85 L1255.81 1542.97 Z\" fill=\"#000000\" fill-rule=\"evenodd\" fill-opacity=\"1\" /><path clip-path=\"url(#clip110)\" d=\"M1270.93 1514.29 L1289.28 1514.29 L1289.28 1518.22 L1275.21 1518.22 L1275.21 1526.7 Q1276.23 1526.35 1277.25 1526.19 Q1278.26 1526 1279.28 1526 Q1285.07 1526 1288.45 1529.17 Q1291.83 1532.34 1291.83 1537.76 Q1291.83 1543.34 1288.36 1546.44 Q1284.89 1549.52 1278.57 1549.52 Q1276.39 1549.52 1274.12 1549.15 Q1271.88 1548.78 1269.47 1548.04 L1269.47 1543.34 Q1271.55 1544.47 1273.77 1545.03 Q1276 1545.58 1278.47 1545.58 Q1282.48 1545.58 1284.82 1543.48 Q1287.15 1541.37 1287.15 1537.76 Q1287.15 1534.15 1284.82 1532.04 Q1282.48 1529.94 1278.47 1529.94 Q1276.6 1529.94 1274.72 1530.35 Q1272.87 1530.77 1270.93 1531.65 L1270.93 1514.29 Z\" fill=\"#000000\" fill-rule=\"evenodd\" fill-opacity=\"1\" /><path clip-path=\"url(#clip110)\" d=\"M1311.04 1517.37 Q1307.43 1517.37 1305.6 1520.93 Q1303.8 1524.47 1303.8 1531.6 Q1303.8 1538.71 1305.6 1542.27 Q1307.43 1545.82 1311.04 1545.82 Q1314.68 1545.82 1316.48 1542.27 Q1318.31 1538.71 1318.31 1531.6 Q1318.31 1524.47 1316.48 1520.93 Q1314.68 1517.37 1311.04 1517.37 M1311.04 1513.66 Q1316.85 1513.66 1319.91 1518.27 Q1322.99 1522.85 1322.99 1531.6 Q1322.99 1540.33 1319.91 1544.94 Q1316.85 1549.52 1311.04 1549.52 Q1305.23 1549.52 1302.15 1544.94 Q1299.1 1540.33 1299.1 1531.6 Q1299.1 1522.85 1302.15 1518.27 Q1305.23 1513.66 1311.04 1513.66 Z\" fill=\"#000000\" fill-rule=\"evenodd\" fill-opacity=\"1\" /><path clip-path=\"url(#clip110)\" d=\"M1745.3 1517.37 Q1741.69 1517.37 1739.86 1520.93 Q1738.06 1524.47 1738.06 1531.6 Q1738.06 1538.71 1739.86 1542.27 Q1741.69 1545.82 1745.3 1545.82 Q1748.94 1545.82 1750.74 1542.27 Q1752.57 1538.71 1752.57 1531.6 Q1752.57 1524.47 1750.74 1520.93 Q1748.94 1517.37 1745.3 1517.37 M1745.3 1513.66 Q1751.11 1513.66 1754.17 1518.27 Q1757.25 1522.85 1757.25 1531.6 Q1757.25 1540.33 1754.17 1544.94 Q1751.11 1549.52 1745.3 1549.52 Q1739.49 1549.52 1736.41 1544.94 Q1733.36 1540.33 1733.36 1531.6 Q1733.36 1522.85 1736.41 1518.27 Q1739.49 1513.66 1745.3 1513.66 Z\" fill=\"#000000\" fill-rule=\"evenodd\" fill-opacity=\"1\" /><path clip-path=\"url(#clip110)\" d=\"M1765.46 1542.97 L1770.35 1542.97 L1770.35 1548.85 L1765.46 1548.85 L1765.46 1542.97 Z\" fill=\"#000000\" fill-rule=\"evenodd\" fill-opacity=\"1\" /><path clip-path=\"url(#clip110)\" d=\"M1779.35 1514.29 L1801.58 1514.29 L1801.58 1516.28 L1789.03 1548.85 L1784.15 1548.85 L1795.95 1518.22 L1779.35 1518.22 L1779.35 1514.29 Z\" fill=\"#000000\" fill-rule=\"evenodd\" fill-opacity=\"1\" /><path clip-path=\"url(#clip110)\" d=\"M1810.74 1514.29 L1829.1 1514.29 L1829.1 1518.22 L1815.02 1518.22 L1815.02 1526.7 Q1816.04 1526.35 1817.06 1526.19 Q1818.08 1526 1819.1 1526 Q1824.89 1526 1828.27 1529.17 Q1831.64 1532.34 1831.64 1537.76 Q1831.64 1543.34 1828.17 1546.44 Q1824.7 1549.52 1818.38 1549.52 Q1816.21 1549.52 1813.94 1549.15 Q1811.69 1548.78 1809.28 1548.04 L1809.28 1543.34 Q1811.37 1544.47 1813.59 1545.03 Q1815.81 1545.58 1818.29 1545.58 Q1822.29 1545.58 1824.63 1543.48 Q1826.97 1541.37 1826.97 1537.76 Q1826.97 1534.15 1824.63 1532.04 Q1822.29 1529.94 1818.29 1529.94 Q1816.41 1529.94 1814.54 1530.35 Q1812.69 1530.77 1810.74 1531.65 L1810.74 1514.29 Z\" fill=\"#000000\" fill-rule=\"evenodd\" fill-opacity=\"1\" /><path clip-path=\"url(#clip110)\" d=\"M2243.73 1544.91 L2251.37 1544.91 L2251.37 1518.55 L2243.06 1520.21 L2243.06 1515.95 L2251.32 1514.29 L2256 1514.29 L2256 1544.91 L2263.64 1544.91 L2263.64 1548.85 L2243.73 1548.85 L2243.73 1544.91 Z\" fill=\"#000000\" fill-rule=\"evenodd\" fill-opacity=\"1\" /><path clip-path=\"url(#clip110)\" d=\"M2273.08 1542.97 L2277.97 1542.97 L2277.97 1548.85 L2273.08 1548.85 L2273.08 1542.97 Z\" fill=\"#000000\" fill-rule=\"evenodd\" fill-opacity=\"1\" /><path clip-path=\"url(#clip110)\" d=\"M2298.15 1517.37 Q2294.54 1517.37 2292.71 1520.93 Q2290.9 1524.47 2290.9 1531.6 Q2290.9 1538.71 2292.71 1542.27 Q2294.54 1545.82 2298.15 1545.82 Q2301.78 1545.82 2303.59 1542.27 Q2305.42 1538.71 2305.42 1531.6 Q2305.42 1524.47 2303.59 1520.93 Q2301.78 1517.37 2298.15 1517.37 M2298.15 1513.66 Q2303.96 1513.66 2307.02 1518.27 Q2310.09 1522.85 2310.09 1531.6 Q2310.09 1540.33 2307.02 1544.94 Q2303.96 1549.52 2298.15 1549.52 Q2292.34 1549.52 2289.26 1544.94 Q2286.21 1540.33 2286.21 1531.6 Q2286.21 1522.85 2289.26 1518.27 Q2292.34 1513.66 2298.15 1513.66 Z\" fill=\"#000000\" fill-rule=\"evenodd\" fill-opacity=\"1\" /><path clip-path=\"url(#clip110)\" d=\"M2328.31 1517.37 Q2324.7 1517.37 2322.87 1520.93 Q2321.07 1524.47 2321.07 1531.6 Q2321.07 1538.71 2322.87 1542.27 Q2324.7 1545.82 2328.31 1545.82 Q2331.95 1545.82 2333.75 1542.27 Q2335.58 1538.71 2335.58 1531.6 Q2335.58 1524.47 2333.75 1520.93 Q2331.95 1517.37 2328.31 1517.37 M2328.31 1513.66 Q2334.12 1513.66 2337.18 1518.27 Q2340.26 1522.85 2340.26 1531.6 Q2340.26 1540.33 2337.18 1544.94 Q2334.12 1549.52 2328.31 1549.52 Q2322.5 1549.52 2319.42 1544.94 Q2316.37 1540.33 2316.37 1531.6 Q2316.37 1522.85 2319.42 1518.27 Q2322.5 1513.66 2328.31 1513.66 Z\" fill=\"#000000\" fill-rule=\"evenodd\" fill-opacity=\"1\" /><polyline clip-path=\"url(#clip112)\" style=\"stroke:#000000; stroke-linecap:butt; stroke-linejoin:round; stroke-width:2; stroke-opacity:0.1; fill:none\" points=\"\n",
       "  193.936,1290.27 2352.76,1290.27 \n",
       "  \"/>\n",
       "<polyline clip-path=\"url(#clip112)\" style=\"stroke:#000000; stroke-linecap:butt; stroke-linejoin:round; stroke-width:2; stroke-opacity:0.1; fill:none\" points=\"\n",
       "  193.936,1062.66 2352.76,1062.66 \n",
       "  \"/>\n",
       "<polyline clip-path=\"url(#clip112)\" style=\"stroke:#000000; stroke-linecap:butt; stroke-linejoin:round; stroke-width:2; stroke-opacity:0.1; fill:none\" points=\"\n",
       "  193.936,835.049 2352.76,835.049 \n",
       "  \"/>\n",
       "<polyline clip-path=\"url(#clip112)\" style=\"stroke:#000000; stroke-linecap:butt; stroke-linejoin:round; stroke-width:2; stroke-opacity:0.1; fill:none\" points=\"\n",
       "  193.936,607.439 2352.76,607.439 \n",
       "  \"/>\n",
       "<polyline clip-path=\"url(#clip112)\" style=\"stroke:#000000; stroke-linecap:butt; stroke-linejoin:round; stroke-width:2; stroke-opacity:0.1; fill:none\" points=\"\n",
       "  193.936,379.828 2352.76,379.828 \n",
       "  \"/>\n",
       "<polyline clip-path=\"url(#clip112)\" style=\"stroke:#000000; stroke-linecap:butt; stroke-linejoin:round; stroke-width:2; stroke-opacity:0.1; fill:none\" points=\"\n",
       "  193.936,152.217 2352.76,152.217 \n",
       "  \"/>\n",
       "<polyline clip-path=\"url(#clip110)\" style=\"stroke:#000000; stroke-linecap:butt; stroke-linejoin:round; stroke-width:4; stroke-opacity:1; fill:none\" points=\"\n",
       "  193.936,1486.45 193.936,47.2441 \n",
       "  \"/>\n",
       "<polyline clip-path=\"url(#clip110)\" style=\"stroke:#000000; stroke-linecap:butt; stroke-linejoin:round; stroke-width:4; stroke-opacity:1; fill:none\" points=\"\n",
       "  193.936,1290.27 212.834,1290.27 \n",
       "  \"/>\n",
       "<polyline clip-path=\"url(#clip110)\" style=\"stroke:#000000; stroke-linecap:butt; stroke-linejoin:round; stroke-width:4; stroke-opacity:1; fill:none\" points=\"\n",
       "  193.936,1062.66 212.834,1062.66 \n",
       "  \"/>\n",
       "<polyline clip-path=\"url(#clip110)\" style=\"stroke:#000000; stroke-linecap:butt; stroke-linejoin:round; stroke-width:4; stroke-opacity:1; fill:none\" points=\"\n",
       "  193.936,835.049 212.834,835.049 \n",
       "  \"/>\n",
       "<polyline clip-path=\"url(#clip110)\" style=\"stroke:#000000; stroke-linecap:butt; stroke-linejoin:round; stroke-width:4; stroke-opacity:1; fill:none\" points=\"\n",
       "  193.936,607.439 212.834,607.439 \n",
       "  \"/>\n",
       "<polyline clip-path=\"url(#clip110)\" style=\"stroke:#000000; stroke-linecap:butt; stroke-linejoin:round; stroke-width:4; stroke-opacity:1; fill:none\" points=\"\n",
       "  193.936,379.828 212.834,379.828 \n",
       "  \"/>\n",
       "<polyline clip-path=\"url(#clip110)\" style=\"stroke:#000000; stroke-linecap:butt; stroke-linejoin:round; stroke-width:4; stroke-opacity:1; fill:none\" points=\"\n",
       "  193.936,152.217 212.834,152.217 \n",
       "  \"/>\n",
       "<path clip-path=\"url(#clip110)\" d=\"M51.9875 1290.72 L81.6633 1290.72 L81.6633 1294.66 L51.9875 1294.66 L51.9875 1290.72 Z\" fill=\"#000000\" fill-rule=\"evenodd\" fill-opacity=\"1\" /><path clip-path=\"url(#clip110)\" d=\"M92.566 1303.62 L100.205 1303.62 L100.205 1277.25 L91.8947 1278.92 L91.8947 1274.66 L100.159 1272.99 L104.834 1272.99 L104.834 1303.62 L112.473 1303.62 L112.473 1307.55 L92.566 1307.55 L92.566 1303.62 Z\" fill=\"#000000\" fill-rule=\"evenodd\" fill-opacity=\"1\" /><path clip-path=\"url(#clip110)\" d=\"M121.918 1301.67 L126.802 1301.67 L126.802 1307.55 L121.918 1307.55 L121.918 1301.67 Z\" fill=\"#000000\" fill-rule=\"evenodd\" fill-opacity=\"1\" /><path clip-path=\"url(#clip110)\" d=\"M137.033 1272.99 L155.39 1272.99 L155.39 1276.93 L141.316 1276.93 L141.316 1285.4 Q142.334 1285.05 143.353 1284.89 Q144.371 1284.7 145.39 1284.7 Q151.177 1284.7 154.556 1287.87 Q157.936 1291.05 157.936 1296.46 Q157.936 1302.04 154.464 1305.14 Q150.992 1308.22 144.672 1308.22 Q142.496 1308.22 140.228 1307.85 Q137.982 1307.48 135.575 1306.74 L135.575 1302.04 Q137.658 1303.18 139.881 1303.73 Q142.103 1304.29 144.58 1304.29 Q148.584 1304.29 150.922 1302.18 Q153.26 1300.07 153.26 1296.46 Q153.26 1292.85 150.922 1290.75 Q148.584 1288.64 144.58 1288.64 Q142.705 1288.64 140.83 1289.06 Q138.978 1289.47 137.033 1290.35 L137.033 1272.99 Z\" fill=\"#000000\" fill-rule=\"evenodd\" fill-opacity=\"1\" /><path clip-path=\"url(#clip110)\" d=\"M50.9921 1063.11 L80.6679 1063.11 L80.6679 1067.05 L50.9921 1067.05 L50.9921 1063.11 Z\" fill=\"#000000\" fill-rule=\"evenodd\" fill-opacity=\"1\" /><path clip-path=\"url(#clip110)\" d=\"M91.5706 1076 L99.2095 1076 L99.2095 1049.64 L90.8993 1051.31 L90.8993 1047.05 L99.1632 1045.38 L103.839 1045.38 L103.839 1076 L111.478 1076 L111.478 1079.94 L91.5706 1079.94 L91.5706 1076 Z\" fill=\"#000000\" fill-rule=\"evenodd\" fill-opacity=\"1\" /><path clip-path=\"url(#clip110)\" d=\"M120.922 1074.06 L125.807 1074.06 L125.807 1079.94 L120.922 1079.94 L120.922 1074.06 Z\" fill=\"#000000\" fill-rule=\"evenodd\" fill-opacity=\"1\" /><path clip-path=\"url(#clip110)\" d=\"M145.992 1048.46 Q142.381 1048.46 140.552 1052.02 Q138.746 1055.57 138.746 1062.69 Q138.746 1069.8 140.552 1073.37 Q142.381 1076.91 145.992 1076.91 Q149.626 1076.91 151.431 1073.37 Q153.26 1069.8 153.26 1062.69 Q153.26 1055.57 151.431 1052.02 Q149.626 1048.46 145.992 1048.46 M145.992 1044.76 Q151.802 1044.76 154.857 1049.36 Q157.936 1053.94 157.936 1062.69 Q157.936 1071.42 154.857 1076.03 Q151.802 1080.61 145.992 1080.61 Q140.181 1080.61 137.103 1076.03 Q134.047 1071.42 134.047 1062.69 Q134.047 1053.94 137.103 1049.36 Q140.181 1044.76 145.992 1044.76 Z\" fill=\"#000000\" fill-rule=\"evenodd\" fill-opacity=\"1\" /><path clip-path=\"url(#clip110)\" d=\"M51.9875 835.501 L81.6633 835.501 L81.6633 839.436 L51.9875 839.436 L51.9875 835.501 Z\" fill=\"#000000\" fill-rule=\"evenodd\" fill-opacity=\"1\" /><path clip-path=\"url(#clip110)\" d=\"M101.756 820.848 Q98.1447 820.848 96.316 824.413 Q94.5104 827.954 94.5104 835.084 Q94.5104 842.19 96.316 845.755 Q98.1447 849.297 101.756 849.297 Q105.39 849.297 107.196 845.755 Q109.024 842.19 109.024 835.084 Q109.024 827.954 107.196 824.413 Q105.39 820.848 101.756 820.848 M101.756 817.144 Q107.566 817.144 110.621 821.751 Q113.7 826.334 113.7 835.084 Q113.7 843.811 110.621 848.417 Q107.566 853.001 101.756 853.001 Q95.9456 853.001 92.8669 848.417 Q89.8114 843.811 89.8114 835.084 Q89.8114 826.334 92.8669 821.751 Q95.9456 817.144 101.756 817.144 Z\" fill=\"#000000\" fill-rule=\"evenodd\" fill-opacity=\"1\" /><path clip-path=\"url(#clip110)\" d=\"M121.918 846.45 L126.802 846.45 L126.802 852.329 L121.918 852.329 L121.918 846.45 Z\" fill=\"#000000\" fill-rule=\"evenodd\" fill-opacity=\"1\" /><path clip-path=\"url(#clip110)\" d=\"M137.033 817.769 L155.39 817.769 L155.39 821.704 L141.316 821.704 L141.316 830.177 Q142.334 829.829 143.353 829.667 Q144.371 829.482 145.39 829.482 Q151.177 829.482 154.556 832.653 Q157.936 835.825 157.936 841.241 Q157.936 846.82 154.464 849.922 Q150.992 853.001 144.672 853.001 Q142.496 853.001 140.228 852.63 Q137.982 852.26 135.575 851.519 L135.575 846.82 Q137.658 847.954 139.881 848.51 Q142.103 849.065 144.58 849.065 Q148.584 849.065 150.922 846.959 Q153.26 844.853 153.26 841.241 Q153.26 837.63 150.922 835.524 Q148.584 833.417 144.58 833.417 Q142.705 833.417 140.83 833.834 Q138.978 834.251 137.033 835.13 L137.033 817.769 Z\" fill=\"#000000\" fill-rule=\"evenodd\" fill-opacity=\"1\" /><path clip-path=\"url(#clip110)\" d=\"M100.76 593.237 Q97.1493 593.237 95.3206 596.802 Q93.515 600.344 93.515 607.473 Q93.515 614.58 95.3206 618.145 Q97.1493 621.686 100.76 621.686 Q104.395 621.686 106.2 618.145 Q108.029 614.58 108.029 607.473 Q108.029 600.344 106.2 596.802 Q104.395 593.237 100.76 593.237 M100.76 589.534 Q106.571 589.534 109.626 594.14 Q112.705 598.723 112.705 607.473 Q112.705 616.2 109.626 620.807 Q106.571 625.39 100.76 625.39 Q94.9502 625.39 91.8715 620.807 Q88.816 616.2 88.816 607.473 Q88.816 598.723 91.8715 594.14 Q94.9502 589.534 100.76 589.534 Z\" fill=\"#000000\" fill-rule=\"evenodd\" fill-opacity=\"1\" /><path clip-path=\"url(#clip110)\" d=\"M120.922 618.839 L125.807 618.839 L125.807 624.719 L120.922 624.719 L120.922 618.839 Z\" fill=\"#000000\" fill-rule=\"evenodd\" fill-opacity=\"1\" /><path clip-path=\"url(#clip110)\" d=\"M145.992 593.237 Q142.381 593.237 140.552 596.802 Q138.746 600.344 138.746 607.473 Q138.746 614.58 140.552 618.145 Q142.381 621.686 145.992 621.686 Q149.626 621.686 151.431 618.145 Q153.26 614.58 153.26 607.473 Q153.26 600.344 151.431 596.802 Q149.626 593.237 145.992 593.237 M145.992 589.534 Q151.802 589.534 154.857 594.14 Q157.936 598.723 157.936 607.473 Q157.936 616.2 154.857 620.807 Q151.802 625.39 145.992 625.39 Q140.181 625.39 137.103 620.807 Q134.047 616.2 134.047 607.473 Q134.047 598.723 137.103 594.14 Q140.181 589.534 145.992 589.534 Z\" fill=\"#000000\" fill-rule=\"evenodd\" fill-opacity=\"1\" /><path clip-path=\"url(#clip110)\" d=\"M101.756 365.627 Q98.1447 365.627 96.316 369.191 Q94.5104 372.733 94.5104 379.863 Q94.5104 386.969 96.316 390.534 Q98.1447 394.075 101.756 394.075 Q105.39 394.075 107.196 390.534 Q109.024 386.969 109.024 379.863 Q109.024 372.733 107.196 369.191 Q105.39 365.627 101.756 365.627 M101.756 361.923 Q107.566 361.923 110.621 366.529 Q113.7 371.113 113.7 379.863 Q113.7 388.589 110.621 393.196 Q107.566 397.779 101.756 397.779 Q95.9456 397.779 92.8669 393.196 Q89.8114 388.589 89.8114 379.863 Q89.8114 371.113 92.8669 366.529 Q95.9456 361.923 101.756 361.923 Z\" fill=\"#000000\" fill-rule=\"evenodd\" fill-opacity=\"1\" /><path clip-path=\"url(#clip110)\" d=\"M121.918 391.228 L126.802 391.228 L126.802 397.108 L121.918 397.108 L121.918 391.228 Z\" fill=\"#000000\" fill-rule=\"evenodd\" fill-opacity=\"1\" /><path clip-path=\"url(#clip110)\" d=\"M137.033 362.548 L155.39 362.548 L155.39 366.483 L141.316 366.483 L141.316 374.955 Q142.334 374.608 143.353 374.446 Q144.371 374.261 145.39 374.261 Q151.177 374.261 154.556 377.432 Q157.936 380.603 157.936 386.02 Q157.936 391.599 154.464 394.7 Q150.992 397.779 144.672 397.779 Q142.496 397.779 140.228 397.409 Q137.982 397.038 135.575 396.298 L135.575 391.599 Q137.658 392.733 139.881 393.288 Q142.103 393.844 144.58 393.844 Q148.584 393.844 150.922 391.738 Q153.26 389.631 153.26 386.02 Q153.26 382.409 150.922 380.302 Q148.584 378.196 144.58 378.196 Q142.705 378.196 140.83 378.613 Q138.978 379.029 137.033 379.909 L137.033 362.548 Z\" fill=\"#000000\" fill-rule=\"evenodd\" fill-opacity=\"1\" /><path clip-path=\"url(#clip110)\" d=\"M91.5706 165.562 L99.2095 165.562 L99.2095 139.196 L90.8993 140.863 L90.8993 136.604 L99.1632 134.937 L103.839 134.937 L103.839 165.562 L111.478 165.562 L111.478 169.497 L91.5706 169.497 L91.5706 165.562 Z\" fill=\"#000000\" fill-rule=\"evenodd\" fill-opacity=\"1\" /><path clip-path=\"url(#clip110)\" d=\"M120.922 163.618 L125.807 163.618 L125.807 169.497 L120.922 169.497 L120.922 163.618 Z\" fill=\"#000000\" fill-rule=\"evenodd\" fill-opacity=\"1\" /><path clip-path=\"url(#clip110)\" d=\"M145.992 138.016 Q142.381 138.016 140.552 141.581 Q138.746 145.122 138.746 152.252 Q138.746 159.358 140.552 162.923 Q142.381 166.465 145.992 166.465 Q149.626 166.465 151.431 162.923 Q153.26 159.358 153.26 152.252 Q153.26 145.122 151.431 141.581 Q149.626 138.016 145.992 138.016 M145.992 134.312 Q151.802 134.312 154.857 138.919 Q157.936 143.502 157.936 152.252 Q157.936 160.979 154.857 165.585 Q151.802 170.168 145.992 170.168 Q140.181 170.168 137.103 165.585 Q134.047 160.979 134.047 152.252 Q134.047 143.502 137.103 138.919 Q140.181 134.312 145.992 134.312 Z\" fill=\"#000000\" fill-rule=\"evenodd\" fill-opacity=\"1\" /><polyline clip-path=\"url(#clip112)\" style=\"stroke:#009af9; stroke-linecap:butt; stroke-linejoin:round; stroke-width:8; stroke-opacity:1; fill:none\" points=\"\n",
       "  255.035,1445.72 274.924,1431.37 458.829,1274.05 569.348,1162.39 662.791,1061.58 764.296,948.736 857.875,844.626 958.201,736.198 1074.44,618.974 1177.74,526.012 \n",
       "  1268.32,455.563 1367.08,392.488 1466.43,344.985 1521.35,325.955 1576.27,312.173 1628.52,303.921 1680.78,300.323 1789.45,306.802 1880.92,324.381 1936.76,338.318 \n",
       "  1992.6,352.062 2045.09,361.423 2097.58,362.106 2118.61,358.234 2139.63,350.982 2160.65,339.485 2181.68,322.701 2202.7,299.382 2223.73,268.029 2244.75,226.848 \n",
       "  2265.77,173.693 2272.24,154.539 2278.72,133.928 2285.19,111.771 2291.66,87.9763 \n",
       "  \"/>\n",
       "<polyline clip-path=\"url(#clip112)\" style=\"stroke:#000000; stroke-linecap:butt; stroke-linejoin:round; stroke-width:4; stroke-opacity:1; fill:none\" points=\"\n",
       "  -1964.88,607.439 4511.58,607.439 \n",
       "  \"/>\n",
       "</svg>\n"
      ]
     },
     "metadata": {},
     "output_type": "display_data"
    }
   ],
   "source": [
    "using Plots; Plots.gr()\n",
    "rf1(x) =  sin(4.0*(x - 0.25)) + x + x^20 - 1.0\n",
    "Plots.plot(rf1, 0.0, 1.0, linewidth=2, legend=false)\n",
    "Plots.hline!([0.0], color=:black)"
   ]
  },
  {
   "cell_type": "code",
   "execution_count": 60,
   "metadata": {},
   "outputs": [
    {
     "data": {
      "text/plain": [
       "0.40829350427936706"
      ]
     },
     "metadata": {},
     "output_type": "display_data"
    }
   ],
   "source": [
    "using Roots\n",
    "Roots.find_zero(rf1, (0.0, 1.0), Bisection())"
   ]
  },
  {
   "cell_type": "code",
   "execution_count": 62,
   "metadata": {},
   "outputs": [
    {
     "data": {
      "text/plain": [
       "5-element Vector{ComplexF64}:\n",
       "  1.1673039782614187 - 1.1102230246251565e-16im\n",
       " 0.18123244446987524 + 1.083954101317711im\n",
       " 0.18123244446987535 - 1.0839541013177107im\n",
       " -0.7648844336005848 + 0.3524715460317263im\n",
       " -0.7648844336005848 - 0.35247154603172626im"
      ]
     },
     "metadata": {},
     "output_type": "display_data"
    }
   ],
   "source": [
    "using PolynomialRoots\n",
    "PolynomialRoots.roots([-1, -1, 0, 0, 0, 1])"
   ]
  },
  {
   "cell_type": "code",
   "execution_count": 63,
   "metadata": {},
   "outputs": [
    {
     "ename": "ErrorException",
     "evalue": "Failed to precompile Stan [682df890-35be-576f-97d0-3d8c8b33a550] to C:\\Users\\11260\\.julia\\compiled\\v1.7\\Stan\\jl_3F82.tmp.",
     "output_type": "error",
     "traceback": [
      "Failed to precompile Stan [682df890-35be-576f-97d0-3d8c8b33a550] to C:\\Users\\11260\\.julia\\compiled\\v1.7\\Stan\\jl_3F82.tmp.\n",
      "\n",
      "Stacktrace:\n",
      "  [1] error(s::String)\n",
      "    @ Base .\\error.jl:33\n",
      "  [2] compilecache(pkg::Base.PkgId, path::String, internal_stderr::IO, internal_stdout::IO, ignore_loaded_modules::Bool)\n",
      "    @ Base .\\loading.jl:1466\n",
      "  [3] compilecache(pkg::Base.PkgId, path::String)\n",
      "    @ Base .\\loading.jl:1410\n",
      "  [4] _require(pkg::Base.PkgId)\n",
      "    @ Base .\\loading.jl:1120\n",
      "  [5] require(uuidkey::Base.PkgId)\n",
      "    @ Base .\\loading.jl:1013\n",
      "  [6] require(into::Module, mod::Symbol)\n",
      "    @ Base .\\loading.jl:997\n",
      "  [7] eval\n",
      "    @ .\\boot.jl:373 [inlined]\n",
      "  [8] include_string(mapexpr::typeof(REPL.softscope), mod::Module, code::String, filename::String)\n",
      "    @ Base .\\loading.jl:1196\n",
      "  [9] #invokelatest#2\n",
      "    @ .\\essentials.jl:716 [inlined]\n",
      " [10] invokelatest\n",
      "    @ .\\essentials.jl:714 [inlined]\n",
      " [11] (::VSCodeServer.var\"#150#151\"{VSCodeServer.NotebookRunCellArguments, String})()\n",
      "    @ VSCodeServer c:\\Users\\11260\\.vscode\\extensions\\julialang.language-julia-1.5.6\\scripts\\packages\\VSCodeServer\\src\\serve_notebook.jl:18\n",
      " [12] withpath(f::VSCodeServer.var\"#150#151\"{VSCodeServer.NotebookRunCellArguments, String}, path::String)\n",
      "    @ VSCodeServer c:\\Users\\11260\\.vscode\\extensions\\julialang.language-julia-1.5.6\\scripts\\packages\\VSCodeServer\\src\\repl.jl:185\n",
      " [13] notebook_runcell_request(conn::VSCodeServer.JSONRPC.JSONRPCEndpoint{Base.PipeEndpoint, Base.PipeEndpoint}, params::VSCodeServer.NotebookRunCellArguments)\n",
      "    @ VSCodeServer c:\\Users\\11260\\.vscode\\extensions\\julialang.language-julia-1.5.6\\scripts\\packages\\VSCodeServer\\src\\serve_notebook.jl:14\n",
      " [14] dispatch_msg(x::VSCodeServer.JSONRPC.JSONRPCEndpoint{Base.PipeEndpoint, Base.PipeEndpoint}, dispatcher::VSCodeServer.JSONRPC.MsgDispatcher, msg::Dict{String, Any})\n",
      "    @ VSCodeServer.JSONRPC c:\\Users\\11260\\.vscode\\extensions\\julialang.language-julia-1.5.6\\scripts\\packages\\JSONRPC\\src\\typed.jl:67\n",
      " [15] serve_notebook(pipename::String; crashreporting_pipename::String)\n",
      "    @ VSCodeServer c:\\Users\\11260\\.vscode\\extensions\\julialang.language-julia-1.5.6\\scripts\\packages\\VSCodeServer\\src\\serve_notebook.jl:94\n",
      " [16] top-level scope\n",
      "    @ c:\\Users\\11260\\.vscode\\extensions\\julialang.language-julia-1.5.6\\scripts\\notebook\\notebook.jl:12\n",
      " [17] include(mod::Module, _path::String)\n",
      "    @ Base .\\Base.jl:418\n",
      " [18] exec_options(opts::Base.JLOptions)\n",
      "    @ Base .\\client.jl:292\n",
      " [19] _start()\n",
      "    @ Base .\\client.jl:495"
     ]
    }
   ],
   "source": []
  },
  {
   "cell_type": "code",
   "execution_count": 68,
   "metadata": {},
   "outputs": [
    {
     "name": "stderr",
     "output_type": "stream",
     "text": [
      "  [2] \u001b[0m\u001b[1mcompilecache\u001b[22m\u001b[0m\u001b[1m(\u001b[22m\u001b[90mpkg\u001b[39m::\u001b[0mBase.PkgId, \u001b[90mpath\u001b[39m::\u001b[0mString, \u001b[90minternal_stderr\u001b[39m::\u001b[0mIO, \u001b[90minternal_stdout\u001b[39m::\u001b[0mIO, \u001b[90mignore_loaded_modules\u001b[39m::\u001b[0mBool\u001b[0m\u001b[1m)\u001b[22m\n",
      "\u001b[90m    @ \u001b[39m\u001b[90mBase\u001b[39m \u001b[90m.\\\u001b[39m\u001b[90m\u001b[4mloading.jl:1466\u001b[24m\u001b[39m\n",
      "  [3] \u001b[0m\u001b[1mcompilecache\u001b[22m\u001b[0m\u001b[1m(\u001b[22m\u001b[90mpkg\u001b[39m::\u001b[0mBase.PkgId, \u001b[90mpath\u001b[39m::\u001b[0mString\u001b[0m\u001b[1m)\u001b[22m\n",
      "\u001b[90m    @ \u001b[39m\u001b[90mBase\u001b[39m \u001b[90m.\\\u001b[39m\u001b[90m\u001b[4mloading.jl:1410\u001b[24m\u001b[39m\n",
      "  [4] \u001b[0m\u001b[1m_require\u001b[22m\u001b[0m\u001b[1m(\u001b[22m\u001b[90mpkg\u001b[39m::\u001b[0mBase.PkgId\u001b[0m\u001b[1m)\u001b[22m\n",
      "\u001b[90m    @ \u001b[39m\u001b[90mBase\u001b[39m \u001b[90m.\\\u001b[39m\u001b[90m\u001b[4mloading.jl:1120\u001b[24m\u001b[39m\n",
      "  [5] \u001b[0m\u001b[1mrequire\u001b[22m\u001b[0m\u001b[1m(\u001b[22m\u001b[90muuidkey\u001b[39m::\u001b[0mBase.PkgId\u001b[0m\u001b[1m)\u001b[22m\n",
      "\u001b[90m    @ \u001b[39m\u001b[90mBase\u001b[39m \u001b[90m.\\\u001b[39m\u001b[90m\u001b[4mloading.jl:1013\u001b[24m\u001b[39m\n",
      "  [6] \u001b[0m\u001b[1mrequire\u001b[22m\u001b[0m\u001b[1m(\u001b[22m\u001b[90minto\u001b[39m::\u001b[0mModule, \u001b[90mmod\u001b[39m::\u001b[0mSymbol\u001b[0m\u001b[1m)\u001b[22m\n",
      "\u001b[90m    @ \u001b[39m\u001b[90mBase\u001b[39m \u001b[90m.\\\u001b[39m\u001b[90m\u001b[4mloading.jl:997\u001b[24m\u001b[39m\n",
      "  [7] \u001b[0m\u001b[1minclude\u001b[22m\n",
      "\u001b[90m    @ \u001b[39m\u001b[90m.\\\u001b[39m\u001b[90m\u001b[4mBase.jl:418\u001b[24m\u001b[39m\u001b[90m [inlined]\u001b[39m\n",
      "  [8] \u001b[0m\u001b[1minclude_package_for_output\u001b[22m\u001b[0m\u001b[1m(\u001b[22m\u001b[90mpkg\u001b[39m::\u001b[0mBase.PkgId, \u001b[90minput\u001b[39m::\u001b[0mString, \u001b[90mdepot_path\u001b[39m::\u001b[0mVector\u001b[90m{String}\u001b[39m, \u001b[90mdl_load_path\u001b[39m::\u001b[0mVector\u001b[90m{String}\u001b[39m, \u001b[90mload_path\u001b[39m::\u001b[0mVector\u001b[90m{String}\u001b[39m, \u001b[90mconcrete_deps\u001b[39m::\u001b[0mVector\u001b[90m{Pair{Base.PkgId, UInt64}}\u001b[39m, \u001b[90msource\u001b[39m::\u001b[0mString\u001b[0m\u001b[1m)\u001b[22m\n",
      "\u001b[90m    @ \u001b[39m\u001b[90mBase\u001b[39m \u001b[90m.\\\u001b[39m\u001b[90m\u001b[4mloading.jl:1318\u001b[24m\u001b[39m\n",
      "  [9] top-level scope\n",
      "\u001b[90m    @ \u001b[39m\u001b[90m\u001b[4mnone:1\u001b[24m\u001b[39m\n",
      " [10] \u001b[0m\u001b[1meval\u001b[22m\n",
      "\u001b[90m    @ \u001b[39m\u001b[90m.\\\u001b[39m\u001b[90m\u001b[4mboot.jl:373\u001b[24m\u001b[39m\u001b[90m [inlined]\u001b[39m\n",
      " [11] \u001b[0m\u001b[1meval\u001b[22m\u001b[0m\u001b[1m(\u001b[22m\u001b[90mx\u001b[39m::\u001b[0mExpr\u001b[0m\u001b[1m)\u001b[22m\n",
      "\u001b[90m    @ \u001b[39m\u001b[90mBase.MainInclude\u001b[39m \u001b[90m.\\\u001b[39m\u001b[90m\u001b[4mclient.jl:453\u001b[24m\u001b[39m\n",
      " [12] top-level scope\n",
      "\u001b[90m    @ \u001b[39m\u001b[90m\u001b[4mnone:1\u001b[24m\u001b[39m\n",
      "in expression starting at C:\\Users\\11260\\.julia\\packages\\StanBase\\HgT2v\\src\\StanBase.jl:1\n",
      "\u001b[91m\u001b[1mERROR: \u001b[22m\u001b[39mLoadError: Failed to precompile StanBase [d0ee94f6-a23d-54aa-bbe9-7f572d6da7f5] to C:\\Users\\11260\\.julia\\compiled\\v1.7\\StanBase\\jl_3F1.tmp.\n",
      "Stacktrace:\n",
      "  [1] \u001b[0m\u001b[1merror\u001b[22m\u001b[0m\u001b[1m(\u001b[22m\u001b[90ms\u001b[39m::\u001b[0mString\u001b[0m\u001b[1m)\u001b[22m\n",
      "\u001b[90m    @ \u001b[39m\u001b[90mBase\u001b[39m \u001b[90m.\\\u001b[39m\u001b[90m\u001b[4merror.jl:33\u001b[24m\u001b[39m\n",
      "  [2] \u001b[0m\u001b[1mcompilecache\u001b[22m\u001b[0m\u001b[1m(\u001b[22m\u001b[90mpkg\u001b[39m::\u001b[0mBase.PkgId, \u001b[90mpath\u001b[39m::\u001b[0mString, \u001b[90minternal_stderr\u001b[39m::\u001b[0mIO, \u001b[90minternal_stdout\u001b[39m::\u001b[0mIO, \u001b[90mignore_loaded_modules\u001b[39m::\u001b[0mBool\u001b[0m\u001b[1m)\u001b[22m\n",
      "\u001b[90m    @ \u001b[39m\u001b[90mBase\u001b[39m \u001b[90m.\\\u001b[39m\u001b[90m\u001b[4mloading.jl:1466\u001b[24m\u001b[39m\n",
      "  [3] \u001b[0m\u001b[1mcompilecache\u001b[22m\u001b[0m\u001b[1m(\u001b[22m\u001b[90mpkg\u001b[39m::\u001b[0mBase.PkgId, \u001b[90mpath\u001b[39m::\u001b[0mString\u001b[0m\u001b[1m)\u001b[22m\n",
      "\u001b[90m    @ \u001b[39m\u001b[90mBase\u001b[39m \u001b[90m.\\\u001b[39m\u001b[90m\u001b[4mloading.jl:1410\u001b[24m\u001b[39m\n",
      "  [4] \u001b[0m\u001b[1m_require\u001b[22m\u001b[0m\u001b[1m(\u001b[22m\u001b[90mpkg\u001b[39m::\u001b[0mBase.PkgId\u001b[0m\u001b[1m)\u001b[22m\n",
      "\u001b[90m    @ \u001b[39m\u001b[90mBase\u001b[39m \u001b[90m.\\\u001b[39m\u001b[90m\u001b[4mloading.jl:1120\u001b[24m\u001b[39m\n",
      "  [5] \u001b[0m\u001b[1mrequire\u001b[22m\u001b[0m\u001b[1m(\u001b[22m\u001b[90muuidkey\u001b[39m::\u001b[0mBase.PkgId\u001b[0m\u001b[1m)\u001b[22m\n",
      "\u001b[90m    @ \u001b[39m\u001b[90mBase\u001b[39m \u001b[90m.\\\u001b[39m\u001b[90m\u001b[4mloading.jl:1013\u001b[24m\u001b[39m\n",
      "  [6] \u001b[0m\u001b[1mrequire\u001b[22m\u001b[0m\u001b[1m(\u001b[22m\u001b[90minto\u001b[39m::\u001b[0mModule, \u001b[90mmod\u001b[39m::\u001b[0mSymbol\u001b[0m\u001b[1m)\u001b[22m\n",
      "\u001b[90m    @ \u001b[39m\u001b[90mBase\u001b[39m \u001b[90m.\\\u001b[39m\u001b[90m\u001b[4mloading.jl:997\u001b[24m\u001b[39m\n",
      "  [7] \u001b[0m\u001b[1minclude\u001b[22m\n",
      "\u001b[90m    @ \u001b[39m\u001b[90m.\\\u001b[39m\u001b[90m\u001b[4mBase.jl:418\u001b[24m\u001b[39m\u001b[90m [inlined]\u001b[39m\n",
      "  [8] \u001b[0m\u001b[1minclude_package_for_output\u001b[22m\u001b[0m\u001b[1m(\u001b[22m\u001b[90mpkg\u001b[39m::\u001b[0mBase.PkgId, \u001b[90minput\u001b[39m::\u001b[0mString, \u001b[90mdepot_path\u001b[39m::\u001b[0mVector\u001b[90m{String}\u001b[39m, \u001b[90mdl_load_path\u001b[39m::\u001b[0mVector\u001b[90m{String}\u001b[39m, \u001b[90mload_path\u001b[39m::\u001b[0mVector\u001b[90m{String}\u001b[39m, \u001b[90mconcrete_deps\u001b[39m::\u001b[0mVector\u001b[90m{Pair{Base.PkgId, UInt64}}\u001b[39m, \u001b[90msource\u001b[39m::\u001b[0mString\u001b[0m\u001b[1m)\u001b[22m\n",
      "\u001b[90m    @ \u001b[39m\u001b[90mBase\u001b[39m \u001b[90m.\\\u001b[39m\u001b[90m\u001b[4mloading.jl:1318\u001b[24m\u001b[39m\n",
      "  [9] top-level scope\n",
      "\u001b[90m    @ \u001b[39m\u001b[90m\u001b[4mnone:1\u001b[24m\u001b[39m\n",
      " [10] \u001b[0m\u001b[1meval\u001b[22m\n",
      "\u001b[90m    @ \u001b[39m\u001b[90m.\\\u001b[39m\u001b[90m\u001b[4mboot.jl:373\u001b[24m\u001b[39m\u001b[90m [inlined]\u001b[39m\n",
      " [11] \u001b[0m\u001b[1meval\u001b[22m\u001b[0m\u001b[1m(\u001b[22m\u001b[90mx\u001b[39m::\u001b[0mExpr\u001b[0m\u001b[1m)\u001b[22m\n",
      "\u001b[90m    @ \u001b[39m\u001b[90mBase.MainInclude\u001b[39m \u001b[90m.\\\u001b[39m\u001b[90m\u001b[4mclient.jl:453\u001b[24m\u001b[39m\n",
      " [12] top-level scope\n",
      "\u001b[90m    @ \u001b[39m\u001b[90m\u001b[4mnone:1\u001b[24m\u001b[39m\n",
      "in expression starting at C:\\Users\\11260\\.julia\\packages\\StanSample\\tL6rg\\src\\StanSample.jl:1\n",
      "\u001b[91m\u001b[1mERROR: \u001b[22m\u001b[39mLoadError: Failed to precompile StanSample [c1514b29-d3a0-5178-b312-660c88baa699] to C:\\Users\\11260\\.julia\\compiled\\v1.7\\StanSample\\jl_190.tmp.\n",
      "Stacktrace:\n",
      "  [1] \u001b[0m\u001b[1merror\u001b[22m\u001b[0m\u001b[1m(\u001b[22m\u001b[90ms\u001b[39m::\u001b[0mString\u001b[0m\u001b[1m)\u001b[22m\n",
      "\u001b[90m    @ \u001b[39m\u001b[90mBase\u001b[39m \u001b[90m.\\\u001b[39m\u001b[90m\u001b[4merror.jl:33\u001b[24m\u001b[39m\n",
      "  [2] \u001b[0m\u001b[1mcompilecache\u001b[22m\u001b[0m\u001b[1m(\u001b[22m\u001b[90mpkg\u001b[39m::\u001b[0mBase.PkgId, \u001b[90mpath\u001b[39m::\u001b[0mString, \u001b[90minternal_stderr\u001b[39m::\u001b[0mIO, \u001b[90minternal_stdout\u001b[39m::\u001b[0mIO, \u001b[90mignore_loaded_modules\u001b[39m::\u001b[0mBool\u001b[0m\u001b[1m)\u001b[22m\n",
      "\u001b[90m    @ \u001b[39m\u001b[90mBase\u001b[39m \u001b[90m.\\\u001b[39m\u001b[90m\u001b[4mloading.jl:1466\u001b[24m\u001b[39m\n",
      "  [3] \u001b[0m\u001b[1mcompilecache\u001b[22m\u001b[0m\u001b[1m(\u001b[22m\u001b[90mpkg\u001b[39m::\u001b[0mBase.PkgId, \u001b[90mpath\u001b[39m::\u001b[0mString\u001b[0m\u001b[1m)\u001b[22m\n",
      "\u001b[90m    @ \u001b[39m\u001b[90mBase\u001b[39m \u001b[90m.\\\u001b[39m\u001b[90m\u001b[4mloading.jl:1410\u001b[24m\u001b[39m\n",
      "  [4] \u001b[0m\u001b[1m_require\u001b[22m\u001b[0m\u001b[1m(\u001b[22m\u001b[90mpkg\u001b[39m::\u001b[0mBase.PkgId\u001b[0m\u001b[1m)\u001b[22m\n",
      "\u001b[90m    @ \u001b[39m\u001b[90mBase\u001b[39m \u001b[90m.\\\u001b[39m\u001b[90m\u001b[4mloading.jl:1120\u001b[24m\u001b[39m\n",
      "  [5] \u001b[0m\u001b[1mrequire\u001b[22m\u001b[0m\u001b[1m(\u001b[22m\u001b[90muuidkey\u001b[39m::\u001b[0mBase.PkgId\u001b[0m\u001b[1m)\u001b[22m\n",
      "\u001b[90m    @ \u001b[39m\u001b[90mBase\u001b[39m \u001b[90m.\\\u001b[39m\u001b[90m\u001b[4mloading.jl:1013\u001b[24m\u001b[39m\n",
      "  [6] \u001b[0m\u001b[1mrequire\u001b[22m\u001b[0m\u001b[1m(\u001b[22m\u001b[90minto\u001b[39m::\u001b[0mModule, \u001b[90mmod\u001b[39m::\u001b[0mSymbol\u001b[0m\u001b[1m)\u001b[22m\n",
      "\u001b[90m    @ \u001b[39m\u001b[90mBase\u001b[39m \u001b[90m.\\\u001b[39m\u001b[90m\u001b[4mloading.jl:997\u001b[24m\u001b[39m\n",
      "  [7] \u001b[0m\u001b[1minclude\u001b[22m\n",
      "\u001b[90m    @ \u001b[39m\u001b[90m.\\\u001b[39m\u001b[90m\u001b[4mBase.jl:418\u001b[24m\u001b[39m\u001b[90m [inlined]\u001b[39m\n",
      "  [8] \u001b[0m\u001b[1minclude_package_for_output\u001b[22m\u001b[0m\u001b[1m(\u001b[22m\u001b[90mpkg\u001b[39m::\u001b[0mBase.PkgId, \u001b[90minput\u001b[39m::\u001b[0mString, \u001b[90mdepot_path\u001b[39m::\u001b[0mVector\u001b[90m{String}\u001b[39m, \u001b[90mdl_load_path\u001b[39m::\u001b[0mVector\u001b[90m{String}\u001b[39m, \u001b[90mload_path\u001b[39m::\u001b[0mVector\u001b[90m{String}\u001b[39m, \u001b[90mconcrete_deps\u001b[39m::\u001b[0mVector\u001b[90m{Pair{Base.PkgId, UInt64}}\u001b[39m, \u001b[90msource\u001b[39m::\u001b[0mString\u001b[0m\u001b[1m)\u001b[22m\n",
      "\u001b[90m    @ \u001b[39m\u001b[90mBase\u001b[39m \u001b[90m.\\\u001b[39m\u001b[90m\u001b[4mloading.jl:1318\u001b[24m\u001b[39m\n",
      "  [9] top-level scope\n",
      "\u001b[90m    @ \u001b[39m\u001b[90m\u001b[4mnone:1\u001b[24m\u001b[39m\n",
      " [10] \u001b[0m\u001b[1meval\u001b[22m\n",
      "\u001b[90m    @ \u001b[39m\u001b[90m.\\\u001b[39m\u001b[90m\u001b[4mboot.jl:373\u001b[24m\u001b[39m\u001b[90m [inlined]\u001b[39m\n",
      " [11] \u001b[0m\u001b[1meval\u001b[22m\u001b[0m\u001b[1m(\u001b[22m\u001b[90mx\u001b[39m::\u001b[0mExpr\u001b[0m\u001b[1m)\u001b[22m\n",
      "\u001b[90m    @ \u001b[39m\u001b[90mBase.MainInclude\u001b[39m \u001b[90m.\\\u001b[39m\u001b[90m\u001b[4mclient.jl:453\u001b[24m\u001b[39m\n",
      " [12] top-level scope\n",
      "\u001b[90m    @ \u001b[39m\u001b[90m\u001b[4mnone:1\u001b[24m\u001b[39m\n",
      "in expression starting at C:\\Users\\11260\\.julia\\packages\\Stan\\v8Equ\\src\\Stan.jl:1\n",
      "\u001b[33m\u001b[1m┌ \u001b[22m\u001b[39m\u001b[33m\u001b[1mWarning: \u001b[22m\u001b[39mModule DataFrames with build ID 10602302687101 is missing from the cache.\n",
      "\u001b[33m\u001b[1m│ \u001b[22m\u001b[39mThis may mean DataFrames [a93c6f00-e57d-5684-b7b6-d8193f3e46c0] does not support precompilation but is imported by a module that does.\n",
      "\u001b[33m\u001b[1m└ \u001b[22m\u001b[39m\u001b[90m@ Base loading.jl:1107\u001b[39m\n",
      "\u001b[91m\u001b[1mERROR: \u001b[22m\u001b[39mLoadError: TypeError: in Type{...} expression, expected UnionAll, got Type{Parsers.Options}\n",
      "Stacktrace:\n",
      "  [1] top-level scope\n",
      "\u001b[90m    @ \u001b[39m\u001b[90mC:\\Users\\11260\\.julia\\packages\\CSV\\Zl2ww\\src\\\u001b[39m\u001b[90m\u001b[4mdetection.jl:164\u001b[24m\u001b[39m\n",
      "  [2] \u001b[0m\u001b[1minclude\u001b[22m\u001b[0m\u001b[1m(\u001b[22m\u001b[90mmod\u001b[39m::\u001b[0mModule, \u001b[90m_path\u001b[39m::\u001b[0mString\u001b[0m\u001b[1m)\u001b[22m\n",
      "\u001b[90m    @ \u001b[39m\u001b[90mBase\u001b[39m \u001b[90m.\\\u001b[39m\u001b[90m\u001b[4mBase.jl:418\u001b[24m\u001b[39m\n",
      "  [3] \u001b[0m\u001b[1minclude\u001b[22m\u001b[0m\u001b[1m(\u001b[22m\u001b[90mx\u001b[39m::\u001b[0mString\u001b[0m\u001b[1m)\u001b[22m\n",
      "\u001b[90m    @ \u001b[39m\u001b[35mCSV\u001b[39m \u001b[90mC:\\Users\\11260\\.julia\\packages\\CSV\\Zl2ww\\src\\\u001b[39m\u001b[90m\u001b[4mCSV.jl:1\u001b[24m\u001b[39m\n",
      "  [4] top-level scope\n",
      "\u001b[90m    @ \u001b[39m\u001b[90mC:\\Users\\11260\\.julia\\packages\\CSV\\Zl2ww\\src\\\u001b[39m\u001b[90m\u001b[4mCSV.jl:27\u001b[24m\u001b[39m\n",
      "  [5] \u001b[0m\u001b[1minclude\u001b[22m\n",
      "\u001b[90m    @ \u001b[39m\u001b[90m.\\\u001b[39m\u001b[90m\u001b[4mBase.jl:418\u001b[24m\u001b[39m\u001b[90m [inlined]\u001b[39m\n",
      "  [6] \u001b[0m\u001b[1minclude_package_for_output\u001b[22m\u001b[0m\u001b[1m(\u001b[22m\u001b[90mpkg\u001b[39m::\u001b[0mBase.PkgId, \u001b[90minput\u001b[39m::\u001b[0mString, \u001b[90mdepot_path\u001b[39m::\u001b[0mVector\u001b[90m{String}\u001b[39m, \u001b[90mdl_load_path\u001b[39m::\u001b[0mVector\u001b[90m{String}\u001b[39m, \u001b[90mload_path\u001b[39m::\u001b[0mVector\u001b[90m{String}\u001b[39m, \u001b[90mconcrete_deps\u001b[39m::\u001b[0mVector\u001b[90m{Pair{Base.PkgId, UInt64}}\u001b[39m, \u001b[90msource\u001b[39m::\u001b[0mString\u001b[0m\u001b[1m)\u001b[22m\n",
      "\u001b[90m    @ \u001b[39m\u001b[90mBase\u001b[39m \u001b[90m.\\\u001b[39m\u001b[90m\u001b[4mloading.jl:1318\u001b[24m\u001b[39m\n",
      "  [7] top-level scope\n",
      "\u001b[90m    @ \u001b[39m\u001b[90m\u001b[4mnone:1\u001b[24m\u001b[39m\n",
      "  [8] \u001b[0m\u001b[1meval\u001b[22m\n",
      "\u001b[90m    @ \u001b[39m\u001b[90m.\\\u001b[39m\u001b[90m\u001b[4mboot.jl:373\u001b[24m\u001b[39m\u001b[90m [inlined]\u001b[39m\n",
      "  [9] \u001b[0m\u001b[1meval\u001b[22m\u001b[0m\u001b[1m(\u001b[22m\u001b[90mx\u001b[39m::\u001b[0mExpr\u001b[0m\u001b[1m)\u001b[22m\n",
      "\u001b[90m    @ \u001b[39m\u001b[90mBase.MainInclude\u001b[39m \u001b[90m.\\\u001b[39m\u001b[90m\u001b[4mclient.jl:453\u001b[24m\u001b[39m\n",
      " [10] top-level scope\n",
      "\u001b[90m    @ \u001b[39m\u001b[90m\u001b[4mnone:1\u001b[24m\u001b[39m\n",
      "in expression starting at C:\\Users\\11260\\.julia\\packages\\CSV\\Zl2ww\\src\\detection.jl:164\n",
      "in expression starting at C:\\Users\\11260\\.julia\\packages\\CSV\\Zl2ww\\src\\CSV.jl:1\n",
      "\u001b[33m\u001b[1m┌ \u001b[22m\u001b[39m\u001b[33m\u001b[1mWarning: \u001b[22m\u001b[39mModule StanBase with build ID 8139755865747 is missing from the cache.\n",
      "\u001b[33m\u001b[1m│ \u001b[22m\u001b[39mThis may mean StanBase [d0ee94f6-a23d-54aa-bbe9-7f572d6da7f5] does not support precompilation but is imported by a module that does.\n",
      "\u001b[33m\u001b[1m└ \u001b[22m\u001b[39m\u001b[90m@ Base loading.jl:1107\u001b[39m\n",
      "\u001b[33m\u001b[1m┌ \u001b[22m\u001b[39m\u001b[33m\u001b[1mWarning: \u001b[22m\u001b[39mModule StanBase with build ID 8139755865747 is missing from the cache.\n",
      "\u001b[33m\u001b[1m│ \u001b[22m\u001b[39mThis may mean StanBase [d0ee94f6-a23d-54aa-bbe9-7f572d6da7f5] does not support precompilation but is imported by a module that does.\n",
      "\u001b[33m\u001b[1m└ \u001b[22m\u001b[39m\u001b[90m@ Base loading.jl:1107\u001b[39m\n",
      "\u001b[33m\u001b[1m┌ \u001b[22m\u001b[39m\u001b[33m\u001b[1mWarning: \u001b[22m\u001b[39mModule StanBase with build ID 8139755865747 is missing from the cache.\n",
      "\u001b[33m\u001b[1m│ \u001b[22m\u001b[39mThis may mean StanBase [d0ee94f6-a23d-54aa-bbe9-7f572d6da7f5] does not support precompilation but is imported by a module that does.\n",
      "\u001b[33m\u001b[1m└ \u001b[22m\u001b[39m\u001b[90m@ Base loading.jl:1107\u001b[39m\n",
      "WARNING: Method definition Type##kw(Any, Type{Base.MPFR.BigFloat}, Base.Irrational{:fourinvπ}) in module StatsFuns at irrationals.jl:182 overwritten"
     ]
    },
    {
     "name": "stderr",
     "output_type": "stream",
     "text": [
      " in module IrrationalConstants on the same line (check for duplicate calls to `include`).\n",
      "  ** incremental compilation may be fatally broken for this module **\n",
      "\n",
      "WARNING: Method definition Type##kw(Any, Type{Base.MPFR.BigFloat}, Base.Irrational{:twoinvπ}) in module StatsFuns at irrationals.jl:182 overwritten in module IrrationalConstants on the same line (check for duplicate calls to `include`).\n",
      "  ** incremental compilation may be fatally broken for this module **\n",
      "\n",
      "WARNING: Method definition Type##kw(Any, Type{Base.MPFR.BigFloat}, Base.Irrational{:sqrt3}) in module StatsFuns at irrationals.jl:182 overwritten in module IrrationalConstants on the same line (check for duplicate calls to `include`).\n",
      "  ** incremental compilation may be fatally broken for this module **\n",
      "\n",
      "WARNING: Method definition Type##kw(Any, Type{Base.MPFR.BigFloat}, Base.Irrational{:sqrt4π}) in module StatsFuns at irrationals.jl:182 overwritten in module IrrationalConstants on the same line (check for duplicate calls to `include`).\n",
      "  ** incremental compilation may be fatally broken for this module **\n",
      "\n",
      "WARNING: Method definition Type##kw(Any, Type{Base.MPFR.BigFloat}, Base.Irrational{:fourπ}) in module StatsFuns at irrationals.jl:182 overwritten in module IrrationalConstants on the same line (check for duplicate calls to `include`).\n",
      "  ** incremental compilation may be fatally broken for this module **\n",
      "\n",
      "WARNING: Method definition Type##kw(Any, Type{Base.MPFR.BigFloat}, Base.Irrational{:inv2π}) in module StatsFuns at irrationals.jl:182 overwritten in module IrrationalConstants on the same line (check for duplicate calls to `include`).\n",
      "  ** incremental compilation may be fatally broken for this module **\n",
      "\n",
      "WARNING: Method definition Type##kw(Any, Type{Base.MPFR.BigFloat}, Base.Irrational{:sqrt2}) in module StatsFuns at irrationals.jl:182 overwritten in module IrrationalConstants on the same line (check for duplicate calls to `include`).\n",
      "  ** incremental compilation may be fatally broken for this module **\n",
      "\n",
      "WARNING: Method definition Type##kw(Any, Type{Base.MPFR.BigFloat}, Base.Irrational{:invsqrt2}) in module StatsFuns at irrationals.jl:182 overwritten in module IrrationalConstants on the same line (check for duplicate calls to `include`).\n",
      "  ** incremental compilation may be fatally broken for this module **\n",
      "\n",
      "WARNING: Method definition Type##kw(Any, Type{Base.MPFR.BigFloat}, Base.Irrational{:twoπ}) in module StatsFuns at irrationals.jl:182 overwritten in module IrrationalConstants on the same line (check for duplicate calls to `include`).\n",
      "  ** incremental compilation may be fatally broken for this module **\n",
      "\n",
      "WARNING: Method definition Type##kw(Any, Type{Base.MPFR.BigFloat}, Base.Irrational{:log2π}) in module StatsFuns at irrationals.jl:182 overwritten in module IrrationalConstants on the same line (check for duplicate calls to `include`).\n",
      "  ** incremental compilation may be fatally broken for this module **\n",
      "\n",
      "WARNING: Method definition Type##kw(Any, Type{Base.MPFR.BigFloat}, Base.Irrational{:sqrt2π}) in module StatsFuns at irrationals.jl:182 overwritten in module IrrationalConstants on the same line (check for duplicate calls to `include`).\n",
      "  ** incremental compilation may be fatally broken for this module **\n",
      "\n",
      "WARNING: Method definition Type##kw(Any, Type{Base.MPFR.BigFloat}, Base.Irrational{:loghalf}) in module StatsFuns at irrationals.jl:182 overwritten in module IrrationalConstants on the same line (check for duplicate calls to `include`).\n",
      "  ** incremental compilation may be fatally broken for this module **\n",
      "\n",
      "WARNING: Method definition Type##kw(Any, Type{Base.MPFR.BigFloat}, Base.Irrational{:sqrthalfπ}) in module StatsFuns at irrationals.jl:182 overwritten in module IrrationalConstants on the same line (check for duplicate calls to `include`).\n",
      "  ** incremental compilation may be fatally broken for this module **\n",
      "\n",
      "WARNING: Method definition Type##kw(Any, Type{Base.MPFR.BigFloat}, Base.Irrational{:invsqrt2π}) in module StatsFuns at irrationals.jl:182 overwritten in module IrrationalConstants on the same line (check for duplicate calls to `include`).\n",
      "  ** incremental compilation may be fatally broken for this module **\n",
      "\n",
      "WARNING: Method definition Type##kw(Any, Type{Base.MPFR.BigFloat}, Base.Irrational{:sqrtπ}) in module StatsFuns at irrationals.jl:182 overwritten in module IrrationalConstants on the same line (check for duplicate calls to `include`).\n",
      "  ** incremental compilation may be fatally broken for this module **\n",
      "\n",
      "WARNING: Method definition Type##kw(Any, Type{Base.MPFR.BigFloat}, Base.Irrational{:logtwo}) in module StatsFuns at irrationals.jl:182 overwritten in module IrrationalConstants at irrationals.jl:175.\n",
      "  ** incremental compilation may be fatally broken for this module **\n",
      "\n",
      "WARNING: Method definition Type##kw(Any, Type{Base.MPFR.BigFloat}, Base.Irrational{:quartπ}) in module StatsFuns at irrationals.jl:182 overwritten in module IrrationalConstants on the same line (check for duplicate calls to `include`).\n",
      "  ** incremental compilation may be fatally broken for this module **\n",
      "\n",
      "WARNING: Method definition Type##kw(Any, Type{Base.MPFR.BigFloat}, Base.Irrational{:halfπ}) in module StatsFuns at irrationals.jl:182 overwritten in module IrrationalConstants on the same line (check for duplicate calls to `include`).\n",
      "  ** incremental compilation may be fatally broken for this module **\n",
      "\n",
      "WARNING: Method definition Type##kw(Any, Type{Base.MPFR.BigFloat}, Base.Irrational{:inv4π}) in module StatsFuns at irrationals.jl:182 overwritten in module IrrationalConstants on the same line (check for duplicate calls to `include`).\n",
      "  ** incremental compilation may be fatally broken for this module **\n",
      "\n",
      "WARNING: Method definition Type##kw(Any, Type{Base.MPFR.BigFloat}, Base.Irrational{:logπ}) in module StatsFuns at irrationals.jl:182 overwritten in module IrrationalConstants on the same line (check for duplicate calls to `include`).\n",
      "  ** incremental compilation may be fatally broken for this module **\n",
      "\n",
      "WARNING: Method definition Type##kw(Any, Type{Base.MPFR.BigFloat}, Base.Irrational{:log4π}) in module StatsFuns at irrationals.jl:182 overwritten in module IrrationalConstants on the same line (check for duplicate calls to `include`).\n",
      "  ** incremental compilation may be fatally broken for this module **\n",
      "\n",
      "WARNING: Method definition Type##kw(Any, Type{Base.MPFR.BigFloat}, Base.Irrational{:invπ}) in module StatsFuns at irrationals.jl:182 overwritten in module IrrationalConstants on the same line (check for duplicate calls to `include`).\n",
      "  ** incremental compilation may be fatally broken for this module **\n",
      "\n",
      "WARNING: Method definition (::Type{Float64})(Base.Irrational{:fourinvπ}) in module StatsFuns at irrationals.jl:191 overwritten in module IrrationalConstants on the same line (check for duplicate calls to `include`).\n",
      "  ** incremental compilation may be fatally broken for this module **\n",
      "\n",
      "WARNING: Method definition (::Type{Float64})(Base.Irrational{:twoinvπ}) in module StatsFuns at irrationals.jl:191 overwritten in module IrrationalConstants on the same line (check for duplicate calls to `include`).\n",
      "  ** incremental compilation may be fatally broken for this module **\n",
      "\n",
      "WARNING: Method definition (::Type{Float64})(Base.Irrational{:sqrt3}) in module StatsFuns at irrationals.jl:191 overwritten in module IrrationalConstants on the same line (check for duplicate calls to `include`).\n",
      "  ** incremental compilation may be fatally broken for this module **\n",
      "\n",
      "WARNING: Method definition (::Type{Float64})(Base.Irrational{:fourπ}) in module StatsFuns at irrationals.jl:191 overwritten in module IrrationalConstants on the same line (check for duplicate calls to `include`).\n",
      "  ** incremental compilation may be fatally broken for this module **\n",
      "\n",
      "WARNING: Method definition (::Type{Float64})(Base.Irrational{:inv2π}) in module StatsFuns at irrationals.jl:191 overwritten in module IrrationalConstants on the same line (check for duplicate calls to `include`).\n",
      "  ** incremental compilation may be fatally broken for this module **\n",
      "\n",
      "WARNING: Method definition (::Type{Float64})(Base.Irrational{:sqrt2}) in module StatsFuns at irrationals.jl:191 overwritten in module IrrationalConstants on the same line (check for duplicate calls to `include`).\n",
      "  ** incremental compilation may be fatally broken for this module **\n",
      "\n",
      "WARNING: Method definition (::Type{Float64})(Base.Irrational{:sqrt4π}) in module StatsFuns at irrationals.jl:191 overwritten in module IrrationalConstants on the same line (check for duplicate calls to `include`).\n",
      "  ** incremental compilation may be fatally broken for this module **\n",
      "\n",
      "WARNING: Method definition (::Type{Float64})(Base.Irrational{:twoπ}) in module StatsFuns at irrationals.jl:191 overwritten in module IrrationalConstants on the same line (check for duplicate calls to `include`).\n",
      "  ** incremental compilation may be fatally broken for this module **\n",
      "\n",
      "WARNING: Method definition (::Type{Float64})(Base.Irrational{:invsqrt2}) in module StatsFuns at irrationals.jl:191 overwritten in module IrrationalConstants on the same line (check for duplicate calls to `include`).\n",
      "  ** incremental compilation may be fatally broken for this module **\n",
      "\n",
      "WARNING: Method definition (::Type{Float64})(Base.Irrational{:sqrt2π}) in module StatsFuns at irrationals.jl:191 overwritten in module IrrationalConstants on the same line (check for duplicate calls to `include`).\n",
      "  ** incremental compilation may be fatally broken for this module **\n",
      "\n",
      "WARNING: Method definition (::Type{Float64})(Base.Irrational{:log2π}) in module StatsFuns at irrationals.jl:191 overwritten in module IrrationalConstants on the same line (check for duplicate calls to `include`).\n",
      "  ** incremental compilation may be fatally broken for this module **\n",
      "\n",
      "WARNING: Method definition (::Type{Float64})(Base.Irrational{:loghalf}) in module StatsFuns at irrationals.jl:191 overwritten in module IrrationalConstants on the same line (check for duplicate calls to `include`).\n",
      "  ** incremental compilation may be fatally broken for this module **\n",
      "\n",
      "WARNING: Method definition (::Type{Float64})(Base.Irrational{:sqrthalfπ}) in module StatsFuns at irrationals.jl:191 overwritten in module IrrationalConstants on the same line (check for duplicate calls to `include`).\n",
      "  ** incremental compilation may be fatally broken for this module **\n",
      "\n"
     ]
    },
    {
     "name": "stderr",
     "output_type": "stream",
     "text": [
      "WARNING: Method definition (::Type{Float64})(Base.Irrational{:invsqrt2π}) in module StatsFuns at irrationals.jl:191 overwritten in module IrrationalConstants on the same line (check for duplicate calls to `include`).\n",
      "  ** incremental compilation may be fatally broken for this module **\n",
      "\n",
      "WARNING: Method definition (::Type{Float64})(Base.Irrational{:sqrtπ}) in module StatsFuns at irrationals.jl:191 overwritten in module IrrationalConstants on the same line (check for duplicate calls to `include`).\n",
      "  ** incremental compilation may be fatally broken for this module **\n",
      "\n",
      "WARNING: Method definition (::Type{Float64})(Base.Irrational{:logtwo}) in module StatsFuns at irrationals.jl:191 overwritten in module IrrationalConstants on the same line (check for duplicate calls to `include`).\n",
      "  ** incremental compilation may be fatally broken for this module **\n",
      "\n",
      "WARNING: Method definition (::Type{Float64})(Base.Irrational{:quartπ}) in module StatsFuns at irrationals.jl:191 overwritten in module IrrationalConstants on the same line (check for duplicate calls to `include`).\n",
      "  ** incremental compilation may be fatally broken for this module **\n",
      "\n",
      "WARNING: Method definition (::Type{Float64})(Base.Irrational{:halfπ}) in module StatsFuns at irrationals.jl:191 overwritten in module IrrationalConstants on the same line (check for duplicate calls to `include`).\n",
      "  ** incremental compilation may be fatally broken for this module **\n",
      "\n",
      "WARNING: Method definition (::Type{Float64})(Base.Irrational{:inv4π}) in module StatsFuns at irrationals.jl:191 overwritten in module IrrationalConstants on the same line (check for duplicate calls to `include`).\n",
      "  ** incremental compilation may be fatally broken for this module **\n",
      "\n",
      "WARNING: Method definition (::Type{Float64})(Base.Irrational{:log4π}) in module StatsFuns at irrationals.jl:191 overwritten in module IrrationalConstants on the same line (check for duplicate calls to `include`).\n",
      "  ** incremental compilation may be fatally broken for this module **\n",
      "\n",
      "WARNING: Method definition (::Type{Float64})(Base.Irrational{:logπ}) in module StatsFuns at irrationals.jl:191 overwritten in module IrrationalConstants on the same line (check for duplicate calls to `include`).\n",
      "  ** incremental compilation may be fatally broken for this module **\n",
      "\n",
      "WARNING: Method definition (::Type{Float64})(Base.Irrational{:invπ}) in module StatsFuns at irrationals.jl:191 overwritten in module IrrationalConstants on the same line (check for duplicate calls to `include`).\n",
      "  ** incremental compilation may be fatally broken for this module **\n",
      "\n",
      "WARNING: Method definition (::Type{Base.MPFR.BigFloat})(Base.Irrational{:fourinvπ}) in module StatsFuns at irrationals.jl:182 overwritten in module IrrationalConstants on the same line (check for duplicate calls to `include`).\n",
      "  ** incremental compilation may be fatally broken for this module **\n",
      "\n",
      "WARNING: Method definition (::Type{Base.MPFR.BigFloat})(Base.Irrational{:twoinvπ}) in module StatsFuns at irrationals.jl:182 overwritten in module IrrationalConstants on the same line (check for duplicate calls to `include`).\n",
      "  ** incremental compilation may be fatally broken for this module **\n",
      "\n",
      "WARNING: Method definition (::Type{Base.MPFR.BigFloat})(Base.Irrational{:sqrt3}) in module StatsFuns at irrationals.jl:182 overwritten in module IrrationalConstants on the same line (check for duplicate calls to `include`).\n",
      "  ** incremental compilation may be fatally broken for this module **\n",
      "\n",
      "WARNING: Method definition (::Type{Base.MPFR.BigFloat})(Base.Irrational{:sqrt4π}) in module StatsFuns at irrationals.jl:182 overwritten in module IrrationalConstants on the same line (check for duplicate calls to `include`).\n",
      "  ** incremental compilation may be fatally broken for this module **\n",
      "\n",
      "WARNING: Method definition (::Type{Base.MPFR.BigFloat})(Base.Irrational{:fourπ}) in module StatsFuns at irrationals.jl:182 overwritten in module IrrationalConstants on the same line (check for duplicate calls to `include`).\n",
      "  ** incremental compilation may be fatally broken for this module **\n",
      "\n",
      "WARNING: Method definition (::Type{Base.MPFR.BigFloat})(Base.Irrational{:inv2π}) in module StatsFuns at irrationals.jl:182 overwritten in module IrrationalConstants on the same line (check for duplicate calls to `include`).\n",
      "  ** incremental compilation may be fatally broken for this module **\n",
      "\n",
      "WARNING: Method definition (::Type{Base.MPFR.BigFloat})(Base.Irrational{:sqrt2}) in module StatsFuns at irrationals.jl:182 overwritten in module IrrationalConstants on the same line (check for duplicate calls to `include`).\n",
      "  ** incremental compilation may be fatally broken for this module **\n",
      "\n",
      "WARNING: Method definition (::Type{Base.MPFR.BigFloat})(Base.Irrational{:invsqrt2}) in module StatsFuns at irrationals.jl:182 overwritten in module IrrationalConstants on the same line (check for duplicate calls to `include`).\n",
      "  ** incremental compilation may be fatally broken for this module **\n",
      "\n",
      "WARNING: Method definition (::Type{Base.MPFR.BigFloat})(Base.Irrational{:twoπ}) in module StatsFuns at irrationals.jl:182 overwritten in module IrrationalConstants on the same line (check for duplicate calls to `include`).\n",
      "  ** incremental compilation may be fatally broken for this module **\n",
      "\n",
      "WARNING: Method definition (::Type{Base.MPFR.BigFloat})(Base.Irrational{:log2π}) in module StatsFuns at irrationals.jl:182 overwritten in module IrrationalConstants on the same line (check for duplicate calls to `include`).\n",
      "  ** incremental compilation may be fatally broken for this module **\n",
      "\n",
      "WARNING: Method definition (::Type{Base.MPFR.BigFloat})(Base.Irrational{:sqrt2π}) in module StatsFuns at irrationals.jl:182 overwritten in module IrrationalConstants on the same line (check for duplicate calls to `include`).\n",
      "  ** incremental compilation may be fatally broken for this module **\n",
      "\n",
      "WARNING: Method definition (::Type{Base.MPFR.BigFloat})(Base.Irrational{:loghalf}) in module StatsFuns at irrationals.jl:182 overwritten in module IrrationalConstants on the same line (check for duplicate calls to `include`).\n",
      "  ** incremental compilation may be fatally broken for this module **\n",
      "\n",
      "WARNING: Method definition (::Type{Base.MPFR.BigFloat})(Base.Irrational{:sqrthalfπ}) in module StatsFuns at irrationals.jl:182 overwritten in module IrrationalConstants on the same line (check for duplicate calls to `include`).\n",
      "  ** incremental compilation may be fatally broken for this module **\n",
      "\n",
      "WARNING: Method definition (::Type{Base.MPFR.BigFloat})(Base.Irrational{:invsqrt2π}) in module StatsFuns at irrationals.jl:182 overwritten in module IrrationalConstants on the same line (check for duplicate calls to `include`).\n",
      "  ** incremental compilation may be fatally broken for this module **\n",
      "\n",
      "WARNING: Method definition (::Type{Base.MPFR.BigFloat})(Base.Irrational{:sqrtπ}) in module StatsFuns at irrationals.jl:182 overwritten in module IrrationalConstants on the same line (check for duplicate calls to `include`).\n",
      "  ** incremental compilation may be fatally broken for this module **\n",
      "\n",
      "WARNING: Method definition (::Type{Base.MPFR.BigFloat})(Base.Irrational{:logtwo}) in module StatsFuns at irrationals.jl:182 overwritten in module IrrationalConstants at irrationals.jl:175.\n",
      "  ** incremental compilation may be fatally broken for this module **\n",
      "\n",
      "WARNING: Method definition (::Type{Base.MPFR.BigFloat})(Base.Irrational{:quartπ}) in module StatsFuns at irrationals.jl:182 overwritten in module IrrationalConstants on the same line (check for duplicate calls to `include`).\n",
      "  ** incremental compilation may be fatally broken for this module **\n",
      "\n",
      "WARNING: Method definition (::Type{Base.MPFR.BigFloat})(Base.Irrational{:halfπ}) in module StatsFuns at irrationals.jl:182 overwritten in module IrrationalConstants on the same line (check for duplicate calls to `include`).\n",
      "  ** incremental compilation may be fatally broken for this module **\n",
      "\n",
      "WARNING: Method definition (::Type{Base.MPFR.BigFloat})(Base.Irrational{:inv4π}) in module StatsFuns at irrationals.jl:182 overwritten in module IrrationalConstants on the same line (check for duplicate calls to `include`).\n",
      "  ** incremental compilation may be fatally broken for this module **\n",
      "\n",
      "WARNING: Method definition (::Type{Base.MPFR.BigFloat})(Base.Irrational{:logπ}) in module StatsFuns at irrationals.jl:182 overwritten in module IrrationalConstants on the same line (check for duplicate calls to `include`).\n",
      "  ** incremental compilation may be fatally broken for this module **\n",
      "\n",
      "WARNING: Method definition (::Type{Base.MPFR.BigFloat})(Base.Irrational{:log4π}) in module StatsFuns at irrationals.jl:182 overwritten in module IrrationalConstants on the same line (check for duplicate calls to `include`).\n",
      "  ** incremental compilation may be fatally broken for this module **\n",
      "\n",
      "WARNING: Method definition (::Type{Base.MPFR.BigFloat})(Base.Irrational{:invπ}) in module StatsFuns at irrationals.jl:182 overwritten in module IrrationalConstants on the same line (check for duplicate calls to `include`).\n",
      "  ** incremental compilation may be fatally broken for this module **\n",
      "\n",
      "WARNING: Method definition (::Type{Float32})(Base.Irrational{:fourinvπ}) in module StatsFuns at irrationals.jl:192 overwritten in module IrrationalConstants on the same line (check for duplicate calls to `include`).\n",
      "  ** incremental compilation may be fatally broken for this module **\n",
      "\n",
      "WARNING: Method definition (::Type{Float32})(Base.Irrational{:twoinvπ}) in module StatsFuns at irrationals.jl:192 overwritten in module IrrationalConstants on the same line (check for duplicate calls to `include`).\n",
      "  ** incremental compilation may be fatally broken for this module **\n",
      "\n",
      "WARNING: Method definition (::Type{Float32})(Base.Irrational{:sqrt3}) in module StatsFuns at irrationals.jl:192 overwritten in module IrrationalConstants on the same line (check for duplicate calls to `include`).\n",
      "  ** incremental compilation may be fatally broken for this module **\n",
      "\n",
      "WARNING: Method definition (::Type{Float32})(Base.Irrational{:fourπ}) in module StatsFuns at irrationals.jl:192 overwritten in module IrrationalConstants on the same line (check for duplicate calls to `include`).\n",
      "  ** incremental compilation may be fatally broken for this module **\n",
      "\n",
      "WARNING: Method definition (::Type{Float32"
     ]
    },
    {
     "ename": "LoadError",
     "evalue": "LoadError: UndefVarError: @shared_fields_stanmodels not defined\nin expression starting at C:\\Users\\11260\\.julia\\packages\\StanSample\\tL6rg\\src\\stanmodel\\SampleModel.jl:4\nin expression starting at C:\\Users\\11260\\.julia\\packages\\StanSample\\tL6rg\\src\\stanmodel\\SampleModel.jl:3\nin expression starting at C:\\Users\\11260\\.julia\\packages\\StanSample\\tL6rg\\src\\StanSample.jl:1\nin expression starting at C:\\Users\\11260\\.julia\\packages\\Stan\\v8Equ\\src\\Stan.jl:1",
     "output_type": "error",
     "traceback": [
      "LoadError: UndefVarError: @shared_fields_stanmodels not defined\n",
      "in expression starting at C:\\Users\\11260\\.julia\\packages\\StanSample\\tL6rg\\src\\stanmodel\\SampleModel.jl:4\n",
      "in expression starting at C:\\Users\\11260\\.julia\\packages\\StanSample\\tL6rg\\src\\stanmodel\\SampleModel.jl:3\n",
      "in expression starting at C:\\Users\\11260\\.julia\\packages\\StanSample\\tL6rg\\src\\StanSample.jl:1\n",
      "in expression starting at C:\\Users\\11260\\.julia\\packages\\Stan\\v8Equ\\src\\Stan.jl:1\n",
      "\n",
      "Stacktrace:\n",
      "  [1] top-level scope\n",
      "    @ :0\n",
      "  [2] include(mod::Module, _path::String)\n",
      "    @ Base .\\Base.jl:418\n",
      "  [3] include(x::String)\n",
      "    @ StanSample C:\\Users\\11260\\.julia\\packages\\StanSample\\tL6rg\\src\\StanSample.jl:21\n",
      "  [4] top-level scope\n",
      "    @ C:\\Users\\11260\\.julia\\packages\\StanSample\\tL6rg\\src\\StanSample.jl:40\n",
      "  [5] include\n",
      "    @ .\\Base.jl:418 [inlined]\n",
      "  [6] _require(pkg::Base.PkgId)\n",
      "    @ Base .\\loading.jl:1149\n",
      "  [7] require(uuidkey::Base.PkgId)\n",
      "    @ Base .\\loading.jl:1013\n",
      "  [8] require(into::Module, mod::Symbol)\n",
      "    @ Base .\\loading.jl:997\n",
      "  [9] include\n",
      "    @ .\\Base.jl:418 [inlined]\n",
      " [10] _require(pkg::Base.PkgId)\n",
      "    @ Base .\\loading.jl:1149\n",
      " [11] require(uuidkey::Base.PkgId)\n",
      "    @ Base .\\loading.jl:1013\n",
      " [12] require(into::Module, mod::Symbol)\n",
      "    @ Base .\\loading.jl:997\n",
      " [13] eval\n",
      "    @ .\\boot.jl:373 [inlined]\n",
      " [14] include_string(mapexpr::typeof(REPL.softscope), mod::Module, code::String, filename::String)\n",
      "    @ Base .\\loading.jl:1196\n",
      " [15] #invokelatest#2\n",
      "    @ .\\essentials.jl:716 [inlined]\n",
      " [16] invokelatest\n",
      "    @ .\\essentials.jl:714 [inlined]\n",
      " [17] (::VSCodeServer.var\"#150#151\"{VSCodeServer.NotebookRunCellArguments, String})()\n",
      "    @ VSCodeServer c:\\Users\\11260\\.vscode\\extensions\\julialang.language-julia-1.5.6\\scripts\\packages\\VSCodeServer\\src\\serve_notebook.jl:18\n",
      " [18] withpath(f::VSCodeServer.var\"#150#151\"{VSCodeServer.NotebookRunCellArguments, String}, path::String)\n",
      "    @ VSCodeServer c:\\Users\\11260\\.vscode\\extensions\\julialang.language-julia-1.5.6\\scripts\\packages\\VSCodeServer\\src\\repl.jl:185\n",
      " [19] notebook_runcell_request(conn::VSCodeServer.JSONRPC.JSONRPCEndpoint{Base.PipeEndpoint, Base.PipeEndpoint}, params::VSCodeServer.NotebookRunCellArguments)\n",
      "    @ VSCodeServer c:\\Users\\11260\\.vscode\\extensions\\julialang.language-julia-1.5.6\\scripts\\packages\\VSCodeServer\\src\\serve_notebook.jl:14\n",
      " [20] dispatch_msg(x::VSCodeServer.JSONRPC.JSONRPCEndpoint{Base.PipeEndpoint, Base.PipeEndpoint}, dispatcher::VSCodeServer.JSONRPC.MsgDispatcher, msg::Dict{String, Any})\n",
      "    @ VSCodeServer.JSONRPC c:\\Users\\11260\\.vscode\\extensions\\julialang.language-julia-1.5.6\\scripts\\packages\\JSONRPC\\src\\typed.jl:67\n",
      " [21] serve_notebook(pipename::String; crashreporting_pipename::String)\n",
      "    @ VSCodeServer c:\\Users\\11260\\.vscode\\extensions\\julialang.language-julia-1.5.6\\scripts\\packages\\VSCodeServer\\src\\serve_notebook.jl:94\n",
      " [22] top-level scope\n",
      "    @ c:\\Users\\11260\\.vscode\\extensions\\julialang.language-julia-1.5.6\\scripts\\notebook\\notebook.jl:12\n",
      " [23] include(mod::Module, _path::String)\n",
      "    @ Base .\\Base.jl:418\n",
      " [24] exec_options(opts::Base.JLOptions)\n",
      "    @ Base .\\client.jl:292\n",
      " [25] _start()\n",
      "    @ Base .\\client.jl:495"
     ]
    }
   ],
   "source": [
    "using Stan"
   ]
  },
  {
   "cell_type": "code",
   "execution_count": null,
   "metadata": {},
   "outputs": [],
   "source": []
  },
  {
   "cell_type": "code",
   "execution_count": null,
   "metadata": {},
   "outputs": [],
   "source": []
  },
  {
   "cell_type": "code",
   "execution_count": null,
   "metadata": {},
   "outputs": [],
   "source": []
  },
  {
   "cell_type": "code",
   "execution_count": null,
   "metadata": {},
   "outputs": [],
   "source": []
  },
  {
   "cell_type": "code",
   "execution_count": null,
   "metadata": {},
   "outputs": [],
   "source": []
  },
  {
   "cell_type": "code",
   "execution_count": null,
   "metadata": {},
   "outputs": [],
   "source": []
  },
  {
   "cell_type": "code",
   "execution_count": null,
   "metadata": {},
   "outputs": [],
   "source": []
  },
  {
   "cell_type": "code",
   "execution_count": null,
   "metadata": {},
   "outputs": [],
   "source": []
  },
  {
   "cell_type": "code",
   "execution_count": null,
   "metadata": {},
   "outputs": [],
   "source": []
  },
  {
   "cell_type": "code",
   "execution_count": null,
   "metadata": {},
   "outputs": [],
   "source": []
  },
  {
   "cell_type": "code",
   "execution_count": null,
   "metadata": {},
   "outputs": [],
   "source": []
  },
  {
   "cell_type": "code",
   "execution_count": null,
   "metadata": {},
   "outputs": [],
   "source": []
  },
  {
   "cell_type": "code",
   "execution_count": null,
   "metadata": {},
   "outputs": [],
   "source": []
  },
  {
   "cell_type": "code",
   "execution_count": null,
   "metadata": {},
   "outputs": [],
   "source": []
  },
  {
   "cell_type": "code",
   "execution_count": null,
   "metadata": {},
   "outputs": [],
   "source": []
  },
  {
   "cell_type": "code",
   "execution_count": null,
   "metadata": {},
   "outputs": [],
   "source": []
  },
  {
   "cell_type": "code",
   "execution_count": null,
   "metadata": {},
   "outputs": [],
   "source": []
  },
  {
   "cell_type": "code",
   "execution_count": null,
   "metadata": {},
   "outputs": [],
   "source": []
  },
  {
   "cell_type": "code",
   "execution_count": null,
   "metadata": {},
   "outputs": [],
   "source": []
  },
  {
   "cell_type": "code",
   "execution_count": null,
   "metadata": {},
   "outputs": [],
   "source": []
  },
  {
   "cell_type": "code",
   "execution_count": null,
   "metadata": {},
   "outputs": [],
   "source": []
  },
  {
   "cell_type": "code",
   "execution_count": null,
   "metadata": {},
   "outputs": [],
   "source": []
  },
  {
   "cell_type": "code",
   "execution_count": null,
   "metadata": {},
   "outputs": [],
   "source": []
  },
  {
   "cell_type": "code",
   "execution_count": null,
   "metadata": {},
   "outputs": [],
   "source": []
  },
  {
   "cell_type": "code",
   "execution_count": null,
   "metadata": {},
   "outputs": [],
   "source": []
  },
  {
   "cell_type": "code",
   "execution_count": null,
   "metadata": {},
   "outputs": [],
   "source": []
  },
  {
   "cell_type": "code",
   "execution_count": null,
   "metadata": {},
   "outputs": [],
   "source": []
  },
  {
   "cell_type": "code",
   "execution_count": null,
   "metadata": {},
   "outputs": [],
   "source": []
  },
  {
   "cell_type": "code",
   "execution_count": null,
   "metadata": {},
   "outputs": [],
   "source": []
  },
  {
   "cell_type": "code",
   "execution_count": null,
   "metadata": {},
   "outputs": [],
   "source": []
  },
  {
   "cell_type": "code",
   "execution_count": null,
   "metadata": {},
   "outputs": [],
   "source": []
  },
  {
   "cell_type": "code",
   "execution_count": null,
   "metadata": {},
   "outputs": [],
   "source": []
  },
  {
   "cell_type": "code",
   "execution_count": null,
   "metadata": {},
   "outputs": [],
   "source": []
  },
  {
   "cell_type": "code",
   "execution_count": null,
   "metadata": {},
   "outputs": [],
   "source": []
  },
  {
   "cell_type": "code",
   "execution_count": null,
   "metadata": {},
   "outputs": [],
   "source": []
  },
  {
   "cell_type": "code",
   "execution_count": null,
   "metadata": {},
   "outputs": [],
   "source": []
  },
  {
   "cell_type": "code",
   "execution_count": null,
   "metadata": {},
   "outputs": [],
   "source": []
  },
  {
   "cell_type": "code",
   "execution_count": null,
   "metadata": {},
   "outputs": [],
   "source": []
  },
  {
   "cell_type": "code",
   "execution_count": null,
   "metadata": {},
   "outputs": [],
   "source": []
  },
  {
   "cell_type": "code",
   "execution_count": null,
   "metadata": {},
   "outputs": [],
   "source": []
  },
  {
   "cell_type": "code",
   "execution_count": null,
   "metadata": {},
   "outputs": [],
   "source": []
  },
  {
   "cell_type": "code",
   "execution_count": null,
   "metadata": {},
   "outputs": [],
   "source": []
  },
  {
   "cell_type": "code",
   "execution_count": null,
   "metadata": {},
   "outputs": [],
   "source": []
  },
  {
   "cell_type": "code",
   "execution_count": null,
   "metadata": {},
   "outputs": [],
   "source": []
  },
  {
   "cell_type": "code",
   "execution_count": null,
   "metadata": {},
   "outputs": [],
   "source": []
  },
  {
   "cell_type": "code",
   "execution_count": null,
   "metadata": {},
   "outputs": [],
   "source": []
  },
  {
   "cell_type": "code",
   "execution_count": null,
   "metadata": {},
   "outputs": [],
   "source": []
  },
  {
   "cell_type": "code",
   "execution_count": null,
   "metadata": {},
   "outputs": [],
   "source": []
  },
  {
   "cell_type": "code",
   "execution_count": null,
   "metadata": {},
   "outputs": [],
   "source": []
  },
  {
   "cell_type": "code",
   "execution_count": null,
   "metadata": {},
   "outputs": [],
   "source": []
  },
  {
   "cell_type": "code",
   "execution_count": null,
   "metadata": {},
   "outputs": [],
   "source": []
  },
  {
   "cell_type": "code",
   "execution_count": null,
   "metadata": {},
   "outputs": [],
   "source": []
  },
  {
   "cell_type": "code",
   "execution_count": null,
   "metadata": {},
   "outputs": [],
   "source": []
  },
  {
   "cell_type": "code",
   "execution_count": null,
   "metadata": {},
   "outputs": [],
   "source": []
  },
  {
   "cell_type": "code",
   "execution_count": null,
   "metadata": {},
   "outputs": [],
   "source": []
  },
  {
   "cell_type": "code",
   "execution_count": null,
   "metadata": {},
   "outputs": [],
   "source": []
  },
  {
   "cell_type": "code",
   "execution_count": null,
   "metadata": {},
   "outputs": [],
   "source": []
  },
  {
   "cell_type": "code",
   "execution_count": null,
   "metadata": {},
   "outputs": [],
   "source": []
  }
 ],
 "metadata": {
  "kernelspec": {
   "display_name": "Julia 1.7.0",
   "language": "julia",
   "name": "julia-1.7"
  },
  "language_info": {
   "file_extension": ".jl",
   "mimetype": "application/julia",
   "name": "julia",
   "version": "1.7.0"
  },
  "orig_nbformat": 4
 },
 "nbformat": 4,
 "nbformat_minor": 2
}
